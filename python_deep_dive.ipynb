{
  "nbformat": 4,
  "nbformat_minor": 0,
  "metadata": {
    "colab": {
      "provenance": [],
      "include_colab_link": true
    },
    "kernelspec": {
      "name": "python3",
      "display_name": "Python 3"
    },
    "language_info": {
      "name": "python"
    }
  },
  "cells": [
    {
      "cell_type": "markdown",
      "metadata": {
        "id": "view-in-github",
        "colab_type": "text"
      },
      "source": [
        "<a href=\"https://colab.research.google.com/github/su0797/BackendOrmi/blob/main/python_deep_dive.ipynb\" target=\"_parent\"><img src=\"https://colab.research.google.com/assets/colab-badge.svg\" alt=\"Open In Colab\"/></a>"
      ]
    },
    {
      "cell_type": "markdown",
      "source": [
        "# colab 사용법"
      ],
      "metadata": {
        "id": "x__-0LQ_uq4L"
      }
    },
    {
      "cell_type": "markdown",
      "source": [
        "* MAC을 사용하는 경우 Ctrl 대신 Command입니다. Alt 대신 Option입니다.\n",
        "1. **실행 단축키**\n",
        "    1. (필수) `Ctrl(Command)` + `Enter` : 해당 셀 실행\n",
        "    2. `Shift` + `Enter` : 해당 셀 실행 + 커서를 다음 셀로 이동\n",
        "    3. (필수) `Alt(Option)` + `Enter` : 해당 셀 실행 + 코드 불록 하단 추가\n",
        "2. **셀 삽입/삭제 관련 단축키**\n",
        "    1. `Ctrl(Command)` + M A : 코드 셀 위에 삽입\n",
        "    2. `Ctrl(Command)` + M B : 코드 셀 아래 삽입\n",
        "    3. `Ctrl(Command)` + M D : 셀 지우기\n",
        "    4. `Ctrl(Command)` + M Y : 코드 셀로 변경\n",
        "    5. `Ctrl(Command)` + M M : 마크다운 셀로 변경\n",
        "    6. `Ctrl(Command)` + M Z : 실행 취소\n",
        "3. 수정 관련된 단축키\n",
        "    1. `Ctrl(Command)` + `Alt(Option)` + 화살표위아래 : 동시 수정\n",
        "    2. (자주) `Ctrl(Command)` + D : 같은 단어 찾아 동시 수정\n",
        "    3. `Ctrl(Command)` + `Shift` + L : 동일 단어를 전체로 찾아 동시 수정\n",
        "    4. `Alt(Option)` + `Shift` + 화살표위아래 : 해당내용을 위나 아래 복사해서 붙여넣기\n",
        "    5. `Alt(Option)` + 화살표위아래 : 해당 내용을 위나 아래로 보내기\n",
        "    6. (자주) `Ctrl(Command)` + `Alt(Option)` + 화살표위아래 : 위아래 동시 수정\n",
        "    7. (자주) Home, End : 문장의 양 끝\n",
        "    8. (필수) `Ctrl` + `/` : 주석\n",
        "    9. (필수) `Shift` + `Del` : 한 줄 지우기\n",
        "    10. (필수) `Tab`, `Ctrl` + `]` : 들여쓰기\n",
        "    11. (필수) `Shift` + `Tab`, `Ctrl` + `[` : 내어쓰기\n",
        "4. 단축키 보기 및 설정\n",
        "    1. `Ctrl(Command)` + M H : 단축키 모음"
      ],
      "metadata": {
        "id": "FTQTXMTtveWG"
      }
    },
    {
      "cell_type": "markdown",
      "source": [
        "# 마크다운"
      ],
      "metadata": {
        "id": "qkYzsmBLx6XL"
      }
    },
    {
      "cell_type": "markdown",
      "source": [
        "* 필수 마크다운\n",
        "\n",
        "    ```\n",
        "    # hello\n",
        "    ## hello\n",
        "    ### hello\n",
        "\n",
        "    1. hello\n",
        "    2. hello\n",
        "    3. hello\n",
        "\n",
        "    * hello\n",
        "    * hello\n",
        "    * hello\n",
        "    ```\n",
        "\n",
        "* 선택 마크다운(필수가 아니니 부담가지지 마세요.)\n",
        "\n",
        "    ```\n",
        "    # h1\n",
        "    ## h2\n",
        "    ### h3\n",
        "    #### h4\n",
        "    ##### h5\n",
        "    ###### h6\n",
        "\n",
        "    ---\n",
        "\n",
        "    1. hello\n",
        "    2. hello\n",
        "    3. hello\n",
        "\n",
        "    * hello\n",
        "    * hello\n",
        "    * hello\n",
        "\n",
        "    - hello\n",
        "    - hello\n",
        "    - hello\n",
        "\n",
        "    __굵게__\n",
        "    **굵게**\n",
        "    _기울여 쓰기_\n",
        "    *기울여 쓰기*\n",
        "    ~취소선~\n",
        "    ~~취소선~~\n",
        "\n",
        "    > 인용문 작성하기\n",
        "    `인라인 코드는 이렇게 작성해요.`\n",
        "\n",
        "    [인라인 링크](https://velog.io/)\n",
        "\n",
        "    ![이미지 설명](이미지 링크)\n",
        "    \n",
        "    * table은 직접 만들지 마시고 https://www.tablesgenerator.com/markdown_tables 와 같은 서비스를 이용하세요.\n",
        "    \n",
        "    | 1 | 2     | 3 | 4 | 5     |\n",
        "    |---|-------|---|---|-------|\n",
        "    | 1 | hello | 3 | 4 | world |\n",
        "\n",
        "    * [ ] hello\n",
        "    * [X] hello\n",
        "    ```\n"
      ],
      "metadata": {
        "id": "CJgTFSb0yDS0"
      }
    },
    {
      "cell_type": "markdown",
      "source": [
        "# Python"
      ],
      "metadata": {
        "id": "tzaJO6Oh4BA1"
      }
    },
    {
      "cell_type": "code",
      "source": [
        "#행 단위 주석입니다.\n",
        "\n",
        "\"\"\"\n",
        "큰 따옴표로 세번 묶거나\n",
        "작은따옴표로 세번 묶으면\n",
        "열단위 주석이 됩니다.\n",
        "\"\"\"\n",
        "\n",
        "'''\n",
        "큰 따옴표로 세번 묶거나\n",
        "작은따옴표로 세번 묶으면\n",
        "열단위 주석이 됩니다.\n",
        "'''"
      ],
      "metadata": {
        "colab": {
          "base_uri": "https://localhost:8080/",
          "height": 35
        },
        "id": "EiWJQm-Xx0WC",
        "outputId": "e6ef8ce7-700b-490f-f6f2-c69114322198"
      },
      "execution_count": null,
      "outputs": [
        {
          "output_type": "execute_result",
          "data": {
            "text/plain": [
              "'\\n큰 따옴표로 세번 묶거나\\n작은따옴표로 세번 묶으면\\n열단위 주석이 됩니다.\\n'"
            ],
            "application/vnd.google.colaboratory.intrinsic+json": {
              "type": "string"
            }
          },
          "metadata": {},
          "execution_count": 4
        }
      ]
    },
    {
      "cell_type": "code",
      "source": [
        "# 아래와 같이 열단위 주석으로 text를 넣을 수도 있습니다.\n",
        "data = '''\n",
        "큰 따옴표로 세번 묶거나\n",
        "작은따옴표로 세번 묶으면\n",
        "열단위 주석이 됩니다.\n",
        "'''\n",
        "\n",
        "data"
      ],
      "metadata": {
        "id": "O5CvQs-w5oT2"
      },
      "execution_count": null,
      "outputs": []
    },
    {
      "cell_type": "markdown",
      "source": [
        "* Code convention python\n",
        "* https://google.github.io/styleguide/\n",
        "* https://google.github.io/styleguide/pyguide.html"
      ],
      "metadata": {
        "id": "cdB7jRxV47IK"
      }
    },
    {
      "cell_type": "code",
      "source": [
        "def connect_to_next_port(self, minimum: int) -> int:\n",
        "    \"\"\"Connects to the next available port.\n",
        "\n",
        "    Args:\n",
        "      minimum: A port value greater or equal to 1024.\n",
        "\n",
        "    Returns:\n",
        "      The new minimum port.\n",
        "\n",
        "    Raises:\n",
        "      ConnectionError: If no available port is found.\n",
        "    \"\"\"\n",
        "    if minimum < 1024:\n",
        "        # Note that this raising of ValueError is not mentioned in the doc\n",
        "        # string's \"Raises:\" section because it is not appropriate to\n",
        "        # guarantee this specific behavioral reaction to API misuse.\n",
        "        raise ValueError(f'Min. port must be at least 1024, not {minimum}.')\n",
        "    port = self._find_next_open_port(minimum)\n",
        "    if port is None:\n",
        "        raise ConnectionError(\n",
        "            f'Could not connect to service on port {minimum} or higher.')\n",
        "    assert port >= minimum, (\n",
        "        f'Unexpected port {port} when minimum was {minimum}.')\n",
        "    return port"
      ],
      "metadata": {
        "id": "6Sw9kDCJ5tWh"
      },
      "execution_count": null,
      "outputs": []
    },
    {
      "cell_type": "code",
      "source": [
        "connect_to_next_port"
      ],
      "metadata": {
        "id": "gDGpIxHE55hG"
      },
      "execution_count": null,
      "outputs": []
    },
    {
      "cell_type": "code",
      "source": [
        "# 띄어쓰기 4칸 (tab(스페이스 4칸과 다릅니다!), 6칸, 7칸 다 작동합니다.)"
      ],
      "metadata": {
        "id": "y6wQmaW46WJp"
      },
      "execution_count": null,
      "outputs": []
    },
    {
      "cell_type": "code",
      "source": [
        "# 아래와 같이 탭과 띄어쓰기 4번을 혼용하시면 error가 납니다.\n",
        "for i in range(10):\n",
        "    print(i)\n",
        "\tprint('큰 따옴표로 세번 묶거나')"
      ],
      "metadata": {
        "id": "ejRqHMOO7G37"
      },
      "execution_count": null,
      "outputs": []
    },
    {
      "cell_type": "code",
      "source": [
        "a = 10     #int, 정수형\n",
        "b = 10.1   #float, 실수\n",
        "c = -1\n",
        "d = True   #bool, 논리형(부울형, 참거짓형)\n",
        "e = 'good'\n",
        "f = '10'   #str, 문자열\n",
        "g = 'kim'\n",
        "h = 'honggildong'\n",
        "i = 'example'\n",
        "j = 10 + 2j #complex, 복소수\n",
        "k = 0b110   #int, 2진법 \n",
        "l = 0o56    #int, 8진법\n",
        "m = 0xAC    #int, 16진법\n",
        "\n",
        "##########\n",
        "def hello(x):\n",
        "    return x**2\n",
        "\n",
        "class A: # 자동차 공장\n",
        "    pass\n",
        "\n",
        "n = hello # function\n",
        "o = print # bulit-in function (https://docs.python.org/3/library/functions.html)\n",
        "p = lambda x:x**2 # function\n",
        "q = int # type\n",
        "r = A # class\n",
        "s = A() # instance # 자동차\n",
        "##########\n",
        "\n",
        "print(f'type(10) : {type(a)}')\n",
        "print(f'type(10.1) : {type(b)}')\n",
        "print(f'type(-1) : {type(c)}')\n",
        "print(f'type(True) : {type(d)}')\n",
        "print(f'type(\\'good\\') : {type(e)}')\n",
        "print(f'type(\\'good\\'.upper) : {type(e.upper)}')\n",
        "print(f'\\'10\\' + \\'10\\' : {f + f}')\n",
        "print(f'\\'10\\' * 3 : {f * 3}')\n",
        "print(f'\\'hong\\' + \\'gildong\\' : {g + h}')\n",
        "print(f'type(\\'gildong\\') : {type(h)}')\n",
        "print(f'type(\\'gildong100!!\\') : {type(i)}')\n",
        "print(f'type(10 + 2j) : {type(j)}')\n",
        "print(f'type(0b110) : {type(k)}')\n",
        "print(k)\n",
        "print(f'type(0o56) : {type(i)}')\n",
        "print(i)\n",
        "print(f'type(0xAC) : {type(m)}')\n",
        "print(m)\n",
        "print(f'type(def func():...생략...) : {type(n)}')\n",
        "print(f'type(print) : {type(o)}')\n",
        "print(f'type(lambda x:x**2) : {type(p)}')\n",
        "print(f'type(int) : {type(int)}')"
      ],
      "metadata": {
        "colab": {
          "base_uri": "https://localhost:8080/"
        },
        "id": "bmrKWvcv7uSH",
        "outputId": "29b0035b-8e87-47ce-895d-7cdf239b8ebe"
      },
      "execution_count": null,
      "outputs": [
        {
          "output_type": "stream",
          "name": "stdout",
          "text": [
            "type(10) : <class 'int'>\n",
            "type(10.1) : <class 'float'>\n",
            "type(-1) : <class 'int'>\n",
            "type(True) : <class 'bool'>\n",
            "type('good') : <class 'str'>\n",
            "type('good'.upper) : <class 'builtin_function_or_method'>\n",
            "'10' + '10' : 1010\n",
            "'10' * 3 : 101010\n",
            "'hong' + 'gildong' : kimhonggildong\n",
            "type('gildong') : <class 'str'>\n",
            "type('gildong100!!') : <class 'str'>\n",
            "type(10 + 2j) : <class 'complex'>\n",
            "type(0b110) : <class 'int'>\n",
            "6\n",
            "type(0o56) : <class 'str'>\n",
            "example\n",
            "type(0xAC) : <class 'int'>\n",
            "172\n",
            "type(def func():...생략...) : <class 'function'>\n",
            "type(print) : <class 'builtin_function_or_method'>\n",
            "type(lambda x:x**2) : <class 'function'>\n",
            "type(int) : <class 'type'>\n"
          ]
        }
      ]
    },
    {
      "cell_type": "code",
      "source": [
        "# 이스케이프 문자\n",
        "# https://ko.wikipedia.org/wiki/%EC%9D%B4%EC%8A%A4%EC%BC%80%EC%9D%B4%ED%94%84_%EB%AC%B8%EC%9E%90\n",
        "print('hello \\n world')\n",
        "print('hello \\t world')\n",
        "print('hello \\' world')\n",
        "print('hello \\\" world')\n",
        "print('hello \\\\ world')"
      ],
      "metadata": {
        "colab": {
          "base_uri": "https://localhost:8080/"
        },
        "id": "8OqkyWik-Nwb",
        "outputId": "91c3a6ea-894b-4b92-8c76-afbc4114c971"
      },
      "execution_count": null,
      "outputs": [
        {
          "output_type": "stream",
          "name": "stdout",
          "text": [
            "hello \n",
            " world\n",
            "hello \t world\n",
            "hello ' world\n",
            "hello \" world\n",
            "hello \\ world\n"
          ]
        }
      ]
    },
    {
      "cell_type": "code",
      "source": [
        "# type -> string\n",
        "\n",
        "hello = 10\n",
        "\n",
        "print(r'hello \\n world') # str -> raw (Django 2.x까지 url parsing을 이렇게 사용하고 있어요.)\n",
        "print(f'hello \\n world {hello}') # 앞으로 f-string 기법\n",
        "print('hello world {}'.format(hello))"
      ],
      "metadata": {
        "colab": {
          "base_uri": "https://localhost:8080/"
        },
        "id": "FSpV2jdX_th6",
        "outputId": "e875e038-b0a0-4170-c26a-e5ae6afdbc77"
      },
      "execution_count": null,
      "outputs": [
        {
          "output_type": "stream",
          "name": "stdout",
          "text": [
            "hello \\n world\n",
            "hello \n",
            " world 10\n"
          ]
        }
      ]
    },
    {
      "cell_type": "code",
      "source": [
        "# type -> float\n",
        "# 오일러의 수를 모른다 해서, 수학 연산이 약하다 해서 우리 수업에 문제가 되지 않습니다.\n",
        "print(2.3e3) # 무리수, 오일러 수(2.718에 수렴, 파이가 3.14인 것처럼)\n",
        "print(2.3E3)\n",
        "\n",
        "2.3 * (10 ** 3)"
      ],
      "metadata": {
        "id": "oRp5o0jSEYkw"
      },
      "execution_count": null,
      "outputs": []
    },
    {
      "cell_type": "code",
      "source": [
        "print(2.3e-3) # 무리수, 오일러 수(2.718에 수렴, 파이가 3.14인 것처럼)\n",
        "print(2.3E-3)\n",
        "\n",
        "2.3 * (10 ** -3)"
      ],
      "metadata": {
        "colab": {
          "base_uri": "https://localhost:8080/"
        },
        "id": "HElnmgCOE0m-",
        "outputId": "b4353306-5c76-40bf-e591-0ecd75983206"
      },
      "execution_count": null,
      "outputs": [
        {
          "output_type": "stream",
          "name": "stdout",
          "text": [
            "0.0023\n",
            "0.0023\n"
          ]
        },
        {
          "output_type": "execute_result",
          "data": {
            "text/plain": [
              "0.0023"
            ]
          },
          "metadata": {},
          "execution_count": 24
        }
      ]
    },
    {
      "cell_type": "code",
      "source": [
        "type(2.3E-3)"
      ],
      "metadata": {
        "colab": {
          "base_uri": "https://localhost:8080/"
        },
        "id": "Og0AzspPFKvy",
        "outputId": "518a2cf7-cd86-499d-b034-bf4fd5d39970"
      },
      "execution_count": null,
      "outputs": [
        {
          "output_type": "execute_result",
          "data": {
            "text/plain": [
              "float"
            ]
          },
          "metadata": {},
          "execution_count": 25
        }
      ]
    },
    {
      "cell_type": "code",
      "source": [
        "class A: # 자동차 공장\n",
        "    pass\n",
        "\n",
        "a = A # class\n",
        "b = A() # instance # 자동차\n",
        "\n",
        "print(type(a))\n",
        "print(type(b))"
      ],
      "metadata": {
        "colab": {
          "base_uri": "https://localhost:8080/"
        },
        "id": "bA78yQ61-y9g",
        "outputId": "3a6efd70-5492-45e7-c5aa-d6473cdf9fec"
      },
      "execution_count": null,
      "outputs": [
        {
          "output_type": "stream",
          "name": "stdout",
          "text": [
            "<class 'type'>\n",
            "<class '__main__.A'>\n"
          ]
        }
      ]
    },
    {
      "cell_type": "code",
      "source": [
        "# 변수를 처음 만나시면 type, dir을 해봅니다.\n",
        "# type을 찍으면 검색 키워드를 알 수 있습니다.\n",
        "# dir을 찍으면 속성을 알 수 있습니다.\n",
        "type(a)"
      ],
      "metadata": {
        "colab": {
          "base_uri": "https://localhost:8080/"
        },
        "id": "QogcxZW88l2U",
        "outputId": "b0334b10-3504-4f6a-fe1c-8365554fdf1c"
      },
      "execution_count": null,
      "outputs": [
        {
          "output_type": "execute_result",
          "data": {
            "text/plain": [
              "int"
            ]
          },
          "metadata": {},
          "execution_count": 14
        }
      ]
    },
    {
      "cell_type": "code",
      "source": [
        "print(type(a))"
      ],
      "metadata": {
        "colab": {
          "base_uri": "https://localhost:8080/"
        },
        "id": "TPuT1-C68o0H",
        "outputId": "32c86783-5f3f-4d49-db2e-b6c5fe624e45"
      },
      "execution_count": null,
      "outputs": [
        {
          "output_type": "stream",
          "name": "stdout",
          "text": [
            "<class 'int'>\n"
          ]
        }
      ]
    },
    {
      "cell_type": "code",
      "source": [
        "dir(a)"
      ],
      "metadata": {
        "colab": {
          "base_uri": "https://localhost:8080/"
        },
        "id": "auPIyvXH8zUJ",
        "outputId": "9e0cd487-7673-40bd-a521-ce904432b757"
      },
      "execution_count": null,
      "outputs": [
        {
          "output_type": "execute_result",
          "data": {
            "text/plain": [
              "['__abs__',\n",
              " '__add__',\n",
              " '__and__',\n",
              " '__bool__',\n",
              " '__ceil__',\n",
              " '__class__',\n",
              " '__delattr__',\n",
              " '__dir__',\n",
              " '__divmod__',\n",
              " '__doc__',\n",
              " '__eq__',\n",
              " '__float__',\n",
              " '__floor__',\n",
              " '__floordiv__',\n",
              " '__format__',\n",
              " '__ge__',\n",
              " '__getattribute__',\n",
              " '__getnewargs__',\n",
              " '__gt__',\n",
              " '__hash__',\n",
              " '__index__',\n",
              " '__init__',\n",
              " '__init_subclass__',\n",
              " '__int__',\n",
              " '__invert__',\n",
              " '__le__',\n",
              " '__lshift__',\n",
              " '__lt__',\n",
              " '__mod__',\n",
              " '__mul__',\n",
              " '__ne__',\n",
              " '__neg__',\n",
              " '__new__',\n",
              " '__or__',\n",
              " '__pos__',\n",
              " '__pow__',\n",
              " '__radd__',\n",
              " '__rand__',\n",
              " '__rdivmod__',\n",
              " '__reduce__',\n",
              " '__reduce_ex__',\n",
              " '__repr__',\n",
              " '__rfloordiv__',\n",
              " '__rlshift__',\n",
              " '__rmod__',\n",
              " '__rmul__',\n",
              " '__ror__',\n",
              " '__round__',\n",
              " '__rpow__',\n",
              " '__rrshift__',\n",
              " '__rshift__',\n",
              " '__rsub__',\n",
              " '__rtruediv__',\n",
              " '__rxor__',\n",
              " '__setattr__',\n",
              " '__sizeof__',\n",
              " '__str__',\n",
              " '__sub__',\n",
              " '__subclasshook__',\n",
              " '__truediv__',\n",
              " '__trunc__',\n",
              " '__xor__',\n",
              " 'as_integer_ratio',\n",
              " 'bit_count',\n",
              " 'bit_length',\n",
              " 'conjugate',\n",
              " 'denominator',\n",
              " 'from_bytes',\n",
              " 'imag',\n",
              " 'numerator',\n",
              " 'real',\n",
              " 'to_bytes']"
            ]
          },
          "metadata": {},
          "execution_count": 16
        }
      ]
    },
    {
      "cell_type": "code",
      "source": [
        "# 실무에서 자주 사용하는 구문\n",
        "type(10)\n",
        "type(10) == int\n",
        "type(10.1) == float"
      ],
      "metadata": {
        "colab": {
          "base_uri": "https://localhost:8080/"
        },
        "id": "v1qKTnVAFVAe",
        "outputId": "2dc6c5e0-347a-44f7-af68-80b653d61d12"
      },
      "execution_count": null,
      "outputs": [
        {
          "output_type": "execute_result",
          "data": {
            "text/plain": [
              "True"
            ]
          },
          "metadata": {},
          "execution_count": 28
        }
      ]
    },
    {
      "cell_type": "code",
      "source": [
        "# 위만큼 자주사용하진 않지만 타입 확인 코드\n",
        "a = 10\n",
        "isinstance(a, int)\n",
        "isinstance(a, float)"
      ],
      "metadata": {
        "colab": {
          "base_uri": "https://localhost:8080/"
        },
        "id": "Ow6Nj-nsFj8R",
        "outputId": "6c2a9e83-aa7e-46c8-eb57-88040c670ff0"
      },
      "execution_count": null,
      "outputs": [
        {
          "output_type": "execute_result",
          "data": {
            "text/plain": [
              "False"
            ]
          },
          "metadata": {},
          "execution_count": 30
        }
      ]
    },
    {
      "cell_type": "markdown",
      "source": [
        "## 변수"
      ],
      "metadata": {
        "id": "tx-EhIcCF2Kj"
      }
    },
    {
      "cell_type": "code",
      "source": [
        "# CS 변수는 포스트잇\n",
        "# 변수는 메모리 공간을 가리킵니다.\n",
        "\n",
        "# x라는 포스트잇도 붙였지만\n",
        "# y라는 포스트잇도 붙여져 있는 것입니다.\n",
        "x = 10\n",
        "y = 10\n",
        "\n",
        "id(x), id(y) # id는 누굴 가리키고 있는지 그 주소값을 반환합니다."
      ],
      "metadata": {
        "colab": {
          "base_uri": "https://localhost:8080/"
        },
        "id": "IEzjf91BF8dw",
        "outputId": "b4464b82-ac92-4e4c-d65c-b0f1e2a98d60"
      },
      "execution_count": null,
      "outputs": [
        {
          "output_type": "execute_result",
          "data": {
            "text/plain": [
              "(139737727205904, 139737727205904)"
            ]
          },
          "metadata": {},
          "execution_count": 31
        }
      ]
    },
    {
      "cell_type": "code",
      "source": [
        "x is y"
      ],
      "metadata": {
        "colab": {
          "base_uri": "https://localhost:8080/"
        },
        "id": "zGzifr5zHL3I",
        "outputId": "6c00dbef-972c-402f-9c9a-e1d35e640947"
      },
      "execution_count": null,
      "outputs": [
        {
          "output_type": "execute_result",
          "data": {
            "text/plain": [
              "True"
            ]
          },
          "metadata": {},
          "execution_count": 32
        }
      ]
    },
    {
      "cell_type": "code",
      "source": [
        "x = 257\n",
        "y = 257\n",
        "\n",
        "id(x), id(y)"
      ],
      "metadata": {
        "colab": {
          "base_uri": "https://localhost:8080/"
        },
        "id": "kp-DcQw-HOZd",
        "outputId": "a5a8d154-3a30-4807-9db1-f2f2c232e625"
      },
      "execution_count": null,
      "outputs": [
        {
          "output_type": "execute_result",
          "data": {
            "text/plain": [
              "(139736413794128, 139736413797264)"
            ]
          },
          "metadata": {},
          "execution_count": 33
        }
      ]
    },
    {
      "cell_type": "code",
      "source": [
        "x is y"
      ],
      "metadata": {
        "colab": {
          "base_uri": "https://localhost:8080/"
        },
        "id": "HMQhFLC4Hh3N",
        "outputId": "c2657f93-02ad-410b-edfb-b919b071eaa3"
      },
      "execution_count": null,
      "outputs": [
        {
          "output_type": "execute_result",
          "data": {
            "text/plain": [
              "False"
            ]
          },
          "metadata": {},
          "execution_count": 34
        }
      ]
    },
    {
      "cell_type": "code",
      "source": [
        "# Python은 자체적으로 속도를 높이기 위한 \n",
        "# 여러가지 노력들을 해왔습니다.\n",
        "# (아래 언급한 것 말고도 각각의 자료형에서 메모리를 효율적으로 관리하기 위한 노력들을 말씀드리겠습니다.)\n",
        "# 구버전도 말씀을 드릴 것인데 이유는 여러분이 실무에가서 접할 환경이 최신 버전이 아니기 때문입니다.\n",
        "# 야xx의 경우에는 Django 1.x, python 2.x를 사용하고 있어요. \n",
        "# 대부분의 기업들이 한 번 구축해놓은 시스템은 바꾸기가 쉽지 않습니다.\n",
        "\n",
        "# 그래서 -5 ~ 256은 먼저 메모리에 적재를 합니다."
      ],
      "metadata": {
        "id": "D8S8eDgnHj47"
      },
      "execution_count": null,
      "outputs": []
    },
    {
      "cell_type": "code",
      "source": [
        "x = -5\n",
        "y = -5\n",
        "\n",
        "id(x), id(y)"
      ],
      "metadata": {
        "colab": {
          "base_uri": "https://localhost:8080/"
        },
        "id": "DIfulHSCILSa",
        "outputId": "157ae4b1-1d59-43e5-9583-1ea346ab7b93"
      },
      "execution_count": null,
      "outputs": [
        {
          "output_type": "execute_result",
          "data": {
            "text/plain": [
              "(139737727205424, 139737727205424)"
            ]
          },
          "metadata": {},
          "execution_count": 36
        }
      ]
    },
    {
      "cell_type": "markdown",
      "source": [
        "* 변수의 타입이란 무엇인가?\n",
        "* 변수의 타입은 왜 있는 것일까?\n",
        "* 어떤 고민을 통해 변수의 속성을 정했을까?"
      ],
      "metadata": {
        "id": "wk41BPqXIsy0"
      }
    },
    {
      "cell_type": "code",
      "source": [
        "'a' + 'a'"
      ],
      "metadata": {
        "colab": {
          "base_uri": "https://localhost:8080/",
          "height": 35
        },
        "id": "szLg5kCPIjQR",
        "outputId": "43d9b7ce-fdae-4379-e1be-49663c5b3f12"
      },
      "execution_count": null,
      "outputs": [
        {
          "output_type": "execute_result",
          "data": {
            "text/plain": [
              "'aa'"
            ],
            "application/vnd.google.colaboratory.intrinsic+json": {
              "type": "string"
            }
          },
          "metadata": {},
          "execution_count": 37
        }
      ]
    },
    {
      "cell_type": "code",
      "source": [
        "# 왜 이어 붙였지?\n",
        "# 컴퓨터 입장에서 a는 97(인간이 보는 숫자) -> 0x61! 결국 숫자!"
      ],
      "metadata": {
        "id": "s-8AHdjsI-5S"
      },
      "execution_count": null,
      "outputs": []
    },
    {
      "cell_type": "code",
      "source": [
        "# cpython -> 이어 붙이라고 정의가 되어 있어서\n",
        "# 사회 통념적인 약속 -> 코드로 구현\n",
        "# type, dir\n",
        "# 이러한 약속들은 메직메서드(__init__.....)를 통해 구현하게 됩니다."
      ],
      "metadata": {
        "id": "Rah9zwE5JRyu"
      },
      "execution_count": null,
      "outputs": []
    },
    {
      "cell_type": "markdown",
      "source": [
        "## 변수의 속성 변경"
      ],
      "metadata": {
        "id": "1wNSxRe8J5rH"
      }
    },
    {
      "cell_type": "code",
      "source": [
        "'10' + '10'"
      ],
      "metadata": {
        "colab": {
          "base_uri": "https://localhost:8080/",
          "height": 35
        },
        "id": "nvl29tysKEb9",
        "outputId": "3de4d5e4-3eaa-4170-d62f-46bac62d05eb"
      },
      "execution_count": null,
      "outputs": [
        {
          "output_type": "execute_result",
          "data": {
            "text/plain": [
              "'1010'"
            ],
            "application/vnd.google.colaboratory.intrinsic+json": {
              "type": "string"
            }
          },
          "metadata": {},
          "execution_count": 39
        }
      ]
    },
    {
      "cell_type": "code",
      "source": [
        "int('10') + int('10')"
      ],
      "metadata": {
        "colab": {
          "base_uri": "https://localhost:8080/"
        },
        "id": "b0ZDkGHoJ7rU",
        "outputId": "aea0eae0-4276-4eec-a718-fb9ca37a77f1"
      },
      "execution_count": null,
      "outputs": [
        {
          "output_type": "execute_result",
          "data": {
            "text/plain": [
              "20"
            ]
          },
          "metadata": {},
          "execution_count": 40
        }
      ]
    },
    {
      "cell_type": "code",
      "source": [
        "# 지금 배우는 포인트는 class가 중요한 문법이 아니라\n",
        "# 이러한 '약속'을 우리가 변경할 수 있다가 중요한 포인트입니다.\n",
        "class int(int):\n",
        "    def __add__(self, a):\n",
        "        return 'leehojun'\n",
        "\n",
        "int('10') + int('10')"
      ],
      "metadata": {
        "colab": {
          "base_uri": "https://localhost:8080/",
          "height": 35
        },
        "id": "EnqZ3qw-KLxp",
        "outputId": "70a43a10-f64f-4a83-e18c-04a01f25dae7"
      },
      "execution_count": null,
      "outputs": [
        {
          "output_type": "execute_result",
          "data": {
            "text/plain": [
              "'leehojun'"
            ],
            "application/vnd.google.colaboratory.intrinsic+json": {
              "type": "string"
            }
          },
          "metadata": {},
          "execution_count": 41
        }
      ]
    },
    {
      "cell_type": "code",
      "source": [
        "class int(int):\n",
        "    def __add__(self, a):\n",
        "        return self * a\n",
        "\n",
        "int('10') + int('10')"
      ],
      "metadata": {
        "colab": {
          "base_uri": "https://localhost:8080/"
        },
        "id": "YATr2VdoKryj",
        "outputId": "718f7673-b14d-45f4-d80e-2749eb291102"
      },
      "execution_count": null,
      "outputs": [
        {
          "output_type": "execute_result",
          "data": {
            "text/plain": [
              "100"
            ]
          },
          "metadata": {},
          "execution_count": 42
        }
      ]
    },
    {
      "cell_type": "code",
      "source": [
        "dir(10)"
      ],
      "metadata": {
        "colab": {
          "base_uri": "https://localhost:8080/"
        },
        "id": "rJjZ79C8K4BU",
        "outputId": "eb094449-a80f-47d4-facd-958e52394714"
      },
      "execution_count": null,
      "outputs": [
        {
          "output_type": "execute_result",
          "data": {
            "text/plain": [
              "['__abs__',\n",
              " '__add__',\n",
              " '__and__',\n",
              " '__bool__',\n",
              " '__ceil__',\n",
              " '__class__',\n",
              " '__delattr__',\n",
              " '__dir__',\n",
              " '__divmod__',\n",
              " '__doc__',\n",
              " '__eq__',\n",
              " '__float__',\n",
              " '__floor__',\n",
              " '__floordiv__',\n",
              " '__format__',\n",
              " '__ge__',\n",
              " '__getattribute__',\n",
              " '__getnewargs__',\n",
              " '__gt__',\n",
              " '__hash__',\n",
              " '__index__',\n",
              " '__init__',\n",
              " '__init_subclass__',\n",
              " '__int__',\n",
              " '__invert__',\n",
              " '__le__',\n",
              " '__lshift__',\n",
              " '__lt__',\n",
              " '__mod__',\n",
              " '__mul__',\n",
              " '__ne__',\n",
              " '__neg__',\n",
              " '__new__',\n",
              " '__or__',\n",
              " '__pos__',\n",
              " '__pow__',\n",
              " '__radd__',\n",
              " '__rand__',\n",
              " '__rdivmod__',\n",
              " '__reduce__',\n",
              " '__reduce_ex__',\n",
              " '__repr__',\n",
              " '__rfloordiv__',\n",
              " '__rlshift__',\n",
              " '__rmod__',\n",
              " '__rmul__',\n",
              " '__ror__',\n",
              " '__round__',\n",
              " '__rpow__',\n",
              " '__rrshift__',\n",
              " '__rshift__',\n",
              " '__rsub__',\n",
              " '__rtruediv__',\n",
              " '__rxor__',\n",
              " '__setattr__',\n",
              " '__sizeof__',\n",
              " '__str__',\n",
              " '__sub__',\n",
              " '__subclasshook__',\n",
              " '__truediv__',\n",
              " '__trunc__',\n",
              " '__xor__',\n",
              " 'as_integer_ratio',\n",
              " 'bit_count',\n",
              " 'bit_length',\n",
              " 'conjugate',\n",
              " 'denominator',\n",
              " 'from_bytes',\n",
              " 'imag',\n",
              " 'numerator',\n",
              " 'real',\n",
              " 'to_bytes']"
            ]
          },
          "metadata": {},
          "execution_count": 43
        }
      ]
    },
    {
      "cell_type": "code",
      "source": [
        "class int(int):\n",
        "    def 제곱(self, 승수):\n",
        "        return self ** 승수\n",
        "\n",
        "value = int('10')\n",
        "print(dir(value))"
      ],
      "metadata": {
        "colab": {
          "base_uri": "https://localhost:8080/"
        },
        "id": "nznBq77dLcT3",
        "outputId": "2aab8030-ac5e-4b5c-e817-0cb977ad2db6"
      },
      "execution_count": null,
      "outputs": [
        {
          "output_type": "stream",
          "name": "stdout",
          "text": [
            "['__abs__', '__add__', '__and__', '__bool__', '__ceil__', '__class__', '__delattr__', '__dict__', '__dir__', '__divmod__', '__doc__', '__eq__', '__float__', '__floor__', '__floordiv__', '__format__', '__ge__', '__getattribute__', '__getnewargs__', '__gt__', '__hash__', '__index__', '__init__', '__init_subclass__', '__int__', '__invert__', '__le__', '__lshift__', '__lt__', '__mod__', '__module__', '__mul__', '__ne__', '__neg__', '__new__', '__or__', '__pos__', '__pow__', '__radd__', '__rand__', '__rdivmod__', '__reduce__', '__reduce_ex__', '__repr__', '__rfloordiv__', '__rlshift__', '__rmod__', '__rmul__', '__ror__', '__round__', '__rpow__', '__rrshift__', '__rshift__', '__rsub__', '__rtruediv__', '__rxor__', '__setattr__', '__sizeof__', '__str__', '__sub__', '__subclasshook__', '__truediv__', '__trunc__', '__xor__', 'as_integer_ratio', 'bit_count', 'bit_length', 'conjugate', 'denominator', 'from_bytes', 'imag', 'numerator', 'real', 'to_bytes', '제곱']\n"
          ]
        }
      ]
    },
    {
      "cell_type": "code",
      "source": [
        "value.제곱(3)"
      ],
      "metadata": {
        "colab": {
          "base_uri": "https://localhost:8080/"
        },
        "id": "kYsLYq9gLrPX",
        "outputId": "d9ddf270-f241-453d-9623-35ed00a140ed"
      },
      "execution_count": null,
      "outputs": [
        {
          "output_type": "execute_result",
          "data": {
            "text/plain": [
              "1000"
            ]
          },
          "metadata": {},
          "execution_count": 47
        }
      ]
    },
    {
      "cell_type": "code",
      "source": [
        "x = 10\n",
        "y = x\n",
        "z = y\n",
        "\n",
        "print(id(x), id(y), id(z))"
      ],
      "metadata": {
        "colab": {
          "base_uri": "https://localhost:8080/"
        },
        "id": "xVjI6ThsMB9u",
        "outputId": "55cbeeaf-06a7-4dd1-e995-884ad648f16f"
      },
      "execution_count": null,
      "outputs": [
        {
          "output_type": "stream",
          "name": "stdout",
          "text": [
            "139737727205904 139737727205904 139737727205904\n"
          ]
        }
      ]
    },
    {
      "cell_type": "code",
      "source": [
        "x = 10\n",
        "y = x\n",
        "x = 100\n",
        "\n",
        "print(x, y)\n",
        "print(id(x), id(y), id(z))"
      ],
      "metadata": {
        "colab": {
          "base_uri": "https://localhost:8080/"
        },
        "id": "GJKDS68IMmzo",
        "outputId": "a0216648-6f4a-47d4-a57f-aacecc995490"
      },
      "execution_count": null,
      "outputs": [
        {
          "output_type": "stream",
          "name": "stdout",
          "text": [
            "100 10\n",
            "139737727208784 139737727205904 139737727205904\n"
          ]
        }
      ]
    },
    {
      "cell_type": "markdown",
      "source": [
        "## 변수의 속성"
      ],
      "metadata": {
        "id": "FFjeof0zNY0T"
      }
    },
    {
      "cell_type": "markdown",
      "source": [
        "* 변수는 주로 스네이크 표기법을 많이 사용합니다. 물론 회사 컨벤션에 따르셔야 합니다.\n",
        "* 영문과 숫자를 사용할 수 있지만, 숫자로  시작하지는 못합니다.\n",
        "* 특수문자는 사용하지 않아요.(언더바(_)는  사용합니다. 스네이크 표기법, 특수문자나  이미중 사용 가능한 것들이 있기는 합니다.  권하지 않습니다.)\n",
        "* 예약어는 사용하지 않습니다.(if, elif, while, * for, etc)\n",
        "* 대소문자는 구분합니다.\n",
        "* 언더바로만 사용하거나 언더바로 시작할 수 있습니다.\n",
        "* 대문자로 시작하는 변수를 사용할 수 있지만, 관습적으로 대문자로 시작하는 변수는 Class로 만들기 때문에 소문자로 시작하는 변수를 만들기를 권합니다. Class는 보통 파스칼 표기법을 따릅니다. 다만 회사 컨벤션마다 다릅니다."
      ],
      "metadata": {
        "id": "sTV5prN9Nabn"
      }
    },
    {
      "cell_type": "code",
      "source": [
        "# 스네이크 표기법(Python에서 주로)\n",
        "hello_world = 10\n",
        "# 카멜 표기법(JavaScript에서 주로)\n",
        "helloWorldHello = 10\n",
        "# 파스칼 표기법(Class 같은 곳에서 많이 사용합니다.)\n",
        "Hello = 10"
      ],
      "metadata": {
        "id": "-tbrSTZZNtUC"
      },
      "execution_count": null,
      "outputs": []
    },
    {
      "cell_type": "code",
      "source": [
        "# 10hello = 100\n",
        "hello10 = 10\n",
        "\n",
        "π = 3.14 # 권하지 않습니다.\n",
        "print(π)\n",
        "\n",
        "_ = 100 # 언더바는 자주사용되는데 이렇게 사용되진 않습니다.\n",
        "print(_)"
      ],
      "metadata": {
        "colab": {
          "base_uri": "https://localhost:8080/"
        },
        "id": "xKCR8vbLhKiz",
        "outputId": "af958672-d495-4401-c9d9-21942d46db56"
      },
      "execution_count": null,
      "outputs": [
        {
          "output_type": "stream",
          "name": "stdout",
          "text": [
            "3.14\n",
            "100\n"
          ]
        }
      ]
    },
    {
      "cell_type": "code",
      "source": [
        "for _ in range(10): # 언더바를 순회 안에서 변수로 사용하지 않을때\n",
        "    print('hello')"
      ],
      "metadata": {
        "colab": {
          "base_uri": "https://localhost:8080/"
        },
        "id": "B1o_bhW8h8N2",
        "outputId": "2c24e4ea-3c35-44fa-bd2b-4d6aa91b93de"
      },
      "execution_count": null,
      "outputs": [
        {
          "output_type": "stream",
          "name": "stdout",
          "text": [
            "hello\n",
            "hello\n",
            "hello\n",
            "hello\n",
            "hello\n",
            "hello\n",
            "hello\n",
            "hello\n",
            "hello\n",
            "hello\n"
          ]
        }
      ]
    },
    {
      "cell_type": "code",
      "source": [
        "# if = 100\n",
        "# print = 100"
      ],
      "metadata": {
        "id": "Be5nklCtioHp"
      },
      "execution_count": null,
      "outputs": []
    },
    {
      "cell_type": "code",
      "source": [
        "# print('hello')"
      ],
      "metadata": {
        "id": "TdPmwWwEivQr"
      },
      "execution_count": null,
      "outputs": []
    },
    {
      "cell_type": "code",
      "source": [
        "print(a)"
      ],
      "metadata": {
        "id": "epuTd_98ipkE"
      },
      "execution_count": null,
      "outputs": []
    },
    {
      "cell_type": "markdown",
      "source": [
        "## 입력과 출력"
      ],
      "metadata": {
        "id": "C9gIfLKxjgPC"
      }
    },
    {
      "cell_type": "code",
      "source": [
        "x = input()\n",
        "x"
      ],
      "metadata": {
        "colab": {
          "base_uri": "https://localhost:8080/",
          "height": 53
        },
        "id": "OS4t2iv8jmkP",
        "outputId": "5337c5e7-4bd6-4c36-f543-9cafaffdb628"
      },
      "execution_count": null,
      "outputs": [
        {
          "name": "stdout",
          "output_type": "stream",
          "text": [
            "10\n"
          ]
        },
        {
          "output_type": "execute_result",
          "data": {
            "text/plain": [
              "'10'"
            ],
            "application/vnd.google.colaboratory.intrinsic+json": {
              "type": "string"
            }
          },
          "metadata": {},
          "execution_count": 1
        }
      ]
    },
    {
      "cell_type": "code",
      "source": [
        "x + x # 사용자에게 받은 입력은 str"
      ],
      "metadata": {
        "colab": {
          "base_uri": "https://localhost:8080/",
          "height": 35
        },
        "id": "pyfzi-a0jqcJ",
        "outputId": "01acbb47-73d0-4267-fb46-e9fe1a929152"
      },
      "execution_count": null,
      "outputs": [
        {
          "output_type": "execute_result",
          "data": {
            "text/plain": [
              "'1010'"
            ],
            "application/vnd.google.colaboratory.intrinsic+json": {
              "type": "string"
            }
          },
          "metadata": {},
          "execution_count": 2
        }
      ]
    },
    {
      "cell_type": "code",
      "source": [
        "print(10, 10, 10)"
      ],
      "metadata": {
        "colab": {
          "base_uri": "https://localhost:8080/"
        },
        "id": "ZNu_lO_Oj5rb",
        "outputId": "b8847449-a26e-48f2-a79d-bc0a45e932e3"
      },
      "execution_count": null,
      "outputs": [
        {
          "output_type": "stream",
          "name": "stdout",
          "text": [
            "10 10 10\n"
          ]
        }
      ]
    },
    {
      "cell_type": "code",
      "source": [
        "print('hello', 'world', 'hello')"
      ],
      "metadata": {
        "colab": {
          "base_uri": "https://localhost:8080/"
        },
        "id": "kcLLhU-6j_Kt",
        "outputId": "03e22899-74b2-4d2c-f76b-67c7311d8483"
      },
      "execution_count": null,
      "outputs": [
        {
          "output_type": "stream",
          "name": "stdout",
          "text": [
            "hello world hello\n"
          ]
        }
      ]
    },
    {
      "cell_type": "code",
      "source": [
        "print(x, x)"
      ],
      "metadata": {
        "colab": {
          "base_uri": "https://localhost:8080/"
        },
        "id": "OcIAAy_mkCV6",
        "outputId": "0dd6f508-1c1f-4562-fd13-e4dee4443ed2"
      },
      "execution_count": null,
      "outputs": [
        {
          "output_type": "stream",
          "name": "stdout",
          "text": [
            "10 10\n"
          ]
        }
      ]
    },
    {
      "cell_type": "code",
      "source": [
        "print('hello world', end='!')\n",
        "print('hello world', end='!')\n",
        "print('hello world', end='!')"
      ],
      "metadata": {
        "colab": {
          "base_uri": "https://localhost:8080/"
        },
        "id": "1bNLt-0Qkpcc",
        "outputId": "b80b9d3b-0a4b-4585-cb5a-e27981197cac"
      },
      "execution_count": null,
      "outputs": [
        {
          "output_type": "stream",
          "name": "stdout",
          "text": [
            "hello world!hello world!hello world!"
          ]
        }
      ]
    },
    {
      "cell_type": "code",
      "source": [
        "print('hello', 'world', sep='!')\n",
        "print('010', '1111', '2222', sep='-')"
      ],
      "metadata": {
        "colab": {
          "base_uri": "https://localhost:8080/"
        },
        "id": "8CEEGCjSk8d_",
        "outputId": "422fb04c-7c4c-44b2-bcf5-be8d438d9350"
      },
      "execution_count": null,
      "outputs": [
        {
          "output_type": "stream",
          "name": "stdout",
          "text": [
            "hello!world\n",
            "010-1111-2222\n"
          ]
        }
      ]
    },
    {
      "cell_type": "code",
      "source": [
        "이름 = '이호준'\n",
        "나이 = 10\n",
        "\n",
        "print('1. 제 이름은 이호준입니다. 제 나이는 10입니다.')\n",
        "print('2. 제 이름은 ', 이름, '입니다. 제 나이는 ', 나이, '입니다.', sep='')\n",
        "print('3. 제 이름은 %s입니다. 제 나이는 %d입니다.'%(이름, 나이))\n",
        "print('4. 제 이름은 {}입니다. 제 나이는 {}입니다.'.format(이름, 나이))\n",
        "print(f'4. 제 이름은 {이름}입니다. 제 나이는 {나이}입니다.')"
      ],
      "metadata": {
        "colab": {
          "base_uri": "https://localhost:8080/"
        },
        "id": "_0vtWPkrlX6l",
        "outputId": "8ce8d5dc-578c-4e47-b68f-18612da486dc"
      },
      "execution_count": null,
      "outputs": [
        {
          "output_type": "stream",
          "name": "stdout",
          "text": [
            "1. 제 이름은 이호준입니다. 제 나이는 10입니다.\n",
            "2. 제 이름은 이호준입니다. 제 나이는 10입니다.\n",
            "3. 제 이름은 이호준입니다. 제 나이는 10입니다.\n",
            "4. 제 이름은 이호준입니다. 제 나이는 10입니다.\n",
            "4. 제 이름은 이호준입니다. 제 나이는 10입니다.\n"
          ]
        }
      ]
    },
    {
      "cell_type": "markdown",
      "source": [
        "[포멧코드](https://www.notion.so/paullabworkspace/9fd33417740f4eba8715f5c4a1ed7c7b?v=e01ecdfe2f9448dcaad68b03a38057a5)"
      ],
      "metadata": {
        "id": "PfuMr8ngmSFp"
      }
    },
    {
      "cell_type": "markdown",
      "source": [
        "## formatting"
      ],
      "metadata": {
        "id": "XR_vDYS-m4Tz"
      }
    },
    {
      "cell_type": "code",
      "source": [
        "print(f'{100 * 10}')"
      ],
      "metadata": {
        "colab": {
          "base_uri": "https://localhost:8080/"
        },
        "id": "omTW7TVTm-fX",
        "outputId": "6b21c3da-3f2c-490f-ba2c-421a3fb6123f"
      },
      "execution_count": null,
      "outputs": [
        {
          "output_type": "stream",
          "name": "stdout",
          "text": [
            "1000\n"
          ]
        }
      ]
    },
    {
      "cell_type": "code",
      "source": [
        "# 중괄호 안에서 복잡한 연산을 하시는 것을 권하지 않습니다.\n",
        "result = 100 * 10\n",
        "print(f'{result}')"
      ],
      "metadata": {
        "id": "bJDOI64PnF99"
      },
      "execution_count": null,
      "outputs": []
    },
    {
      "cell_type": "code",
      "source": [
        "# 이런 문법은 필요에 의해 검색해 보시다 보면 익숙해집니다.\n",
        "print(f'{\"hello\":<10}')\n",
        "print(f'{\"hello\":>10}')\n",
        "print(f'{\"hello\":^10}')"
      ],
      "metadata": {
        "colab": {
          "base_uri": "https://localhost:8080/"
        },
        "id": "8kv6uEcwnYkX",
        "outputId": "2ebe3d5f-d194-470a-de71-13713eb1a70a"
      },
      "execution_count": null,
      "outputs": [
        {
          "output_type": "stream",
          "name": "stdout",
          "text": [
            "hello     \n",
            "     hello\n",
            "  hello   \n"
          ]
        }
      ]
    },
    {
      "cell_type": "code",
      "source": [
        "txt = 'hello'\n",
        "i = 10\n",
        "print(f'{txt:>10}')\n",
        "print(f'{txt:>{i}}')"
      ],
      "metadata": {
        "colab": {
          "base_uri": "https://localhost:8080/"
        },
        "id": "hLkrUPx2ny0Y",
        "outputId": "ea68f2f7-a61a-4a36-b4a9-93235d274ffe"
      },
      "execution_count": null,
      "outputs": [
        {
          "output_type": "stream",
          "name": "stdout",
          "text": [
            "     hello\n",
            "     hello\n"
          ]
        }
      ]
    },
    {
      "cell_type": "code",
      "source": [
        "# 이런 문법은 필요에 의해 검색해 보시다 보면 익숙해집니다.\n",
        "print(f'{\"hello\":!<10}')\n",
        "print(f'{\"hello\":!>10}')\n",
        "print(f'{\"hello\":!^10}')"
      ],
      "metadata": {
        "colab": {
          "base_uri": "https://localhost:8080/"
        },
        "id": "n62hbKeNoTVV",
        "outputId": "c6ed5559-240d-4247-f0bc-60efe903e6d5"
      },
      "execution_count": null,
      "outputs": [
        {
          "output_type": "stream",
          "name": "stdout",
          "text": [
            "hello!!!!!\n",
            "!!!!!hello\n",
            "!!hello!!!\n"
          ]
        }
      ]
    },
    {
      "cell_type": "code",
      "source": [
        "# 이런 문법은 필요에 의해 검색해 보시다 보면 익숙해집니다.\n",
        "print(f'{\"hello\":=<10}')\n",
        "print(f'{\"hello\":=>10}')\n",
        "print(f'{\"hello\":=^10}')"
      ],
      "metadata": {
        "colab": {
          "base_uri": "https://localhost:8080/"
        },
        "id": "axrE4QpioXxM",
        "outputId": "227971e9-0872-41fb-aa7e-a0d93a7d4c3c"
      },
      "execution_count": null,
      "outputs": [
        {
          "output_type": "stream",
          "name": "stdout",
          "text": [
            "hello=====\n",
            "=====hello\n",
            "==hello===\n"
          ]
        }
      ]
    },
    {
      "cell_type": "code",
      "source": [
        "# 둘 다 잊으셔도 됩니다.\n",
        "# 어디에 활용되는지 궁금하다 하신 분이 있으셔서 해드린 것입니다.\n",
        "# https://tech.kakao.com/2017/09/27/kakao-blind-recruitment-round-1/\n",
        "bin(9)\n",
        "print(f'{bin(9)[2:]:0>5}')"
      ],
      "metadata": {
        "colab": {
          "base_uri": "https://localhost:8080/"
        },
        "id": "5TNQyBt_ojF8",
        "outputId": "2bb8e28c-aff0-49b4-dcc3-5029ae51627b"
      },
      "execution_count": null,
      "outputs": [
        {
          "output_type": "stream",
          "name": "stdout",
          "text": [
            "01001\n"
          ]
        }
      ]
    },
    {
      "cell_type": "code",
      "source": [
        "bin(9 | 30)[2:].replace('1', '#').replace('0', ' ')"
      ],
      "metadata": {
        "colab": {
          "base_uri": "https://localhost:8080/",
          "height": 35
        },
        "id": "fyIvpBy9ut_f",
        "outputId": "e249fb79-cb1e-4806-edff-ced6e3867c14"
      },
      "execution_count": null,
      "outputs": [
        {
          "output_type": "execute_result",
          "data": {
            "text/plain": [
              "'#####'"
            ],
            "application/vnd.google.colaboratory.intrinsic+json": {
              "type": "string"
            }
          },
          "metadata": {},
          "execution_count": 32
        }
      ]
    },
    {
      "cell_type": "code",
      "source": [
        "# 요정도 활용을 합니다.\n",
        "print(f'{\"start\":-^20}')"
      ],
      "metadata": {
        "colab": {
          "base_uri": "https://localhost:8080/"
        },
        "id": "T7rYR1VBvC7G",
        "outputId": "8e826cdb-7b28-4d7e-e3d7-6b7e0ac207f6"
      },
      "execution_count": null,
      "outputs": [
        {
          "output_type": "stream",
          "name": "stdout",
          "text": [
            "-------start--------\n"
          ]
        }
      ]
    },
    {
      "cell_type": "code",
      "source": [
        "print(f'{0.12345:0.2f}')"
      ],
      "metadata": {
        "colab": {
          "base_uri": "https://localhost:8080/"
        },
        "id": "K3L31a-cvdwN",
        "outputId": "efd9b7b2-0d27-4b74-ee0a-5190f6f5f9f7"
      },
      "execution_count": null,
      "outputs": [
        {
          "output_type": "stream",
          "name": "stdout",
          "text": [
            "0.12\n"
          ]
        }
      ]
    },
    {
      "cell_type": "markdown",
      "source": [
        "* 이 아래 코드는 필수는 아닙니다. 참고삼아서만 넣어드립니다."
      ],
      "metadata": {
        "id": "uyzkMXZav0so"
      }
    },
    {
      "cell_type": "code",
      "source": [
        "# 이전 방식\n",
        "print('나의 이름은 %s입니다'%('한사람'))\n",
        "print('나의 이름은 \"%s\"입니다. 나이는 %d세이고 성별은 %s입니다.'%('한사람',33,'남성'))\n",
        "print('나이는 %d세이고 성별은 %s입니다. 나의 이름은 %s입니다. '%(33,'남성','한사람'))\n",
        "print('나이는 %03d세이고 신장은 %6.2f입니다. 나의 이름은 %s입니다. '%(33,56.789,'한사람'))\n",
        "print('-' * 40)\n",
        "\n",
        "# 파이썬(Python) 3 포맷팅 방식\n",
        "print('나의 이름은 {}입니다'.format('한사람'))\n",
        "print('나의 이름은 {0}입니다. 나이는 {1}세이고 성별은 {2}입니다.'.format('한사람',33,'남성'))\n",
        "print('나이는 {1}세이고 성별은 {2}입니다. 나의 이름은 {0}입니다. '.format('한사람',33,'남성'))\n",
        "print('나이는 {age}세이고 성별은 {gender}입니다. 나의 이름은 {name}입니다. '\n",
        "         .format(name='한사람',age=33,gender='남성'))\n",
        "print('만세삼창 :  {0}!!! {0}!!! {0}!!! '.format('만세'))\n",
        "print('삼삼칠 박수 :  {0}!!! {0}!!! {1}!!! '.format('짝'*3,'짝'*7))\n",
        "print('-' * 40)\n",
        "\n",
        "# 파이썬(Python) 3.6 f-string 방식\n",
        "something = '볼펜'\n",
        "EA = 2\n",
        "one_length = 5.343\n",
        "scale = 'cm'\n",
        "\n",
        "print(f'{something} {EA}개의 길이는 {one_length*EA}{scale} 입니다.')\n",
        "print(f'{something} {EA}개의 길이는 {one_length*EA:.1f}{scale} 입니다.')"
      ],
      "metadata": {
        "colab": {
          "base_uri": "https://localhost:8080/"
        },
        "id": "d1sO91etvpoy",
        "outputId": "e256b758-a0de-4554-946a-bf4a1c3b14bb"
      },
      "execution_count": null,
      "outputs": [
        {
          "output_type": "stream",
          "name": "stdout",
          "text": [
            "나의 이름은 한사람입니다\n",
            "나의 이름은 \"한사람\"입니다. 나이는 33세이고 성별은 남성입니다.\n",
            "나이는 33세이고 성별은 남성입니다. 나의 이름은 한사람입니다. \n",
            "나이는 033세이고 신장은  56.79입니다. 나의 이름은 한사람입니다. \n",
            "----------------------------------------\n",
            "나의 이름은 한사람입니다\n",
            "나의 이름은 한사람입니다. 나이는 33세이고 성별은 남성입니다.\n",
            "나이는 33세이고 성별은 남성입니다. 나의 이름은 한사람입니다. \n",
            "나이는 33세이고 성별은 남성입니다. 나의 이름은 한사람입니다. \n",
            "만세삼창 :  만세!!! 만세!!! 만세!!! \n",
            "삼삼칠 박수 :  짝짝짝!!! 짝짝짝!!! 짝짝짝짝짝짝짝!!! \n",
            "----------------------------------------\n",
            "볼펜 2개의 길이는 10.686cm 입니다.\n",
            "볼펜 2개의 길이는 10.7cm 입니다.\n"
          ]
        }
      ]
    },
    {
      "cell_type": "code",
      "source": [
        "print('Python is [{:15}]'.format('good'))\n",
        "print('Python is [{:<15}]'.format('good'))\n",
        "print('Python is [{:>15}]'.format('good'))\n",
        "print('Python is [{:^15}]'.format('good'))\n",
        "print('당신의 나이는 [{:15}]세'.format(22))\n",
        "print('당신의 나이는 [{:<15}]세'.format(22))\n",
        "print('당신의 나이는 [{:>15}]세'.format(22))\n",
        "print('당신의 나이는 [{:<15}]세'.format(22))\n",
        "print('-' * 40)"
      ],
      "metadata": {
        "colab": {
          "base_uri": "https://localhost:8080/"
        },
        "id": "Y-ZNxOJdwRuP",
        "outputId": "fa702544-3e34-46af-9837-9286922b499e"
      },
      "execution_count": null,
      "outputs": [
        {
          "output_type": "stream",
          "name": "stdout",
          "text": [
            "Python is [good           ]\n",
            "Python is [good           ]\n",
            "Python is [           good]\n",
            "Python is [     good      ]\n",
            "당신의 나이는 [             22]세\n",
            "당신의 나이는 [22             ]세\n",
            "당신의 나이는 [             22]세\n",
            "당신의 나이는 [22             ]세\n",
            "----------------------------------------\n"
          ]
        }
      ]
    },
    {
      "cell_type": "code",
      "source": [
        "char_a = '5'\n",
        "int_a = 5\n",
        "\n",
        "'''기본적으로 {} 포맷팅의 특성을 그대로 가짐'''\n",
        "print(1234567890)\n",
        "print(f'{char_a:>5}') # >는 오른쪽정렬\n",
        "print(f'{char_a:<5}') # <는 왼쪽정렬\n",
        "print(f'{char_a:^5}') # ^는 가운데정렬\n",
        "print(f'{int_a:0<5}')# <는 왼쪽정렬, 빈자리를 0으로 채울수도 있음\n",
        "print(f'{int_a:^10.2f}') # ^ 가운데 정렬하면서 float 타입지정"
      ],
      "metadata": {
        "colab": {
          "base_uri": "https://localhost:8080/"
        },
        "id": "kFC3UtW_wXLj",
        "outputId": "b669398e-3d1d-4905-8a13-e047d4becf4d"
      },
      "execution_count": null,
      "outputs": [
        {
          "output_type": "stream",
          "name": "stdout",
          "text": [
            "1234567890\n",
            "    5\n",
            "5    \n",
            "  5  \n",
            "50000\n",
            "   5.00   \n"
          ]
        }
      ]
    },
    {
      "cell_type": "markdown",
      "source": [
        "## int"
      ],
      "metadata": {
        "id": "4FuHS2SOwmjX"
      }
    },
    {
      "cell_type": "markdown",
      "source": [
        "* 파이썬에서는 숫자를 정수, 실수, 복소수로 나눠 표현합니다.\n",
        "* 2진수, 8진수, 16진수는 정수로 표현됩니다."
      ],
      "metadata": {
        "id": "Ko_gJdPCworV"
      }
    },
    {
      "cell_type": "code",
      "source": [
        "10 # 정수\n",
        "-10 # 정수\n",
        "10.1 # 실수\n",
        "\n",
        "a = 10\n",
        "type(a)\n",
        "dir(a)"
      ],
      "metadata": {
        "colab": {
          "base_uri": "https://localhost:8080/"
        },
        "id": "j1lMIQSMwynh",
        "outputId": "d6c12d1f-a670-4391-8dbe-71f59958b537"
      },
      "execution_count": null,
      "outputs": [
        {
          "output_type": "execute_result",
          "data": {
            "text/plain": [
              "['__abs__',\n",
              " '__add__',\n",
              " '__and__',\n",
              " '__bool__',\n",
              " '__ceil__',\n",
              " '__class__',\n",
              " '__delattr__',\n",
              " '__dir__',\n",
              " '__divmod__',\n",
              " '__doc__',\n",
              " '__eq__',\n",
              " '__float__',\n",
              " '__floor__',\n",
              " '__floordiv__',\n",
              " '__format__',\n",
              " '__ge__',\n",
              " '__getattribute__',\n",
              " '__getnewargs__',\n",
              " '__gt__',\n",
              " '__hash__',\n",
              " '__index__',\n",
              " '__init__',\n",
              " '__init_subclass__',\n",
              " '__int__',\n",
              " '__invert__',\n",
              " '__le__',\n",
              " '__lshift__',\n",
              " '__lt__',\n",
              " '__mod__',\n",
              " '__mul__',\n",
              " '__ne__',\n",
              " '__neg__',\n",
              " '__new__',\n",
              " '__or__',\n",
              " '__pos__',\n",
              " '__pow__',\n",
              " '__radd__',\n",
              " '__rand__',\n",
              " '__rdivmod__',\n",
              " '__reduce__',\n",
              " '__reduce_ex__',\n",
              " '__repr__',\n",
              " '__rfloordiv__',\n",
              " '__rlshift__',\n",
              " '__rmod__',\n",
              " '__rmul__',\n",
              " '__ror__',\n",
              " '__round__',\n",
              " '__rpow__',\n",
              " '__rrshift__',\n",
              " '__rshift__',\n",
              " '__rsub__',\n",
              " '__rtruediv__',\n",
              " '__rxor__',\n",
              " '__setattr__',\n",
              " '__sizeof__',\n",
              " '__str__',\n",
              " '__sub__',\n",
              " '__subclasshook__',\n",
              " '__truediv__',\n",
              " '__trunc__',\n",
              " '__xor__',\n",
              " 'as_integer_ratio',\n",
              " 'bit_count',\n",
              " 'bit_length',\n",
              " 'conjugate',\n",
              " 'denominator',\n",
              " 'from_bytes',\n",
              " 'imag',\n",
              " 'numerator',\n",
              " 'real',\n",
              " 'to_bytes']"
            ]
          },
          "metadata": {},
          "execution_count": 39
        }
      ]
    },
    {
      "cell_type": "code",
      "source": [
        "'bit_length' # bit로 바꾸었을 때 비트의 길이\n",
        "'to_bytes' # 컴퓨터에 저장하는 바이트의 형태로 숫자를 표현"
      ],
      "metadata": {
        "id": "I_RKmj4RxBqD"
      },
      "execution_count": null,
      "outputs": []
    },
    {
      "cell_type": "code",
      "source": [
        "# 1Bit, 0 ~ 1 # bit - 1자리\n",
        "# 1Bytes = 8bit, 00000000 ~ 11111111 # 1byte - 8bit\n",
        "# 1KB (키로바이트) = 1024Bytes\n",
        "# 1MB (메가바이트) = 1024Kb \n",
        "# 1GB (기가바이트) = 1024MB\n",
        "# 1TB (테라바이트) = 1024GB\n",
        "# 1PB (페타바이트) = 1024TB"
      ],
      "metadata": {
        "id": "5UtZn0RcxvAh"
      },
      "execution_count": null,
      "outputs": []
    },
    {
      "cell_type": "code",
      "source": [
        "(9).bit_length() # 1001"
      ],
      "metadata": {
        "colab": {
          "base_uri": "https://localhost:8080/"
        },
        "id": "Cuc-iV-CzVBJ",
        "outputId": "07676816-b93d-4ca8-b682-5bde0e07dd96"
      },
      "execution_count": null,
      "outputs": [
        {
          "output_type": "execute_result",
          "data": {
            "text/plain": [
              "4"
            ]
          },
          "metadata": {},
          "execution_count": 41
        }
      ]
    },
    {
      "cell_type": "code",
      "source": [
        "# 컴퓨터가 숫자를 어떻게 저장하는가?\n",
        "(2).to_bytes(1, byteorder='little', signed=True)\n",
        "(1).to_bytes(1, byteorder='little', signed=True)\n",
        "(0).to_bytes(1, byteorder='little', signed=True)\n",
        "(-1).to_bytes(1, byteorder='little', signed=True)\n",
        "(-2).to_bytes(1, byteorder='little', signed=True)"
      ],
      "metadata": {
        "colab": {
          "base_uri": "https://localhost:8080/"
        },
        "id": "E5m6x8zGzuGt",
        "outputId": "a67de90d-f5e1-4730-ca29-3ebbc6e52967"
      },
      "execution_count": null,
      "outputs": [
        {
          "output_type": "execute_result",
          "data": {
            "text/plain": [
              "b'\\xfe'"
            ]
          },
          "metadata": {},
          "execution_count": 49
        }
      ]
    },
    {
      "cell_type": "code",
      "source": [
        "# 컴퓨터는 음수를 자체적으로 표현할 수 없기에 2의 보수를 사용합니다. \n",
        "# 1의 보수를 사용하게 되면 +0과 -0이 존재하게 됨으로 비트 하나를 낭비하게 됩니다. \n",
        "# 따라서 2의 보수를 사용합니다."
      ],
      "metadata": {
        "id": "0YYHT-bB0hMN"
      },
      "execution_count": null,
      "outputs": []
    },
    {
      "cell_type": "code",
      "source": [
        "# 0000 0001 # 1\n",
        "# 1111 1110 # 1의 1의 보수\n",
        "# 1111 1111 # 1의 2의 보수 => ff"
      ],
      "metadata": {
        "id": "qL8ZgRC72Up-"
      },
      "execution_count": null,
      "outputs": []
    },
    {
      "cell_type": "code",
      "source": [
        "# 진법 변환 쉽게 하는 법 : 가장 가까운 승수를 찾아 더하거나 뺍니다.\n",
        "# 10진법\n",
        "# 0 1 2 3 4 5 6 7 8 9 -> 10\n",
        "# 1324 = 1*10^3 + 3*10^2 + 2*10^1 + 4*10^0\n",
        "\n",
        "# 2진법\n",
        "# 0 1 -> 10\n",
        "# 1001 = 1*2^3 + 1*2^0 = 9\n",
        "\n",
        "# 8진법\n",
        "# 0 1 2 3 4 5 6 7 -> 10\n",
        "\n",
        "# 16진법\n",
        "# 0 1 2 3 4 5 6 7 8 9 a b c d e f -> 10"
      ],
      "metadata": {
        "id": "pie3v6Ov2uS-"
      },
      "execution_count": null,
      "outputs": []
    },
    {
      "cell_type": "code",
      "source": [
        "# color의 표현\n",
        "# 2596be\n",
        "# 000000 ~ ffffff\n",
        "# ff는 10진수로 무슨 숫자를 의미\n",
        "# 100 - 1 => ff가 됩니다. 그래서 256 - 1"
      ],
      "metadata": {
        "id": "hJ-Qs3MZ7muX"
      },
      "execution_count": null,
      "outputs": []
    },
    {
      "cell_type": "code",
      "source": [
        "a = 10\n",
        "type(a)"
      ],
      "metadata": {
        "colab": {
          "base_uri": "https://localhost:8080/"
        },
        "id": "JQ-C9p_r8FWJ",
        "outputId": "a1d66be7-4e58-48a8-db7c-b5104ac3424d"
      },
      "execution_count": null,
      "outputs": [
        {
          "output_type": "execute_result",
          "data": {
            "text/plain": [
              "int"
            ]
          },
          "metadata": {},
          "execution_count": 50
        }
      ]
    },
    {
      "cell_type": "code",
      "source": [
        "int('10') + int('10')"
      ],
      "metadata": {
        "colab": {
          "base_uri": "https://localhost:8080/"
        },
        "id": "R1c4KnaW8M3F",
        "outputId": "ab98cd94-0b49-4c03-9008-fc091ab4f0c6"
      },
      "execution_count": null,
      "outputs": [
        {
          "output_type": "execute_result",
          "data": {
            "text/plain": [
              "20"
            ]
          },
          "metadata": {},
          "execution_count": 52
        }
      ]
    },
    {
      "cell_type": "code",
      "source": [
        "int('10', 2) # 2진법으로 10은?"
      ],
      "metadata": {
        "colab": {
          "base_uri": "https://localhost:8080/"
        },
        "id": "_UQMFy8K8SbR",
        "outputId": "2dd9f93c-5437-42e4-8dd6-98db58d32d25"
      },
      "execution_count": null,
      "outputs": [
        {
          "output_type": "execute_result",
          "data": {
            "text/plain": [
              "2"
            ]
          },
          "metadata": {},
          "execution_count": 53
        }
      ]
    },
    {
      "cell_type": "code",
      "source": [
        "int('10', 8) # 8진법으로 10은?"
      ],
      "metadata": {
        "colab": {
          "base_uri": "https://localhost:8080/"
        },
        "id": "rKGPnSv58Z2I",
        "outputId": "2c5b1ef6-ff2e-4640-b68e-4bcdd4709c40"
      },
      "execution_count": null,
      "outputs": [
        {
          "output_type": "execute_result",
          "data": {
            "text/plain": [
              "8"
            ]
          },
          "metadata": {},
          "execution_count": 54
        }
      ]
    },
    {
      "cell_type": "code",
      "source": [
        "int('10', 16) # 16진법으로 10은?"
      ],
      "metadata": {
        "colab": {
          "base_uri": "https://localhost:8080/"
        },
        "id": "ukJkUEpF8cVh",
        "outputId": "d2637643-d21f-4a7a-ff69-3978c489cf99"
      },
      "execution_count": null,
      "outputs": [
        {
          "output_type": "execute_result",
          "data": {
            "text/plain": [
              "16"
            ]
          },
          "metadata": {},
          "execution_count": 55
        }
      ]
    },
    {
      "cell_type": "code",
      "source": [
        "print(0b110) # 바이너리 - 2진수\n",
        "print(0o110) # 옥타 - 8진수\n",
        "print(0x110) # 헥사 - 16진수"
      ],
      "metadata": {
        "colab": {
          "base_uri": "https://localhost:8080/"
        },
        "id": "ioMm-g158f-t",
        "outputId": "31abe74b-7786-4e2c-991f-f04718b50331"
      },
      "execution_count": null,
      "outputs": [
        {
          "output_type": "execute_result",
          "data": {
            "text/plain": [
              "6"
            ]
          },
          "metadata": {},
          "execution_count": 56
        }
      ]
    },
    {
      "cell_type": "code",
      "source": [
        "type(0b110)"
      ],
      "metadata": {
        "colab": {
          "base_uri": "https://localhost:8080/"
        },
        "id": "wuiWS5Uo9Fho",
        "outputId": "147ede1c-e202-4e87-97e7-504af24c4269"
      },
      "execution_count": null,
      "outputs": [
        {
          "output_type": "execute_result",
          "data": {
            "text/plain": [
              "int"
            ]
          },
          "metadata": {},
          "execution_count": 58
        }
      ]
    },
    {
      "cell_type": "code",
      "source": [
        "a = 10\n",
        "type(a) == int\n",
        "isinstance(a, int)"
      ],
      "metadata": {
        "colab": {
          "base_uri": "https://localhost:8080/"
        },
        "id": "oFCaE7CZ89hT",
        "outputId": "a30a372c-c144-4df4-ee82-9957b818f66d"
      },
      "execution_count": null,
      "outputs": [
        {
          "output_type": "execute_result",
          "data": {
            "text/plain": [
              "True"
            ]
          },
          "metadata": {},
          "execution_count": 57
        }
      ]
    },
    {
      "cell_type": "markdown",
      "source": [
        "# float (실수)"
      ],
      "metadata": {
        "id": "WHtIN8oG9DTD"
      }
    },
    {
      "cell_type": "code",
      "source": [
        "a = 10.1\n",
        "\n",
        "type(a)"
      ],
      "metadata": {
        "colab": {
          "base_uri": "https://localhost:8080/"
        },
        "id": "49Yqsf7h9Mr9",
        "outputId": "4dfa6e6e-b144-4cc4-ec76-4e0fb3c5acb4"
      },
      "execution_count": null,
      "outputs": [
        {
          "output_type": "execute_result",
          "data": {
            "text/plain": [
              "float"
            ]
          },
          "metadata": {},
          "execution_count": 59
        }
      ]
    },
    {
      "cell_type": "code",
      "source": [
        "dir(a)"
      ],
      "metadata": {
        "colab": {
          "base_uri": "https://localhost:8080/"
        },
        "id": "IFSd_1Vv9QxQ",
        "outputId": "f157b952-f68f-4afb-a904-b62c3fcecaee"
      },
      "execution_count": null,
      "outputs": [
        {
          "output_type": "execute_result",
          "data": {
            "text/plain": [
              "['__abs__',\n",
              " '__add__',\n",
              " '__bool__',\n",
              " '__ceil__',\n",
              " '__class__',\n",
              " '__delattr__',\n",
              " '__dir__',\n",
              " '__divmod__',\n",
              " '__doc__',\n",
              " '__eq__',\n",
              " '__float__',\n",
              " '__floor__',\n",
              " '__floordiv__',\n",
              " '__format__',\n",
              " '__ge__',\n",
              " '__getattribute__',\n",
              " '__getformat__',\n",
              " '__getnewargs__',\n",
              " '__gt__',\n",
              " '__hash__',\n",
              " '__init__',\n",
              " '__init_subclass__',\n",
              " '__int__',\n",
              " '__le__',\n",
              " '__lt__',\n",
              " '__mod__',\n",
              " '__mul__',\n",
              " '__ne__',\n",
              " '__neg__',\n",
              " '__new__',\n",
              " '__pos__',\n",
              " '__pow__',\n",
              " '__radd__',\n",
              " '__rdivmod__',\n",
              " '__reduce__',\n",
              " '__reduce_ex__',\n",
              " '__repr__',\n",
              " '__rfloordiv__',\n",
              " '__rmod__',\n",
              " '__rmul__',\n",
              " '__round__',\n",
              " '__rpow__',\n",
              " '__rsub__',\n",
              " '__rtruediv__',\n",
              " '__setattr__',\n",
              " '__setformat__',\n",
              " '__sizeof__',\n",
              " '__str__',\n",
              " '__sub__',\n",
              " '__subclasshook__',\n",
              " '__truediv__',\n",
              " '__trunc__',\n",
              " 'as_integer_ratio',\n",
              " 'conjugate',\n",
              " 'fromhex',\n",
              " 'hex',\n",
              " 'imag',\n",
              " 'is_integer',\n",
              " 'real']"
            ]
          },
          "metadata": {},
          "execution_count": 60
        }
      ]
    },
    {
      "cell_type": "code",
      "source": [
        "a = 10\n",
        "b = 10.1\n",
        "\n",
        "a + b # 다른 일부 언어에서는 허용되지 않습니다. "
      ],
      "metadata": {
        "colab": {
          "base_uri": "https://localhost:8080/"
        },
        "id": "_xpjzwvH9W0E",
        "outputId": "c750b6b5-b164-4523-bc1e-41cb6fdc585f"
      },
      "execution_count": null,
      "outputs": [
        {
          "output_type": "execute_result",
          "data": {
            "text/plain": [
              "20.1"
            ]
          },
          "metadata": {},
          "execution_count": 61
        }
      ]
    },
    {
      "cell_type": "code",
      "source": [
        "# 부동소수점 오차(2진법으로 변환했을 때 0.1이 무한대수가 발생합니다.)\n",
        "0.1 + 0.2 # 대부분의 언어 공통입니다."
      ],
      "metadata": {
        "colab": {
          "base_uri": "https://localhost:8080/"
        },
        "id": "iPOP5_j09huq",
        "outputId": "8a8c50ce-4f0d-45d2-bb2d-774b8c10515f"
      },
      "execution_count": null,
      "outputs": [
        {
          "output_type": "execute_result",
          "data": {
            "text/plain": [
              "0.30000000000000004"
            ]
          },
          "metadata": {},
          "execution_count": 62
        }
      ]
    },
    {
      "cell_type": "code",
      "source": [
        "a = 0.1"
      ],
      "metadata": {
        "id": "WRmNCo4R93bc"
      },
      "execution_count": null,
      "outputs": []
    },
    {
      "cell_type": "code",
      "source": [
        "# 20번 반복해보세요.\n",
        "a = a + 0.1\n",
        "a"
      ],
      "metadata": {
        "colab": {
          "base_uri": "https://localhost:8080/"
        },
        "id": "5qPsROhP95mk",
        "outputId": "f02fcd5b-8a01-4116-81e4-d48fbde3e5bc"
      },
      "execution_count": null,
      "outputs": [
        {
          "output_type": "execute_result",
          "data": {
            "text/plain": [
              "1.0999999999999999"
            ]
          },
          "metadata": {},
          "execution_count": 73
        }
      ]
    },
    {
      "cell_type": "markdown",
      "source": [
        "* https://docs.python.org/ko/3/tutorial/floatingpoint.html\n",
        "* https://0.30000000000000004.com/ 에서 언어별 해결책을 제시한다.\n",
        "* 컴퓨터에서 부동소수점 숫자는 2진 분수로 표현되기에 무한대수가 발생한다.\n",
        "* [무한수가 발생되는 원리](https://www.notion.so/paullabworkspace/5f34f21bf9a34015b170e7afd7da9593)"
      ],
      "metadata": {
        "id": "qeW-c4rw-lqE"
      }
    },
    {
      "cell_type": "markdown",
      "source": [
        "## 오늘 배운 것 정리 (20230501)\n",
        "1. 단축키\n",
        "    * (필수) Ctrl(Command) + Enter : 해당 셀 실행\n",
        "    * (필수) Alt(Option) + Enter : 해당 셀 실행 + 코드 불록 하단 추가\n",
        "    * (필수) Ctrl + / : 주석\n",
        "    * (필수) Shift + Del : 한 줄 지우기\n",
        "    * (필수) Tab, Ctrl + ] : 들여쓰기\n",
        "    * (필수) Shift + Tab, Ctrl + [ : 내어쓰기\n",
        "\n",
        "2. 마크다운\n",
        "    ```\n",
        "    # hello\n",
        "    ## hello\n",
        "    ### hello\n",
        "\n",
        "    1. hello\n",
        "    2. hello\n",
        "    3. hello\n",
        "\n",
        "    * hello\n",
        "    * hello\n",
        "    * hello\n",
        "    ```\n",
        "\n",
        "3. 주석\n",
        "\n",
        "    ```python\n",
        "    #행 단위 주석입니다.\n",
        "\n",
        "    \"\"\"\n",
        "    큰 따옴표로 세번 묶거나\n",
        "    작은따옴표로 세번 묶으면\n",
        "    열단위 주석이 됩니다.\n",
        "    \"\"\"\n",
        "\n",
        "    '''\n",
        "    큰 따옴표로 세번 묶거나\n",
        "    작은따옴표로 세번 묶으면\n",
        "    열단위 주석이 됩니다.\n",
        "    '''\n",
        "    ```\n",
        "\n",
        "4. PEP8 권고사항\n",
        "    * 띄어쓰기는 4칸\n",
        "    * 한 줄에 79자 이상을 사용하지 않는다.\n",
        "\n",
        "5. 형의 종류(type, dir)\n",
        "    * 컨벤션 자료형(list, tuple, dict, set)은 나중에 진행합니다.\n",
        "    * int\n",
        "    * float\n",
        "    * bool\n",
        "    * str\n",
        "    * function\n",
        "    * bulit-in function\n",
        "\n",
        "# 이스케이프 문자\n",
        "# https://ko.wikipedia.org/wiki/%EC%9D%B4%EC%8A%A4%EC%BC%80%EC%9D%B4%ED%94%84_%EB%AC%B8%EC%9E%90\n",
        "print('hello \\n world')\n",
        "print('hello \\t world')\n",
        "print('hello \\' world')\n",
        "print('hello \\\" world')\n",
        "print('hello \\\\ world')\n",
        "\n",
        "# 실무에서 자주 사용하는 구문\n",
        "type(10)\n",
        "type(10) == int\n",
        "type(10.1) == float\n",
        "\n",
        "a = 10\n",
        "isinstance(a, int)\n",
        "isinstance(a, float)\n",
        "\n",
        "\n",
        "dir을 입력했을 때\n",
        "1. __hello__와 같은 형태의 메직 메서드는 속성을 표현한다\n",
        "2.  언더바가 없는 메서드는 해당 자료형의 편의 기능을 제공한다\n",
        "\n",
        "입력과 출력\n",
        "x = input() #입력, 숫자를 입력해도 str\n",
        "print(x) #출력\n",
        "\n",
        "\n",
        "이름 = '이호준'\n",
        "나이 = 10\n",
        "print(f'제 이름은 {이름}입니다. 제 나이는 {나이}입니다.')\n",
        "print(f'{100 * 10}')\n",
        "\n",
        "\n",
        "\n",
        "int 형\n",
        "* 2진수, 8진수, 16진수는 정수\n",
        "\n",
        "\n",
        "float 형\n",
        "* 부동소수점 오차(2진법으로 변환했을 때 0.1이 무한대수가 발생합니다.)\n",
        "0.1 + 0.2 # 대부분의 언어 공통입니다.\n",
        "* https://docs.python.org/ko/3/tutorial/floatingpoint.html\n",
        "* https://0.30000000000000004.com/ 에서 언어별 해결책을 제시한다."
      ],
      "metadata": {
        "id": "2pnCzgV5DMtw"
      }
    },
    {
      "cell_type": "markdown",
      "source": [
        "## str (문자열)\n"
      ],
      "metadata": {
        "id": "a5hTROtEyPLp"
      }
    },
    {
      "cell_type": "markdown",
      "source": [
        "- 순서가 있는 **시퀀스 자료형**입니다.\n",
        "- 작은 따옴표(' ')나 큰 따옴표(\" \"), 삼중따옴표('''str''', \"\"\"str\"\"\")로 감싸는 것도 가능합니다. (삼중따옴표를 사용할 경우에는 줄단위의 문자열을 나타낼 수 있습니다.)\n",
        "- 작은 따옴표 안에 큰 따옴표, 큰 따옴표 안에 작은 따옴표 사용이 가능합니다.\n",
        "- 이스케이프 문자도 사용이 가능합니다.\n",
        "- 리스트, 튜플도 시퀀스 자료형"
      ],
      "metadata": {
        "id": "RQNqkzo-ynaz"
      }
    },
    {
      "cell_type": "code",
      "source": [
        "s = 'paullab CEO leehojun'\n",
        "s[0]  # 0은 index 이다. 이렇게 호출하는 것을 indexing이라고 한다"
      ],
      "metadata": {
        "colab": {
          "base_uri": "https://localhost:8080/",
          "height": 36
        },
        "id": "ahwXqAFZyrin",
        "outputId": "b4de0a98-e1a3-4fc7-d621-0424e341cf62"
      },
      "execution_count": null,
      "outputs": [
        {
          "output_type": "execute_result",
          "data": {
            "text/plain": [
              "'p'"
            ],
            "application/vnd.google.colaboratory.intrinsic+json": {
              "type": "string"
            }
          },
          "metadata": {},
          "execution_count": 1
        }
      ]
    },
    {
      "cell_type": "code",
      "source": [
        "type(s)"
      ],
      "metadata": {
        "colab": {
          "base_uri": "https://localhost:8080/"
        },
        "id": "0AZUUO5jzxqy",
        "outputId": "f34a4c1a-8d3c-447e-c31e-5692fec243f8"
      },
      "execution_count": null,
      "outputs": [
        {
          "output_type": "execute_result",
          "data": {
            "text/plain": [
              "str"
            ]
          },
          "metadata": {},
          "execution_count": 2
        }
      ]
    },
    {
      "cell_type": "code",
      "source": [
        "dir(s)"
      ],
      "metadata": {
        "colab": {
          "base_uri": "https://localhost:8080/"
        },
        "id": "SkdDpioZ0EBA",
        "outputId": "915b11d0-6bd0-4b28-b392-be498c97de5a"
      },
      "execution_count": null,
      "outputs": [
        {
          "output_type": "execute_result",
          "data": {
            "text/plain": [
              "['__add__',\n",
              " '__class__',\n",
              " '__contains__',\n",
              " '__delattr__',\n",
              " '__dir__',\n",
              " '__doc__',\n",
              " '__eq__',\n",
              " '__format__',\n",
              " '__ge__',\n",
              " '__getattribute__',\n",
              " '__getitem__',\n",
              " '__getnewargs__',\n",
              " '__gt__',\n",
              " '__hash__',\n",
              " '__init__',\n",
              " '__init_subclass__',\n",
              " '__iter__',\n",
              " '__le__',\n",
              " '__len__',\n",
              " '__lt__',\n",
              " '__mod__',\n",
              " '__mul__',\n",
              " '__ne__',\n",
              " '__new__',\n",
              " '__reduce__',\n",
              " '__reduce_ex__',\n",
              " '__repr__',\n",
              " '__rmod__',\n",
              " '__rmul__',\n",
              " '__setattr__',\n",
              " '__sizeof__',\n",
              " '__str__',\n",
              " '__subclasshook__',\n",
              " 'capitalize',\n",
              " 'casefold',\n",
              " 'center',\n",
              " 'count',\n",
              " 'encode',\n",
              " 'endswith',\n",
              " 'expandtabs',\n",
              " 'find',\n",
              " 'format',\n",
              " 'format_map',\n",
              " 'index',\n",
              " 'isalnum',\n",
              " 'isalpha',\n",
              " 'isascii',\n",
              " 'isdecimal',\n",
              " 'isdigit',\n",
              " 'isidentifier',\n",
              " 'islower',\n",
              " 'isnumeric',\n",
              " 'isprintable',\n",
              " 'isspace',\n",
              " 'istitle',\n",
              " 'isupper',\n",
              " 'join',\n",
              " 'ljust',\n",
              " 'lower',\n",
              " 'lstrip',\n",
              " 'maketrans',\n",
              " 'partition',\n",
              " 'removeprefix',\n",
              " 'removesuffix',\n",
              " 'replace',\n",
              " 'rfind',\n",
              " 'rindex',\n",
              " 'rjust',\n",
              " 'rpartition',\n",
              " 'rsplit',\n",
              " 'rstrip',\n",
              " 'split',\n",
              " 'splitlines',\n",
              " 'startswith',\n",
              " 'strip',\n",
              " 'swapcase',\n",
              " 'title',\n",
              " 'translate',\n",
              " 'upper',\n",
              " 'zfill']"
            ]
          },
          "metadata": {},
          "execution_count": 3
        }
      ]
    },
    {
      "cell_type": "code",
      "source": [
        "# 문자열의 메서드\n",
        "# 'capitalize','casefold','center','count','encode',\n",
        "# 'endswith','expandtabs','find','format','format_map',\n",
        "# 'index','isalnum','isalpha','isascii','isdecimal','isdigit',\n",
        "# 'isidentifier','islower','isnumeric','isprintable','isspace',\n",
        "# 'istitle','isupper','join','ljust','lower','lstrip',\n",
        "# 'maketrans','partition','removeprefix','removesuffix',\n",
        "# 'replace','rfind','rindex','rjust','rpartition','rsplit',\n",
        "# 'rstrip','split','splitlines','startswith','strip','swapcase',\n",
        "# 'title','translate','upper','zfill'"
      ],
      "metadata": {
        "id": "B5Wbs82e0H6g"
      },
      "execution_count": null,
      "outputs": []
    },
    {
      "cell_type": "code",
      "source": [
        "s = 'paullab CEO leehojun'\n",
        "s.lower(), s.upper() # 특히 사용자에게 입력을 받는 경우 lower를 많이 사용함"
      ],
      "metadata": {
        "colab": {
          "base_uri": "https://localhost:8080/"
        },
        "id": "24w3H_1U0dQG",
        "outputId": "9d676025-8002-4620-e538-cd68052b5395"
      },
      "execution_count": null,
      "outputs": [
        {
          "output_type": "execute_result",
          "data": {
            "text/plain": [
              "('paullab ceo leehojun', 'PAULLAB CEO LEEHOJUN')"
            ]
          },
          "metadata": {},
          "execution_count": 4
        }
      ]
    },
    {
      "cell_type": "code",
      "source": [
        "s = 'paullab CEO leehojun'\n",
        "s.find('C'), s.index('C')"
      ],
      "metadata": {
        "colab": {
          "base_uri": "https://localhost:8080/"
        },
        "id": "lCSlr99s0tat",
        "outputId": "216dbaaa-660e-4f8b-a8f1-dc2d7e24994a"
      },
      "execution_count": null,
      "outputs": [
        {
          "output_type": "execute_result",
          "data": {
            "text/plain": [
              "(8, 8)"
            ]
          },
          "metadata": {},
          "execution_count": 5
        }
      ]
    },
    {
      "cell_type": "code",
      "source": [
        "# 견고한 코드란?\n",
        "# 시간이 지나도 그대로 사용할 수 있고\n",
        "# error가 예측 가능하게 나는 코드 / ex - 네이버에 이미지 슬라이딩 코드\n",
        "# bool(s.find('Z')) => -1은 True이기 때문에 주의가 필요\n",
        "s.find('Z')"
      ],
      "metadata": {
        "colab": {
          "base_uri": "https://localhost:8080/"
        },
        "id": "aEYDey1d1P7N",
        "outputId": "df4b0044-20e1-420b-fe2d-9f263d4da32b"
      },
      "execution_count": null,
      "outputs": [
        {
          "output_type": "execute_result",
          "data": {
            "text/plain": [
              "-1"
            ]
          },
          "metadata": {},
          "execution_count": 7
        }
      ]
    },
    {
      "cell_type": "code",
      "source": [
        "# Error가 나면 Error를 주는 갓이 좋을 수 있다\n",
        "# Error를 안 주는 언어로 JavaScript\n",
        "s.index('Z')"
      ],
      "metadata": {
        "id": "LkqrAwTy1qyK"
      },
      "execution_count": null,
      "outputs": []
    },
    {
      "cell_type": "code",
      "source": [
        "s = 'paullab CEO leehojun'\n",
        "s.find('CEO')"
      ],
      "metadata": {
        "colab": {
          "base_uri": "https://localhost:8080/"
        },
        "id": "yY_Bduph2NhA",
        "outputId": "abf5833b-4841-43d7-c019-71e7fc66d96c"
      },
      "execution_count": null,
      "outputs": [
        {
          "output_type": "execute_result",
          "data": {
            "text/plain": [
              "8"
            ]
          },
          "metadata": {},
          "execution_count": 9
        }
      ]
    },
    {
      "cell_type": "code",
      "source": [
        "# 별 5개\n",
        "s = 'paullab CEO leehojun'\n",
        "s.count('l')"
      ],
      "metadata": {
        "colab": {
          "base_uri": "https://localhost:8080/"
        },
        "id": "7nnh5BOP20BZ",
        "outputId": "3f30afb7-e134-4aa6-8e88-174f778ce34c"
      },
      "execution_count": null,
      "outputs": [
        {
          "output_type": "execute_result",
          "data": {
            "text/plain": [
              "3"
            ]
          },
          "metadata": {},
          "execution_count": 10
        }
      ]
    },
    {
      "cell_type": "code",
      "source": [
        "str([1, 2, 3, 4, 5])"
      ],
      "metadata": {
        "colab": {
          "base_uri": "https://localhost:8080/",
          "height": 36
        },
        "id": "FE4uYSpl2371",
        "outputId": "5899bed6-315b-46ad-fc4c-5dd2f4ea3433"
      },
      "execution_count": null,
      "outputs": [
        {
          "output_type": "execute_result",
          "data": {
            "text/plain": [
              "'[1, 2, 3, 4, 5]'"
            ],
            "application/vnd.google.colaboratory.intrinsic+json": {
              "type": "string"
            }
          },
          "metadata": {},
          "execution_count": 11
        }
      ]
    },
    {
      "cell_type": "code",
      "source": [
        "str([1, 2, 3, 4, 5]).count(' ')"
      ],
      "metadata": {
        "colab": {
          "base_uri": "https://localhost:8080/"
        },
        "id": "Q38jZDLJ3BzC",
        "outputId": "c9b9e03d-10ec-4867-8d2f-7bbda6780843"
      },
      "execution_count": null,
      "outputs": [
        {
          "output_type": "execute_result",
          "data": {
            "text/plain": [
              "4"
            ]
          },
          "metadata": {},
          "execution_count": 12
        }
      ]
    },
    {
      "cell_type": "code",
      "source": [
        "str([1, 2, 3, 4, 5]).count(',')"
      ],
      "metadata": {
        "colab": {
          "base_uri": "https://localhost:8080/"
        },
        "id": "yQkR_D3J3Jc8",
        "outputId": "c0e240bc-f39f-44e5-e880-d85635243479"
      },
      "execution_count": null,
      "outputs": [
        {
          "output_type": "execute_result",
          "data": {
            "text/plain": [
              "4"
            ]
          },
          "metadata": {},
          "execution_count": 13
        }
      ]
    },
    {
      "cell_type": "code",
      "source": [
        "str([1, 2, 11, 4, 111]).count('1')"
      ],
      "metadata": {
        "colab": {
          "base_uri": "https://localhost:8080/"
        },
        "id": "HcrVHo573N1x",
        "outputId": "e29f58a0-3106-470e-8ac3-91e198e0fb39"
      },
      "execution_count": null,
      "outputs": [
        {
          "output_type": "execute_result",
          "data": {
            "text/plain": [
              "6"
            ]
          },
          "metadata": {},
          "execution_count": 14
        }
      ]
    },
    {
      "cell_type": "code",
      "source": [
        "str(list(range(1,10001))).count('8')"
      ],
      "metadata": {
        "colab": {
          "base_uri": "https://localhost:8080/"
        },
        "id": "nNvBke7M6PJh",
        "outputId": "ff1a44e3-684d-4998-bbb8-f6ab4f61b445"
      },
      "execution_count": null,
      "outputs": [
        {
          "output_type": "execute_result",
          "data": {
            "text/plain": [
              "4000"
            ]
          },
          "metadata": {},
          "execution_count": 24
        }
      ]
    },
    {
      "cell_type": "markdown",
      "source": [
        "- https://codingdojang.com/scode/393?answer_mode=hide"
      ],
      "metadata": {
        "id": "5uZEQrnh3ngy"
      }
    },
    {
      "cell_type": "code",
      "source": [
        "str([1,2,3,4,5]).count(' ')\n",
        "# list는 콤마 다음에 공백이 없더라도 공백으로 인식"
      ],
      "metadata": {
        "colab": {
          "base_uri": "https://localhost:8080/"
        },
        "id": "VaPcuGSZ4ZjS",
        "outputId": "1ef551d4-5d2a-466f-af61-6116693d9b4f"
      },
      "execution_count": null,
      "outputs": [
        {
          "output_type": "execute_result",
          "data": {
            "text/plain": [
              "4"
            ]
          },
          "metadata": {},
          "execution_count": 17
        }
      ]
    },
    {
      "cell_type": "code",
      "source": [
        "str([1,\n",
        "     2,\n",
        "     3,\n",
        "     4,\n",
        "     5]).count(' ')\n",
        "# list는 콤마 다음에 공백이 없더라도 공백으로 인식 / 많아도 하나로 인식"
      ],
      "metadata": {
        "colab": {
          "base_uri": "https://localhost:8080/"
        },
        "id": "uibWfdxs4xU9",
        "outputId": "0c937f2e-9202-4012-cc94-3b7dfebda8d9"
      },
      "execution_count": null,
      "outputs": [
        {
          "output_type": "execute_result",
          "data": {
            "text/plain": [
              "4"
            ]
          },
          "metadata": {},
          "execution_count": 18
        }
      ]
    },
    {
      "cell_type": "code",
      "source": [
        "'hello'.count('')"
      ],
      "metadata": {
        "colab": {
          "base_uri": "https://localhost:8080/"
        },
        "id": "p90hsEuz4Ctn",
        "outputId": "38b5aeb0-30d3-40c1-b11c-fe4888767463"
      },
      "execution_count": null,
      "outputs": [
        {
          "output_type": "execute_result",
          "data": {
            "text/plain": [
              "6"
            ]
          },
          "metadata": {},
          "execution_count": 19
        }
      ]
    },
    {
      "cell_type": "code",
      "source": [
        "'a'.count('')"
      ],
      "metadata": {
        "colab": {
          "base_uri": "https://localhost:8080/"
        },
        "id": "7UNT_ZNj45gV",
        "outputId": "530db1e6-02ce-4961-a871-33ce7d4e5738"
      },
      "execution_count": null,
      "outputs": [
        {
          "output_type": "execute_result",
          "data": {
            "text/plain": [
              "2"
            ]
          },
          "metadata": {},
          "execution_count": 20
        }
      ]
    },
    {
      "cell_type": "code",
      "source": [
        " ''.count('')"
      ],
      "metadata": {
        "colab": {
          "base_uri": "https://localhost:8080/"
        },
        "id": "fD1O_piQ5aNl",
        "outputId": "2eee4aac-7823-42c6-f183-f716782d719a"
      },
      "execution_count": null,
      "outputs": [
        {
          "output_type": "execute_result",
          "data": {
            "text/plain": [
              "1"
            ]
          },
          "metadata": {},
          "execution_count": 25
        }
      ]
    },
    {
      "cell_type": "code",
      "source": [
        "''+''"
      ],
      "metadata": {
        "colab": {
          "base_uri": "https://localhost:8080/",
          "height": 36
        },
        "id": "R4MbWng46Ub0",
        "outputId": "c549cca3-62b8-4c16-d996-ecd297ebe7ee"
      },
      "execution_count": null,
      "outputs": [
        {
          "output_type": "execute_result",
          "data": {
            "text/plain": [
              "''"
            ],
            "application/vnd.google.colaboratory.intrinsic+json": {
              "type": "string"
            }
          },
          "metadata": {},
          "execution_count": 26
        }
      ]
    },
    {
      "cell_type": "code",
      "source": [
        "'     hello    !  '.strip() # 데이터 양쪽의 공백과 특정 문자를 제거해줌"
      ],
      "metadata": {
        "colab": {
          "base_uri": "https://localhost:8080/",
          "height": 36
        },
        "id": "xR2FRvsr6WhX",
        "outputId": "cbf88bf8-40e6-4780-f03c-61f6c12a2acb"
      },
      "execution_count": null,
      "outputs": [
        {
          "output_type": "execute_result",
          "data": {
            "text/plain": [
              "'hello    !'"
            ],
            "application/vnd.google.colaboratory.intrinsic+json": {
              "type": "string"
            }
          },
          "metadata": {},
          "execution_count": 27
        }
      ]
    },
    {
      "cell_type": "code",
      "source": [
        "'     hello    !  '.rstrip()"
      ],
      "metadata": {
        "colab": {
          "base_uri": "https://localhost:8080/",
          "height": 36
        },
        "id": "aUoj8k_56kHx",
        "outputId": "24b56a48-ef9f-4ab4-e80c-90a0feab3feb"
      },
      "execution_count": null,
      "outputs": [
        {
          "output_type": "execute_result",
          "data": {
            "text/plain": [
              "'     hello    !'"
            ],
            "application/vnd.google.colaboratory.intrinsic+json": {
              "type": "string"
            }
          },
          "metadata": {},
          "execution_count": 35
        }
      ]
    },
    {
      "cell_type": "code",
      "source": [
        "'     hello    !  '.lstrip()"
      ],
      "metadata": {
        "colab": {
          "base_uri": "https://localhost:8080/",
          "height": 36
        },
        "id": "-iQs-p2A636i",
        "outputId": "6730816e-1acd-4c34-dc67-dbbbeb1c6eae"
      },
      "execution_count": null,
      "outputs": [
        {
          "output_type": "execute_result",
          "data": {
            "text/plain": [
              "'hello    !  '"
            ],
            "application/vnd.google.colaboratory.intrinsic+json": {
              "type": "string"
            }
          },
          "metadata": {},
          "execution_count": 36
        }
      ]
    },
    {
      "cell_type": "code",
      "source": [
        "# 별 5개\n",
        "'hello world hi'.replace('', '!')\n",
        "'hello world hi'.replace('world', 'W@O@R@L@D')\n",
        "# 'hello world hi'.replace('world', 'W@O@R@L@D').upper() .으로 이어나가는 것이 메서드 체이닝"
      ],
      "metadata": {
        "colab": {
          "base_uri": "https://localhost:8080/",
          "height": 36
        },
        "id": "GYnFybh565m5",
        "outputId": "7941e853-7fce-4c6e-f7b7-9c678bec5deb"
      },
      "execution_count": null,
      "outputs": [
        {
          "output_type": "execute_result",
          "data": {
            "text/plain": [
              "'hello W@O@R@L@D hi'"
            ],
            "application/vnd.google.colaboratory.intrinsic+json": {
              "type": "string"
            }
          },
          "metadata": {},
          "execution_count": 28
        }
      ]
    },
    {
      "cell_type": "code",
      "source": [
        "'hello world hi'.replace('world', 'W@O@R@L@D').upper().split('@')\n",
        "# 반환값이 list 이기 때문에 메서드 체이닝을 할거면 이후로 list 메서드를 사용해야한다"
      ],
      "metadata": {
        "colab": {
          "base_uri": "https://localhost:8080/"
        },
        "id": "Y8sE3I477Oex",
        "outputId": "af6f10d8-2c0d-42b4-bb04-bc732d8daa39"
      },
      "execution_count": null,
      "outputs": [
        {
          "output_type": "execute_result",
          "data": {
            "text/plain": [
              "['HELLO W', 'O', 'R', 'L', 'D HI']"
            ]
          },
          "metadata": {},
          "execution_count": 29
        }
      ]
    },
    {
      "cell_type": "code",
      "source": [
        "'hello world hi'.replace(' ','')"
      ],
      "metadata": {
        "colab": {
          "base_uri": "https://localhost:8080/",
          "height": 36
        },
        "id": "2-HaGl_H7vfO",
        "outputId": "e89b3762-f4f6-4244-9f65-405af2f3a957"
      },
      "execution_count": null,
      "outputs": [
        {
          "output_type": "execute_result",
          "data": {
            "text/plain": [
              "'helloworldhi'"
            ],
            "application/vnd.google.colaboratory.intrinsic+json": {
              "type": "string"
            }
          },
          "metadata": {},
          "execution_count": 30
        }
      ]
    },
    {
      "cell_type": "code",
      "source": [
        "# 영어는 80자, 한글은 40자 이상 쓰는걸 권고하지 않는다 -> 가독성이 떨어지기 때문"
      ],
      "metadata": {
        "id": "pbVHp1j9-71u"
      },
      "execution_count": null,
      "outputs": []
    },
    {
      "cell_type": "code",
      "source": [
        "data = '''  \"+ +-+ -+-\"  \n",
        "  \"++ -- +-+\"  \n",
        "  \"++-+ -+ -\"  \n",
        "  \"+ ++-+ -+\"  '''\n",
        "\n",
        "data.split('\\n')[0].replace(' ', '').replace('\"', '')\n",
        "\n",
        "# Pythonic 하지 않다\n",
        "data.split('\\n')[0].replace(' ',\n",
        "                '').replace('\"',\n",
        "                '')\n",
        "\n",
        "# Pythonic 하게 하려면\n",
        "data.split('\\n')[0]\\\n",
        "                .replace(' ', '')\\\n",
        "                .replace('\"', '')\\\n",
        "                .replace('\"', '')\\\n",
        "                .replace('\"', '')\\\n",
        "                .replace('\"', '')\\\n",
        "                .replace('\"', '')\\\n",
        "                .replace('\"', '')\\\n",
        "                .replace('\"', '')\n",
        "\n",
        "# 강사님이 사용하는 방법\n",
        "processed_string = data.split('\\n')[0].replace(' ', '').replace('\"', '')\n",
        "processed_string.replace('\"', '').replace('\"', '')"
      ],
      "metadata": {
        "colab": {
          "base_uri": "https://localhost:8080/",
          "height": 36
        },
        "id": "fo8V-r1t70L7",
        "outputId": "06d4370c-513c-4432-b0ff-f30565af23bf"
      },
      "execution_count": null,
      "outputs": [
        {
          "output_type": "execute_result",
          "data": {
            "text/plain": [
              "'++-+-+-'"
            ],
            "application/vnd.google.colaboratory.intrinsic+json": {
              "type": "string"
            }
          },
          "metadata": {},
          "execution_count": 34
        }
      ]
    },
    {
      "cell_type": "code",
      "source": [
        "data = '''  \"+ +-+ -+-\"  \n",
        "  \"++ -- +-+\"  \n",
        "  \"++-+ -+ -\"  \n",
        "  \"+ ++-+ -+\"  '''\n",
        "\n",
        "data.split('\\n')[0].replace(' ', '').replace('\"', '').replace('+', '1').replace('-','0')\n",
        "ord('A'), chr(65) # ord는 문자를 가지고 숫자로 변경 chr은 숫자를 가지고 문자로 변경한다\n",
        "\n",
        "숫자 = data.split('\\n')[0].replace(' ', '').replace('\"', '').replace('+', '1').replace('-','0')\n",
        "int(숫자,2)\n",
        "chr(int(숫자, 2))"
      ],
      "metadata": {
        "colab": {
          "base_uri": "https://localhost:8080/",
          "height": 36
        },
        "id": "jeT1dLoPBGi4",
        "outputId": "c52a78f1-9238-4a03-d99d-b482a8cc8dbb"
      },
      "execution_count": null,
      "outputs": [
        {
          "output_type": "execute_result",
          "data": {
            "text/plain": [
              "'j'"
            ],
            "application/vnd.google.colaboratory.intrinsic+json": {
              "type": "string"
            }
          },
          "metadata": {},
          "execution_count": 37
        }
      ]
    },
    {
      "cell_type": "code",
      "source": [
        "# 별 4.5개\n",
        "'paullab CEO leehojun'.split(' ') #문자열을 쪼개어 줍니다.\n",
        "'paullab!CEO!leehojun'.split('!')\n",
        "'paullab,CEO,leehojun'.split(',')"
      ],
      "metadata": {
        "colab": {
          "base_uri": "https://localhost:8080/"
        },
        "id": "XSSTdq2PCA3P",
        "outputId": "d420bfeb-2127-452b-e238-5c968a02466e"
      },
      "execution_count": null,
      "outputs": [
        {
          "output_type": "execute_result",
          "data": {
            "text/plain": [
              "['paullab', 'CEO', 'leehojun']"
            ]
          },
          "metadata": {},
          "execution_count": 38
        }
      ]
    },
    {
      "cell_type": "code",
      "source": [
        "'010 1111 2222'\n",
        "'010-1111-2222'\n",
        "'010 1111-2222'"
      ],
      "metadata": {
        "colab": {
          "base_uri": "https://localhost:8080/",
          "height": 36
        },
        "id": "QjNbjwwYCKe_",
        "outputId": "971f1d69-366f-4f56-c8cb-18ec9e84c3d9"
      },
      "execution_count": null,
      "outputs": [
        {
          "output_type": "execute_result",
          "data": {
            "text/plain": [
              "'010-1111-2222'"
            ],
            "application/vnd.google.colaboratory.intrinsic+json": {
              "type": "string"
            }
          },
          "metadata": {},
          "execution_count": 40
        }
      ]
    },
    {
      "cell_type": "code",
      "source": [
        "# 연습문제 \n",
        "'010 1111 2222'.split(' ')\n",
        "'010-1111-2222'.split('-')\n",
        "'010 1111-2222'.replace(' ','-').split('-')\n",
        "# ['010', '1111', '2222']\n",
        "# [010 1111 2222]"
      ],
      "metadata": {
        "colab": {
          "base_uri": "https://localhost:8080/"
        },
        "id": "c6-iXwuMCvFl",
        "outputId": "c5b1bcf9-8e0a-4cdd-c7f5-9ed841b8f301"
      },
      "execution_count": null,
      "outputs": [
        {
          "output_type": "execute_result",
          "data": {
            "text/plain": [
              "['010', '1111', '2222']"
            ]
          },
          "metadata": {},
          "execution_count": 59
        }
      ]
    },
    {
      "cell_type": "code",
      "source": [
        "'010 1111 2222'.split() # 공백 단위가 들어가게 됨\n",
        "# 01011112222.split('') 빈 문자열을 넣을수는 없다"
      ],
      "metadata": {
        "colab": {
          "base_uri": "https://localhost:8080/"
        },
        "id": "6aKycvj4Cfk3",
        "outputId": "1a48dc8b-744e-489b-e41f-e8ef4372fec1"
      },
      "execution_count": null,
      "outputs": [
        {
          "output_type": "execute_result",
          "data": {
            "text/plain": [
              "['010', '1111', '2222']"
            ]
          },
          "metadata": {},
          "execution_count": 60
        }
      ]
    },
    {
      "cell_type": "code",
      "source": [
        "list(map(int,'010 1111 2222'.split(' ')))"
      ],
      "metadata": {
        "colab": {
          "base_uri": "https://localhost:8080/"
        },
        "id": "n-ZuNcEeF_jk",
        "outputId": "66597936-dc37-4457-9bb1-f10e4fe0e759"
      },
      "execution_count": null,
      "outputs": [
        {
          "output_type": "execute_result",
          "data": {
            "text/plain": [
              "[10, 1111, 2222]"
            ]
          },
          "metadata": {},
          "execution_count": 61
        }
      ]
    },
    {
      "cell_type": "code",
      "source": [
        "int('010')"
      ],
      "metadata": {
        "colab": {
          "base_uri": "https://localhost:8080/"
        },
        "id": "1OKz70CiMaTA",
        "outputId": "77eb24ff-73de-4f7c-8406-58e65a9911ce"
      },
      "execution_count": null,
      "outputs": [
        {
          "output_type": "execute_result",
          "data": {
            "text/plain": [
              "10"
            ]
          },
          "metadata": {},
          "execution_count": 82
        }
      ]
    },
    {
      "cell_type": "code",
      "source": [
        "# print(010) # error"
      ],
      "metadata": {
        "id": "pSyriy79MceN"
      },
      "execution_count": null,
      "outputs": []
    },
    {
      "cell_type": "code",
      "source": [
        "num = '010 1111 2222'.replace('-',' ').split(' ')\n",
        "[int(i) for i in num] # 리스트 컴프리헨션 사용\n",
        "list(map(int, '010 1111 2222'.split(' ')))\n",
        "\n",
        "# 2개 모두 새로운 리스트를 만드는 것\n",
        "# 원본을 변경시키지 않는다."
      ],
      "metadata": {
        "colab": {
          "base_uri": "https://localhost:8080/"
        },
        "id": "W8cEPLxuMjvt",
        "outputId": "7e7e38f2-4e9b-42c9-e1a9-2f10e08de1c9"
      },
      "execution_count": null,
      "outputs": [
        {
          "output_type": "execute_result",
          "data": {
            "text/plain": [
              "[10, 1111, 2222]"
            ]
          },
          "metadata": {},
          "execution_count": 84
        }
      ]
    },
    {
      "cell_type": "code",
      "source": [
        "# 뒤에서 자세히 배울 내용임\n",
        "def 제곱함수(x):\n",
        "    return x ** 2\n",
        "\n",
        "def 정수함수(x):\n",
        "    return int(x)\n",
        "\n",
        "list(map(제곱함수,[1,2,3]))\n",
        "list(map(정수함수,['1','2','3'])) # 아래 코드랑 같은 값이 나옴\n",
        "list(map(int,['1','2','3'])) # 이거랑 같다는 소라\n",
        "\n",
        "list(map(int, ['010', '1111', '2222']))\n",
        "list(map(int,'010 1111 2222'.split(' ')))"
      ],
      "metadata": {
        "colab": {
          "base_uri": "https://localhost:8080/"
        },
        "id": "0IJhyDh6GZp-",
        "outputId": "c9b16e9f-51ba-484b-917e-f4b8682c9d97"
      },
      "execution_count": null,
      "outputs": [
        {
          "output_type": "execute_result",
          "data": {
            "text/plain": [
              "[10, 1111, 2222]"
            ]
          },
          "metadata": {},
          "execution_count": 64
        }
      ]
    },
    {
      "cell_type": "code",
      "source": [
        "# 별 4.5개\n",
        "'~'.join(['hello', 'world', 'hello'])\n",
        "'!'.join(['hello', 'world', 'hello'])\n",
        "''.join(['hello', 'world', 'hello'])\n",
        "' '.join(['hello', 'world', 'hello'])"
      ],
      "metadata": {
        "colab": {
          "base_uri": "https://localhost:8080/",
          "height": 36
        },
        "id": "B1t5KIp0HWN9",
        "outputId": "3ceea239-0e36-4c15-d32a-ab246d93cac4"
      },
      "execution_count": null,
      "outputs": [
        {
          "output_type": "execute_result",
          "data": {
            "text/plain": [
              "'hello world hello'"
            ],
            "application/vnd.google.colaboratory.intrinsic+json": {
              "type": "string"
            }
          },
          "metadata": {},
          "execution_count": 68
        }
      ]
    },
    {
      "cell_type": "code",
      "source": [
        "'hello'.isalpha()"
      ],
      "metadata": {
        "colab": {
          "base_uri": "https://localhost:8080/"
        },
        "id": "LGO0WBibH0HF",
        "outputId": "d6795939-d851-4856-d5c5-a43b35f079bb"
      },
      "execution_count": null,
      "outputs": [
        {
          "output_type": "execute_result",
          "data": {
            "text/plain": [
              "True"
            ]
          },
          "metadata": {},
          "execution_count": 69
        }
      ]
    },
    {
      "cell_type": "code",
      "source": [
        "'he llo'.isalpha()"
      ],
      "metadata": {
        "colab": {
          "base_uri": "https://localhost:8080/"
        },
        "id": "Cwfio6EzIDiK",
        "outputId": "19a6923e-a3c7-4d0d-82f0-c372c3d00486"
      },
      "execution_count": null,
      "outputs": [
        {
          "output_type": "execute_result",
          "data": {
            "text/plain": [
              "False"
            ]
          },
          "metadata": {},
          "execution_count": 70
        }
      ]
    },
    {
      "cell_type": "code",
      "source": [
        "'123'.isdigit()"
      ],
      "metadata": {
        "colab": {
          "base_uri": "https://localhost:8080/"
        },
        "id": "c5oJBp4cIG7p",
        "outputId": "35bc5fd6-33ad-477a-8698-c91208ba8ece"
      },
      "execution_count": null,
      "outputs": [
        {
          "output_type": "execute_result",
          "data": {
            "text/plain": [
              "True"
            ]
          },
          "metadata": {},
          "execution_count": 71
        }
      ]
    },
    {
      "cell_type": "code",
      "source": [
        "'12a3'.isdigit(), '12 3'.isdigit()"
      ],
      "metadata": {
        "colab": {
          "base_uri": "https://localhost:8080/"
        },
        "id": "QUr7AF--INOx",
        "outputId": "1acee119-0d1b-4d33-e924-2efe8f87819a"
      },
      "execution_count": null,
      "outputs": [
        {
          "output_type": "execute_result",
          "data": {
            "text/plain": [
              "(False, False)"
            ]
          },
          "metadata": {},
          "execution_count": 72
        }
      ]
    },
    {
      "cell_type": "code",
      "source": [
        "'12a3'.isalnum(), '12 3'.isalnum()"
      ],
      "metadata": {
        "colab": {
          "base_uri": "https://localhost:8080/"
        },
        "id": "AGTG9gy4ISRN",
        "outputId": "7d4c9557-ec5d-4066-a654-abda3d3fce0b"
      },
      "execution_count": null,
      "outputs": [
        {
          "output_type": "execute_result",
          "data": {
            "text/plain": [
              "(True, False)"
            ]
          },
          "metadata": {},
          "execution_count": 73
        }
      ]
    },
    {
      "cell_type": "code",
      "source": [
        "'안녕하세요!'.isalpha(), '안녕하세요!'.isalnum()"
      ],
      "metadata": {
        "colab": {
          "base_uri": "https://localhost:8080/"
        },
        "id": "tAaPd43UIbw7",
        "outputId": "ad322a6b-a016-4709-f2d2-48978c76d8cb"
      },
      "execution_count": null,
      "outputs": [
        {
          "output_type": "execute_result",
          "data": {
            "text/plain": [
              "(False, False)"
            ]
          },
          "metadata": {},
          "execution_count": 75
        }
      ]
    },
    {
      "cell_type": "code",
      "source": [
        "# 퀴즈\n",
        "# 숫자를 모두 더하라!\n",
        "result = 0\n",
        "for i in '123abc913sldlf':\n",
        "    # print(i.isdigit())\n",
        "    if i.isdigit():\n",
        "        result += int(i) # result = result + int(i)\n",
        "\n",
        "result"
      ],
      "metadata": {
        "colab": {
          "base_uri": "https://localhost:8080/"
        },
        "id": "vQqlcH4BIl8O",
        "outputId": "8d014d54-f2f0-4220-fb68-f057066ef635"
      },
      "execution_count": null,
      "outputs": [
        {
          "output_type": "execute_result",
          "data": {
            "text/plain": [
              "19"
            ]
          },
          "metadata": {},
          "execution_count": 80
        }
      ]
    },
    {
      "cell_type": "code",
      "source": [
        "result = 0\n",
        "for i in '123abc913sldlf':\n",
        "    if i.isdigit():\n",
        "        result += int(i)\n",
        "result"
      ],
      "metadata": {
        "colab": {
          "base_uri": "https://localhost:8080/"
        },
        "id": "KbeF8AGMIynH",
        "outputId": "c994cdcc-2bbb-44af-e08f-178a533fadc2"
      },
      "execution_count": null,
      "outputs": [
        {
          "output_type": "execute_result",
          "data": {
            "text/plain": [
              "19"
            ]
          },
          "metadata": {},
          "execution_count": 81
        }
      ]
    },
    {
      "cell_type": "code",
      "source": [
        "'paullab CEO leehojun'.isascii()"
      ],
      "metadata": {
        "colab": {
          "base_uri": "https://localhost:8080/"
        },
        "id": "9teQ7vJ3NycH",
        "outputId": "7b9bc10a-4b65-4b3a-c95d-f1f44303a6db"
      },
      "execution_count": null,
      "outputs": [
        {
          "output_type": "execute_result",
          "data": {
            "text/plain": [
              "True"
            ]
          },
          "metadata": {},
          "execution_count": 85
        }
      ]
    },
    {
      "cell_type": "code",
      "source": [
        "'paullab CEO leehojun'.rjust(30) #오른쪽 정렬\n",
        "'paullab CEO leehojun'.ljust(30) #왼쪽 정렬\n",
        "'paullab CEO leehojun'.center(30)#가운데 정렬"
      ],
      "metadata": {
        "colab": {
          "base_uri": "https://localhost:8080/",
          "height": 36
        },
        "id": "HcyU4BKsJZEs",
        "outputId": "1d65bf14-8ae5-4f40-a521-326619e78a0d"
      },
      "execution_count": null,
      "outputs": [
        {
          "output_type": "execute_result",
          "data": {
            "text/plain": [
              "'     paullab CEO leehojun     '"
            ],
            "application/vnd.google.colaboratory.intrinsic+json": {
              "type": "string"
            }
          },
          "metadata": {},
          "execution_count": 86
        }
      ]
    },
    {
      "cell_type": "code",
      "source": [
        "'hello'.zfill(20) \n",
        "# 데이터의 빈공간을 0으로 채워줌 \n",
        "# 2진수에서 많이 사용됨 \n",
        "# 일고리즘 문제에서 자주 보임"
      ],
      "metadata": {
        "colab": {
          "base_uri": "https://localhost:8080/",
          "height": 36
        },
        "id": "9KjWBaeENdoO",
        "outputId": "6b662318-6481-4e7f-8934-e643743bc4e3"
      },
      "execution_count": null,
      "outputs": [
        {
          "output_type": "execute_result",
          "data": {
            "text/plain": [
              "'000000000000000hello'"
            ],
            "application/vnd.google.colaboratory.intrinsic+json": {
              "type": "string"
            }
          },
          "metadata": {},
          "execution_count": 87
        }
      ]
    },
    {
      "cell_type": "code",
      "source": [
        "'1001'.zfill(5)\n",
        "'hello'.zfill(10).replace('0','-')"
      ],
      "metadata": {
        "colab": {
          "base_uri": "https://localhost:8080/",
          "height": 36
        },
        "id": "XXyHmgtFOB3R",
        "outputId": "81f850ea-9acd-4d45-aa97-e6b56d355c26"
      },
      "execution_count": null,
      "outputs": [
        {
          "output_type": "execute_result",
          "data": {
            "text/plain": [
              "'-----hello'"
            ],
            "application/vnd.google.colaboratory.intrinsic+json": {
              "type": "string"
            }
          },
          "metadata": {},
          "execution_count": 89
        }
      ]
    },
    {
      "cell_type": "code",
      "source": [
        "# \\n\\n\\n -> enter / \\t\\t\\t-> tab\n",
        "규칙테이블 = str.maketrans({'\\n':'', '\\t':''})\n",
        "'paullab \\n\\n\\n CEO \\t\\t\\t leehojun'.translate(규칙테이블) "
      ],
      "metadata": {
        "colab": {
          "base_uri": "https://localhost:8080/",
          "height": 36
        },
        "id": "8O8b09MlOQYE",
        "outputId": "3b5f2969-b452-45a9-a04d-7e858247febe"
      },
      "execution_count": null,
      "outputs": [
        {
          "output_type": "execute_result",
          "data": {
            "text/plain": [
              "'paullab  CEO  leehojun'"
            ],
            "application/vnd.google.colaboratory.intrinsic+json": {
              "type": "string"
            }
          },
          "metadata": {},
          "execution_count": 91
        }
      ]
    },
    {
      "cell_type": "code",
      "source": [
        "'paullab \\n\\n\\n CEO \\t\\t\\t leehojun'.replace('\\n','').replace('\\t','') \n",
        "# 위와 같은 값이 나온다"
      ],
      "metadata": {
        "colab": {
          "base_uri": "https://localhost:8080/",
          "height": 36
        },
        "id": "WwxouZveOo16",
        "outputId": "bc47009a-c7f7-4a0a-fe6f-0171369d31ad"
      },
      "execution_count": null,
      "outputs": [
        {
          "output_type": "execute_result",
          "data": {
            "text/plain": [
              "'paullab  CEO  leehojun'"
            ],
            "application/vnd.google.colaboratory.intrinsic+json": {
              "type": "string"
            }
          },
          "metadata": {},
          "execution_count": 92
        }
      ]
    },
    {
      "cell_type": "code",
      "source": [
        "규칙테이블 = str.maketrans('\\n\\t', '  ') # 똑같은 길이를 가지고 있어야 함\n",
        "'paullab \\n\\n\\n CEO \\t\\t\\t leehojun'.translate(규칙테이블)"
      ],
      "metadata": {
        "colab": {
          "base_uri": "https://localhost:8080/",
          "height": 36
        },
        "id": "cf027zwPO9DO",
        "outputId": "95bdb351-76d3-4d57-a721-9732056d5271"
      },
      "execution_count": null,
      "outputs": [
        {
          "output_type": "execute_result",
          "data": {
            "text/plain": [
              "'paullab     CEO     leehojun'"
            ],
            "application/vnd.google.colaboratory.intrinsic+json": {
              "type": "string"
            }
          },
          "metadata": {},
          "execution_count": 93
        }
      ]
    },
    {
      "cell_type": "code",
      "source": [
        "규칙테이블 = str.maketrans('le','12')\n",
        "'paullab CEO leehojun'.translate(규칙테이블) #어떤 규칙을 정하는것"
      ],
      "metadata": {
        "colab": {
          "base_uri": "https://localhost:8080/",
          "height": 36
        },
        "id": "dTHY5bckPJpr",
        "outputId": "57fdd365-ebd6-4c15-c44c-40671e610b12"
      },
      "execution_count": null,
      "outputs": [
        {
          "output_type": "execute_result",
          "data": {
            "text/plain": [
              "'pau11ab CEO 122hojun'"
            ],
            "application/vnd.google.colaboratory.intrinsic+json": {
              "type": "string"
            }
          },
          "metadata": {},
          "execution_count": 94
        }
      ]
    },
    {
      "cell_type": "markdown",
      "source": [
        "## pep"
      ],
      "metadata": {
        "id": "ukEAdBS3PQ-A"
      }
    },
    {
      "cell_type": "code",
      "source": [
        "# aaaaaaaaaaaaaaaaaaaaaaaaaaaaaaaaaaaaaaaaaaaaaaaaaaaaaaaaaaaaaaaaaaaaaaaaaaaaaaaa => 80자\n",
        "# 아아아아아아아아아아아아아아아아아아아아아아아아아아아아아아아아아아아아아아아아아아 => 40자면 한글 넘어갑니다.\n",
        "# line에 딱 맞춰 들어간 것을 볼 수 있습니다. \n",
        "# 강제사항은 아닙니다.\n",
        "# 띄어쓰기 4번도 강제사항은 아닙니다.\n",
        "# pep8, pep 20에 기술되어 있습니다. => pep(Python Enhancement Proposal)란 무엇인가요? 8이란 무엇인가요?\n",
        "# pep8 : Style Guide for Python Code (https://peps.python.org/pep-0008/)\n",
        "# pep20 : The Zen of Python #https://peps.python.org/pep-0020/ # 이스터에그로 숨겨져있음\n",
        "# https://peps.python.org/"
      ],
      "metadata": {
        "id": "ID9e7xCAPM_Z"
      },
      "execution_count": null,
      "outputs": []
    },
    {
      "cell_type": "markdown",
      "source": [
        "## cpython\n",
        "\n",
        "* 공식홈페이지에서 다운받는 것이 cpython\n",
        "* https://github.com/python/cpython\n",
        "* list를 구현한 코드 : https://github.com/python/cpython/blob/main/Objects/listobject.c"
      ],
      "metadata": {
        "id": "_lUjmfShQsuB"
      }
    },
    {
      "cell_type": "markdown",
      "source": [
        "## 인덱싱과 슬라이싱"
      ],
      "metadata": {
        "id": "yaA2kXQaSXro"
      }
    },
    {
      "cell_type": "code",
      "source": [
        "# 0은 인덱스 나열하는 것이 인덱싱\n",
        "name = 'Guido van Rossum'\n",
        "print(name[0])\n",
        "print(name[1])\n",
        "print(name[2])"
      ],
      "metadata": {
        "colab": {
          "base_uri": "https://localhost:8080/"
        },
        "id": "N9886RxsPlSk",
        "outputId": "9004a09f-2638-44bd-e320-3157735d18f4"
      },
      "execution_count": null,
      "outputs": [
        {
          "output_type": "stream",
          "name": "stdout",
          "text": [
            "G\n",
            "u\n",
            "i\n"
          ]
        }
      ]
    },
    {
      "cell_type": "code",
      "source": [
        "# s[start:stop:step] -> 이 형태가 python에서 많이 쓰임 range 등등\n",
        "s = 'paullab CEO leehojun'\n",
        "s[5:] # 5번째~ 끝\n",
        "s[:5] # 처음부터 5번쩨\n",
        "s[3:10] # 3번째~10번째\n",
        "s[:] # 처음부터 끝\n",
        "s[0:20:2] # 0부터 20번째까지 2개씩 건너뛰면서"
      ],
      "metadata": {
        "colab": {
          "base_uri": "https://localhost:8080/",
          "height": 36
        },
        "id": "6XD4qYd4SnU-",
        "outputId": "fa241e8f-8f07-4dd7-b42f-84fd02004b45"
      },
      "execution_count": null,
      "outputs": [
        {
          "output_type": "execute_result",
          "data": {
            "text/plain": [
              "'pulbCOleou'"
            ],
            "application/vnd.google.colaboratory.intrinsic+json": {
              "type": "string"
            }
          },
          "metadata": {},
          "execution_count": 101
        }
      ]
    },
    {
      "cell_type": "code",
      "source": [
        "# 자주 사용하는 코드\n",
        "s = 'paullab CEO leehojun!'\n",
        "s[:] # string에서는 많이 사용하지 않지만 list에서 많이 사용함\n",
        "s[:-1] # 맨 뒤 마지막 요소 제외하고 전부 술라이싱"
      ],
      "metadata": {
        "colab": {
          "base_uri": "https://localhost:8080/",
          "height": 36
        },
        "id": "b5uIHF4CS5QA",
        "outputId": "b0955074-fca2-40c5-82f4-f5ace443a098"
      },
      "execution_count": null,
      "outputs": [
        {
          "output_type": "execute_result",
          "data": {
            "text/plain": [
              "'paullab CEO leehojun'"
            ],
            "application/vnd.google.colaboratory.intrinsic+json": {
              "type": "string"
            }
          },
          "metadata": {},
          "execution_count": 106
        }
      ]
    },
    {
      "cell_type": "code",
      "source": [
        "test = [1, 2, 3, 4]\n",
        "test2 = test\n",
        "test2[0] = 1000\n",
        "test, test2"
      ],
      "metadata": {
        "colab": {
          "base_uri": "https://localhost:8080/"
        },
        "id": "ZsI8DjOVTlIb",
        "outputId": "fe4dd548-4169-4f09-accd-f7a7bc642ec7"
      },
      "execution_count": null,
      "outputs": [
        {
          "output_type": "execute_result",
          "data": {
            "text/plain": [
              "([1000, 2, 3, 4], [1000, 2, 3, 4])"
            ]
          },
          "metadata": {},
          "execution_count": 104
        }
      ]
    },
    {
      "cell_type": "code",
      "source": [
        "test = [1, 2, 3, 4]\n",
        "test2 = test[:] # 새로운 리스트를 만들어서 test2에게 준다\n",
        "test2[0] = 1000\n",
        "test, test2"
      ],
      "metadata": {
        "colab": {
          "base_uri": "https://localhost:8080/"
        },
        "id": "jE71NUMoTuwG",
        "outputId": "f0928d8a-dd9b-482d-fb19-d006bc11c9a4"
      },
      "execution_count": null,
      "outputs": [
        {
          "output_type": "execute_result",
          "data": {
            "text/plain": [
              "([1, 2, 3, 4], [1000, 2, 3, 4])"
            ]
          },
          "metadata": {},
          "execution_count": 105
        }
      ]
    },
    {
      "cell_type": "markdown",
      "source": [
        "## 문자열의 연산"
      ],
      "metadata": {
        "id": "MGy5NzsKUrAX"
      }
    },
    {
      "cell_type": "code",
      "source": [
        "s = 'hello world'\n",
        "dir(s)\n",
        "s + s\n",
        "s * 3"
      ],
      "metadata": {
        "colab": {
          "base_uri": "https://localhost:8080/",
          "height": 36
        },
        "id": "8dUrqa_rT9dN",
        "outputId": "a043e244-6af3-4d60-8e2b-5e3b75d584e4"
      },
      "execution_count": null,
      "outputs": [
        {
          "output_type": "execute_result",
          "data": {
            "text/plain": [
              "'hello worldhello worldhello world'"
            ],
            "application/vnd.google.colaboratory.intrinsic+json": {
              "type": "string"
            }
          },
          "metadata": {},
          "execution_count": 108
        }
      ]
    },
    {
      "cell_type": "markdown",
      "source": [
        "## 형변환"
      ],
      "metadata": {
        "id": "W3jAv1UZUwV_"
      }
    },
    {
      "cell_type": "code",
      "source": [
        "x = int(input())\n",
        "x + x # 그러나 알파벳 입력하면 error"
      ],
      "metadata": {
        "id": "cIs1yCOpUfR-"
      },
      "execution_count": null,
      "outputs": []
    },
    {
      "cell_type": "code",
      "source": [
        "x = input()\n",
        "if x.isdigit():\n",
        "    x = int(x)\n",
        "\n",
        "x + x "
      ],
      "metadata": {
        "colab": {
          "base_uri": "https://localhost:8080/"
        },
        "id": "RZdvzB0oU7cr",
        "outputId": "0cdc35e9-4671-4e7a-c4a3-4d69e707b02f"
      },
      "execution_count": null,
      "outputs": [
        {
          "name": "stdout",
          "output_type": "stream",
          "text": [
            "10\n"
          ]
        },
        {
          "output_type": "execute_result",
          "data": {
            "text/plain": [
              "20"
            ]
          },
          "metadata": {},
          "execution_count": 111
        }
      ]
    },
    {
      "cell_type": "code",
      "source": [
        "int('abc') # error\n",
        "int(10.1) # 버림\n",
        "int('10') # 형변환 가능\n",
        "int('10.1') # 형변환 불가능"
      ],
      "metadata": {
        "id": "S0Oh5RgfVRth"
      },
      "execution_count": null,
      "outputs": []
    },
    {
      "cell_type": "code",
      "source": [
        "float('10') # 형변환 가능\n",
        "float('10.1') # 형변환 가능"
      ],
      "metadata": {
        "colab": {
          "base_uri": "https://localhost:8080/"
        },
        "id": "bceRBTkyVoTM",
        "outputId": "1032c472-724f-4f24-d534-802776608730"
      },
      "execution_count": null,
      "outputs": [
        {
          "output_type": "execute_result",
          "data": {
            "text/plain": [
              "10.1"
            ]
          },
          "metadata": {},
          "execution_count": 113
        }
      ]
    },
    {
      "cell_type": "code",
      "source": [
        "int('10a') # 되는 언어가 있지만 Python은 아님 안 해줌"
      ],
      "metadata": {
        "id": "9dogC-yUV7c0"
      },
      "execution_count": null,
      "outputs": []
    },
    {
      "cell_type": "code",
      "source": [
        "def hello():\n",
        "    pass\n",
        "\n",
        "str(type)\n",
        "str(hello)\n",
        "\n",
        "str('123')\n",
        "str(True)\n",
        "str(None)\n",
        "str([1, 2, 3])\n",
        "str({1, 2, 3})\n",
        "str({'one':1, 'two':2})"
      ],
      "metadata": {
        "colab": {
          "base_uri": "https://localhost:8080/",
          "height": 36
        },
        "id": "8fDU96n2WErU",
        "outputId": "a8da66c2-131d-4777-b257-b1096599980c"
      },
      "execution_count": null,
      "outputs": [
        {
          "output_type": "execute_result",
          "data": {
            "text/plain": [
              "\"{'one': 1, 'two': 2}\""
            ],
            "application/vnd.google.colaboratory.intrinsic+json": {
              "type": "string"
            }
          },
          "metadata": {},
          "execution_count": 122
        }
      ]
    },
    {
      "cell_type": "code",
      "source": [
        "# 별 5개\n",
        "# bool 형으로 형변환 하는 것\n",
        "if 'hello':\n",
        "    print('hi')\n",
        "\n",
        "if True:\n",
        "    print('hi')\n",
        "\n",
        "# 정말 많이 사용하는 코드\n",
        "l = [1, 2, 3]\n",
        "while l :\n",
        "    print(l.pop())\n",
        "\n",
        "bool('') # 빈 문자열을 제외하고 모두 True\n",
        "bool('a')\n",
        "bool('False') # 문자열이 False이기 때문에 True\n",
        "bool(0) # 0을 제외하고 모두 True\n",
        "bool(-1) # 당연히 True\n",
        "bool(None) # None은 비어있음을 명시해주는 키워드. False\n",
        "bool([]) # 컨벤션 자료형은 비어있으면 False\n",
        "bool({})"
      ],
      "metadata": {
        "colab": {
          "base_uri": "https://localhost:8080/"
        },
        "id": "Z_IzxFmFWR2H",
        "outputId": "3a61e6dc-d558-4f45-9324-f752dcc7ebc4"
      },
      "execution_count": null,
      "outputs": [
        {
          "output_type": "stream",
          "name": "stdout",
          "text": [
            "hi\n",
            "hi\n"
          ]
        },
        {
          "output_type": "execute_result",
          "data": {
            "text/plain": [
              "True"
            ]
          },
          "metadata": {},
          "execution_count": 126
        }
      ]
    },
    {
      "cell_type": "code",
      "source": [
        "# list로 형변환\n",
        "s = '10'\n",
        "l = list(s)\n",
        "l"
      ],
      "metadata": {
        "colab": {
          "base_uri": "https://localhost:8080/"
        },
        "id": "svihCqv-o8H6",
        "outputId": "6e755ffb-2fa5-48b8-9c4d-78622ea446f6"
      },
      "execution_count": null,
      "outputs": [
        {
          "output_type": "execute_result",
          "data": {
            "text/plain": [
              "['1', '0']"
            ]
          },
          "metadata": {},
          "execution_count": 128
        }
      ]
    },
    {
      "cell_type": "code",
      "source": [
        "s = 'leehojun'\n",
        "l = list(s)\n",
        "l"
      ],
      "metadata": {
        "colab": {
          "base_uri": "https://localhost:8080/"
        },
        "id": "gllikXuEps2c",
        "outputId": "e9775bf9-4c99-4fc7-cb88-af6f78abc573"
      },
      "execution_count": null,
      "outputs": [
        {
          "output_type": "execute_result",
          "data": {
            "text/plain": [
              "['l', 'e', 'e', 'h', 'o', 'j', 'u', 'n']"
            ]
          },
          "metadata": {},
          "execution_count": 129
        }
      ]
    },
    {
      "cell_type": "code",
      "source": [
        "# tuple로 형변환\n",
        "s = 'leehojun'\n",
        "l = tuple(s)\n",
        "l"
      ],
      "metadata": {
        "colab": {
          "base_uri": "https://localhost:8080/"
        },
        "id": "4cy-l_0npw61",
        "outputId": "006a624e-fdf0-4529-d01f-d33f6a74c997"
      },
      "execution_count": null,
      "outputs": [
        {
          "output_type": "execute_result",
          "data": {
            "text/plain": [
              "('l', 'e', 'e', 'h', 'o', 'j', 'u', 'n')"
            ]
          },
          "metadata": {},
          "execution_count": 130
        }
      ]
    },
    {
      "cell_type": "code",
      "source": [
        "# dict\n",
        "# name = 'leehojun' # error 단순 문자열은 불가능\n",
        "# dict(name)\n",
        "\n",
        "s = [('name', 'leehojun'),('age',10)]\n",
        "d = dict(s)\n",
        "d"
      ],
      "metadata": {
        "colab": {
          "base_uri": "https://localhost:8080/"
        },
        "id": "vJuDVHBsp7-L",
        "outputId": "19ba1f69-ded0-497a-cd57-a0525169a343"
      },
      "execution_count": null,
      "outputs": [
        {
          "output_type": "execute_result",
          "data": {
            "text/plain": [
              "{'name': 'leehojun', 'age': 10}"
            ]
          },
          "metadata": {},
          "execution_count": 131
        }
      ]
    },
    {
      "cell_type": "code",
      "source": [
        "# set(집합)으로 형변환 / 중복을 제거하고 변환\n",
        "name = 'leehojun'\n",
        "set(name)"
      ],
      "metadata": {
        "colab": {
          "base_uri": "https://localhost:8080/"
        },
        "id": "zdAC5ovcqQOU",
        "outputId": "d87c9245-9a6e-44f0-a062-777258865515"
      },
      "execution_count": null,
      "outputs": [
        {
          "output_type": "execute_result",
          "data": {
            "text/plain": [
              "{'e', 'h', 'j', 'l', 'n', 'o', 'u'}"
            ]
          },
          "metadata": {},
          "execution_count": 132
        }
      ]
    },
    {
      "cell_type": "code",
      "source": [
        "len('hello world') # __len__\n",
        "len([1, 2, 3, 4])"
      ],
      "metadata": {
        "colab": {
          "base_uri": "https://localhost:8080/"
        },
        "id": "SLExbwuqqYPs",
        "outputId": "eee0ab3a-93c4-418b-e9ea-315061ac9148"
      },
      "execution_count": null,
      "outputs": [
        {
          "output_type": "execute_result",
          "data": {
            "text/plain": [
              "4"
            ]
          },
          "metadata": {},
          "execution_count": 134
        }
      ]
    },
    {
      "cell_type": "markdown",
      "source": [
        "## !! 문제풀이"
      ],
      "metadata": {
        "id": "jINIOKVGqHZb"
      }
    },
    {
      "cell_type": "code",
      "source": [
        "# 다음 파이썬 문법 중 틀린 것을 골라주세요.(3개)\n",
        "\n",
        "# 1번\n",
        "# print = 100\n",
        "\n",
        "# 2번\n",
        "# 10 = a\n",
        "\n",
        "\n",
        "#4번\n",
        "# 100k = 10000\n",
        "\n"
      ],
      "metadata": {
        "id": "O7qUKQ8bsepf"
      },
      "execution_count": null,
      "outputs": []
    },
    {
      "cell_type": "code",
      "source": [
        "# 2번\n",
        "a = input()\n",
        "print(a*2)"
      ],
      "metadata": {
        "colab": {
          "base_uri": "https://localhost:8080/"
        },
        "id": "0cUI0OkQq9On",
        "outputId": "ce050a63-ca84-41ef-b0b2-97870e09ccaf"
      },
      "execution_count": null,
      "outputs": [
        {
          "output_type": "stream",
          "name": "stdout",
          "text": [
            "abc\n",
            "abcabc\n"
          ]
        }
      ]
    },
    {
      "cell_type": "code",
      "source": [
        "# 3번\n",
        "# num = 1234567890\n",
        "# num_str = str(num)\n",
        "# list(num_str)[3]\n",
        "num = 1234567890\n",
        "list(str(num))\n",
        "list(str(num))[3]"
      ],
      "metadata": {
        "colab": {
          "base_uri": "https://localhost:8080/",
          "height": 36
        },
        "id": "TTthBWnurTg-",
        "outputId": "b0809286-15c2-48f2-8547-5cdb55b07f61"
      },
      "execution_count": null,
      "outputs": [
        {
          "output_type": "execute_result",
          "data": {
            "text/plain": [
              "'4'"
            ],
            "application/vnd.google.colaboratory.intrinsic+json": {
              "type": "string"
            }
          },
          "metadata": {},
          "execution_count": 139
        }
      ]
    },
    {
      "cell_type": "markdown",
      "source": [
        "## 산술연산"
      ],
      "metadata": {
        "id": "VysOZdOytH2F"
      }
    },
    {
      "cell_type": "code",
      "source": [
        "a = 10\n",
        "b = 3\n",
        "\n",
        "print(f'10 + 3 == {a + b}')\n",
        "print(f'10 - 3 == {a - b}')\n",
        "print(f'10 / 3 == {a / b}')\n",
        "print(f'10 // 3 == {a // b}')  # 몫만 나온다 / 정수만 나옴\n",
        "print(f'10 * 3 == {a * b}')\n",
        "print(f'10 ** 3 == {a ** b}')\n",
        "print(f'10 % 3 == {a % b}')  # 나머지만 출력"
      ],
      "metadata": {
        "colab": {
          "base_uri": "https://localhost:8080/"
        },
        "id": "ltKndlR3sMOo",
        "outputId": "76a4cfc7-2845-4633-bf73-362a0314adae"
      },
      "execution_count": null,
      "outputs": [
        {
          "output_type": "stream",
          "name": "stdout",
          "text": [
            "10 + 3 == 13\n",
            "10 - 3 == 7\n",
            "10 / 3 == 3.3333333333333335\n",
            "10 // 3 == 3\n",
            "10 * 3 == 30\n",
            "10 ** 3 == 1000\n",
            "10 % 3 == 1\n"
          ]
        }
      ]
    },
    {
      "cell_type": "code",
      "source": [
        "# 연산자 우선순위는 and, or, 4칙연산, 제곱 정도만 알아도 됨\n",
        "# 모르면 코드 읽기 어려움\n",
        "\n",
        "print(3 ** 2 * 3 )\n",
        "print(3 * 3 ** 2 )  # 왜 81이 아니지?\n",
        "# 곱하기보다 제곱이 연산자 우선순위가 더 높다\n",
        "print(3 + 3 * 2)  # 3 + 3부터 먼저 하지 않는다"
      ],
      "metadata": {
        "colab": {
          "base_uri": "https://localhost:8080/"
        },
        "id": "HjbueOpWtX1V",
        "outputId": "35b1648b-229a-4d81-ba80-655453ed56ea"
      },
      "execution_count": null,
      "outputs": [
        {
          "output_type": "stream",
          "name": "stdout",
          "text": [
            "27\n",
            "27\n",
            "9\n"
          ]
        }
      ]
    },
    {
      "cell_type": "code",
      "source": [
        "a = 10\n",
        "b = 3\n",
        "\n",
        "print(f'10 > 3 == {a > b}')\n",
        "print(f'10 >= 3 == {a >= b}')\n",
        "print(f'10 < 3 == {a < b}')\n",
        "print(f'10 <= 3 == {a <= b}')\n",
        "print(f'10 == 3 == {a == b}')\n",
        "print(f'10 != 3 == {a != b}')"
      ],
      "metadata": {
        "colab": {
          "base_uri": "https://localhost:8080/"
        },
        "id": "5qoewejPuAht",
        "outputId": "0df23337-d0d1-44b5-d20e-e8782847a4a1"
      },
      "execution_count": null,
      "outputs": [
        {
          "output_type": "stream",
          "name": "stdout",
          "text": [
            "10 > 3 == True\n",
            "10 >= 3 == True\n",
            "10 < 3 == False\n",
            "10 <= 3 == False\n",
            "10 == 3 == False\n",
            "10 != 3 == True\n"
          ]
        }
      ]
    },
    {
      "cell_type": "markdown",
      "source": [
        "## 논리연산\n"
      ],
      "metadata": {
        "id": "FMplwcH-vSMP"
      }
    },
    {
      "cell_type": "code",
      "source": [
        "# and 는 곱\n",
        "# or 는 합\n",
        "# not 은 반대\n",
        "# True 1\n",
        "# False 0\n",
        "# 중요한 포인트는 저렇게 했을 때 언제 True가 되는지 정리하는 것\n",
        "\n",
        "print(True and False) \n",
        "print(True or False) \n",
        "print(True or True) \n",
        "\n",
        "if True and False:\n",
        "    print('hello')\n",
        "\n",
        "if 10 > 3 and 8 % 3 == 0:\n",
        "    print('hello')\n",
        "\n",
        "# and는 언제 True가 되나요?\n",
        "# 모두 True일 때만 True\n",
        "# or는 언제 True가 되나요?\n",
        "# 들 증에 하나라도 참이라면 True"
      ],
      "metadata": {
        "colab": {
          "base_uri": "https://localhost:8080/"
        },
        "id": "7glC6J9pvIfE",
        "outputId": "c1950881-cc0c-4f68-928c-85703c294f06"
      },
      "execution_count": null,
      "outputs": [
        {
          "output_type": "stream",
          "name": "stdout",
          "text": [
            "False\n",
            "True\n",
            "True\n"
          ]
        }
      ]
    },
    {
      "cell_type": "code",
      "source": [
        "# https://codingdojang.com/scode/350?answer_mode=hide\n",
        "for i in range(101):\n",
        "    if i % 3 == 0 and i % 5 == 0:\n",
        "        print(i)"
      ],
      "metadata": {
        "colab": {
          "base_uri": "https://localhost:8080/"
        },
        "id": "uT-RZ09NwLdk",
        "outputId": "93ad4469-2c73-412d-9e79-4156c48daef0"
      },
      "execution_count": null,
      "outputs": [
        {
          "output_type": "stream",
          "name": "stdout",
          "text": [
            "0\n",
            "15\n",
            "30\n",
            "45\n",
            "60\n",
            "75\n",
            "90\n"
          ]
        }
      ]
    },
    {
      "cell_type": "code",
      "source": [
        "for i in range(101):\n",
        "    if i % 3 == 0 or i % 5 == 0:\n",
        "        print(i)"
      ],
      "metadata": {
        "colab": {
          "base_uri": "https://localhost:8080/"
        },
        "id": "5iWRFNHQxe0K",
        "outputId": "b9e413bc-fab4-448c-d0f9-ff820f4591cb"
      },
      "execution_count": null,
      "outputs": [
        {
          "output_type": "stream",
          "name": "stdout",
          "text": [
            "0\n",
            "3\n",
            "5\n",
            "6\n",
            "9\n",
            "10\n",
            "12\n",
            "15\n",
            "18\n",
            "20\n",
            "21\n",
            "24\n",
            "25\n",
            "27\n",
            "30\n",
            "33\n",
            "35\n",
            "36\n",
            "39\n",
            "40\n",
            "42\n",
            "45\n",
            "48\n",
            "50\n",
            "51\n",
            "54\n",
            "55\n",
            "57\n",
            "60\n",
            "63\n",
            "65\n",
            "66\n",
            "69\n",
            "70\n",
            "72\n",
            "75\n",
            "78\n",
            "80\n",
            "81\n",
            "84\n",
            "85\n",
            "87\n",
            "90\n",
            "93\n",
            "95\n",
            "96\n",
            "99\n",
            "100\n"
          ]
        }
      ]
    },
    {
      "cell_type": "code",
      "source": [
        "# 3과 5의 배수를 모두 합한 값 구하기\n",
        "result = 0\n",
        "for i in range(101):\n",
        "    if i % 3 ==0 or i % 5 ==0:\n",
        "        result = result + i\n",
        "result"
      ],
      "metadata": {
        "colab": {
          "base_uri": "https://localhost:8080/"
        },
        "id": "HA9g35DRxhn4",
        "outputId": "3e750490-d393-426d-9182-ff0ab208538a"
      },
      "execution_count": null,
      "outputs": [
        {
          "output_type": "execute_result",
          "data": {
            "text/plain": [
              "2418"
            ]
          },
          "metadata": {},
          "execution_count": 151
        }
      ]
    },
    {
      "cell_type": "code",
      "source": [
        "# or을 쓰지 않았을 때\n",
        "result = 0\n",
        "for i in range(101):\n",
        "    if i % 3 ==0:\n",
        "        result += i\n",
        "    if i % 5 ==0:\n",
        "        result += i\n",
        "    if i % 15 ==0:\n",
        "        result -= i \n",
        "print(result)"
      ],
      "metadata": {
        "colab": {
          "base_uri": "https://localhost:8080/"
        },
        "id": "QZCwYasxyHHz",
        "outputId": "9fedbea5-23f7-4602-b678-bd52e65339bc"
      },
      "execution_count": null,
      "outputs": [
        {
          "output_type": "stream",
          "name": "stdout",
          "text": [
            "2418\n"
          ]
        }
      ]
    },
    {
      "cell_type": "code",
      "source": [
        "not True"
      ],
      "metadata": {
        "colab": {
          "base_uri": "https://localhost:8080/"
        },
        "id": "8GMUeJhBxzs6",
        "outputId": "81fc2bd1-1c9b-4d8e-def9-b8aac6f8ea06"
      },
      "execution_count": null,
      "outputs": [
        {
          "output_type": "execute_result",
          "data": {
            "text/plain": [
              "False"
            ]
          },
          "metadata": {},
          "execution_count": 153
        }
      ]
    },
    {
      "cell_type": "code",
      "source": [
        "not False"
      ],
      "metadata": {
        "colab": {
          "base_uri": "https://localhost:8080/"
        },
        "id": "vcibHTRJykfI",
        "outputId": "c68fd5b7-452d-4326-ac8c-e8b0122ec3a4"
      },
      "execution_count": null,
      "outputs": [
        {
          "output_type": "execute_result",
          "data": {
            "text/plain": [
              "True"
            ]
          },
          "metadata": {},
          "execution_count": 154
        }
      ]
    },
    {
      "cell_type": "code",
      "source": [
        "# python 입장에서 보는 코드\n",
        "# False and ????? => 물음표에 무엇이 나오든 False\n",
        "# 그래서 Python도 저 물음표를 보지 않는다.\n",
        "def solution():\n",
        "    1/0\n",
        "\n",
        "if False and solution():\n",
        "    print('hello')\n"
      ],
      "metadata": {
        "id": "vkOv8ZF-ylvp"
      },
      "execution_count": null,
      "outputs": []
    },
    {
      "cell_type": "code",
      "source": [
        "# True or ????? => 물음표에 무엇이 나오든 True\n",
        "# 그래서 Python도 저 물음표를 보지 않는다.\n",
        "def solution():\n",
        "    1/0\n",
        "\n",
        "if True or solution():\n",
        "    print('hello')"
      ],
      "metadata": {
        "colab": {
          "base_uri": "https://localhost:8080/"
        },
        "id": "I2PAgomQ1fI7",
        "outputId": "4f7865ae-8516-4522-962e-2118d679ae2e"
      },
      "execution_count": null,
      "outputs": [
        {
          "output_type": "stream",
          "name": "stdout",
          "text": [
            "hello\n"
          ]
        }
      ]
    },
    {
      "cell_type": "code",
      "source": [
        "# 단락 평가(컴퓨터가 어디까지 보는 지 판단해서 활용)\n",
        "username = ''  # 사용자가 아무것도 입력하지 않았을 경우\n",
        "username = username or 'licat'\n",
        "username # or 뒤를 봐야하기 때문에 username은 licat"
      ],
      "metadata": {
        "colab": {
          "base_uri": "https://localhost:8080/",
          "height": 36
        },
        "id": "yTzSmDml2DEA",
        "outputId": "86d87840-5ccf-43b4-d64a-f17cf7db0960"
      },
      "execution_count": null,
      "outputs": [
        {
          "output_type": "execute_result",
          "data": {
            "text/plain": [
              "'licat'"
            ],
            "application/vnd.google.colaboratory.intrinsic+json": {
              "type": "string"
            }
          },
          "metadata": {},
          "execution_count": 158
        }
      ]
    },
    {
      "cell_type": "code",
      "source": [
        "username = 'leehojun'  # 사용자가 아무것도 입력했을 경우\n",
        "username = username or 'licat'\n",
        "username # 사용자가 값을 입력했을 경우 그 입력값이 나온다"
      ],
      "metadata": {
        "colab": {
          "base_uri": "https://localhost:8080/",
          "height": 36
        },
        "id": "uLqcqURJ2iHo",
        "outputId": "59707538-59f9-4129-e1e8-d7ec4377ed35"
      },
      "execution_count": null,
      "outputs": [
        {
          "output_type": "execute_result",
          "data": {
            "text/plain": [
              "'leehojun'"
            ],
            "application/vnd.google.colaboratory.intrinsic+json": {
              "type": "string"
            }
          },
          "metadata": {},
          "execution_count": 159
        }
      ]
    },
    {
      "cell_type": "code",
      "source": [
        "# and와 or의 우선순위 (and가 더 높다)\n",
        "for i in range(11):\n",
        "    if i % 3 == 0 and i % 5 == 0 or i % 2 == 0:\n",
        "        print(i)\n",
        "\n",
        "for i in range(11):\n",
        "    if (i % 3 == 0 and i % 5 == 0) or i % 2 == 0:\n",
        "        print(i)"
      ],
      "metadata": {
        "colab": {
          "base_uri": "https://localhost:8080/"
        },
        "id": "SwXmHBEw2pOf",
        "outputId": "5d75b26c-1df7-4644-c042-7dfd4a297476"
      },
      "execution_count": null,
      "outputs": [
        {
          "output_type": "stream",
          "name": "stdout",
          "text": [
            "0\n",
            "2\n",
            "4\n",
            "6\n",
            "8\n",
            "10\n",
            "0\n",
            "2\n",
            "4\n",
            "6\n",
            "8\n",
            "10\n"
          ]
        }
      ]
    },
    {
      "cell_type": "code",
      "source": [
        "# and가 or보다 우선순위가 높지만 괄효로 묶으면 강제로 먼저 돌아감\n",
        "# 헷갈리면 괄호를 사용하면 된다\n",
        "for i in range(11):\n",
        "    if (i % 3 == 0 or i % 5 == 0) and i % 2 == 0:\n",
        "        print(i)\n",
        "\n",
        "for i in range(11):\n",
        "    if i % 3 == 0 or i % 5 == 0 and i % 2 == 0:\n",
        "        print(i)"
      ],
      "metadata": {
        "colab": {
          "base_uri": "https://localhost:8080/"
        },
        "id": "0pahUFeR3B-J",
        "outputId": "f797d6ad-b17e-4cc6-bc9e-b7e8acf942ae"
      },
      "execution_count": null,
      "outputs": [
        {
          "output_type": "stream",
          "name": "stdout",
          "text": [
            "0\n",
            "3\n",
            "6\n",
            "9\n",
            "10\n",
            "0\n",
            "3\n",
            "6\n",
            "9\n",
            "10\n"
          ]
        }
      ]
    },
    {
      "cell_type": "markdown",
      "source": [
        "## 비트연산 (중요도 - 하)"
      ],
      "metadata": {
        "id": "dR2sy5m14EPk"
      }
    },
    {
      "cell_type": "code",
      "source": [
        "# and (곱하기)\n",
        "# 1001 == 9\n",
        "# 0010 == 2\n",
        "# ----\n",
        "# 0000"
      ],
      "metadata": {
        "id": "7zs_tvd73N90"
      },
      "execution_count": null,
      "outputs": []
    },
    {
      "cell_type": "code",
      "source": [
        "9 & 2"
      ],
      "metadata": {
        "colab": {
          "base_uri": "https://localhost:8080/"
        },
        "id": "lDv-G3tQ4p8G",
        "outputId": "af68aa8b-9cdf-41d1-ebb7-e81d8410c89e"
      },
      "execution_count": null,
      "outputs": [
        {
          "output_type": "execute_result",
          "data": {
            "text/plain": [
              "0"
            ]
          },
          "metadata": {},
          "execution_count": 164
        }
      ]
    },
    {
      "cell_type": "code",
      "source": [
        "# and (곱하기)\n",
        "# 1001 == 9\n",
        "# 1000 == 8\n",
        "# ----\n",
        "# 1000"
      ],
      "metadata": {
        "id": "SiYDKOAA5NQo"
      },
      "execution_count": null,
      "outputs": []
    },
    {
      "cell_type": "code",
      "source": [
        "9 & 8"
      ],
      "metadata": {
        "colab": {
          "base_uri": "https://localhost:8080/"
        },
        "id": "uE9uJsag4r64",
        "outputId": "597d47e7-4bb4-4046-f84c-2338ff66c5d3"
      },
      "execution_count": null,
      "outputs": [
        {
          "output_type": "execute_result",
          "data": {
            "text/plain": [
              "8"
            ]
          },
          "metadata": {},
          "execution_count": 165
        }
      ]
    },
    {
      "cell_type": "code",
      "source": [
        "# or (더하기 / 대신 자리올림이 되진 않는다)\n",
        "# 1001 == 9\n",
        "# 0011 == 3\n",
        "# ----\n",
        "# 1011\n",
        "\n",
        "9 | 3"
      ],
      "metadata": {
        "colab": {
          "base_uri": "https://localhost:8080/"
        },
        "id": "3e5IkpF15d-5",
        "outputId": "6baa79b5-7f33-41c3-9353-cd63edf67ac0"
      },
      "execution_count": null,
      "outputs": [
        {
          "output_type": "execute_result",
          "data": {
            "text/plain": [
              "11"
            ]
          },
          "metadata": {},
          "execution_count": 166
        }
      ]
    },
    {
      "cell_type": "code",
      "source": [
        "# xor (같을 경우 0, 다를 경우 1)\n",
        "# 1001 == 9\n",
        "# 0011 == 3\n",
        "# ----\n",
        "# 1010\n",
        "9 ^ 3"
      ],
      "metadata": {
        "colab": {
          "base_uri": "https://localhost:8080/"
        },
        "id": "XKX-4S2c5xuv",
        "outputId": "a727e3d9-d2fd-4dca-a08f-f48d98acac3e"
      },
      "execution_count": null,
      "outputs": [
        {
          "output_type": "execute_result",
          "data": {
            "text/plain": [
              "10"
            ]
          },
          "metadata": {},
          "execution_count": 167
        }
      ]
    },
    {
      "cell_type": "code",
      "source": [
        "~ 9  # 2보수를 취하는 것 / 9에게 +1한 다음에 -를 취하면 됨\n",
        "~ -7 # 2보수를 취하는 것 / -7에게 +1한 다음에 -를 취하면 됨"
      ],
      "metadata": {
        "colab": {
          "base_uri": "https://localhost:8080/"
        },
        "id": "PGhOYjcy6MFd",
        "outputId": "0216c452-a30a-4ce6-deb7-ba37f4882faa"
      },
      "execution_count": null,
      "outputs": [
        {
          "output_type": "execute_result",
          "data": {
            "text/plain": [
              "6"
            ]
          },
          "metadata": {},
          "execution_count": 169
        }
      ]
    },
    {
      "cell_type": "code",
      "source": [
        "3 << 2  \n",
        "# 3을 2진수로 표현하면 11인데 2칸을 왼쪽으로 미는 것\n",
        "# 1100 -> 11이 왼쪽으로 2칸 밀려서 빈자리에 00이 들어옴"
      ],
      "metadata": {
        "colab": {
          "base_uri": "https://localhost:8080/"
        },
        "id": "0kIQScjw6RBd",
        "outputId": "c8c9ed59-0c5e-4d90-e0df-946898a5ec06"
      },
      "execution_count": null,
      "outputs": [
        {
          "output_type": "execute_result",
          "data": {
            "text/plain": [
              "12"
            ]
          },
          "metadata": {},
          "execution_count": 170
        }
      ]
    },
    {
      "cell_type": "code",
      "source": [
        "7 >> 2"
      ],
      "metadata": {
        "colab": {
          "base_uri": "https://localhost:8080/"
        },
        "id": "D2Nt7sJV7n7u",
        "outputId": "d0b2308f-7950-4a2b-e4d8-105882e54ae5"
      },
      "execution_count": null,
      "outputs": [
        {
          "output_type": "execute_result",
          "data": {
            "text/plain": [
              "1"
            ]
          },
          "metadata": {},
          "execution_count": 171
        }
      ]
    },
    {
      "cell_type": "markdown",
      "source": [
        "## 디스코드 단축키 \n"
      ],
      "metadata": {
        "id": "R1gJGLl27JXN"
      }
    },
    {
      "cell_type": "markdown",
      "source": [
        "* :ok"
      ],
      "metadata": {
        "id": "Dp90Qx2s7-M8"
      }
    },
    {
      "cell_type": "markdown",
      "source": [
        "## 할당연산"
      ],
      "metadata": {
        "id": "mMJ9VeiP74JU"
      }
    },
    {
      "cell_type": "code",
      "source": [
        "# a = 10\n",
        "# a = a +10 이걸 줄이기 위해\n",
        "a = + 10  # 이렇게 a를 비우면 양수를 표현하는 10만 남는다\n",
        "a"
      ],
      "metadata": {
        "colab": {
          "base_uri": "https://localhost:8080/"
        },
        "id": "4opKjE8j7IC1",
        "outputId": "64e9b6d2-4a47-4dda-ba8a-4fdcc72715c0"
      },
      "execution_count": null,
      "outputs": [
        {
          "output_type": "execute_result",
          "data": {
            "text/plain": [
              "10"
            ]
          },
          "metadata": {},
          "execution_count": 172
        }
      ]
    },
    {
      "cell_type": "code",
      "source": [
        "a = 10\n",
        "a += 10  # a = a + 10\n",
        "a"
      ],
      "metadata": {
        "colab": {
          "base_uri": "https://localhost:8080/"
        },
        "id": "xm0xyqeZ8euV",
        "outputId": "799b6408-ac93-417b-d75a-c7147df2f94c"
      },
      "execution_count": null,
      "outputs": [
        {
          "output_type": "execute_result",
          "data": {
            "text/plain": [
              "20"
            ]
          },
          "metadata": {},
          "execution_count": 173
        }
      ]
    },
    {
      "cell_type": "code",
      "source": [
        "a = 10\n",
        "a //= 10  # 산술연산 모두 가능\n",
        "a"
      ],
      "metadata": {
        "colab": {
          "base_uri": "https://localhost:8080/"
        },
        "id": "b6dODj_G8l6t",
        "outputId": "c54137f5-27ab-416e-8611-ae5c41966334"
      },
      "execution_count": null,
      "outputs": [
        {
          "output_type": "execute_result",
          "data": {
            "text/plain": [
              "1"
            ]
          },
          "metadata": {},
          "execution_count": 175
        }
      ]
    },
    {
      "cell_type": "code",
      "source": [
        "# Python에서는 특이하게 ++a, ++b, a++, b++가 없다."
      ],
      "metadata": {
        "id": "gkBlQxwQ9EmM"
      },
      "execution_count": null,
      "outputs": []
    },
    {
      "cell_type": "markdown",
      "source": [
        "## 식별연산"
      ],
      "metadata": {
        "id": "FKoO3lVe9m7F"
      }
    },
    {
      "cell_type": "code",
      "source": [
        "# 앞으로 아래 2개를 활용해서 python에\n",
        "# 컨벤션 자료형이 어떻게 구성되는지 확인해볼거임\n",
        "# id()\n",
        "# is"
      ],
      "metadata": {
        "id": "ktOIpz9f9f6a"
      },
      "execution_count": null,
      "outputs": []
    },
    {
      "cell_type": "code",
      "source": [
        "a = 256\n",
        "b = 256\n",
        "a is b"
      ],
      "metadata": {
        "colab": {
          "base_uri": "https://localhost:8080/"
        },
        "id": "zQ4ttTL294I-",
        "outputId": "378ba9cc-23aa-4c79-df75-021fcd5fa145"
      },
      "execution_count": null,
      "outputs": [
        {
          "output_type": "execute_result",
          "data": {
            "text/plain": [
              "True"
            ]
          },
          "metadata": {},
          "execution_count": 178
        }
      ]
    },
    {
      "cell_type": "code",
      "source": [
        "a = 999\n",
        "b = 999\n",
        "a is b"
      ],
      "metadata": {
        "colab": {
          "base_uri": "https://localhost:8080/"
        },
        "id": "KoaNA2r_97wz",
        "outputId": "3be52c96-c7ac-44f8-c116-0bf949e44b03"
      },
      "execution_count": null,
      "outputs": [
        {
          "output_type": "execute_result",
          "data": {
            "text/plain": [
              "False"
            ]
          },
          "metadata": {},
          "execution_count": 179
        }
      ]
    },
    {
      "cell_type": "code",
      "source": [
        "a = [1, 2, 3]\n",
        "b = [1, 2, 3]\n",
        "a is b"
      ],
      "metadata": {
        "colab": {
          "base_uri": "https://localhost:8080/"
        },
        "id": "FnMOHgkv-AXV",
        "outputId": "00c3c725-93eb-4499-c061-1b2402bb5d1f"
      },
      "execution_count": null,
      "outputs": [
        {
          "output_type": "execute_result",
          "data": {
            "text/plain": [
              "False"
            ]
          },
          "metadata": {},
          "execution_count": 180
        }
      ]
    },
    {
      "cell_type": "code",
      "source": [
        "a[0] = 100\n",
        "a,b"
      ],
      "metadata": {
        "colab": {
          "base_uri": "https://localhost:8080/"
        },
        "id": "JaZvFsML-uMO",
        "outputId": "819819c6-8aac-4c82-c7d7-1513adcb54bb"
      },
      "execution_count": null,
      "outputs": [
        {
          "output_type": "execute_result",
          "data": {
            "text/plain": [
              "([100, 2, 3], [1, 2, 3])"
            ]
          },
          "metadata": {},
          "execution_count": 182
        }
      ]
    },
    {
      "cell_type": "code",
      "source": [
        "a = [1, 2, 3]\n",
        "b = [1, 2, 3]\n",
        "a == b  # Python에 등호는 type과 value를 본다"
      ],
      "metadata": {
        "colab": {
          "base_uri": "https://localhost:8080/"
        },
        "id": "nId8u-tp-EEu",
        "outputId": "99e42767-2cab-45b0-bb3b-38db3addd3c0"
      },
      "execution_count": null,
      "outputs": [
        {
          "output_type": "execute_result",
          "data": {
            "text/plain": [
              "True"
            ]
          },
          "metadata": {},
          "execution_count": 183
        }
      ]
    },
    {
      "cell_type": "code",
      "source": [
        "# is는 주소값을 비교한다\n",
        "id(a) == id(b)  # 이게 False면 is도 False가 나온다"
      ],
      "metadata": {
        "colab": {
          "base_uri": "https://localhost:8080/"
        },
        "id": "u6i3_gHq_SV5",
        "outputId": "9796f7ac-5fdf-4583-f425-b45023556f17"
      },
      "execution_count": null,
      "outputs": [
        {
          "output_type": "execute_result",
          "data": {
            "text/plain": [
              "False"
            ]
          },
          "metadata": {},
          "execution_count": 184
        }
      ]
    },
    {
      "cell_type": "markdown",
      "source": [
        "## not의 위치"
      ],
      "metadata": {
        "id": "qskFKuBq-0sE"
      }
    },
    {
      "cell_type": "code",
      "source": [
        "a = 10\n",
        "b = 100\n",
        "a is not b\n",
        "# a not is b # error"
      ],
      "metadata": {
        "id": "qgz0cTX6-4G0"
      },
      "execution_count": null,
      "outputs": []
    },
    {
      "cell_type": "code",
      "source": [
        "a = 10\n",
        "b = [10, 20, 30]\n",
        "a not in b  # is와 in의 위치는 다르다"
      ],
      "metadata": {
        "colab": {
          "base_uri": "https://localhost:8080/"
        },
        "id": "heF7dqCZ_Ogn",
        "outputId": "3eb9d559-98e4-42c7-b9a6-616f2b891b3b"
      },
      "execution_count": null,
      "outputs": [
        {
          "output_type": "execute_result",
          "data": {
            "text/plain": [
              "False"
            ]
          },
          "metadata": {},
          "execution_count": 185
        }
      ]
    },
    {
      "cell_type": "markdown",
      "source": [
        "## 멤버연산"
      ],
      "metadata": {
        "id": "qC3Y3qw0_zaq"
      }
    },
    {
      "cell_type": "code",
      "source": [
        "'a' in 'helalo world'\n",
        "'a' in 'hello world'\n",
        "'a' in ['a', 'b']\n",
        "'a' in {'a':10, 'b':20}\n",
        "\n",
        "# 10 in {'a':10, 'b':20} \n",
        "# dict안에 있는 value값이 있는지 확인하고 싶으면 이렇게\n",
        "\n",
        "10 in {'a':10, 'b':20}.values()\n",
        "10 in {10, 20, 30}"
      ],
      "metadata": {
        "colab": {
          "base_uri": "https://localhost:8080/"
        },
        "id": "nCORYs-V_OaW",
        "outputId": "e6f84811-b2be-4265-a115-fbb8ce821c10"
      },
      "execution_count": null,
      "outputs": [
        {
          "output_type": "execute_result",
          "data": {
            "text/plain": [
              "True"
            ]
          },
          "metadata": {},
          "execution_count": 186
        }
      ]
    },
    {
      "cell_type": "code",
      "source": [
        "'a' not in ['aa', 'ab']"
      ],
      "metadata": {
        "colab": {
          "base_uri": "https://localhost:8080/"
        },
        "id": "SSBXLFdyAfGH",
        "outputId": "c7462e75-f942-49be-a1a3-0f54724fafa0"
      },
      "execution_count": null,
      "outputs": [
        {
          "output_type": "execute_result",
          "data": {
            "text/plain": [
              "True"
            ]
          },
          "metadata": {},
          "execution_count": 187
        }
      ]
    },
    {
      "cell_type": "code",
      "source": [
        "10 in [10, 20, 30]\n",
        "[10] in [10, 20, 30]\n",
        "[10] in [[10], 20, 30]\n",
        "[10, 20] in [10, 20, 30]\n",
        "[10, 20] in [[10, 20], 30]\n",
        "set([10,20]).issubset(set([10, 20, 30]))\n",
        "{10, 20}.issubset({10, 20, 30, 40})"
      ],
      "metadata": {
        "colab": {
          "base_uri": "https://localhost:8080/"
        },
        "id": "_r7HUMIMAnpQ",
        "outputId": "a52efe4f-6f15-4183-c6b6-cf9423e8028f"
      },
      "execution_count": null,
      "outputs": [
        {
          "output_type": "execute_result",
          "data": {
            "text/plain": [
              "True"
            ]
          },
          "metadata": {},
          "execution_count": 188
        }
      ]
    },
    {
      "cell_type": "markdown",
      "source": [
        "## !! 연습문제"
      ],
      "metadata": {
        "id": "LT6kRFZzEE1y"
      }
    },
    {
      "cell_type": "code",
      "source": [
        "# 1번\n",
        "\n",
        "a = 100\n",
        "print((a > 100) and (a < 200)) # False\n",
        "print((a > 100) or (a < 200)) # True\n",
        "print((a >= 100) and (a <= 200)) #True\n",
        "print((a >= 100) or (a <= 200)) #True\n"
      ],
      "metadata": {
        "colab": {
          "base_uri": "https://localhost:8080/"
        },
        "id": "bRy9PSsJEEDH",
        "outputId": "e08e4973-05ac-49d7-83dc-870cf7b0e887"
      },
      "execution_count": null,
      "outputs": [
        {
          "output_type": "stream",
          "name": "stdout",
          "text": [
            "False\n",
            "True\n",
            "True\n",
            "True\n"
          ]
        }
      ]
    },
    {
      "cell_type": "code",
      "source": [
        "# 2번\n",
        "b = 25\n",
        "(b % 2 == 0) and (b % 5 == 0)"
      ],
      "metadata": {
        "colab": {
          "base_uri": "https://localhost:8080/"
        },
        "id": "IbUOzzQxEJGg",
        "outputId": "a68f63b6-3a3d-4d76-931b-e488b3f84934"
      },
      "execution_count": null,
      "outputs": [
        {
          "output_type": "execute_result",
          "data": {
            "text/plain": [
              "False"
            ]
          },
          "metadata": {},
          "execution_count": 194
        }
      ]
    },
    {
      "cell_type": "code",
      "source": [
        "# 3번\n",
        "c = 1000\n",
        "# 결과값은 10입니다.\n",
        "c //= 100\n",
        "c"
      ],
      "metadata": {
        "colab": {
          "base_uri": "https://localhost:8080/"
        },
        "id": "V2ev_PeMEJ63",
        "outputId": "9dde080d-5021-4e18-ca2e-6e57a32396b3"
      },
      "execution_count": null,
      "outputs": [
        {
          "output_type": "execute_result",
          "data": {
            "text/plain": [
              "10"
            ]
          },
          "metadata": {},
          "execution_count": 196
        }
      ]
    },
    {
      "cell_type": "code",
      "source": [
        "# 4번\n",
        "# 그리디 알고리즘 (욕심쟁이 알고리즘)\n",
        "# (심화문제) 입력한 금액을 5000원, 1000원, 500원, 100원으로 교환하는 프로그램을 만들어주세요.\n",
        "남은금액 = int(input())\n",
        "\n",
        "오천원 = 남은금액 // 5000\n",
        "남은금액 = 남은금액 % 5000  # 남은금액 = 남은금액 - (5000 + 오천원) 같은 뜻\n",
        "\n",
        "천원 = 남은금액 // 1000\n",
        "남은금액 = 남은금액 % 1000\n",
        "\n",
        "오백원 = 남은금액 // 500\n",
        "남은금액 = 남은금액 % 500\n",
        "\n",
        "백원 = 남은금액 // 100\n",
        "남은금액 = 남은금액 % 100\n",
        "\n",
        "print(오천원, 천원, 오백원, 백원)"
      ],
      "metadata": {
        "colab": {
          "base_uri": "https://localhost:8080/"
        },
        "id": "s6ksrXCfEK0-",
        "outputId": "6f4b1d34-9814-45d1-dfe7-caf4a73f24a4"
      },
      "execution_count": null,
      "outputs": [
        {
          "output_type": "stream",
          "name": "stdout",
          "text": [
            "8800\n",
            "1 3 1 3\n"
          ]
        }
      ]
    },
    {
      "cell_type": "markdown",
      "source": [
        "## 오늘 배운 것 정리 (20230502)\n",
        "\n",
        "1. str\n",
        "    - 순서가 있는 **시퀀스 자료형**입니다.\n",
        "    - 작은 따옴표(' ')나 큰 따옴표(\" \"), 삼중따옴표('''str''', \"\"\"str\"\"\")로 감싸는 것도 가능합니다. (삼중따옴표를 사용할 경우에는 줄단위의 문자열을 나타낼 수 있습니다.)\n",
        "    - 작은 따옴표 안에 큰 따옴표, 큰 따옴표 안에 작은 따옴표 사용이 가능합니다.\n",
        "    - 이스케이프 문자도 사용이 가능합니다.\n",
        "    - 리스트, 튜플도 시퀀스 자료형입니다.\n",
        "    - 메서드\n",
        "        - lower\n",
        "        - index, find\n",
        "        - count\n",
        "        - strip\n",
        "        - replace\n",
        "        - split, join\n",
        "        - isdigit\n",
        "2. 슬라이싱\n",
        "    - 시퀀스형 자료형을 자를 수 있습니다.\n",
        "    - 형태\n",
        "    ```\n",
        "    # s[start:stop:step]\n",
        "    s = 'paullab CEO leehojun'\n",
        "    s[5:]\n",
        "    s[:5]\n",
        "    s[3:10]\n",
        "    s[:]\n",
        "    s[0:20:2]\n",
        "    # 자주 사용되는 코드\n",
        "    s = 'paullab CEO leehojun!'\n",
        "    s[:] # string에서는 많이 사용하지 않지만 list에서 많이 사용합니다.\n",
        "    s[:-1] # 마지막 요소만 제외하고 다 슬라이싱 합니다.\n",
        "    ```\n",
        "\n",
        "3. 형변환\n",
        "    - 형변환 : type을 변경하는 것입니다.\n",
        "    - int, float, str 등 자료형에 이름으로 형태를 변경할 수 있습니다.\n",
        "    - 그 중에서도 bool이 매우 중요합니다.\n",
        "    ```\n",
        "    # 별 5개\n",
        "    # bool 형으로 형변환 하는 것\n",
        "    if True:\n",
        "        print('hi')\n",
        "\n",
        "    if 'hello':\n",
        "        print('hi')\n",
        "\n",
        "    # 정말 많이 사용하는 코드\n",
        "    l = [1, 2, 3]\n",
        "    while l:\n",
        "        print(l.pop())\n",
        "\n",
        "    bool('') # 빈 문자열을 제외하고 모두 True\n",
        "    bool('a')\n",
        "    bool('False') # 문자열 False이기 때문에 True\n",
        "    bool(0) # 0을 제외하고 모두 True\n",
        "    bool(-1)\n",
        "    bool(100)\n",
        "    bool(None) # None은 비어있음을 명시해주는 키워드, False\n",
        "    bool([]) # 컨벤션 자료형은 비어있으면 False입니다.\n",
        "    bool({})\n",
        "    ```\n",
        "\n",
        "4. 산술연산\n",
        "    ```\n",
        "    a = 10\n",
        "    b = 3\n",
        "\n",
        "    print(f'10 + 3 == {a + b}')\n",
        "    print(f'10 - 3 == {a - b}')\n",
        "    print(f'10 / 3 == {a / b}')\n",
        "    print(f'10 // 3 == {a // b}') # 몫만 나옵니다.(정수만요!)\n",
        "    print(f'10 * 3 == {a * b}')\n",
        "    print(f'10 ** 3 == {a ** b}')\n",
        "    print(f'10 % 3 == {a % b}') # 나머지\n",
        "    ```\n",
        "\n",
        "5. 논리연산\n",
        "    ```\n",
        "    # and 는 곱\n",
        "    # or 는 합\n",
        "    # not은 반대\n",
        "    # True 1\n",
        "    # False 0\n",
        "    # 중요한 포인트는 저렇게 했을 때 언제 True가 되는지 정리하는 것\n",
        "\n",
        "    print(True and False)\n",
        "    print(True or False)\n",
        "    print(True or True)\n",
        "\n",
        "    # https://codingdojang.com/scode/350?answer_mode=hide\n",
        "    for i in range(101):\n",
        "        if i % 3 == 0 and i % 5 == 0:\n",
        "            print(i)\n",
        "    ```\n",
        "\n",
        "6. 할당연산\n",
        "    ```\n",
        "    a = 10\n",
        "    a += 10 # a = a + 10\n",
        "    a //= 2\n",
        "    a\n",
        "    ```\n",
        "\n",
        "7. is, in\n",
        "    1. is\n",
        "        ```\n",
        "        a = [1, 2, 3]\n",
        "        b = [1, 2, 3]\n",
        "\n",
        "        id(a), id(b)\n",
        "        a == b # 값이 같은 것과 메모리에 같은 공간에 저장되어 있다는 얘기는 다른 얘기입니다!\n",
        "        ```\n",
        "    2. in\n",
        "        ```\n",
        "        'a' in 'helalo world'\n",
        "        'a' in 'hello world'\n",
        "        'a' in ['a', 'b']\n",
        "        'a' in {'a':10, 'b':20}\n",
        "        # 10 in {'a':10, 'b':20} # dict안에있는 value값이 있는지 확인하고 싶으면\n",
        "        10 in {'a':10, 'b':20}.values()\n",
        "        10 in {10, 20, 30}\n",
        "        ```"
      ],
      "metadata": {
        "id": "DNQg_jncV-CL"
      }
    },
    {
      "cell_type": "markdown",
      "source": [
        "## 함수\n"
      ],
      "metadata": {
        "id": "4GGS334X8Jd_"
      }
    },
    {
      "cell_type": "markdown",
      "source": [
        "1. 코드를 재사용 할 수 있으며, 실수를 줄일 수 있습니다.\n",
        "2. 코드의 구조를 한 눈에 파악할 수 있습니다.\n",
        "( 정말 쉽게 설명하자면 코드 덩어리로 볼 수 있다 )\n",
        "3. def 는 이름이 있는 라인만 읽고 넘어간다."
      ],
      "metadata": {
        "id": "bjxMVqa58QkQ"
      }
    },
    {
      "cell_type": "code",
      "source": [
        "def 부지매입():\n",
        "    pass\n",
        "\n",
        "def 설계도면작성():\n",
        "    pass\n",
        "\n",
        "def 인력모집():\n",
        "    pass\n",
        "\n",
        "def 벽돌쌓기():\n",
        "    pass\n",
        "\n",
        "def 지붕올리기():\n",
        "    pass\n",
        "\n",
        "# 건축 또는 집짓기  \n",
        "# 신입사원이 왔을 때\n",
        "# 3년에 한 번 이직\n",
        "# 7년에 한 번 이직\n",
        "# 오래 있으신 분들\n",
        "\n",
        "부지매입()\n",
        "설계도면작성()\n",
        "인력모집()\n",
        "벽돌쌓기()\n",
        "지붕올리기()"
      ],
      "metadata": {
        "id": "RcbRIrFdSRh8"
      },
      "execution_count": null,
      "outputs": []
    },
    {
      "cell_type": "code",
      "source": [
        "# 파선아실(파라미터는 선언할 때, 아규먼트는 실제)\n",
        "def function(x, y):\n",
        "    z = x + y\n",
        "    return z\n",
        "print(f'function(5, 7) = {function(5, 7)}')"
      ],
      "metadata": {
        "id": "1gQ0DFrV-Xfs"
      },
      "execution_count": null,
      "outputs": []
    },
    {
      "cell_type": "code",
      "source": [
        "# 같은 코드 1\n",
        "def function(x, y):\n",
        "    z = x + y\n",
        "print(f'function(5, 7) = {function(5, 7)}')"
      ],
      "metadata": {
        "colab": {
          "base_uri": "https://localhost:8080/"
        },
        "id": "Y1UVetXn_kRT",
        "outputId": "5244f380-26ae-480e-8783-4a9e737612c5"
      },
      "execution_count": 2,
      "outputs": [
        {
          "output_type": "stream",
          "name": "stdout",
          "text": [
            "function(5, 7) = None\n"
          ]
        }
      ]
    },
    {
      "cell_type": "code",
      "source": [
        "# 같은 코드 2\n",
        "def function(x, y):\n",
        "    z = x + y\n",
        "    return None\n",
        "print(f'function(5, 7) = {function(5, 7)}')"
      ],
      "metadata": {
        "colab": {
          "base_uri": "https://localhost:8080/"
        },
        "id": "PUqi_158_owt",
        "outputId": "e58209d9-40ae-43af-bc5c-740025eef344"
      },
      "execution_count": 3,
      "outputs": [
        {
          "output_type": "stream",
          "name": "stdout",
          "text": [
            "function(5, 7) = None\n"
          ]
        }
      ]
    },
    {
      "cell_type": "code",
      "source": [
        "# 같은 코드 3\n",
        "def function(x, y):\n",
        "    z = x + y\n",
        "    return\n",
        "print(f'function(5, 7) = {function(5, 7)}')"
      ],
      "metadata": {
        "colab": {
          "base_uri": "https://localhost:8080/"
        },
        "id": "oVRj1c7t_vIB",
        "outputId": "eec1b207-1663-4836-bba0-851d759011cb"
      },
      "execution_count": 4,
      "outputs": [
        {
          "output_type": "stream",
          "name": "stdout",
          "text": [
            "function(5, 7) = None\n"
          ]
        }
      ]
    },
    {
      "cell_type": "code",
      "source": [
        "def hello():\n",
        "    print('1')\n",
        "    print('2')\n",
        "    print('3')\n",
        "\n",
        "print(hello())"
      ],
      "metadata": {
        "id": "Jcb3or8W8I19",
        "colab": {
          "base_uri": "https://localhost:8080/"
        },
        "outputId": "e0699b22-4c08-4c78-a95f-207064a01cc5"
      },
      "execution_count": 1,
      "outputs": [
        {
          "output_type": "stream",
          "name": "stdout",
          "text": [
            "1\n",
            "2\n",
            "3\n",
            "None\n"
          ]
        }
      ]
    },
    {
      "cell_type": "code",
      "source": [
        "# 함수 연습문제\n",
        "def one(): # 1\n",
        "    print('one1') # 7\n",
        "    print('one2') # 8\n",
        "    print('one3') # 9\n",
        "    return 100 \n",
        "    \n",
        "def two(): # 2\n",
        "    print('two1') # 4\n",
        "    print('two2') # 5\n",
        "    one() # 6\n",
        "    return\n",
        "\n",
        "print(two()) # 3"
      ],
      "metadata": {
        "colab": {
          "base_uri": "https://localhost:8080/"
        },
        "id": "lvQU309j_zT-",
        "outputId": "7c5867e4-f671-4671-a7bc-239ad9be2110"
      },
      "execution_count": 5,
      "outputs": [
        {
          "output_type": "stream",
          "name": "stdout",
          "text": [
            "two1\n",
            "two2\n",
            "one1\n",
            "one2\n",
            "one3\n",
            "None\n"
          ]
        }
      ]
    },
    {
      "cell_type": "code",
      "source": [
        "# 함수 연습문제 2\n",
        "def one(): \n",
        "    print('one1') \n",
        "    print('one2') \n",
        "    print('one3') \n",
        "    return 100 \n",
        "    \n",
        "def two(): \n",
        "    print('two1') \n",
        "    print('two2') \n",
        "    x = one() \n",
        "    return x + x\n",
        "\n",
        "print(two()) \n",
        "\n",
        "# two1\n",
        "# two2\n",
        "# one1\n",
        "# one2\n",
        "# one3\n",
        "# 200"
      ],
      "metadata": {
        "colab": {
          "base_uri": "https://localhost:8080/"
        },
        "id": "yHvR5ChsA_sK",
        "outputId": "224d0135-402a-4ca4-d458-ce670b143750"
      },
      "execution_count": 6,
      "outputs": [
        {
          "output_type": "stream",
          "name": "stdout",
          "text": [
            "two1\n",
            "two2\n",
            "one1\n",
            "one2\n",
            "one3\n",
            "200\n"
          ]
        }
      ]
    },
    {
      "cell_type": "code",
      "source": [
        "# 함수 연습문제 3\n",
        "def one(a,b): \n",
        "    print('one1') \n",
        "    print('one2') \n",
        "    print('one3') \n",
        "    return a + b \n",
        "    \n",
        "def two(x): \n",
        "    y = 100\n",
        "    print('two1') \n",
        "    print('two2') \n",
        "    x = one(x,y) \n",
        "    return x + x\n",
        "\n",
        "print(two(10)) \n",
        "\n",
        "# two1\n",
        "# two2\n",
        "# one1\n",
        "# one2\n",
        "# one3\n",
        "# 220"
      ],
      "metadata": {
        "colab": {
          "base_uri": "https://localhost:8080/"
        },
        "id": "xge1kUYwCKHH",
        "outputId": "2591126c-a898-421b-db26-0534491b93d1"
      },
      "execution_count": 8,
      "outputs": [
        {
          "output_type": "stream",
          "name": "stdout",
          "text": [
            "two1\n",
            "two2\n",
            "one1\n",
            "one2\n",
            "one3\n",
            "220\n"
          ]
        }
      ]
    },
    {
      "cell_type": "code",
      "source": [
        "# 함수 연습문제 4 / pass는 아무의미가 없다 에러가 안 나기 위해서 + 컨티뉴, 브레이크는 에러남\n",
        "def one(): \n",
        "    print('one')\n",
        "    return 10\n",
        "    \n",
        "def two(): \n",
        "    print('two')\n",
        "    return 10\n",
        "\n",
        "def three():\n",
        "    print('three')\n",
        "    return 10\n",
        "\n",
        "a = one()\n",
        "b = two()\n",
        "c = three()\n",
        "\n",
        "print(a + b)\n",
        "print(a + b + c)"
      ],
      "metadata": {
        "colab": {
          "base_uri": "https://localhost:8080/"
        },
        "id": "GkN-LsVzDTuf",
        "outputId": "bca147f1-7b6a-4591-fab7-573dee30fe76"
      },
      "execution_count": 9,
      "outputs": [
        {
          "output_type": "stream",
          "name": "stdout",
          "text": [
            "one\n",
            "two\n",
            "three\n",
            "20\n",
            "30\n"
          ]
        }
      ]
    },
    {
      "cell_type": "code",
      "source": [
        "# 함수 연습문제 4 \n",
        "# 좋지 않은 코드 예시\n",
        "def one(): \n",
        "    print('one')\n",
        "    return 10\n",
        "    \n",
        "def two(): \n",
        "    print('two')\n",
        "    return 10\n",
        "\n",
        "def three():\n",
        "    print('three')\n",
        "    return 10\n",
        "\n",
        "# a = one()\n",
        "# b = two()\n",
        "# c = three()\n",
        "\n",
        "print(one() + two())\n",
        "print(one() + two() + three())"
      ],
      "metadata": {
        "colab": {
          "base_uri": "https://localhost:8080/"
        },
        "id": "vqRk62xuFQzT",
        "outputId": "3da34896-d122-48de-dc39-266a231b80b7"
      },
      "execution_count": 10,
      "outputs": [
        {
          "output_type": "stream",
          "name": "stdout",
          "text": [
            "one\n",
            "two\n",
            "20\n",
            "one\n",
            "two\n",
            "three\n",
            "30\n"
          ]
        }
      ]
    },
    {
      "cell_type": "code",
      "source": [
        "# 함수 연습문제 4\n",
        "# 좋지 않은 예 입니다!\n",
        "# 값이 반복으로 출력됨\n",
        "def one():\n",
        "    print('one')\n",
        "    print('one')\n",
        "    print('one')\n",
        "    return 10\n",
        "\n",
        "def two():\n",
        "    print('two')\n",
        "    print('two')\n",
        "    print('two')\n",
        "    return 10\n",
        "\n",
        "def three():\n",
        "    print('three')\n",
        "    print('three')\n",
        "    print('three')\n",
        "    return 10\n",
        "\n",
        "print(one() + two())\n",
        "print(one() + two() + three())"
      ],
      "metadata": {
        "colab": {
          "base_uri": "https://localhost:8080/"
        },
        "id": "OmzMPsVnFf9c",
        "outputId": "9703eb91-610e-4627-972a-dd95921eaad9"
      },
      "execution_count": 11,
      "outputs": [
        {
          "output_type": "stream",
          "name": "stdout",
          "text": [
            "one\n",
            "one\n",
            "one\n",
            "two\n",
            "two\n",
            "two\n",
            "20\n",
            "one\n",
            "one\n",
            "one\n",
            "two\n",
            "two\n",
            "two\n",
            "three\n",
            "three\n",
            "three\n",
            "30\n"
          ]
        }
      ]
    },
    {
      "cell_type": "code",
      "source": [
        "# 함수란 무엇일까\n",
        "# 함수의 이름은 메모리 상에 코드 블럭을 가리키는 변수\n",
        "leehojun = print\n",
        "leehojun('hello') # 소괄호는 그 함수 블록을 실행시키는 명령어가 된다."
      ],
      "metadata": {
        "colab": {
          "base_uri": "https://localhost:8080/"
        },
        "id": "NSa-ud5TFrrf",
        "outputId": "b4d7b54d-062c-41ab-802f-f4f7ee9b290e"
      },
      "execution_count": 12,
      "outputs": [
        {
          "output_type": "stream",
          "name": "stdout",
          "text": [
            "hello\n"
          ]
        }
      ]
    },
    {
      "cell_type": "code",
      "source": [
        "id(leehojun), id(print)"
      ],
      "metadata": {
        "colab": {
          "base_uri": "https://localhost:8080/"
        },
        "id": "D1C_hSRsJpPB",
        "outputId": "dcc7e4e7-d3de-47a6-dae4-696040baf37b"
      },
      "execution_count": 13,
      "outputs": [
        {
          "output_type": "execute_result",
          "data": {
            "text/plain": [
              "(140484545631536, 140484545631536)"
            ]
          },
          "metadata": {},
          "execution_count": 13
        }
      ]
    },
    {
      "cell_type": "code",
      "source": [
        "l = [leehojun, print, leehojun, print]\n",
        "leehojun('hello world')\n",
        "l[0]('hello world')"
      ],
      "metadata": {
        "colab": {
          "base_uri": "https://localhost:8080/"
        },
        "id": "QUBQHhI-JtD0",
        "outputId": "d7527f0f-f7ed-4daf-d415-a25a3723a62f"
      },
      "execution_count": 14,
      "outputs": [
        {
          "output_type": "stream",
          "name": "stdout",
          "text": [
            "hello world\n",
            "hello world\n"
          ]
        }
      ]
    },
    {
      "cell_type": "code",
      "source": [
        "def hello(a):\n",
        "    a('hello')\n",
        "    a('hello')\n",
        "    a('hello')\n",
        "\n",
        "print(hello(print))"
      ],
      "metadata": {
        "colab": {
          "base_uri": "https://localhost:8080/"
        },
        "id": "wNmn7ZCdKBj9",
        "outputId": "1288163b-8cfc-48cd-bfc1-203e8c456fbf"
      },
      "execution_count": 15,
      "outputs": [
        {
          "output_type": "stream",
          "name": "stdout",
          "text": [
            "hello\n",
            "hello\n",
            "hello\n",
            "None\n"
          ]
        }
      ]
    },
    {
      "cell_type": "code",
      "source": [
        "def hello():\n",
        "    def custom_sum(a, b):\n",
        "        return a + b\n",
        "    return custom_sum\n",
        "\n",
        "c = hello()\n",
        "c(10, 100)"
      ],
      "metadata": {
        "colab": {
          "base_uri": "https://localhost:8080/"
        },
        "id": "n9k27eMaKWUP",
        "outputId": "824fad44-c652-4107-c2e0-7ec95bd51a7a"
      },
      "execution_count": 16,
      "outputs": [
        {
          "output_type": "execute_result",
          "data": {
            "text/plain": [
              "110"
            ]
          },
          "metadata": {},
          "execution_count": 16
        }
      ]
    },
    {
      "cell_type": "code",
      "source": [
        "def hello(a):\n",
        "    return a\n",
        "\n",
        "c = hello(print)\n",
        "c(10, 100)"
      ],
      "metadata": {
        "colab": {
          "base_uri": "https://localhost:8080/"
        },
        "id": "MnLbYsccLBW-",
        "outputId": "ae9f7cd5-1b01-48a5-fb7d-504d28c88d76"
      },
      "execution_count": 17,
      "outputs": [
        {
          "output_type": "stream",
          "name": "stdout",
          "text": [
            "10 100\n"
          ]
        }
      ]
    },
    {
      "cell_type": "markdown",
      "source": [
        "## 함수의 기본 기능"
      ],
      "metadata": {
        "id": "U4iIoBocMfR4"
      }
    },
    {
      "cell_type": "code",
      "source": [
        "# 파선아실(파라미터는 선언할 때, 아규먼트는 실제)\n",
        "def function(x, y):\n",
        "    z = x + y\n",
        "    return z\n",
        "print(f'function(5, 7) = {function(5, 7)}')"
      ],
      "metadata": {
        "id": "yEl_g-_ZMUUJ"
      },
      "execution_count": null,
      "outputs": []
    },
    {
      "cell_type": "code",
      "source": [
        "# return을 만나게 되면 함수가 종료된다\n",
        "def function(x, y):\n",
        "    z = x + y\n",
        "    return z\n",
        "    print('hello')\n",
        "    print('hello')\n",
        "\n",
        "print(function(5, 7))"
      ],
      "metadata": {
        "colab": {
          "base_uri": "https://localhost:8080/"
        },
        "id": "dHnkWGXEMydz",
        "outputId": "b8ba1514-57f4-48cb-97f6-ce2bc9d1ebd9"
      },
      "execution_count": 18,
      "outputs": [
        {
          "output_type": "stream",
          "name": "stdout",
          "text": [
            "12\n"
          ]
        }
      ]
    },
    {
      "cell_type": "code",
      "source": [
        "# return을 빨리 만나는 법\n",
        "# early return\n",
        "# 조건이 부합하지 않으면 바로 return을 하도록 하는 코딩 패턴\n",
        "# 이렇게 작성함으로써 가독성이 좋은 코드\n",
        "# 연산보다 예외 조건을 위로 올려서 작성하는게 효율적\n",
        "\n",
        "def custom_sum(x, y):\n",
        "    if type(x) != int or type(y) != int:\n",
        "        return '연산할 수 없습니다.'\n",
        "    z = x + y  # 100줄이라 가정\n",
        "    return z\n",
        " \n",
        "\n",
        "print(custom_sum(5, 5))"
      ],
      "metadata": {
        "colab": {
          "base_uri": "https://localhost:8080/"
        },
        "id": "Ui5Nnm9rNCgj",
        "outputId": "7ef048d5-cf14-4a1e-f360-07b86eb7f551"
      },
      "execution_count": 21,
      "outputs": [
        {
          "output_type": "stream",
          "name": "stdout",
          "text": [
            "10\n"
          ]
        }
      ]
    },
    {
      "cell_type": "code",
      "source": [
        "# 한글코딩 장점\n",
        "# 1. 고유명사 -> 기획자와 소통하기 좋다\n",
        "# 2. 알고리즘 가독성이 좋아짐\n",
        "\n",
        "# 한글코딩 단점\n",
        "# 1. 개인의 호불호가 심함\n",
        "# 2. 한영키 바꾸는 것"
      ],
      "metadata": {
        "id": "KqqafyCVN64E"
      },
      "execution_count": null,
      "outputs": []
    },
    {
      "cell_type": "code",
      "source": [
        "# 함수 안에 함수\n",
        "def one():\n",
        "    def two():\n",
        "        print('hello')\n",
        "    def three():\n",
        "        print('hello2')\n",
        "    return 100\n",
        "\n",
        "print(one())"
      ],
      "metadata": {
        "colab": {
          "base_uri": "https://localhost:8080/"
        },
        "id": "HteZHhzAQcNK",
        "outputId": "5e9b842e-934a-4c24-ed78-5c288e1617fc"
      },
      "execution_count": 22,
      "outputs": [
        {
          "output_type": "stream",
          "name": "stdout",
          "text": [
            "100\n"
          ]
        }
      ]
    },
    {
      "cell_type": "code",
      "source": [
        "# 함수 안에 함수와 함수 안에 변수는 밖에서 호출이 안 된다\n",
        "# 이 코드가 실행된다면 위에서 이미 two와 x가 정의 되어있기 떄문임\n",
        "# 원래 돌아가면 안됨\n",
        "def one():\n",
        "    def two():\n",
        "        print('hello')\n",
        "    def three():\n",
        "        print('hello2')\n",
        "    two()\n",
        "    three()\n",
        "    x = 1000\n",
        "    return 100\n",
        "\n",
        "one()\n",
        "print(x)\n",
        "two()"
      ],
      "metadata": {
        "id": "I-UY37dKQym-"
      },
      "execution_count": null,
      "outputs": []
    },
    {
      "cell_type": "code",
      "source": [
        "# 함수 안에 함수와 함수 안에 변수를 해봤으니\n",
        "# 이번에는 함수 밖에 함수와 함수 밖에 변수를 해보겠음\n",
        "\n",
        "def test():\n",
        "    print(test)\n",
        "\n",
        "def one():\n",
        "    test()\n",
        "\n",
        "def two():\n",
        "    test()\n",
        "\n",
        "one()\n",
        "two()\n",
        "test()"
      ],
      "metadata": {
        "colab": {
          "base_uri": "https://localhost:8080/"
        },
        "id": "8qOVv7CxRYef",
        "outputId": "c1d98d79-68aa-4b87-dded-1394788b6ab0"
      },
      "execution_count": 3,
      "outputs": [
        {
          "output_type": "stream",
          "name": "stdout",
          "text": [
            "<function test at 0x7fb0c95fbf40>\n",
            "<function test at 0x7fb0c95fbf40>\n",
            "<function test at 0x7fb0c95fbf40>\n"
          ]
        }
      ]
    },
    {
      "cell_type": "code",
      "source": [
        "# 위 코드 원리와 같이 밖에 있는 변수를 가져오는 것만 가능 / 수정은 불가능\n",
        "\n",
        "test = 10\n",
        "\n",
        "def one():\n",
        "    "
      ],
      "metadata": {
        "id": "buXcA2BZSV6p"
      },
      "execution_count": null,
      "outputs": []
    },
    {
      "cell_type": "code",
      "source": [
        "# 이렇게하면 error \n",
        "# 밖에 있는 변수는 수정이 불가능 \n",
        "\n",
        "test = 10\n",
        "def one():\n",
        "    test = test + 10\n",
        "\n",
        "one()"
      ],
      "metadata": {
        "id": "soPJMsRnS5xT"
      },
      "execution_count": null,
      "outputs": []
    },
    {
      "cell_type": "markdown",
      "source": [
        "## 지역 변수와 전역 변수"
      ],
      "metadata": {
        "id": "paJfxOu_TMZ2"
      }
    },
    {
      "cell_type": "code",
      "source": [
        "# 전역변수 접근은 가능하지만 수정은 불가능\n",
        "a = 100\n",
        "def f():\n",
        "    a = a + 1\n",
        "f()"
      ],
      "metadata": {
        "id": "WAKxVgvLTJCA"
      },
      "execution_count": null,
      "outputs": []
    },
    {
      "cell_type": "code",
      "source": [
        "# 전역변수를 함수 내부에서 수정이 되게 하는 코드\n",
        "# 권하지 않음\n",
        "a = 100\n",
        "def f():\n",
        "    global a  # 실무에서 사용 안 함\n",
        "    a = a + 1\n",
        "f()"
      ],
      "metadata": {
        "id": "yRB0EHJZXPOV"
      },
      "execution_count": null,
      "outputs": []
    },
    {
      "cell_type": "code",
      "source": [
        "# 정해진 루트 외에 다른 루트로 해당값을 수정하려고 하면 안됨\n",
        "a = 100\n",
        "def f(x):\n",
        "    x = x + 1\n",
        "    return x\n",
        "\n",
        "a = f(a)\n",
        "print(a)"
      ],
      "metadata": {
        "colab": {
          "base_uri": "https://localhost:8080/"
        },
        "id": "W29PNUZdXp6u",
        "outputId": "8fb79472-2fa2-4147-c302-3e8649110545"
      },
      "execution_count": 5,
      "outputs": [
        {
          "output_type": "stream",
          "name": "stdout",
          "text": [
            "101\n"
          ]
        }
      ]
    },
    {
      "cell_type": "code",
      "source": [
        "# 순수함수\n",
        "def f(x):\n",
        "    return x + x + 100\n",
        "\n",
        "f(10)\n",
        "f(20)  \n",
        "# 아규먼트 값에 따라 다르지만 \n",
        "# 아규먼트에 2배해서 100이 더해진다는 사실은 불변함 "
      ],
      "metadata": {
        "colab": {
          "base_uri": "https://localhost:8080/"
        },
        "id": "3RCQwrkhX80O",
        "outputId": "91ce8282-6705-436a-ab84-8da1d5e80ce0"
      },
      "execution_count": 6,
      "outputs": [
        {
          "output_type": "execute_result",
          "data": {
            "text/plain": [
              "140"
            ]
          },
          "metadata": {},
          "execution_count": 6
        }
      ]
    },
    {
      "cell_type": "code",
      "source": [
        "test = 100\n",
        "def f(x):\n",
        "    return x + x + 100 + test\n",
        "f(10)\n",
        "# 아규먼트 값에 따라 다르지만 \n",
        "# 아규먼트에 2배해서 200이 더해진다는 사실은 불변하는 것 같지만\n",
        "# ㄴㄴ 아님 test값이 다른 곳에서 조작되면\n",
        "# 더해지는 값이 200이 안될수도 있음\n",
        "# 예측이 불가능하게 되는 것"
      ],
      "metadata": {
        "colab": {
          "base_uri": "https://localhost:8080/"
        },
        "id": "7aqqex6yYS_1",
        "outputId": "b475cb3d-c01b-4698-c30c-807d5e0af8c2"
      },
      "execution_count": 7,
      "outputs": [
        {
          "output_type": "execute_result",
          "data": {
            "text/plain": [
              "220"
            ]
          },
          "metadata": {},
          "execution_count": 7
        }
      ]
    },
    {
      "cell_type": "code",
      "source": [
        "# 지역변수와 지역변수 이어서~\n",
        "# 전역변수 : 전역에서 접근할 수 있는 변수\n",
        "# 지역변수 : 함수 내에서만 접근할 수 있는 변수"
      ],
      "metadata": {
        "id": "wVgvqXkyZA-O"
      },
      "execution_count": 8,
      "outputs": []
    },
    {
      "cell_type": "code",
      "source": [
        "a = 100\n",
        "def one():\n",
        "    a = 10\n",
        "    print(a)\n",
        "\n",
        "one()\n",
        "print(a)"
      ],
      "metadata": {
        "colab": {
          "base_uri": "https://localhost:8080/"
        },
        "id": "gyFu-Yj_ZOmE",
        "outputId": "8b2ed96c-3804-44ec-b299-910571d36969"
      },
      "execution_count": 9,
      "outputs": [
        {
          "output_type": "stream",
          "name": "stdout",
          "text": [
            "10\n",
            "100\n"
          ]
        }
      ]
    },
    {
      "cell_type": "code",
      "source": [
        "# 어려우면 pass 해도 됨 / 요약정리에도 없을 예정\n",
        "# 자신의 공간에 변수가 선언되지 않으면\n",
        "# 전역까지 올라간다. 전역에도 없으면 error\n",
        "a = 100\n",
        "def one():\n",
        "    a = 10\n",
        "    def two():\n",
        "        def three():\n",
        "            a =1000\n",
        "            print(a)\n",
        "        three()\n",
        "        print(a)\n",
        "    two()\n",
        "    print(a)\n",
        "\n",
        "one()\n",
        "print(a)"
      ],
      "metadata": {
        "colab": {
          "base_uri": "https://localhost:8080/"
        },
        "id": "6fKDWunxZ30z",
        "outputId": "30b7a130-43cb-46df-a3cb-f75bc8e424de"
      },
      "execution_count": 10,
      "outputs": [
        {
          "output_type": "stream",
          "name": "stdout",
          "text": [
            "1000\n",
            "10\n",
            "10\n",
            "100\n"
          ]
        }
      ]
    },
    {
      "cell_type": "code",
      "source": [
        "# 에러가 나는 코드\n",
        "x = 100\n",
        "def outer():\n",
        "    x = 1\n",
        "    def inner():\n",
        "        x += 1\n",
        "        print(x)\n",
        "    inner()\n",
        "    print(x)\n",
        "\n",
        "outer()\n",
        "print(x)"
      ],
      "metadata": {
        "id": "DtCRT7T1b6hX"
      },
      "execution_count": null,
      "outputs": []
    },
    {
      "cell_type": "code",
      "source": [
        "# inner가 outer에서 변수를 건드리고 싶은데\n",
        "# inner 안에서는 x에 수정권한이 전혀 없다.\n",
        "x = 100\n",
        "def outer():\n",
        "    x = 1\n",
        "    def inner():\n",
        "        nonlocal x\n",
        "        x += 1\n",
        "        print(x)\n",
        "    inner()\n",
        "    print(x)\n",
        "\n",
        "outer()\n",
        "print(x)"
      ],
      "metadata": {
        "colab": {
          "base_uri": "https://localhost:8080/"
        },
        "id": "T4rlAP6tbVaV",
        "outputId": "67a46c68-ceb5-4b16-ffad-a94fcd17ae0f"
      },
      "execution_count": 11,
      "outputs": [
        {
          "output_type": "stream",
          "name": "stdout",
          "text": [
            "2\n",
            "2\n",
            "100\n"
          ]
        }
      ]
    },
    {
      "cell_type": "code",
      "source": [
        "x = 100\n",
        "def outer():\n",
        "    x = 1\n",
        "    def inner():\n",
        "        global x\n",
        "        x += 1\n",
        "        print(x)\n",
        "    inner()\n",
        "    print(x)\n",
        "\n",
        "outer()\n",
        "print(x)"
      ],
      "metadata": {
        "colab": {
          "base_uri": "https://localhost:8080/"
        },
        "id": "LrDGJSmPbxUd",
        "outputId": "67c73be1-c85d-442a-d128-ff275168b17f"
      },
      "execution_count": 12,
      "outputs": [
        {
          "output_type": "stream",
          "name": "stdout",
          "text": [
            "101\n",
            "1\n",
            "101\n"
          ]
        }
      ]
    },
    {
      "cell_type": "markdown",
      "source": [
        "## 재귀함수"
      ],
      "metadata": {
        "id": "b3YuKNftcaYJ"
      }
    },
    {
      "cell_type": "markdown",
      "source": [
        "* 내가 나를 호출하는 것\n",
        "* 재귀 <-> for문은 대부분 호환이 가능\n",
        "* 반복문 사용하기를 추천\n",
        "* 어렵고 효율이 안 좋음\n",
        "* 필수적으로 사용하는 곳이 있음"
      ],
      "metadata": {
        "id": "QyrhBU9acd-g"
      }
    },
    {
      "cell_type": "code",
      "source": [
        "#sys.setrecursionlimit -> 제한을 늘릴 수 있음\n",
        "# 실행 ㄴㄴ\n",
        "def 숫자출력():\n",
        "    print(1)\n",
        "    return 숫자출력()\n",
        "숫자출력()"
      ],
      "metadata": {
        "id": "8h-X59mUcUBT"
      },
      "execution_count": null,
      "outputs": []
    },
    {
      "cell_type": "code",
      "source": [
        "# for로 펙토리얼\n",
        "# 5! = 5 + 4 + 3 + 2 + 1\n",
        "\n",
        "result = 1\n",
        "\n",
        "#  1 * 2 * 3 * 4 * 5\n",
        "for i in range(1,6):\n",
        "    result *= i\n",
        "\n",
        "result "
      ],
      "metadata": {
        "colab": {
          "base_uri": "https://localhost:8080/"
        },
        "id": "dbEuFle7d_nN",
        "outputId": "21081260-57ea-460c-9b7e-1762ee5ec32b"
      },
      "execution_count": 14,
      "outputs": [
        {
          "output_type": "execute_result",
          "data": {
            "text/plain": [
              "120"
            ]
          },
          "metadata": {},
          "execution_count": 14
        }
      ]
    },
    {
      "cell_type": "code",
      "source": [
        "# 재귀로 펙토리얼\n",
        "\n",
        "def f(n):\n",
        "    if n <= 1:\n",
        "        return 1\n",
        "    else:\n",
        "        return n * f(n-1)\n",
        "\n",
        "f(5)\n"
      ],
      "metadata": {
        "colab": {
          "base_uri": "https://localhost:8080/"
        },
        "id": "guTpgFlieeK_",
        "outputId": "3249c17e-ea59-4665-d95d-328adf37647b"
      },
      "execution_count": 17,
      "outputs": [
        {
          "output_type": "execute_result",
          "data": {
            "text/plain": [
              "120"
            ]
          },
          "metadata": {},
          "execution_count": 17
        }
      ]
    },
    {
      "cell_type": "code",
      "source": [
        "# for로 문자열 거꾸로 출력하기\n",
        "s = 'hello'\n",
        "result = ''\n",
        "\n",
        "for i in s:\n",
        "    result = i + result\n",
        "\n",
        "result\n",
        "\n",
        "# 실무에서 이렇게 거꾸로 만들지 않음\n",
        "# 슬라이싱이 for문보다 8배 빠름\n",
        "# s[::-1] 이렇게 쓰면 됨"
      ],
      "metadata": {
        "id": "ocUgWxMafXYA"
      },
      "execution_count": null,
      "outputs": []
    },
    {
      "cell_type": "code",
      "source": [
        "def reverse(s):\n",
        "    if len(s) == 1:\n",
        "        return s\n",
        "    else:\n",
        "        return reverse(s[1:]) + s[0] \n",
        "\n",
        "reverse('hello')\n",
        "\n",
        "'''\n",
        "reverse('hello')      reverse('ello') + 'h'\n",
        "reverse('ello')       reverse('llo') + 'e'    \n",
        "reverse('llo')        reverse('lo') + 'l'\n",
        "reverse('lo')         reverse('o') + 'l'\n",
        "reverse('o')          'o'\n",
        "'''"
      ],
      "metadata": {
        "colab": {
          "base_uri": "https://localhost:8080/",
          "height": 36
        },
        "id": "sGxHLwRlgddP",
        "outputId": "19a0b4de-f8d2-46c8-a501-870d9642da37"
      },
      "execution_count": 19,
      "outputs": [
        {
          "output_type": "execute_result",
          "data": {
            "text/plain": [
              "'olleh'"
            ],
            "application/vnd.google.colaboratory.intrinsic+json": {
              "type": "string"
            }
          },
          "metadata": {},
          "execution_count": 19
        }
      ]
    },
    {
      "cell_type": "code",
      "source": [
        "# 피보나치\n",
        "# 재귀가 얼마나 비효율적인지 보여주기 위한 진행\n",
        "# 1 1 2 3 5 8 13 21\n",
        "\n",
        "curr = 1 \n",
        "next = 1\n",
        "for i in range(1,6):\n",
        "    curr, next = next, curr + next\n",
        "\n",
        "next"
      ],
      "metadata": {
        "colab": {
          "base_uri": "https://localhost:8080/"
        },
        "id": "jeqaNZPzgud6",
        "outputId": "565e16bd-6316-4268-e5e5-dcceb9294b7d"
      },
      "execution_count": 20,
      "outputs": [
        {
          "output_type": "execute_result",
          "data": {
            "text/plain": [
              "13"
            ]
          },
          "metadata": {},
          "execution_count": 20
        }
      ]
    },
    {
      "cell_type": "code",
      "source": [
        "# 피보나치 재귀\n",
        "\n",
        "def f(n):\n",
        "    if n == 1 or n == 2:\n",
        "        return 1\n",
        "    return f(n-1) + f(n-2)\n",
        "\n",
        "1, 1, f(3), f(4), f(5), f(6)"
      ],
      "metadata": {
        "colab": {
          "base_uri": "https://localhost:8080/"
        },
        "id": "PPHydWUi1TRr",
        "outputId": "935fc2ef-a8ef-48e1-bde6-8051bc28d78f"
      },
      "execution_count": 94,
      "outputs": [
        {
          "output_type": "execute_result",
          "data": {
            "text/plain": [
              "(1, 1, 2, 3, 5, 8)"
            ]
          },
          "metadata": {},
          "execution_count": 94
        }
      ]
    },
    {
      "cell_type": "code",
      "source": [
        "f(35)"
      ],
      "metadata": {
        "colab": {
          "base_uri": "https://localhost:8080/"
        },
        "id": "XSxtyBL92jf_",
        "outputId": "c74cf7c3-8e10-42a8-cfdd-5ad911972a8a"
      },
      "execution_count": 95,
      "outputs": [
        {
          "output_type": "execute_result",
          "data": {
            "text/plain": [
              "9227465"
            ]
          },
          "metadata": {},
          "execution_count": 95
        }
      ]
    },
    {
      "cell_type": "markdown",
      "source": [
        "## !! 연습문제\n"
      ],
      "metadata": {
        "id": "FILcbnkyqr4-"
      }
    },
    {
      "cell_type": "code",
      "source": [
        "# 연습문제 1\n",
        "# 다음 코드를 실행하면 출력되는 값을 순서대로 작성해보세요.\n",
        "a = 'pithon'\n",
        "\n",
        "def 함수1():\n",
        "    def 함수2():\n",
        "        print('love')\n",
        "        \n",
        "    print('I')\n",
        "    함수2()\n",
        "    return \"python\"\n",
        "\t\n",
        "\n",
        "a = 함수1()\n",
        "print(a) \n",
        "#  I love python"
      ],
      "metadata": {
        "colab": {
          "base_uri": "https://localhost:8080/"
        },
        "id": "-X9D_CBu2lBZ",
        "outputId": "f05f696c-1135-4805-bf24-ef340fa4fd80"
      },
      "execution_count": 24,
      "outputs": [
        {
          "output_type": "stream",
          "name": "stdout",
          "text": [
            "I\n",
            "love\n",
            "python\n"
          ]
        }
      ]
    },
    {
      "cell_type": "code",
      "source": [
        "# 연습문제 2\n",
        "# 함수를 이용하여 계산기 프로그램을 만들어주세요.\n",
        "def plus(num1, num2):\n",
        "    return num1 + num2\n",
        "\n",
        "def minus(num1, num2):\n",
        "\treturn num1 - num2\n",
        "\n",
        "def multiply(num1, num2):\n",
        "\treturn num1 * num2\n",
        "\n",
        "def divide(num1, num2):\n",
        "\treturn num1 / num2\n",
        "\n",
        "print(f'plus : {plus(10, 5)}')\n",
        "print(f'minus : {minus(10, 5)}')\n",
        "print(f'multiply : {multiply(10, 5)}')\n",
        "print(f'divide : {divide(10, 5)}')"
      ],
      "metadata": {
        "colab": {
          "base_uri": "https://localhost:8080/"
        },
        "id": "ebv5Fm-F4bXm",
        "outputId": "23bec09e-ea78-459d-9732-97d2938982da"
      },
      "execution_count": 96,
      "outputs": [
        {
          "output_type": "stream",
          "name": "stdout",
          "text": [
            "plus : 15\n",
            "minus : 5\n",
            "multiply : 50\n",
            "divide : 2.0\n"
          ]
        }
      ]
    },
    {
      "cell_type": "code",
      "source": [
        "# 연습문제 2 - 1 풀이\n",
        "# 함수를 이용하여 계산기 프로그램을 만들어주세요.\n",
        "\n",
        "plus = lambda num1, num2 : num1 + num2\n",
        "minus = lambda num1, num2 : num1 - num2\n",
        "multiply = lambda num1, num2 : num1 / num2\n",
        "divide = lambda num1, num2 : num1 * num2\n",
        "\n",
        "print(f'plus : {plus(10, 5)}')\n",
        "print(f'minus : {minus(10, 5)}')\n",
        "print(f'multiply : {multiply(10, 5)}')\n",
        "print(f'divide : {divide(10, 5)}')"
      ],
      "metadata": {
        "colab": {
          "base_uri": "https://localhost:8080/"
        },
        "id": "AliMpZTd8jYZ",
        "outputId": "90ba3383-7e24-4c54-8329-936686f336b7"
      },
      "execution_count": 97,
      "outputs": [
        {
          "output_type": "stream",
          "name": "stdout",
          "text": [
            "plus : 15\n",
            "minus : 5\n",
            "multiply : 2.0\n",
            "divide : 50\n"
          ]
        }
      ]
    },
    {
      "cell_type": "code",
      "source": [
        "# 연습문제 2 - 2 풀이\n",
        "# 실력이 있으신 분은 견고한 코드가 될 수 있도록 해주셔야 합니다.\n",
        "def plus(num1, num2):\n",
        "    if type(num1) == int and type(num2) == int:\n",
        "        return num1 + num2\n",
        "    return '정수가 아니기에 연산할 수 없습니다.'\n",
        "\n",
        "# 테스트 주도 개발\n",
        "print(f\"plus : {plus(10, 5)}\")\n",
        "print(f\"plus : {plus(10, '5')}\")\n",
        "print(f\"plus : {plus('10', 5)}\")\n",
        "print(f\"plus : {plus('10', '5')}\")\n",
        "print(f\"plus : {plus(10, 'a')}\")\n",
        "print(f\"plus : {plus(10, True)}\")\n",
        "print(f\"plus : {plus(False, 5)}\")\n",
        "print(f\"plus : {plus(10, 10.1)}\")"
      ],
      "metadata": {
        "colab": {
          "base_uri": "https://localhost:8080/"
        },
        "id": "Vzx54xDo_fWY",
        "outputId": "e85c41f5-08c6-4b9b-8588-7f4ae835d50d"
      },
      "execution_count": 98,
      "outputs": [
        {
          "output_type": "stream",
          "name": "stdout",
          "text": [
            "plus : 15\n",
            "plus : 정수가 아니기에 연산할 수 없습니다.\n",
            "plus : 정수가 아니기에 연산할 수 없습니다.\n",
            "plus : 정수가 아니기에 연산할 수 없습니다.\n",
            "plus : 정수가 아니기에 연산할 수 없습니다.\n",
            "plus : 정수가 아니기에 연산할 수 없습니다.\n",
            "plus : 정수가 아니기에 연산할 수 없습니다.\n",
            "plus : 정수가 아니기에 연산할 수 없습니다.\n"
          ]
        }
      ]
    },
    {
      "cell_type": "code",
      "source": [
        "# 실력이 있으신 분은 견고한 코드가 될 수 있도록 해주셔야 합니다.\n",
        "def plus(num1, num2):\n",
        "    if type(num1) == int and type(num2) == int:\n",
        "        return num1 + num2\n",
        "    return float('inf')\n",
        "\n",
        "# 테스트 주도 개발\n",
        "print(f\"plus : {plus(10, 5)}\")\n",
        "print(f\"plus : {plus(10, '5')}\")\n",
        "print(f\"plus : {plus('10', 5)}\")\n",
        "print(f\"plus : {plus('10', '5')}\")\n",
        "print(f\"plus : {plus(10, 'a')}\")\n",
        "print(f\"plus : {plus(10, True)}\")\n",
        "print(f\"plus : {plus(False, 5)}\")\n",
        "print(f\"plus : {plus(10, 10.1)}\")"
      ],
      "metadata": {
        "colab": {
          "base_uri": "https://localhost:8080/"
        },
        "id": "c7_wspSeAiur",
        "outputId": "34032a1b-75a5-46d9-aaa3-009a270e8b96"
      },
      "execution_count": 99,
      "outputs": [
        {
          "output_type": "stream",
          "name": "stdout",
          "text": [
            "plus : 15\n",
            "plus : inf\n",
            "plus : inf\n",
            "plus : inf\n",
            "plus : inf\n",
            "plus : inf\n",
            "plus : inf\n",
            "plus : inf\n"
          ]
        }
      ]
    },
    {
      "cell_type": "code",
      "source": [
        "## 실력이 있으신 분은 견고한 코드가 될 수 있도록 해주셔야 합니다.\n",
        "def plus(num1, num2):\n",
        "    try:\n",
        "        return num1 + num2\n",
        "    except:\n",
        "        return float('inf')\n",
        "\n",
        "# 테스트 주도 개발\n",
        "print(f\"plus : {plus(10, 5)}\")\n",
        "print(f\"plus : {plus(10, '5')}\")\n",
        "print(f\"plus : {plus('10', 5)}\")\n",
        "print(f\"plus : {plus('10', '5')}\")\n",
        "print(f\"plus : {plus(10, 'a')}\")\n",
        "print(f\"plus : {plus(10, True)}\")\n",
        "print(f\"plus : {plus(False, 5)}\")\n",
        "print(f\"plus : {plus(10, 10.1)}\")"
      ],
      "metadata": {
        "colab": {
          "base_uri": "https://localhost:8080/"
        },
        "id": "o3ht894aAm7c",
        "outputId": "a813ddef-979b-436f-cf0f-32176351b0d8"
      },
      "execution_count": 100,
      "outputs": [
        {
          "output_type": "stream",
          "name": "stdout",
          "text": [
            "plus : 15\n",
            "plus : inf\n",
            "plus : inf\n",
            "plus : 105\n",
            "plus : inf\n",
            "plus : 11\n",
            "plus : 5\n",
            "plus : 20.1\n"
          ]
        }
      ]
    },
    {
      "cell_type": "code",
      "source": [
        "float('inf') > 1000000000000000000000000"
      ],
      "metadata": {
        "colab": {
          "base_uri": "https://localhost:8080/"
        },
        "id": "xSXSTC1jBJsm",
        "outputId": "8b46217a-e2eb-4745-8a23-b3444213d0ae"
      },
      "execution_count": 38,
      "outputs": [
        {
          "output_type": "execute_result",
          "data": {
            "text/plain": [
              "True"
            ]
          },
          "metadata": {},
          "execution_count": 38
        }
      ]
    },
    {
      "cell_type": "code",
      "source": [
        "# 연습문제 3\n",
        "# x의 n제곱을 구하는 함수를 만들어주세요.\n",
        "# 재귀함수를 이용하여 만들어야하며, x은 0이 아닙니다. (x, n > 1)\n",
        "\n",
        "\n",
        "def f(x,n):\n",
        "    if x !=0 and n > 1:\n",
        "        return x**n\n",
        "    else:\n",
        "        return x\n",
        "\n",
        "f(0,0)"
      ],
      "metadata": {
        "colab": {
          "base_uri": "https://localhost:8080/"
        },
        "id": "aSvPMVw55N3E",
        "outputId": "cd1c63bc-f6a5-40b0-c090-9d76b8398e81"
      },
      "execution_count": 37,
      "outputs": [
        {
          "output_type": "execute_result",
          "data": {
            "text/plain": [
              "0"
            ]
          },
          "metadata": {},
          "execution_count": 37
        }
      ]
    },
    {
      "cell_type": "code",
      "source": [
        "# 연습문제 3 - 1 풀이\n",
        "# x의 n제곱을 구하는 함수를 만들어주세요.\n",
        "# 재귀함수를 이용하여 만들어야하며, x은 0이 아닙니다. (x, n > 1)\n",
        "\n",
        "x = 3\n",
        "def 제곱(n):\n",
        "    if n == 0 :\n",
        "        return 1\n",
        "    return x * 제곱(n-1)\n",
        "\n",
        "제곱(3)\n",
        "제곱(4)"
      ],
      "metadata": {
        "id": "Ceq0HekbBQmN"
      },
      "execution_count": null,
      "outputs": []
    },
    {
      "cell_type": "code",
      "source": [
        "# 재귀함수를 사용한 것은 아님\n",
        "# 팩토리 함수라고도 하고 클로져라고도 한다\n",
        "\n",
        "def 제곱(x):\n",
        "    def 승수(y):\n",
        "        return x ** y\n",
        "    return 승수\n",
        "제곱3 = 제곱(3)\n",
        "제곱3(4)"
      ],
      "metadata": {
        "colab": {
          "base_uri": "https://localhost:8080/"
        },
        "id": "x5sEkav4DcB-",
        "outputId": "520e9bd8-3ead-46a6-e79f-5f4cde22de61"
      },
      "execution_count": 39,
      "outputs": [
        {
          "output_type": "execute_result",
          "data": {
            "text/plain": [
              "81"
            ]
          },
          "metadata": {},
          "execution_count": 39
        }
      ]
    },
    {
      "cell_type": "markdown",
      "source": [
        "## list(리스트)"
      ],
      "metadata": {
        "id": "RFMsIGabFXGm"
      }
    },
    {
      "cell_type": "code",
      "source": [
        "l = [1000, 2000, 3000, 1000, 2000, 3000]\n",
        "id(l[0]), id(l[3])"
      ],
      "metadata": {
        "colab": {
          "base_uri": "https://localhost:8080/"
        },
        "id": "PfIfxdAGFWNO",
        "outputId": "5163d778-4d61-4a50-8c7c-6ba22827f9b1"
      },
      "execution_count": 40,
      "outputs": [
        {
          "output_type": "execute_result",
          "data": {
            "text/plain": [
              "(140396781222608, 140396781222608)"
            ]
          },
          "metadata": {},
          "execution_count": 40
        }
      ]
    },
    {
      "cell_type": "code",
      "source": [
        "# 컨벤션 자료형 (딕셔너리, 튜플, 셋, 리스트)에서는\n",
        "# 메모리의 효율을 위해\n",
        "# 같은 값이 있을 경우 같은 값을 가리키게 되어있다."
      ],
      "metadata": {
        "id": "1R0Gff3jF44q"
      },
      "execution_count": 41,
      "outputs": []
    },
    {
      "cell_type": "code",
      "source": [
        "l = [10, 20, 30, 40]\n",
        "l[0] = 1000\n",
        "l"
      ],
      "metadata": {
        "colab": {
          "base_uri": "https://localhost:8080/"
        },
        "id": "tYlVhaUPGKJQ",
        "outputId": "5b116d0c-9297-49f2-f8b9-bc76362930da"
      },
      "execution_count": 42,
      "outputs": [
        {
          "output_type": "execute_result",
          "data": {
            "text/plain": [
              "[1000, 20, 30, 40]"
            ]
          },
          "metadata": {},
          "execution_count": 42
        }
      ]
    },
    {
      "cell_type": "code",
      "source": [
        "s = 'hello world'\n",
        "s[0] = 'k' # error\n",
        "s"
      ],
      "metadata": {
        "id": "24APGR7gGU4S"
      },
      "execution_count": null,
      "outputs": []
    },
    {
      "cell_type": "code",
      "source": [
        "data = [[1, 2, 3],\n",
        "       [4, 5, 6],\n",
        "       [7, 8, 9]]\n",
        "\n",
        "data"
      ],
      "metadata": {
        "colab": {
          "base_uri": "https://localhost:8080/"
        },
        "id": "3s6Fyr5kGizM",
        "outputId": "9dbe57e6-f0d0-45ae-8194-5fec270ed354"
      },
      "execution_count": 43,
      "outputs": [
        {
          "output_type": "execute_result",
          "data": {
            "text/plain": [
              "[[1, 2, 3], [4, 5, 6], [7, 8, 9]]"
            ]
          },
          "metadata": {},
          "execution_count": 43
        }
      ]
    },
    {
      "cell_type": "code",
      "source": [
        "data[0]"
      ],
      "metadata": {
        "colab": {
          "base_uri": "https://localhost:8080/"
        },
        "id": "LWtC2AmHG7gl",
        "outputId": "d1618c18-7a8c-4e27-d5b7-69d35fce8c52"
      },
      "execution_count": 44,
      "outputs": [
        {
          "output_type": "execute_result",
          "data": {
            "text/plain": [
              "[1, 2, 3]"
            ]
          },
          "metadata": {},
          "execution_count": 44
        }
      ]
    },
    {
      "cell_type": "code",
      "source": [
        "data[0][0]\n",
        "[1, 2, 3][0]"
      ],
      "metadata": {
        "colab": {
          "base_uri": "https://localhost:8080/"
        },
        "id": "uYhnocvMG_w-",
        "outputId": "dedb807d-efdb-4071-f1d1-a1d11a8c08fe"
      },
      "execution_count": 46,
      "outputs": [
        {
          "output_type": "execute_result",
          "data": {
            "text/plain": [
              "1"
            ]
          },
          "metadata": {},
          "execution_count": 46
        }
      ]
    },
    {
      "cell_type": "code",
      "source": [
        "data = [[1, 2, 3],\n",
        "       [4, 5, 6],\n",
        "       [7, 8, 9]]\n",
        "\n",
        "data[0][0] *= 2\n",
        "data[0][1] *= 2\n",
        "data[0][2] *= 2\n",
        "data[1][0] *= 2\n",
        "data[1][1] *= 2\n",
        "data[1][2] *= 2\n",
        "data[2][0] *= 2\n",
        "data[2][1] *= 2\n",
        "data[2][2] *= 2\n",
        "\n",
        "data"
      ],
      "metadata": {
        "colab": {
          "base_uri": "https://localhost:8080/"
        },
        "id": "fPLG9vsdHHyL",
        "outputId": "029d1696-8047-41ee-f322-10852ace0104"
      },
      "execution_count": 49,
      "outputs": [
        {
          "output_type": "execute_result",
          "data": {
            "text/plain": [
              "[[2, 4, 6], [8, 10, 12], [14, 16, 18]]"
            ]
          },
          "metadata": {},
          "execution_count": 49
        }
      ]
    },
    {
      "cell_type": "code",
      "source": [
        "data = [[1, 2, 3],\n",
        "       [4, 5, 6],\n",
        "       [7, 8, 9]]\n",
        "\n",
        "for i in range(3):\n",
        "    data[i][0] *= 2\n",
        "    data[i][1] *= 2\n",
        "    data[i][2] *= 2\n",
        "\n",
        "data"
      ],
      "metadata": {
        "colab": {
          "base_uri": "https://localhost:8080/"
        },
        "id": "MVj3SosbHpAx",
        "outputId": "82d4bf87-22be-473e-e89d-1d6cb9d1dd6f"
      },
      "execution_count": 51,
      "outputs": [
        {
          "output_type": "execute_result",
          "data": {
            "text/plain": [
              "[[2, 4, 6], [8, 10, 12], [14, 16, 18]]"
            ]
          },
          "metadata": {},
          "execution_count": 51
        }
      ]
    },
    {
      "cell_type": "code",
      "source": [
        "data = [[1, 2, 3],\n",
        "       [4, 5, 6],\n",
        "       [7, 8, 9]]\n",
        "\n",
        "for i in range(3):\n",
        "    for j in range(3):\n",
        "        data[i][j] *= 2\n",
        "    \n",
        "data"
      ],
      "metadata": {
        "colab": {
          "base_uri": "https://localhost:8080/"
        },
        "id": "wDEKPH70H27t",
        "outputId": "bc00eb5b-5528-4c24-c8fc-505f367556e5"
      },
      "execution_count": 52,
      "outputs": [
        {
          "output_type": "execute_result",
          "data": {
            "text/plain": [
              "[[2, 4, 6], [8, 10, 12], [14, 16, 18]]"
            ]
          },
          "metadata": {},
          "execution_count": 52
        }
      ]
    },
    {
      "cell_type": "code",
      "source": [
        "'''\n",
        "3                       == 스칼라\n",
        "[3, 4]                  == 벡터\n",
        "[[1, 2, 3],             == 메트릭스(행렬)\n",
        " [4, 5, 6],\n",
        " [7, 8, 9]]\n",
        "[[[1], [2], [3]],       == 텐서(다차원, 3차원 이상)\n",
        " [[4], [5], [6]],\n",
        " [[7], [8], [9]]]\n",
        "\n",
        "텐서플로우 : 인공지능 중 유명한 라이브러리\n",
        "'''"
      ],
      "metadata": {
        "id": "OQk9Sjr5Ikuv"
      },
      "execution_count": null,
      "outputs": []
    },
    {
      "cell_type": "code",
      "source": [
        "# 리스트에서 주의해야하는 연산\n",
        "x = [10] * 3\n",
        "x"
      ],
      "metadata": {
        "colab": {
          "base_uri": "https://localhost:8080/"
        },
        "id": "mHaomN4fJbsO",
        "outputId": "642e1969-ca86-4fe8-ae04-08f1056f636b"
      },
      "execution_count": 55,
      "outputs": [
        {
          "output_type": "execute_result",
          "data": {
            "text/plain": [
              "[10, 10, 10]"
            ]
          },
          "metadata": {},
          "execution_count": 55
        }
      ]
    },
    {
      "cell_type": "code",
      "source": [
        "x[0] = 100\n",
        "x"
      ],
      "metadata": {
        "colab": {
          "base_uri": "https://localhost:8080/"
        },
        "id": "b5fvhC1SJjbw",
        "outputId": "a1f9fff0-3198-4d5c-de64-31853e8f9c21"
      },
      "execution_count": 56,
      "outputs": [
        {
          "output_type": "execute_result",
          "data": {
            "text/plain": [
              "[100, 10, 10]"
            ]
          },
          "metadata": {},
          "execution_count": 56
        }
      ]
    },
    {
      "cell_type": "code",
      "source": [
        "x = [[10] * 2] * 3\n",
        "x"
      ],
      "metadata": {
        "colab": {
          "base_uri": "https://localhost:8080/"
        },
        "id": "seJi_OmKJrQ9",
        "outputId": "2d618592-d449-4944-ffee-2985af16a49d"
      },
      "execution_count": 57,
      "outputs": [
        {
          "output_type": "execute_result",
          "data": {
            "text/plain": [
              "[[10, 10], [10, 10], [10, 10]]"
            ]
          },
          "metadata": {},
          "execution_count": 57
        }
      ]
    },
    {
      "cell_type": "code",
      "source": [
        "x[0][0] = 100\n",
        "x"
      ],
      "metadata": {
        "colab": {
          "base_uri": "https://localhost:8080/"
        },
        "id": "pPWG-i1aJuHU",
        "outputId": "15448ee3-293e-473f-a03e-03634a5a1f16"
      },
      "execution_count": 59,
      "outputs": [
        {
          "output_type": "execute_result",
          "data": {
            "text/plain": [
              "[[100, 10], [100, 10], [100, 10]]"
            ]
          },
          "metadata": {},
          "execution_count": 59
        }
      ]
    },
    {
      "cell_type": "code",
      "source": [
        "x = [[[10] * 3] * 3] * 4\n",
        "x[0][0][0] = 1000\n",
        "x"
      ],
      "metadata": {
        "colab": {
          "base_uri": "https://localhost:8080/"
        },
        "id": "H-Y5nBp0J0M9",
        "outputId": "1433dc81-b4ed-4c1c-9e41-54d103a78e04"
      },
      "execution_count": 60,
      "outputs": [
        {
          "output_type": "execute_result",
          "data": {
            "text/plain": [
              "[[[1000, 10, 10], [1000, 10, 10], [1000, 10, 10]],\n",
              " [[1000, 10, 10], [1000, 10, 10], [1000, 10, 10]],\n",
              " [[1000, 10, 10], [1000, 10, 10], [1000, 10, 10]],\n",
              " [[1000, 10, 10], [1000, 10, 10], [1000, 10, 10]]]"
            ]
          },
          "metadata": {},
          "execution_count": 60
        }
      ]
    },
    {
      "cell_type": "code",
      "source": [
        "id(x[0][0]), id(x[0][1])"
      ],
      "metadata": {
        "colab": {
          "base_uri": "https://localhost:8080/"
        },
        "id": "7MjwC2-sJ9uq",
        "outputId": "9cd04393-93e2-4e6a-cff0-6970d829b149"
      },
      "execution_count": 61,
      "outputs": [
        {
          "output_type": "execute_result",
          "data": {
            "text/plain": [
              "(140396779919744, 140396779919744)"
            ]
          },
          "metadata": {},
          "execution_count": 61
        }
      ]
    },
    {
      "cell_type": "code",
      "source": [
        "l = [10, 20, 30]\n",
        "type(l), dir(l), help(l)"
      ],
      "metadata": {
        "colab": {
          "base_uri": "https://localhost:8080/"
        },
        "id": "Qm7CBc1eKJ-3",
        "outputId": "74d3cccf-d3c0-427f-eaaa-7bbe61d82807"
      },
      "execution_count": 63,
      "outputs": [
        {
          "output_type": "stream",
          "name": "stdout",
          "text": [
            "Help on list object:\n",
            "\n",
            "class list(object)\n",
            " |  list(iterable=(), /)\n",
            " |  \n",
            " |  Built-in mutable sequence.\n",
            " |  \n",
            " |  If no argument is given, the constructor creates a new empty list.\n",
            " |  The argument must be an iterable if specified.\n",
            " |  \n",
            " |  Methods defined here:\n",
            " |  \n",
            " |  __add__(self, value, /)\n",
            " |      Return self+value.\n",
            " |  \n",
            " |  __contains__(self, key, /)\n",
            " |      Return key in self.\n",
            " |  \n",
            " |  __delitem__(self, key, /)\n",
            " |      Delete self[key].\n",
            " |  \n",
            " |  __eq__(self, value, /)\n",
            " |      Return self==value.\n",
            " |  \n",
            " |  __ge__(self, value, /)\n",
            " |      Return self>=value.\n",
            " |  \n",
            " |  __getattribute__(self, name, /)\n",
            " |      Return getattr(self, name).\n",
            " |  \n",
            " |  __getitem__(...)\n",
            " |      x.__getitem__(y) <==> x[y]\n",
            " |  \n",
            " |  __gt__(self, value, /)\n",
            " |      Return self>value.\n",
            " |  \n",
            " |  __iadd__(self, value, /)\n",
            " |      Implement self+=value.\n",
            " |  \n",
            " |  __imul__(self, value, /)\n",
            " |      Implement self*=value.\n",
            " |  \n",
            " |  __init__(self, /, *args, **kwargs)\n",
            " |      Initialize self.  See help(type(self)) for accurate signature.\n",
            " |  \n",
            " |  __iter__(self, /)\n",
            " |      Implement iter(self).\n",
            " |  \n",
            " |  __le__(self, value, /)\n",
            " |      Return self<=value.\n",
            " |  \n",
            " |  __len__(self, /)\n",
            " |      Return len(self).\n",
            " |  \n",
            " |  __lt__(self, value, /)\n",
            " |      Return self<value.\n",
            " |  \n",
            " |  __mul__(self, value, /)\n",
            " |      Return self*value.\n",
            " |  \n",
            " |  __ne__(self, value, /)\n",
            " |      Return self!=value.\n",
            " |  \n",
            " |  __repr__(self, /)\n",
            " |      Return repr(self).\n",
            " |  \n",
            " |  __reversed__(self, /)\n",
            " |      Return a reverse iterator over the list.\n",
            " |  \n",
            " |  __rmul__(self, value, /)\n",
            " |      Return value*self.\n",
            " |  \n",
            " |  __setitem__(self, key, value, /)\n",
            " |      Set self[key] to value.\n",
            " |  \n",
            " |  __sizeof__(self, /)\n",
            " |      Return the size of the list in memory, in bytes.\n",
            " |  \n",
            " |  append(self, object, /)\n",
            " |      Append object to the end of the list.\n",
            " |  \n",
            " |  clear(self, /)\n",
            " |      Remove all items from list.\n",
            " |  \n",
            " |  copy(self, /)\n",
            " |      Return a shallow copy of the list.\n",
            " |  \n",
            " |  count(self, value, /)\n",
            " |      Return number of occurrences of value.\n",
            " |  \n",
            " |  extend(self, iterable, /)\n",
            " |      Extend list by appending elements from the iterable.\n",
            " |  \n",
            " |  index(self, value, start=0, stop=9223372036854775807, /)\n",
            " |      Return first index of value.\n",
            " |      \n",
            " |      Raises ValueError if the value is not present.\n",
            " |  \n",
            " |  insert(self, index, object, /)\n",
            " |      Insert object before index.\n",
            " |  \n",
            " |  pop(self, index=-1, /)\n",
            " |      Remove and return item at index (default last).\n",
            " |      \n",
            " |      Raises IndexError if list is empty or index is out of range.\n",
            " |  \n",
            " |  remove(self, value, /)\n",
            " |      Remove first occurrence of value.\n",
            " |      \n",
            " |      Raises ValueError if the value is not present.\n",
            " |  \n",
            " |  reverse(self, /)\n",
            " |      Reverse *IN PLACE*.\n",
            " |  \n",
            " |  sort(self, /, *, key=None, reverse=False)\n",
            " |      Sort the list in ascending order and return None.\n",
            " |      \n",
            " |      The sort is in-place (i.e. the list itself is modified) and stable (i.e. the\n",
            " |      order of two equal elements is maintained).\n",
            " |      \n",
            " |      If a key function is given, apply it once to each list item and sort them,\n",
            " |      ascending or descending, according to their function values.\n",
            " |      \n",
            " |      The reverse flag can be set to sort in descending order.\n",
            " |  \n",
            " |  ----------------------------------------------------------------------\n",
            " |  Class methods defined here:\n",
            " |  \n",
            " |  __class_getitem__(...) from builtins.type\n",
            " |      See PEP 585\n",
            " |  \n",
            " |  ----------------------------------------------------------------------\n",
            " |  Static methods defined here:\n",
            " |  \n",
            " |  __new__(*args, **kwargs) from builtins.type\n",
            " |      Create and return a new object.  See help(type) for accurate signature.\n",
            " |  \n",
            " |  ----------------------------------------------------------------------\n",
            " |  Data and other attributes defined here:\n",
            " |  \n",
            " |  __hash__ = None\n",
            "\n"
          ]
        },
        {
          "output_type": "execute_result",
          "data": {
            "text/plain": [
              "(list,\n",
              " ['__add__',\n",
              "  '__class__',\n",
              "  '__class_getitem__',\n",
              "  '__contains__',\n",
              "  '__delattr__',\n",
              "  '__delitem__',\n",
              "  '__dir__',\n",
              "  '__doc__',\n",
              "  '__eq__',\n",
              "  '__format__',\n",
              "  '__ge__',\n",
              "  '__getattribute__',\n",
              "  '__getitem__',\n",
              "  '__gt__',\n",
              "  '__hash__',\n",
              "  '__iadd__',\n",
              "  '__imul__',\n",
              "  '__init__',\n",
              "  '__init_subclass__',\n",
              "  '__iter__',\n",
              "  '__le__',\n",
              "  '__len__',\n",
              "  '__lt__',\n",
              "  '__mul__',\n",
              "  '__ne__',\n",
              "  '__new__',\n",
              "  '__reduce__',\n",
              "  '__reduce_ex__',\n",
              "  '__repr__',\n",
              "  '__reversed__',\n",
              "  '__rmul__',\n",
              "  '__setattr__',\n",
              "  '__setitem__',\n",
              "  '__sizeof__',\n",
              "  '__str__',\n",
              "  '__subclasshook__',\n",
              "  'append',\n",
              "  'clear',\n",
              "  'copy',\n",
              "  'count',\n",
              "  'extend',\n",
              "  'index',\n",
              "  'insert',\n",
              "  'pop',\n",
              "  'remove',\n",
              "  'reverse',\n",
              "  'sort'],\n",
              " None)"
            ]
          },
          "metadata": {},
          "execution_count": 63
        }
      ]
    },
    {
      "cell_type": "markdown",
      "source": [
        "## 리스트의 메서드"
      ],
      "metadata": {
        "id": "dW6jRMbHNcEg"
      }
    },
    {
      "cell_type": "code",
      "source": [
        "# 'append', 'clear', 'copy', 'count', 'extend', 'index',\n",
        "# 'insert', 'pop', 'remove', 'reverse', 'sort'"
      ],
      "metadata": {
        "id": "MgCnno70NOVZ"
      },
      "execution_count": null,
      "outputs": []
    },
    {
      "cell_type": "code",
      "source": [
        "l = [1, 2, 3]\n",
        "l.append(4)\n",
        "l"
      ],
      "metadata": {
        "colab": {
          "base_uri": "https://localhost:8080/"
        },
        "id": "Sm_bCrQ4NsZm",
        "outputId": "1b0175fe-b60b-4108-ac6c-2e664b51a46d"
      },
      "execution_count": 64,
      "outputs": [
        {
          "output_type": "execute_result",
          "data": {
            "text/plain": [
              "[1, 2, 3, 4]"
            ]
          },
          "metadata": {},
          "execution_count": 64
        }
      ]
    },
    {
      "cell_type": "code",
      "source": [
        "l = [1, 2, 3]\n",
        "l.append([1, 2, 3])\n",
        "l"
      ],
      "metadata": {
        "colab": {
          "base_uri": "https://localhost:8080/"
        },
        "id": "8RK14aaDNsS8",
        "outputId": "b67612af-3328-4bdd-f744-88c91a0c11a4"
      },
      "execution_count": 65,
      "outputs": [
        {
          "output_type": "execute_result",
          "data": {
            "text/plain": [
              "[1, 2, 3, [1, 2, 3]]"
            ]
          },
          "metadata": {},
          "execution_count": 65
        }
      ]
    },
    {
      "cell_type": "code",
      "source": [
        "l = [1, 2, 3]\n",
        "l.extend(4) #error\n",
        "l"
      ],
      "metadata": {
        "id": "TfHrUvDON2-u"
      },
      "execution_count": null,
      "outputs": []
    },
    {
      "cell_type": "code",
      "source": [
        "l = [1, 2, 3]\n",
        "l.extend('hello')\n",
        "l"
      ],
      "metadata": {
        "colab": {
          "base_uri": "https://localhost:8080/"
        },
        "id": "feYsCoaGOHdX",
        "outputId": "3ff6c5d5-508f-4707-f634-8b39bae603bb"
      },
      "execution_count": 66,
      "outputs": [
        {
          "output_type": "execute_result",
          "data": {
            "text/plain": [
              "[1, 2, 3, 'h', 'e', 'l', 'l', 'o']"
            ]
          },
          "metadata": {},
          "execution_count": 66
        }
      ]
    },
    {
      "cell_type": "code",
      "source": [
        "l = [1, 2, 3]\n",
        "l.extend({10, 20, 30})\n",
        "l"
      ],
      "metadata": {
        "colab": {
          "base_uri": "https://localhost:8080/"
        },
        "id": "ncwoKYlAON2c",
        "outputId": "e032aaaf-3393-452e-c317-5914105d95ef"
      },
      "execution_count": 67,
      "outputs": [
        {
          "output_type": "execute_result",
          "data": {
            "text/plain": [
              "[1, 2, 3, 10, 20, 30]"
            ]
          },
          "metadata": {},
          "execution_count": 67
        }
      ]
    },
    {
      "cell_type": "code",
      "source": [
        "l = [1, 2, 3]\n",
        "l.clear()\n",
        "l"
      ],
      "metadata": {
        "colab": {
          "base_uri": "https://localhost:8080/"
        },
        "id": "X9jtmFZhPAFw",
        "outputId": "1763db99-c4d0-492e-c030-7831a83264e3"
      },
      "execution_count": 68,
      "outputs": [
        {
          "output_type": "execute_result",
          "data": {
            "text/plain": [
              "[]"
            ]
          },
          "metadata": {},
          "execution_count": 68
        }
      ]
    },
    {
      "cell_type": "code",
      "source": [
        "a = [['바나나', 1000],['수박', 2000],['딸기',3000]]\n",
        "b = a\n",
        "b[0] = ['바나나', 2000]\n",
        "b, a"
      ],
      "metadata": {
        "colab": {
          "base_uri": "https://localhost:8080/"
        },
        "id": "ueX7fZNXPDdi",
        "outputId": "aecb7c3a-1733-4a69-c3dc-084ceb85e869"
      },
      "execution_count": 70,
      "outputs": [
        {
          "output_type": "execute_result",
          "data": {
            "text/plain": [
              "([['바나나', 2000], ['수박', 2000], ['딸기', 3000]],\n",
              " [['바나나', 2000], ['수박', 2000], ['딸기', 3000]])"
            ]
          },
          "metadata": {},
          "execution_count": 70
        }
      ]
    },
    {
      "cell_type": "code",
      "source": [
        "a = [['바나나', 1000],['수박', 2000],['딸기',3000]]\n",
        "b = a.copy()  # 얕은 복사\n",
        "b[0] = ['바나나', 2000]\n",
        "b, a"
      ],
      "metadata": {
        "colab": {
          "base_uri": "https://localhost:8080/"
        },
        "id": "JO46cMuGPsdH",
        "outputId": "d1ed3ef7-a46e-49b9-f58f-0da91afe5ce3"
      },
      "execution_count": 71,
      "outputs": [
        {
          "output_type": "execute_result",
          "data": {
            "text/plain": [
              "([['바나나', 2000], ['수박', 2000], ['딸기', 3000]],\n",
              " [['바나나', 1000], ['수박', 2000], ['딸기', 3000]])"
            ]
          },
          "metadata": {},
          "execution_count": 71
        }
      ]
    },
    {
      "cell_type": "code",
      "source": [
        "a = [['바나나', 1000],['수박', 2000],['딸기',3000]]\n",
        "b = a[:] # 얕은 복사 처음부터 끝까지 복사 슬라이실 했어도 다른 값이다\n",
        "b[0] = ['바나나', 2000]\n",
        "b, a"
      ],
      "metadata": {
        "id": "LAHt-klSQC4A"
      },
      "execution_count": null,
      "outputs": []
    },
    {
      "cell_type": "code",
      "source": [
        "l = [10, 20, 30, 40, 50]\n",
        "l[:3]\n",
        "ll = l[:]\n",
        "ll"
      ],
      "metadata": {
        "colab": {
          "base_uri": "https://localhost:8080/"
        },
        "id": "PPBWTPdcQaZQ",
        "outputId": "55c6e6c1-a294-4018-faec-ff7fec689ffe"
      },
      "execution_count": 72,
      "outputs": [
        {
          "output_type": "execute_result",
          "data": {
            "text/plain": [
              "[10, 20, 30, 40, 50]"
            ]
          },
          "metadata": {},
          "execution_count": 72
        }
      ]
    },
    {
      "cell_type": "code",
      "source": [
        "id(l), id(ll)"
      ],
      "metadata": {
        "colab": {
          "base_uri": "https://localhost:8080/"
        },
        "id": "vjlMFUzjQlno",
        "outputId": "ddcc27ee-299d-4c53-a27c-90a027e36df3"
      },
      "execution_count": 73,
      "outputs": [
        {
          "output_type": "execute_result",
          "data": {
            "text/plain": [
              "(140396781709696, 140396779830976)"
            ]
          },
          "metadata": {},
          "execution_count": 73
        }
      ]
    },
    {
      "cell_type": "code",
      "source": [
        "# 이 이상의 내용은 뒤에 얕은 복사, 깊은 복사에서 나온다\n",
        "a = [['바나나', 1000],['수박', 2000],['딸기',3000]]\n",
        "# b = a[:]  # 얕은 복사\n",
        "b = a.copy() # 얕은 복사\n",
        "id(b[0]), id(a[0])\n",
        "id(b[0][0]), id(a[0][0])\n",
        "b[0][1] = 3000\n",
        "b, a"
      ],
      "metadata": {
        "colab": {
          "base_uri": "https://localhost:8080/"
        },
        "id": "Wy8n1G2BQ2RN",
        "outputId": "788a2362-fa63-4bef-aae6-d1c1303825fc"
      },
      "execution_count": 75,
      "outputs": [
        {
          "output_type": "execute_result",
          "data": {
            "text/plain": [
              "([['바나나', 3000], ['수박', 2000], ['딸기', 3000]],\n",
              " [['바나나', 3000], ['수박', 2000], ['딸기', 3000]])"
            ]
          },
          "metadata": {},
          "execution_count": 75
        }
      ]
    },
    {
      "cell_type": "code",
      "source": [
        "l = [1, 2, 3]\n",
        "ll = l.copy()\n",
        "l[0] = 1000\n",
        "l, ll"
      ],
      "metadata": {
        "colab": {
          "base_uri": "https://localhost:8080/"
        },
        "id": "-n-yTrIaRj7K",
        "outputId": "f062b3e5-1571-4d71-99ae-fa2f944bfc2a"
      },
      "execution_count": 76,
      "outputs": [
        {
          "output_type": "execute_result",
          "data": {
            "text/plain": [
              "([1000, 2, 3], [1, 2, 3])"
            ]
          },
          "metadata": {},
          "execution_count": 76
        }
      ]
    },
    {
      "cell_type": "code",
      "source": [
        "l = [1, 2, 3, 1, 1, 1, 2, 3, 2, 3, 1, 1]\n",
        "l.count(1)"
      ],
      "metadata": {
        "colab": {
          "base_uri": "https://localhost:8080/"
        },
        "id": "XW31qHdjR7kU",
        "outputId": "e073092e-d37c-4b2c-c2fb-75aaa9d29259"
      },
      "execution_count": 77,
      "outputs": [
        {
          "output_type": "execute_result",
          "data": {
            "text/plain": [
              "6"
            ]
          },
          "metadata": {},
          "execution_count": 77
        }
      ]
    },
    {
      "cell_type": "code",
      "source": [
        "a = [10, 1, 1, 11, 2, 23, 12]\n",
        "a.index(11)\n",
        "a[:a.index(11)]"
      ],
      "metadata": {
        "colab": {
          "base_uri": "https://localhost:8080/"
        },
        "id": "1Lh29PsRS4_O",
        "outputId": "7d1f0435-250f-4371-f113-a7c6d8ce9b63"
      },
      "execution_count": 79,
      "outputs": [
        {
          "output_type": "execute_result",
          "data": {
            "text/plain": [
              "[10, 1, 1]"
            ]
          },
          "metadata": {},
          "execution_count": 79
        }
      ]
    },
    {
      "cell_type": "code",
      "source": [
        "a = [10, 20, 30]\n",
        "a.insert(2, 1000) # insert는 값을 지우진 않는다\n",
        "a"
      ],
      "metadata": {
        "colab": {
          "base_uri": "https://localhost:8080/"
        },
        "id": "CRZ3TH1xTWt3",
        "outputId": "e0d8d279-0557-4d98-90f0-870eb5329d02"
      },
      "execution_count": 80,
      "outputs": [
        {
          "output_type": "execute_result",
          "data": {
            "text/plain": [
              "[10, 20, 1000, 30]"
            ]
          },
          "metadata": {},
          "execution_count": 80
        }
      ]
    },
    {
      "cell_type": "code",
      "source": [
        "l = [10, 20, 30, 40, 50]\n",
        "l.pop()"
      ],
      "metadata": {
        "colab": {
          "base_uri": "https://localhost:8080/"
        },
        "id": "qm1oxYZCTqni",
        "outputId": "7ed33f50-4a03-471c-943d-525935f893de"
      },
      "execution_count": 82,
      "outputs": [
        {
          "output_type": "execute_result",
          "data": {
            "text/plain": [
              "50"
            ]
          },
          "metadata": {},
          "execution_count": 82
        }
      ]
    },
    {
      "cell_type": "code",
      "source": [
        "l"
      ],
      "metadata": {
        "colab": {
          "base_uri": "https://localhost:8080/"
        },
        "id": "cHjz-OqHTz_y",
        "outputId": "8adde807-1efb-44a5-c6a8-58afbe174f34"
      },
      "execution_count": 83,
      "outputs": [
        {
          "output_type": "execute_result",
          "data": {
            "text/plain": [
              "[10, 20, 30, 40]"
            ]
          },
          "metadata": {},
          "execution_count": 83
        }
      ]
    },
    {
      "cell_type": "code",
      "source": [
        "l = [10, 20, 30, 40, 50]\n",
        "l.pop(0) # 인덱스로 뽑는거 자주 사용한다\n",
        "l"
      ],
      "metadata": {
        "colab": {
          "base_uri": "https://localhost:8080/"
        },
        "id": "JqGGxDQlT1Jo",
        "outputId": "c2d7ef9b-6a82-4e2a-e3f6-bb88c5751022"
      },
      "execution_count": 85,
      "outputs": [
        {
          "output_type": "execute_result",
          "data": {
            "text/plain": [
              "[20, 30, 40, 50]"
            ]
          },
          "metadata": {},
          "execution_count": 85
        }
      ]
    },
    {
      "cell_type": "code",
      "source": [
        "# append : 맨 뒤에 추가\n",
        "# pop : 맨 뒤에서 뽑아내고 index가 들아갈 경우 index에서 뽑는다\n",
        "# insert : index에 값을 삽입하고 원래 있던 값을 뒤로 밀어낸다"
      ],
      "metadata": {
        "id": "rYZ7BlchT_rb"
      },
      "execution_count": null,
      "outputs": []
    },
    {
      "cell_type": "code",
      "source": [
        "l = [10, 20, 30, 40, 50]\n",
        "l.remove(20) # 예를 들어 for를 돌면서 remove를 하지 않기 바람\n",
        "l"
      ],
      "metadata": {
        "colab": {
          "base_uri": "https://localhost:8080/"
        },
        "id": "lFua7MAeUS_H",
        "outputId": "91b1cab8-2c0b-42b9-abd6-6fdf08ff4c59"
      },
      "execution_count": 86,
      "outputs": [
        {
          "output_type": "execute_result",
          "data": {
            "text/plain": [
              "[10, 30, 40, 50]"
            ]
          },
          "metadata": {},
          "execution_count": 86
        }
      ]
    },
    {
      "cell_type": "code",
      "source": [
        "l = [20, 20, 20, 20]\n",
        "for i in range(len(l)):\n",
        "    print(len(l)) # len가 계속 변하기 때문에 의도치 않은 에러가 날 수 있어요.\n",
        "    l.remove(20)"
      ],
      "metadata": {
        "colab": {
          "base_uri": "https://localhost:8080/"
        },
        "id": "_koSK6K1U-_p",
        "outputId": "c5198bf6-0324-42be-a1b3-e79bf630d8be"
      },
      "execution_count": 87,
      "outputs": [
        {
          "output_type": "stream",
          "name": "stdout",
          "text": [
            "4\n",
            "3\n",
            "2\n",
            "1\n"
          ]
        }
      ]
    },
    {
      "cell_type": "code",
      "source": [
        "# 무한 반복입니다.\n",
        "l = [20, 20, 20, 20]\n",
        "for i in l:\n",
        "    print(len(l))\n",
        "    l.append(20)"
      ],
      "metadata": {
        "id": "3f8J99raVtAd"
      },
      "execution_count": null,
      "outputs": []
    },
    {
      "cell_type": "code",
      "source": [
        "l =[10, 20, 30, 40, 50, 20, 20, 20]\n",
        "for i in range(l.count(20)):\n",
        "    l.remove(20)\n",
        "\n",
        "l"
      ],
      "metadata": {
        "colab": {
          "base_uri": "https://localhost:8080/"
        },
        "id": "zFs6cds3FbpT",
        "outputId": "0d9aa7c5-cc0e-47ae-a019-5931a2f7007d"
      },
      "execution_count": 3,
      "outputs": [
        {
          "output_type": "execute_result",
          "data": {
            "text/plain": [
              "[10, 30, 40, 50]"
            ]
          },
          "metadata": {},
          "execution_count": 3
        }
      ]
    },
    {
      "cell_type": "code",
      "source": [
        "# 실무에서 어떤 값을 전부 없애거나 \n",
        "# 어떤 값을 전부 찾는 것\n",
        "# 조건에 부합하는 것\n",
        "def f(x):\n",
        "    return x != 20\n",
        "\n",
        "# True인 것만 반환해준다.\n",
        "list(filter(f,[10, 20, 30, 40, 50, 20, 20, 20]))"
      ],
      "metadata": {
        "colab": {
          "base_uri": "https://localhost:8080/"
        },
        "id": "kxy3IOYDFtby",
        "outputId": "323c8bc6-0f03-4f2f-b8c2-218ca166e3aa"
      },
      "execution_count": 4,
      "outputs": [
        {
          "output_type": "execute_result",
          "data": {
            "text/plain": [
              "[10, 30, 40, 50]"
            ]
          },
          "metadata": {},
          "execution_count": 4
        }
      ]
    },
    {
      "cell_type": "code",
      "source": [
        "filter(f,[10, 20, 30, 40, 50, 20, 20, 20])"
      ],
      "metadata": {
        "colab": {
          "base_uri": "https://localhost:8080/"
        },
        "id": "G4Tnuf9aGz0G",
        "outputId": "4070c948-d778-47c9-81ce-22340a8552ae"
      },
      "execution_count": 5,
      "outputs": [
        {
          "output_type": "execute_result",
          "data": {
            "text/plain": [
              "<filter at 0x7fc64871fe50>"
            ]
          },
          "metadata": {},
          "execution_count": 5
        }
      ]
    },
    {
      "cell_type": "code",
      "source": [
        "range(100)"
      ],
      "metadata": {
        "colab": {
          "base_uri": "https://localhost:8080/"
        },
        "id": "sDGRj_5eG4OU",
        "outputId": "bd6889fb-2efc-4308-f029-26b13cd4a863"
      },
      "execution_count": 6,
      "outputs": [
        {
          "output_type": "execute_result",
          "data": {
            "text/plain": [
              "range(0, 100)"
            ]
          },
          "metadata": {},
          "execution_count": 6
        }
      ]
    },
    {
      "cell_type": "code",
      "source": [
        "for i in filter(f,[10, 20, 30, 40, 50, 20, 20, 20]):\n",
        "    print()"
      ],
      "metadata": {
        "id": "F2mcQ5khHCzO"
      },
      "execution_count": null,
      "outputs": []
    },
    {
      "cell_type": "code",
      "source": [
        "l = [5, 6, 4, 3, 8, 9, 1]\n",
        "l.reverse() # 역 정렬이 아니고 역순이며 원본을 만져서 바꾼다.\n",
        "l"
      ],
      "metadata": {
        "colab": {
          "base_uri": "https://localhost:8080/"
        },
        "id": "oqMl5GCJV9Ns",
        "outputId": "bc81f351-916a-4c60-a6a6-ce4015eed1a7"
      },
      "execution_count": 88,
      "outputs": [
        {
          "output_type": "execute_result",
          "data": {
            "text/plain": [
              "[1, 9, 8, 3, 4, 6, 5]"
            ]
          },
          "metadata": {},
          "execution_count": 88
        }
      ]
    },
    {
      "cell_type": "code",
      "source": [
        "l = [5, 6, 4, 3, 8, 9, 1]\n",
        "print(list(reversed(l))) # 역 정렬이 아니고 역순이며 원본을 만지지 않는다.\n",
        "print(l)"
      ],
      "metadata": {
        "colab": {
          "base_uri": "https://localhost:8080/"
        },
        "id": "BlsF1Ob6WL5e",
        "outputId": "5cac8c30-c58c-4bc9-f663-a8693aa20127"
      },
      "execution_count": 90,
      "outputs": [
        {
          "output_type": "stream",
          "name": "stdout",
          "text": [
            "[1, 9, 8, 3, 4, 6, 5]\n",
            "[5, 6, 4, 3, 8, 9, 1]\n"
          ]
        }
      ]
    },
    {
      "cell_type": "code",
      "source": [
        "# l.reverse() : 리스트에서 메서드이며 return None이다. 원본이 역순이 되고 원본을 만진다\n",
        "# reversed() : 빌트인펑션이며 return 역순이다. 원본을 만지지 않는다."
      ],
      "metadata": {
        "id": "XNklOM2yWf4N"
      },
      "execution_count": null,
      "outputs": []
    },
    {
      "cell_type": "code",
      "source": [
        "l = [5, 6, 4, 3, 8, 9, 1]\n",
        "print(l.reverse())\n",
        "print(list(reversed(l)))\n",
        "print(l)\n",
        "l"
      ],
      "metadata": {
        "colab": {
          "base_uri": "https://localhost:8080/"
        },
        "id": "Vd7T6ZQBW2y-",
        "outputId": "d4d793b7-dafc-41eb-cda1-4864ca8350ba"
      },
      "execution_count": 91,
      "outputs": [
        {
          "output_type": "stream",
          "name": "stdout",
          "text": [
            "None\n"
          ]
        },
        {
          "output_type": "execute_result",
          "data": {
            "text/plain": [
              "[1, 9, 8, 3, 4, 6, 5]"
            ]
          },
          "metadata": {},
          "execution_count": 91
        }
      ]
    },
    {
      "cell_type": "code",
      "source": [
        "reversed(l)"
      ],
      "metadata": {
        "id": "AAFfRB7nXdey"
      },
      "execution_count": null,
      "outputs": []
    },
    {
      "cell_type": "code",
      "source": [
        "# 연습문제\n",
        "\n",
        "l = [[1, 10, 'leehojun'], \n",
        "     [20, 30, 'hojun'], \n",
        "     [10, 20, 'weniv!'], \n",
        "     [1, 2, 'hello world'], \n",
        "     [55, 11, 'sun']]\n",
        "\n",
        "# 1. 글자 수 대로 정렬해주세요.\n",
        "def f(x):\n",
        "    return len(x[2])\n",
        "\n",
        "print(sorted(l, key = f, reverse = False))\n",
        "print(sorted(l, key = lambda x:len(x[2]), reverse = False))\n",
        "\n",
        "# 2. 맨 앞에 위치한 숫자대로 정렬해주세요.\n",
        "def f2(x):\n",
        "    return x[0]\n",
        "\n",
        "print(sorted(l)) # sorted는 다른거 안 해도 이렇게만 하면 기본적으로 맨앞 숫자 기준으로 정렬됨\n",
        "print(sorted(l, key=f2))\n",
        "print(sorted(l, key = lambda x:x[0])) \n",
        "\n",
        "# 3. 중앙에 위치한 값대로 정렬해주세요.\n",
        "\n",
        "def f3(x):\n",
        "    return x[1]\n",
        "\n",
        "print(sorted(l)) \n",
        "print(sorted(l, key=f2))\n",
        "print(sorted(l, key = lambda x:x[1])) \n",
        "\n",
        "\n",
        "# 4. 3개의 전체 합이 작은 순서대로 출력해주세요.\n",
        "\n",
        "l = [[1, 10, 32], \n",
        "     [20, 30, 11], \n",
        "     [10, 20, 22], \n",
        "     [1, 2, 13], \n",
        "     [55, 11, 44]]\n",
        "\n",
        "def f4(x):\n",
        "    return x[1] + x[1] + x[2]\n",
        "\n",
        "def f5(x):\n",
        "    return sum(x)\n",
        "\n",
        "print(sorted(l, key = f4)) \n",
        "print(sorted(l, key = f5))\n",
        "print(sorted(l, key = lambda x:sum(x))) \n",
        "print(sorted(l, key = sum))"
      ],
      "metadata": {
        "colab": {
          "base_uri": "https://localhost:8080/"
        },
        "id": "i90eDgK_Jh16",
        "outputId": "fbc3045f-9e8b-47a4-9c7a-f1269f83a863"
      },
      "execution_count": 13,
      "outputs": [
        {
          "output_type": "stream",
          "name": "stdout",
          "text": [
            "[[55, 11, 'sun'], [20, 30, 'hojun'], [10, 20, 'weniv!'], [1, 10, 'leehojun'], [1, 2, 'hello world']]\n",
            "[[55, 11, 'sun'], [20, 30, 'hojun'], [10, 20, 'weniv!'], [1, 10, 'leehojun'], [1, 2, 'hello world']]\n",
            "[[1, 2, 'hello world'], [1, 10, 'leehojun'], [10, 20, 'weniv!'], [20, 30, 'hojun'], [55, 11, 'sun']]\n",
            "[[1, 10, 'leehojun'], [1, 2, 'hello world'], [10, 20, 'weniv!'], [20, 30, 'hojun'], [55, 11, 'sun']]\n",
            "[[1, 10, 'leehojun'], [1, 2, 'hello world'], [10, 20, 'weniv!'], [20, 30, 'hojun'], [55, 11, 'sun']]\n",
            "[[1, 2, 'hello world'], [1, 10, 'leehojun'], [10, 20, 'weniv!'], [20, 30, 'hojun'], [55, 11, 'sun']]\n",
            "[[1, 10, 'leehojun'], [1, 2, 'hello world'], [10, 20, 'weniv!'], [20, 30, 'hojun'], [55, 11, 'sun']]\n",
            "[[1, 2, 'hello world'], [1, 10, 'leehojun'], [55, 11, 'sun'], [10, 20, 'weniv!'], [20, 30, 'hojun']]\n",
            "[[1, 2, 13], [1, 10, 32], [10, 20, 22], [55, 11, 44], [20, 30, 11]]\n",
            "[[1, 2, 13], [1, 10, 32], [10, 20, 22], [20, 30, 11], [55, 11, 44]]\n",
            "[[1, 2, 13], [1, 10, 32], [10, 20, 22], [20, 30, 11], [55, 11, 44]]\n",
            "[[1, 2, 13], [1, 10, 32], [10, 20, 22], [20, 30, 11], [55, 11, 44]]\n"
          ]
        }
      ]
    },
    {
      "cell_type": "code",
      "source": [
        "# https://codingdojang.com/scode/408?answer_mode=hide\n",
        "# 좌표 평면 문제가 나오면 차원 축소나 차원 확대가 가능환 문제인지 확인\n",
        "\n",
        "point = [1, 3, 4, 8, 13, 17, 20]\n",
        "point[1:]\n",
        "\n",
        "[1, 3, 4, 8, 13, 17, 20]\n",
        "[3, 4, 8, 13, 17, 20]"
      ],
      "metadata": {
        "colab": {
          "base_uri": "https://localhost:8080/"
        },
        "id": "K4tKEELaJtCv",
        "outputId": "eecf28d5-c585-4ea2-8702-ad853ed7fa0f"
      },
      "execution_count": 14,
      "outputs": [
        {
          "output_type": "execute_result",
          "data": {
            "text/plain": [
              "[3, 4, 8, 13, 17, 20]"
            ]
          },
          "metadata": {},
          "execution_count": 14
        }
      ]
    },
    {
      "cell_type": "code",
      "source": [
        "list(zip('hello', 'world'))"
      ],
      "metadata": {
        "colab": {
          "base_uri": "https://localhost:8080/"
        },
        "id": "jkTR5PWaOqm8",
        "outputId": "e9c8d380-d533-48d3-a7f6-c3cc2f25392f"
      },
      "execution_count": 15,
      "outputs": [
        {
          "output_type": "execute_result",
          "data": {
            "text/plain": [
              "[('h', 'w'), ('e', 'o'), ('l', 'r'), ('l', 'l'), ('o', 'd')]"
            ]
          },
          "metadata": {},
          "execution_count": 15
        }
      ]
    },
    {
      "cell_type": "code",
      "source": [
        "list(zip(point, point[1:]))"
      ],
      "metadata": {
        "colab": {
          "base_uri": "https://localhost:8080/"
        },
        "id": "tfJgFcAAOwQa",
        "outputId": "898e029c-ef67-4339-f82b-ac382c0183a1"
      },
      "execution_count": 16,
      "outputs": [
        {
          "output_type": "execute_result",
          "data": {
            "text/plain": [
              "[(1, 3), (3, 4), (4, 8), (8, 13), (13, 17), (17, 20)]"
            ]
          },
          "metadata": {},
          "execution_count": 16
        }
      ]
    },
    {
      "cell_type": "code",
      "source": [
        "def f(x):\n",
        "    return x[1] - x[0]\n",
        "\n",
        "sorted(zip(point, point[1:]), key = f)"
      ],
      "metadata": {
        "colab": {
          "base_uri": "https://localhost:8080/"
        },
        "id": "0XdvF53-O2rH",
        "outputId": "b80e8de5-1f33-40c1-ddc9-e8a1e2bf95bd"
      },
      "execution_count": 18,
      "outputs": [
        {
          "output_type": "execute_result",
          "data": {
            "text/plain": [
              "[(3, 4), (1, 3), (17, 20), (4, 8), (13, 17), (8, 13)]"
            ]
          },
          "metadata": {},
          "execution_count": 18
        }
      ]
    },
    {
      "cell_type": "code",
      "source": [
        "def f(x):\n",
        "    return x[1] - x[0]\n",
        "\n",
        "sorted(zip(point, point[1:]), key = f)[0]"
      ],
      "metadata": {
        "colab": {
          "base_uri": "https://localhost:8080/"
        },
        "id": "nluZ8Dh5R73V",
        "outputId": "cbb7bb17-0c2c-4f5c-a52a-56429cd94a3f"
      },
      "execution_count": 19,
      "outputs": [
        {
          "output_type": "execute_result",
          "data": {
            "text/plain": [
              "(3, 4)"
            ]
          },
          "metadata": {},
          "execution_count": 19
        }
      ]
    },
    {
      "cell_type": "code",
      "source": [
        "sorted(zip(point, point[1:]), key = lambda x:x[1]-x[0])[0]"
      ],
      "metadata": {
        "colab": {
          "base_uri": "https://localhost:8080/"
        },
        "id": "v4OT8xGoSAL-",
        "outputId": "b9693f1d-136d-49c2-ca5b-b80faf6bfeae"
      },
      "execution_count": 20,
      "outputs": [
        {
          "output_type": "execute_result",
          "data": {
            "text/plain": [
              "(3, 4)"
            ]
          },
          "metadata": {},
          "execution_count": 20
        }
      ]
    },
    {
      "cell_type": "code",
      "source": [
        "# 응급도\n",
        "# [3, 76, 24]\n",
        "# 우선순위\n",
        "# [3, 1, 2]\n",
        "\n",
        "l = [3, 76, 24]\n",
        "정렬된값 = sorted(l, reverse = True)\n",
        "정렬된값  # [76, 24, 3]\n",
        "# 우리가 원하는 값 [2, 0, 1]\n",
        "\n",
        "결과값 = [\n",
        "            정렬된값.index(l[0]),\n",
        "            정렬된값.index(l[1]),\n",
        "            정렬된값.index(l[2])\n",
        "        ]\n",
        "결과값"
      ],
      "metadata": {
        "colab": {
          "base_uri": "https://localhost:8080/"
        },
        "id": "wpmWgPV4TyR6",
        "outputId": "0250d309-d333-40d3-c2f8-fd5889f0a1f2"
      },
      "execution_count": 24,
      "outputs": [
        {
          "output_type": "execute_result",
          "data": {
            "text/plain": [
              "[2, 0, 1]"
            ]
          },
          "metadata": {},
          "execution_count": 24
        }
      ]
    },
    {
      "cell_type": "markdown",
      "source": [
        "## 오늘 배운 것 정리 (20230503)\n",
        "\n",
        "1. 함수\n",
        "    1. 코드 덩어리(정말 쉽게 설명하면)\n",
        "    2. 코드를 재사용 할 수 있으며, 실수를 줄일 수 있습니다.\n",
        "    3. 코드의 구조를 한 눈에 파악할 수 있습니다.\n",
        "    4. 형태\n",
        "        ```python\n",
        "        # 파선아실(파라미터는 선언할 때, 아규먼트는 실제)\n",
        "        def function(x, y):\n",
        "            z = x + y\n",
        "            return z\n",
        "        print(f'function(5, 7) = {function(5, 7)}')\n",
        "        ```\n",
        "    5. 함수 안에 함수와 함수 안에 변수는 밖에서 접근이 불가합니다.\n",
        "    6. 지역 변수와 전역 변수\n",
        "        * 전역변수 : 전역에서 접근할 수 있는 변수\n",
        "        * 지역변수 : 함수 내에서만 접근할 수 있는 변수\n",
        "        ```python\n",
        "        # 전역변수는 각 함수에서 접근은 가능하지만 수정이 되진 않습니다.\n",
        "        # only read\n",
        "        # global이라는 키워드로 밖에 있는 변수를 수정할 수도 있지만 권하지 않습니다.\n",
        "        # 권하지 않기에 요약자료에도 없습니다.\n",
        "        a = 100\n",
        "        def f():\n",
        "            a = a + 1\n",
        "        f()\n",
        "        ```\n",
        "    7. 재귀함수\n",
        "        * 내가 나를 호출하는 것입니다.\n",
        "        * 재귀 <-> for문은 대부분 호환이 가능합니다.\n",
        "        * 반복문 사용하시기를 권합니다!\n",
        "        * 어렵고 효율도 안좋아요! (얼마나 효율이 안좋은지도 확인해보겠습니다.)\n",
        "        * 필수적으로 사용하는 곳이 있습니다.\n",
        "        ```python\n",
        "        def f(n):\n",
        "            if n <= 1:\n",
        "                return 1\n",
        "            else:\n",
        "                return n * f(n-1)\n",
        "\n",
        "        f(5)\n",
        "        ```\n",
        "2. list (리스트)\n",
        "    * 순서를 가진 데이터들의 집합(Sequence)\n",
        "    * 리스트는 값의 변경\n",
        "    * 리스트 안에 리스트로 다차원의 리스트를 만드는 것도 가능\n",
        "    * 리스트 안에 다른 딕셔너리, 셋, 튜플 등을 넣는 것도 가능합니다\n",
        "    ```python\n",
        "    l = [10, 20, 30, 40]\n",
        "    print(l[0]) # 순서로 값 호출\n",
        "    l[0] = 1000 # 값의 변경 가능\n",
        "    print(l)\n",
        "\n",
        "    data = [[1, 2, 3], # 다차원 배열\n",
        "        [4, 5, 6],\n",
        "        [7, 8, 9]]\n",
        "\n",
        "    print(data)\n",
        "    ```\n",
        "    * 리스트 메서드\n",
        "        * append : 맨 뒤에 값 추가\n",
        "        * clear : 모든 값 지우기\n",
        "        * copy : 얕은 복사\n",
        "        * count : 갯수 세기\n",
        "        * extend : 확장하기(뒤에 순회 가능한 객체가 들어오면 순차적으로 추가)\n",
        "        * index : 위치 찾기\n",
        "        * insert : 삽입하기\n",
        "        * pop: 맨 뒤에서 값 꺼내기(index가 들어오면 index에서 값 꺼냄)\n",
        "        * remove : 값 지우기\n",
        "        * reverse : 역순\n",
        "        * sort : 정렬"
      ],
      "metadata": {
        "id": "kXMuC_U6rJDs"
      }
    },
    {
      "cell_type": "markdown",
      "source": [
        "## 깊은 복사와 얕은 복사\n",
        "* 얕은 복사는 한 뎁스만, 깊은 복사는 전부 복사"
      ],
      "metadata": {
        "id": "ZHBilJKcSWkI"
      }
    },
    {
      "cell_type": "code",
      "source": [
        "# 아무런 복사도 이뤄지지 않은 상태\n",
        "l = [[1, 2, 3], [4, 5, 6] ]\n",
        "ll = l\n",
        "ll[0][0] = 10\n",
        "l, ll"
      ],
      "metadata": {
        "colab": {
          "base_uri": "https://localhost:8080/"
        },
        "id": "XeEKAwTtWN-E",
        "outputId": "bcb1d9d0-f3db-4e45-ff5a-b89ffc8cdaf7"
      },
      "execution_count": 27,
      "outputs": [
        {
          "output_type": "execute_result",
          "data": {
            "text/plain": [
              "([[10, 2, 3], [4, 5, 6]], [[10, 2, 3], [4, 5, 6]])"
            ]
          },
          "metadata": {},
          "execution_count": 27
        }
      ]
    },
    {
      "cell_type": "code",
      "source": [
        "# 얕은 복사\n",
        "l = [1000, 2000, 3000, 4000, 5000, 6000] \n",
        "ll = l.copy()\n",
        "ll[0] = 10\n",
        "l, ll"
      ],
      "metadata": {
        "colab": {
          "base_uri": "https://localhost:8080/"
        },
        "id": "HUPpP7SsWoaG",
        "outputId": "74f6e394-7351-44fd-9b00-fa4fd395b3ad"
      },
      "execution_count": 31,
      "outputs": [
        {
          "output_type": "execute_result",
          "data": {
            "text/plain": [
              "([1, 2, 3, 4, 5, 6], [10, 2, 3, 4, 5, 6])"
            ]
          },
          "metadata": {},
          "execution_count": 31
        }
      ]
    },
    {
      "cell_type": "code",
      "source": [
        "# 얕은 복사\n",
        "l = [1000, 2000, 3000, 4000, 5000, 6000] \n",
        "ll = l.copy() # 같은 값이 나오니까 같은 객체를 가리키고있다...?? ㄴㄴ\n",
        "id(l[0]), id(ll[0])"
      ],
      "metadata": {
        "colab": {
          "base_uri": "https://localhost:8080/"
        },
        "id": "n1yDpF2zW9U6",
        "outputId": "518a168c-7a90-4ab3-f093-a9a6d9d80d40"
      },
      "execution_count": 32,
      "outputs": [
        {
          "output_type": "execute_result",
          "data": {
            "text/plain": [
              "(140490909860080, 140490909860080)"
            ]
          },
          "metadata": {},
          "execution_count": 32
        }
      ]
    },
    {
      "cell_type": "code",
      "source": [
        "# 얕은 복사\n",
        "l = [1000, 2000, 3000, 4000, 5000, 6000] \n",
        "ll = l.copy() \n",
        "id(l), id(ll)"
      ],
      "metadata": {
        "colab": {
          "base_uri": "https://localhost:8080/"
        },
        "id": "-JScPQuNXUwb",
        "outputId": "42846388-5b89-4c92-9fb9-645bda30b494"
      },
      "execution_count": 33,
      "outputs": [
        {
          "output_type": "execute_result",
          "data": {
            "text/plain": [
              "(140490446545152, 140489596099264)"
            ]
          },
          "metadata": {},
          "execution_count": 33
        }
      ]
    },
    {
      "cell_type": "code",
      "source": [
        "# 얕은 복사\n",
        "l = [[1, 2, 3], [4, 5, 6]]\n",
        "ll = l.copy()\n",
        "ll[0][0] = 10\n",
        "l, ll"
      ],
      "metadata": {
        "colab": {
          "base_uri": "https://localhost:8080/"
        },
        "id": "OWa9x107YeIr",
        "outputId": "a0f30f5c-71cb-4cbb-be45-a37fea138c6e"
      },
      "execution_count": 37,
      "outputs": [
        {
          "output_type": "execute_result",
          "data": {
            "text/plain": [
              "([[10, 2, 3], [4, 5, 6]], [[10, 2, 3], [4, 5, 6]])"
            ]
          },
          "metadata": {},
          "execution_count": 37
        }
      ]
    },
    {
      "cell_type": "code",
      "source": [
        "id(l[0]), id(ll[0])"
      ],
      "metadata": {
        "colab": {
          "base_uri": "https://localhost:8080/"
        },
        "id": "JDDq8q1BYmu-",
        "outputId": "ee425e56-b27d-4ca3-c2c4-e02a364fd404"
      },
      "execution_count": 38,
      "outputs": [
        {
          "output_type": "execute_result",
          "data": {
            "text/plain": [
              "(140489594157824, 140489594157824)"
            ]
          },
          "metadata": {},
          "execution_count": 38
        }
      ]
    },
    {
      "cell_type": "code",
      "source": [
        "# 얕은 복사\n",
        "l = [[1, 2, 3], [4, 5, 6]]\n",
        "ll = l.copy()\n",
        "ll[0] = 100\n",
        "l, ll"
      ],
      "metadata": {
        "colab": {
          "base_uri": "https://localhost:8080/"
        },
        "id": "ZRf-0G6xY0dn",
        "outputId": "f33e4c26-f407-4b23-e681-5b862b16417a"
      },
      "execution_count": 39,
      "outputs": [
        {
          "output_type": "execute_result",
          "data": {
            "text/plain": [
              "([[1, 2, 3], [4, 5, 6]], [100, [4, 5, 6]])"
            ]
          },
          "metadata": {},
          "execution_count": 39
        }
      ]
    },
    {
      "cell_type": "code",
      "source": [
        "# 깊은 복사\n",
        "import copy \n",
        "\n",
        "l = [[1, 2, 3], [4, 5, 6]]\n",
        "ll = copy.deepcopy(l)\n",
        "ll[0][0] = 10\n",
        "l, ll"
      ],
      "metadata": {
        "colab": {
          "base_uri": "https://localhost:8080/"
        },
        "id": "wxVo3Eq7ZBs_",
        "outputId": "60aa00d0-440f-448e-9878-4e55de3914dd"
      },
      "execution_count": 41,
      "outputs": [
        {
          "output_type": "execute_result",
          "data": {
            "text/plain": [
              "([[1, 2, 3], [4, 5, 6]], [[10, 2, 3], [4, 5, 6]])"
            ]
          },
          "metadata": {},
          "execution_count": 41
        }
      ]
    },
    {
      "cell_type": "code",
      "source": [
        "# 깊은 복사\n",
        "import copy \n",
        "\n",
        "l = [[1, 2, 3], [4, 5, 6]]\n",
        "ll = copy.deepcopy(l)\n",
        "ll[0][0] = 10\n",
        "id(l), id(ll)\n",
        "id(l[0]), id(ll[0])\n",
        "id(l[0][0]), id(ll[0][0])"
      ],
      "metadata": {
        "colab": {
          "base_uri": "https://localhost:8080/"
        },
        "id": "MxKmhlOcZgLR",
        "outputId": "177fe405-3dc9-4b14-febd-951977c99b15"
      },
      "execution_count": 43,
      "outputs": [
        {
          "output_type": "execute_result",
          "data": {
            "text/plain": [
              "(140490909860080, 140490909860368)"
            ]
          },
          "metadata": {},
          "execution_count": 43
        }
      ]
    },
    {
      "cell_type": "code",
      "source": [
        "# 깊은 복사\n",
        "import copy \n",
        "\n",
        "l = [[1, 2, [1, [999, 998]]], [4, 5, [2, [333, 332]]]]\n",
        "ll = copy.deepcopy(l)\n",
        "ll[0][2][1][0] = 10\n",
        "l, ll\n",
        "id(l), id(ll)\n",
        "id(l[0]), id(ll[0])\n",
        "id(l[0][0]), id(ll[0][0])"
      ],
      "metadata": {
        "colab": {
          "base_uri": "https://localhost:8080/"
        },
        "id": "Tpb33pDIZ4QC",
        "outputId": "c15ce2d2-7b79-4d4d-8218-b9aa676fc148"
      },
      "execution_count": 45,
      "outputs": [
        {
          "output_type": "execute_result",
          "data": {
            "text/plain": [
              "([[1, 2, [1, [999, 998]]], [4, 5, [2, [333, 332]]]],\n",
              " [[1, 2, [1, [10, 998]]], [4, 5, [2, [333, 332]]]])"
            ]
          },
          "metadata": {},
          "execution_count": 45
        }
      ]
    },
    {
      "cell_type": "markdown",
      "source": [
        "* 얕은 복사는 1 계층만 복사한다\n",
        "* 깊은 복사는 n 계층까지 모두 복사한다."
      ],
      "metadata": {
        "id": "vG4zJb8iaoRE"
      }
    },
    {
      "cell_type": "code",
      "source": [
        "# 얕은 복사\n",
        "l = [[1, 2, 3], [4, 5, 6]]\n",
        "ll = l[:]\n",
        "l[0] = 100\n",
        "l, ll"
      ],
      "metadata": {
        "colab": {
          "base_uri": "https://localhost:8080/"
        },
        "id": "b72GD2Wza9V7",
        "outputId": "157598ac-ea3f-4fac-9630-7c78bf78a1ab"
      },
      "execution_count": 46,
      "outputs": [
        {
          "output_type": "execute_result",
          "data": {
            "text/plain": [
              "([100, [4, 5, 6]], [[1, 2, 3], [4, 5, 6]])"
            ]
          },
          "metadata": {},
          "execution_count": 46
        }
      ]
    },
    {
      "cell_type": "code",
      "source": [
        "# 얕은 복사\n",
        "l = [[1, 2, 3], [4, 5, 6]]\n",
        "ll = l[:] # copy를 써도 마찬가지\n",
        "l[0][0] = 100\n",
        "l, ll"
      ],
      "metadata": {
        "id": "WjBQYQ0Dbb1d"
      },
      "execution_count": null,
      "outputs": []
    },
    {
      "cell_type": "code",
      "source": [
        "# sorted도 얕은 복사\n",
        "l = [[1, 2], [3, 4], [5, 6]]\n",
        "ll.sorted(l)"
      ],
      "metadata": {
        "id": "etXzyhD2flw5"
      },
      "execution_count": null,
      "outputs": []
    },
    {
      "cell_type": "code",
      "source": [
        "# 얕은 복사\n",
        "# 리스트 컴프리헨션은 안배운 내용이니 keep해두시고\n",
        "# for문 배운다음 다시 오셔서 복습하시기를 권해드립니다.\n",
        "l = [[1, 2, 3], [4, 5, 6]]\n",
        "ll = [i for i in l]\n",
        "l[0][0] = 100\n",
        "l, ll"
      ],
      "metadata": {
        "colab": {
          "base_uri": "https://localhost:8080/"
        },
        "id": "MhmTlQ7Xb9bH",
        "outputId": "21fc0257-e18b-4a0a-839d-3ff7ad30fbc8"
      },
      "execution_count": 47,
      "outputs": [
        {
          "output_type": "execute_result",
          "data": {
            "text/plain": [
              "([[100, 2, 3], [4, 5, 6]], [[100, 2, 3], [4, 5, 6]])"
            ]
          },
          "metadata": {},
          "execution_count": 47
        }
      ]
    },
    {
      "cell_type": "code",
      "source": [
        "# 1단계 깊은 복사\n",
        "# 리스트 컴프리헨션은 안배운 내용이니 keep해두시고\n",
        "# for문 배운다음 다시 오셔서 복습하시기를 권해드립니다.\n",
        "l = [[1, 2, 3], [4, 5, 6]]\n",
        "ll = [i[:] for i in l]\n",
        "l[0][0] = 100\n",
        "l, ll"
      ],
      "metadata": {
        "colab": {
          "base_uri": "https://localhost:8080/"
        },
        "id": "Qxsx982Obhui",
        "outputId": "4d12d3e1-5611-470f-a5e6-eb617965df49"
      },
      "execution_count": 48,
      "outputs": [
        {
          "output_type": "execute_result",
          "data": {
            "text/plain": [
              "([[100, 2, 3], [4, 5, 6]], [[1, 2, 3], [4, 5, 6]])"
            ]
          },
          "metadata": {},
          "execution_count": 48
        }
      ]
    },
    {
      "cell_type": "markdown",
      "source": [
        "## 다차원 리스트"
      ],
      "metadata": {
        "id": "o1tzZeUWcc7e"
      }
    },
    {
      "cell_type": "code",
      "source": [
        "a = [[1, 2, 3],\n",
        "     [11, 22, 33],\n",
        "     ['leehojun', 20, 30]]\n",
        "\n",
        "# 문제 : jun만 뽑아라\n",
        "print(a[2][0][5:])\n",
        "print(a[2][0][5], a[2][0][6], a[2][0][7], sep='')"
      ],
      "metadata": {
        "colab": {
          "base_uri": "https://localhost:8080/"
        },
        "id": "LmSnNXffchIa",
        "outputId": "03177795-51bd-4a6b-d880-51243774b081"
      },
      "execution_count": 50,
      "outputs": [
        {
          "output_type": "stream",
          "name": "stdout",
          "text": [
            "jun\n",
            "jun\n"
          ]
        }
      ]
    },
    {
      "cell_type": "markdown",
      "source": [
        "## 리스트에서 built-in function 활용"
      ],
      "metadata": {
        "id": "puIcq5xPgXeb"
      }
    },
    {
      "cell_type": "markdown",
      "source": [
        "* 알아야하는 built-in function\n",
        "\n",
        "    ```\n",
        "    A\n",
        "    abs()\n",
        "    all()\n",
        "    any()\n",
        "\n",
        "    B\n",
        "    bin()\n",
        "    bool()\n",
        "\n",
        "    C\n",
        "    chr()\n",
        "\n",
        "    D\n",
        "    dict()\n",
        "    dir()\n",
        "\n",
        "    E\n",
        "    enumerate()\n",
        "    eval()\n",
        "\n",
        "    F\n",
        "    filter()\n",
        "    float()\n",
        "\n",
        "    G\n",
        "    globals()\n",
        "\n",
        "    H\n",
        "    help()\n",
        "    hex()\n",
        "\n",
        "    I\n",
        "    id()\n",
        "    input()\n",
        "    int()\n",
        "    isinstance()\n",
        "    issubclass()\n",
        "    iter()\n",
        "\n",
        "    L\n",
        "    len()\n",
        "    list()\n",
        "    locals()\n",
        "\n",
        "    M\n",
        "    map()\n",
        "    max()\n",
        "    min()\n",
        "\n",
        "    N\n",
        "    next()\n",
        "\n",
        "    O\n",
        "    object()\n",
        "    oct()\n",
        "    open()\n",
        "    ord()\n",
        "\n",
        "    P\n",
        "    pow()\n",
        "    print()\n",
        "    property()\n",
        "\n",
        "    R\n",
        "    range()\n",
        "    repr()\n",
        "    reversed()\n",
        "    round()\n",
        "\n",
        "    S\n",
        "    set()\n",
        "    setattr()\n",
        "    slice()\n",
        "    sorted()\n",
        "    staticmethod()\n",
        "    str()\n",
        "    sum()\n",
        "    super()\n",
        "\n",
        "    T\n",
        "    tuple()\n",
        "    type()\n",
        "\n",
        "    V\n",
        "    vars()\n",
        "\n",
        "    Z\n",
        "    zip()\n",
        "    ```"
      ],
      "metadata": {
        "id": "LMOmO2-Jg-JQ"
      }
    },
    {
      "cell_type": "code",
      "source": [
        "a = [1, 2, 3, 4, 5, 6, 7, 8]\n",
        "print(max(a)) # 최댓값\n",
        "print(min(a)) # 최솟값\n",
        "print(sum(a)) # 전체값의 합"
      ],
      "metadata": {
        "colab": {
          "base_uri": "https://localhost:8080/"
        },
        "id": "FTF6246AhoOu",
        "outputId": "968a9a9c-8470-4e7a-e14f-e3b32c994bd3"
      },
      "execution_count": 51,
      "outputs": [
        {
          "output_type": "stream",
          "name": "stdout",
          "text": [
            "8\n",
            "1\n",
            "36\n"
          ]
        }
      ]
    },
    {
      "cell_type": "code",
      "source": [
        "#2차원\n",
        "a = [[1, 2, 3, 'a'],\n",
        "     [11, 22, 33,'aaa'], \n",
        "     [10, 2000, 30, 'aa']]\n",
        "\n",
        "max(a, key=lambda x:x[1])\n",
        "max(a, key=lambda x:len(x[3]))"
      ],
      "metadata": {
        "colab": {
          "base_uri": "https://localhost:8080/"
        },
        "id": "U2jP7OGpiAjh",
        "outputId": "14ff30ac-c07a-4047-b8bc-fa5700611017"
      },
      "execution_count": 53,
      "outputs": [
        {
          "output_type": "execute_result",
          "data": {
            "text/plain": [
              "[11, 22, 33, 'aaa']"
            ]
          },
          "metadata": {},
          "execution_count": 53
        }
      ]
    },
    {
      "cell_type": "code",
      "source": [
        "# 이름, 별점, 객실수, 가격\n",
        "hotel = [\n",
        "    ['estsofthotel', 5, 100, 155000],\n",
        "    ['estsofthotel2', 4, 80, 145000],\n",
        "    ['estsofthotel3', 3, 70, 135000],\n",
        "        ]\n",
        "# 마지막에 콤마를 허락하는 언어는 제한적(특히 JSON에서 엄격)\n",
        "\n",
        "max(hotel, key = lambda x:x[3]) # 가장 가격이 비싼 것을 뽑아낼 수 있음\n",
        "min(hotel, key = lambda x:x[3]) # 가장 가격이 저렴한 것을 뽑아낼 수 있음\n"
      ],
      "metadata": {
        "id": "EFPw0SU9imYe"
      },
      "execution_count": null,
      "outputs": []
    },
    {
      "cell_type": "code",
      "source": [
        "#2차원\n",
        "a = [[1, 2, 3],\n",
        "     [11, 22, 33],\n",
        "     [10, 2000, 30]]\n",
        "max(a)\n",
        "min(a)\n",
        "sum(a)\n",
        "max(a, key=lambda x:x[1])\n",
        "min(a, key=lambda x:x[1])\n",
        "# sum(a) error\n",
        "sum(a, [])"
      ],
      "metadata": {
        "id": "TKEjkQm7h3q2"
      },
      "execution_count": null,
      "outputs": []
    },
    {
      "cell_type": "markdown",
      "source": [
        "## 리스트의 순회"
      ],
      "metadata": {
        "id": "93J05ZmHkahU"
      }
    },
    {
      "cell_type": "code",
      "source": [
        "#1차원\n",
        "a = [1, 2, 3, 4, 5, 6, 7, 8]\n",
        "\n",
        "# for 변수 in 순회가능한 객체\n",
        "for i in a:\n",
        "     print(i)"
      ],
      "metadata": {
        "colab": {
          "base_uri": "https://localhost:8080/"
        },
        "id": "jb36HmX6kc02",
        "outputId": "c6c98d5a-a16a-4c29-c33b-a4157be2a290"
      },
      "execution_count": 54,
      "outputs": [
        {
          "output_type": "stream",
          "name": "stdout",
          "text": [
            "1\n",
            "2\n",
            "3\n",
            "4\n",
            "5\n",
            "6\n",
            "7\n",
            "8\n"
          ]
        }
      ]
    },
    {
      "cell_type": "code",
      "source": [
        "# 2차원\n",
        "a = [[1, 2, 3],\n",
        "     [11, 22, 33],\n",
        "     [13, 20000, 300000]]\n",
        "\n",
        "for i in a:\n",
        "    print(i)\n",
        "    print('---')\n",
        "print('end')"
      ],
      "metadata": {
        "colab": {
          "base_uri": "https://localhost:8080/"
        },
        "id": "cc4YWQtqkxfT",
        "outputId": "265a84e2-a28f-4a76-d810-2080a7850779"
      },
      "execution_count": 55,
      "outputs": [
        {
          "output_type": "stream",
          "name": "stdout",
          "text": [
            "[1, 2, 3]\n",
            "---\n",
            "[11, 22, 33]\n",
            "---\n",
            "[13, 20000, 300000]\n",
            "---\n",
            "end\n"
          ]
        }
      ]
    },
    {
      "cell_type": "code",
      "source": [
        "# 2차원\n",
        "a = [[1, 2, 3],\n",
        "     [11, 22, 33],\n",
        "     [13, 20000, 300000]]\n",
        "\n",
        "for i in a:\n",
        "    for j in i:    \n",
        "        print(j)\n",
        "        print('---')\n",
        "print('end')"
      ],
      "metadata": {
        "colab": {
          "base_uri": "https://localhost:8080/"
        },
        "id": "CNdJoWCxlWw8",
        "outputId": "43eb1554-9238-4cf8-ffea-30eff7e5195b"
      },
      "execution_count": 56,
      "outputs": [
        {
          "output_type": "stream",
          "name": "stdout",
          "text": [
            "1\n",
            "---\n",
            "2\n",
            "---\n",
            "3\n",
            "---\n",
            "11\n",
            "---\n",
            "22\n",
            "---\n",
            "33\n",
            "---\n",
            "13\n",
            "---\n",
            "20000\n",
            "---\n",
            "300000\n",
            "---\n",
            "end\n"
          ]
        }
      ]
    },
    {
      "cell_type": "markdown",
      "source": [
        "## range "
      ],
      "metadata": {
        "id": "jJTz-hzBmxX0"
      }
    },
    {
      "cell_type": "code",
      "source": [
        "# range(start,stop,step)\n",
        "# 슬라이싱과 같은 규칙\n",
        "# 슬라이싱을 ':'으로 연결됨\n",
        "# range는 ','로 연결됨\n",
        "# python 2.x 대는 range를 형변환 할 필요가 없었지만 python 3.x 부터는 해야함\n",
        "# python 2.x 에서 python 3.x에 range를 사용하고 싶다면 xrange 사용\n",
        "\n",
        "print(list(range(100))) \n",
        "print(list(range(5,10))) \n",
        "\n",
        "# 짝수\n",
        "print(list(range(0,101,2)))\n",
        "\n",
        "# 합\n",
        "print(sum(list(range(0,101,2)))) # 이렇게 하면 리소스 낭비 -> 불필요한 형변환\n",
        "print(sum(range(0,101))) # 형변환 없이 바로 sum 하면 됨"
      ],
      "metadata": {
        "colab": {
          "base_uri": "https://localhost:8080/"
        },
        "id": "UDPQ3bzznG-1",
        "outputId": "4513a4ed-3e9a-48a3-f0d6-2c3d1592462b"
      },
      "execution_count": 57,
      "outputs": [
        {
          "output_type": "stream",
          "name": "stdout",
          "text": [
            "[0, 1, 2, 3, 4, 5, 6, 7, 8, 9, 10, 11, 12, 13, 14, 15, 16, 17, 18, 19, 20, 21, 22, 23, 24, 25, 26, 27, 28, 29, 30, 31, 32, 33, 34, 35, 36, 37, 38, 39, 40, 41, 42, 43, 44, 45, 46, 47, 48, 49, 50, 51, 52, 53, 54, 55, 56, 57, 58, 59, 60, 61, 62, 63, 64, 65, 66, 67, 68, 69, 70, 71, 72, 73, 74, 75, 76, 77, 78, 79, 80, 81, 82, 83, 84, 85, 86, 87, 88, 89, 90, 91, 92, 93, 94, 95, 96, 97, 98, 99]\n",
            "[5, 6, 7, 8, 9]\n",
            "[0, 2, 4, 6, 8, 10, 12, 14, 16, 18, 20, 22, 24, 26, 28, 30, 32, 34, 36, 38, 40, 42, 44, 46, 48, 50, 52, 54, 56, 58, 60, 62, 64, 66, 68, 70, 72, 74, 76, 78, 80, 82, 84, 86, 88, 90, 92, 94, 96, 98, 100]\n",
            "2550\n",
            "5050\n"
          ]
        }
      ]
    },
    {
      "cell_type": "markdown",
      "source": [
        "## list comprehension"
      ],
      "metadata": {
        "id": "J9Mo0bDfpdvc"
      }
    },
    {
      "cell_type": "code",
      "source": [
        "# l = [1, 2, 3, 4, ...] 보단\n",
        "# list(range(1, 101)) 이거\n",
        "\n",
        "l = []\n",
        "for i in range(1, 101):\n",
        "    l.append(i)\n",
        "l"
      ],
      "metadata": {
        "id": "rUL6k4itpcR0"
      },
      "execution_count": null,
      "outputs": []
    },
    {
      "cell_type": "code",
      "source": [
        "# l = []\n",
        "# for i in range(1, 11):\n",
        "#     l.append(i**i)\n",
        "# l\n",
        "# list comprehension 방법으로 간단하게 리스트 생성할때 사용\n",
        "l = [i**i for i in range(1, 11)]\n",
        "l\n",
        "\n",
        "l = [i for i in range(1, 11)]\n",
        "l"
      ],
      "metadata": {
        "colab": {
          "base_uri": "https://localhost:8080/"
        },
        "id": "NLYhrT2WqAjJ",
        "outputId": "4bbc12f7-4016-4ba5-d4c3-58ef57e618c4"
      },
      "execution_count": 61,
      "outputs": [
        {
          "output_type": "execute_result",
          "data": {
            "text/plain": [
              "[1, 2, 3, 4, 5, 6, 7, 8, 9, 10]"
            ]
          },
          "metadata": {},
          "execution_count": 61
        }
      ]
    },
    {
      "cell_type": "code",
      "source": [
        "l = []\n",
        "for i in range(1, 100):\n",
        "    if i %3 == 0 or i %5 == 0:\n",
        "        l.append(i)\n",
        "\n",
        "[i for i in range(1, 100) if i %3 == 0 or i %5 == 0]"
      ],
      "metadata": {
        "id": "PbWlDxWIqfss"
      },
      "execution_count": null,
      "outputs": []
    },
    {
      "cell_type": "markdown",
      "source": [
        "## tuple(튜플)\n",
        "- 튜플은 순서가 있는 시퀀스형 자료형\n",
        "- 참조값은 변경이 불가능(immutable)하다.\n",
        "- 다른 자료형을 입력할 수 있으며, 튜플 안에 튜플로 다차원의 튜플을 만드는 것도 가능하다.\n",
        "- 값의 중복을 허락한다."
      ],
      "metadata": {
        "id": "xSXS0iL99aPY"
      }
    },
    {
      "cell_type": "code",
      "source": [
        "t = (10, 20, 30)\n",
        "t[1] = 1000"
      ],
      "metadata": {
        "colab": {
          "base_uri": "https://localhost:8080/",
          "height": 188
        },
        "id": "wNn6bR5U9pl1",
        "outputId": "6a3f98f1-7eea-47b3-e834-d5d3768b7454"
      },
      "execution_count": 62,
      "outputs": [
        {
          "output_type": "error",
          "ename": "TypeError",
          "evalue": "ignored",
          "traceback": [
            "\u001b[0;31m---------------------------------------------------------------------------\u001b[0m",
            "\u001b[0;31mTypeError\u001b[0m                                 Traceback (most recent call last)",
            "\u001b[0;32m<ipython-input-62-f56b99405e72>\u001b[0m in \u001b[0;36m<cell line: 2>\u001b[0;34m()\u001b[0m\n\u001b[1;32m      1\u001b[0m \u001b[0mt\u001b[0m \u001b[0;34m=\u001b[0m \u001b[0;34m(\u001b[0m\u001b[0;36m10\u001b[0m\u001b[0;34m,\u001b[0m \u001b[0;36m20\u001b[0m\u001b[0;34m,\u001b[0m \u001b[0;36m30\u001b[0m\u001b[0;34m)\u001b[0m\u001b[0;34m\u001b[0m\u001b[0;34m\u001b[0m\u001b[0m\n\u001b[0;32m----> 2\u001b[0;31m \u001b[0mt\u001b[0m\u001b[0;34m[\u001b[0m\u001b[0;36m1\u001b[0m\u001b[0;34m]\u001b[0m \u001b[0;34m=\u001b[0m \u001b[0;36m1000\u001b[0m\u001b[0;34m\u001b[0m\u001b[0;34m\u001b[0m\u001b[0m\n\u001b[0m",
            "\u001b[0;31mTypeError\u001b[0m: 'tuple' object does not support item assignment"
          ]
        }
      ]
    },
    {
      "cell_type": "code",
      "source": [
        "l = [1, 2, 3]\n",
        "t = (l, 20, 30) # 불변인 것은 t가 l을 참조하고 있다는 것이 불변이라는 뜻\n",
        "l[0] = 1000\n",
        "t"
      ],
      "metadata": {
        "colab": {
          "base_uri": "https://localhost:8080/"
        },
        "id": "HtxybY5B93yp",
        "outputId": "9bff589f-f8c1-4d72-dc38-2878fd19f658"
      },
      "execution_count": 64,
      "outputs": [
        {
          "output_type": "execute_result",
          "data": {
            "text/plain": [
              "([1000, 2, 3], 20, 30)"
            ]
          },
          "metadata": {},
          "execution_count": 64
        }
      ]
    },
    {
      "cell_type": "code",
      "source": [
        "t = (10, 20, 30, 40, 50)\n",
        "t[:3]"
      ],
      "metadata": {
        "colab": {
          "base_uri": "https://localhost:8080/"
        },
        "id": "64Tx9GCi-gL8",
        "outputId": "d583a853-8f82-45c2-f096-f91804367823"
      },
      "execution_count": 66,
      "outputs": [
        {
          "output_type": "execute_result",
          "data": {
            "text/plain": [
              "(10, 20, 30)"
            ]
          },
          "metadata": {},
          "execution_count": 66
        }
      ]
    },
    {
      "cell_type": "code",
      "source": [
        "type(t), dir(t)"
      ],
      "metadata": {
        "colab": {
          "base_uri": "https://localhost:8080/"
        },
        "id": "HEXeEPOu-a8s",
        "outputId": "0069181c-1f48-46d8-83e2-8dd60a573a09"
      },
      "execution_count": 65,
      "outputs": [
        {
          "output_type": "execute_result",
          "data": {
            "text/plain": [
              "(tuple,\n",
              " ['__add__',\n",
              "  '__class__',\n",
              "  '__class_getitem__',\n",
              "  '__contains__',\n",
              "  '__delattr__',\n",
              "  '__dir__',\n",
              "  '__doc__',\n",
              "  '__eq__',\n",
              "  '__format__',\n",
              "  '__ge__',\n",
              "  '__getattribute__',\n",
              "  '__getitem__',\n",
              "  '__getnewargs__',\n",
              "  '__gt__',\n",
              "  '__hash__',\n",
              "  '__init__',\n",
              "  '__init_subclass__',\n",
              "  '__iter__',\n",
              "  '__le__',\n",
              "  '__len__',\n",
              "  '__lt__',\n",
              "  '__mul__',\n",
              "  '__ne__',\n",
              "  '__new__',\n",
              "  '__reduce__',\n",
              "  '__reduce_ex__',\n",
              "  '__repr__',\n",
              "  '__rmul__',\n",
              "  '__setattr__',\n",
              "  '__sizeof__',\n",
              "  '__str__',\n",
              "  '__subclasshook__',\n",
              "  'count',\n",
              "  'index'])"
            ]
          },
          "metadata": {},
          "execution_count": 65
        }
      ]
    },
    {
      "cell_type": "code",
      "source": [
        "t = (10, 20, 30, 40, 50, 20)\n",
        "t.index(20), t.count(20)"
      ],
      "metadata": {
        "colab": {
          "base_uri": "https://localhost:8080/"
        },
        "id": "WUQSX1MX-qeg",
        "outputId": "27214fdd-72a1-48d5-e530-2a698d703736"
      },
      "execution_count": 68,
      "outputs": [
        {
          "output_type": "execute_result",
          "data": {
            "text/plain": [
              "(1, 2)"
            ]
          },
          "metadata": {},
          "execution_count": 68
        }
      ]
    },
    {
      "cell_type": "code",
      "source": [
        "t = tuple('leehojun')\n",
        "t\n",
        "t = tuple()\n",
        "t \n",
        "t = tuple(range(10))\n",
        "t\n",
        "t = (1) \n",
        "t\n",
        "t = (1,)  # 원소를 하나씩 넣고 싶을 때는 콤마(,)를 사용해줍니다.\n",
        "t"
      ],
      "metadata": {
        "colab": {
          "base_uri": "https://localhost:8080/"
        },
        "id": "wgk_iP9F-136",
        "outputId": "b4824673-eb66-4222-8f59-6a0be725749e"
      },
      "execution_count": 69,
      "outputs": [
        {
          "output_type": "execute_result",
          "data": {
            "text/plain": [
              "(1,)"
            ]
          },
          "metadata": {},
          "execution_count": 69
        }
      ]
    },
    {
      "cell_type": "markdown",
      "source": [
        "## dict(딕셔너리)"
      ],
      "metadata": {
        "id": "cs2lYvZ8_fyk"
      }
    },
    {
      "cell_type": "markdown",
      "source": [
        "- 딕셔너리는 순서가 없는 자료형이다.\n",
        "- 사전형은 Key와 Value 가 하나의 묶음으로 이루어진 자료 체계\n",
        "- 값의 변경이 가능\n",
        "- 다른 자료형을 입력할 수 있다.\n",
        "- 키의 중복은 허락하지 않고, 값의 중복을 허락"
      ],
      "metadata": {
        "id": "3_uU55h7_o_E"
      }
    },
    {
      "cell_type": "code",
      "source": [
        "{\n",
        "    '게시물 번호' : 1,\n",
        "    '게시자' : '아무개',\n",
        "    '게시물 내용' : '.............'\n",
        "}"
      ],
      "metadata": {
        "colab": {
          "base_uri": "https://localhost:8080/"
        },
        "id": "i1cbhouy_Av9",
        "outputId": "a829ed84-c59e-4876-c1ef-200eef4c6386"
      },
      "execution_count": 71,
      "outputs": [
        {
          "output_type": "execute_result",
          "data": {
            "text/plain": [
              "{'게시물 번호': 1, '게시자': '아무개', '게시물 내용': '.............'}"
            ]
          },
          "metadata": {},
          "execution_count": 71
        }
      ]
    },
    {
      "cell_type": "code",
      "source": [
        "d = {'one' : '하나', 'two' : '둘', 'three' : '셋'} # key는 중복을 허락하지 앉는다\n",
        "d\n",
        "d['one']"
      ],
      "metadata": {
        "colab": {
          "base_uri": "https://localhost:8080/",
          "height": 36
        },
        "id": "527ku1Dp_oU0",
        "outputId": "f159f289-35cf-4e3c-fda6-3776bbfe7f6d"
      },
      "execution_count": 72,
      "outputs": [
        {
          "output_type": "execute_result",
          "data": {
            "text/plain": [
              "'하나'"
            ],
            "application/vnd.google.colaboratory.intrinsic+json": {
              "type": "string"
            }
          },
          "metadata": {},
          "execution_count": 72
        }
      ]
    },
    {
      "cell_type": "code",
      "source": [
        "d['two'] = '투'\n",
        "d"
      ],
      "metadata": {
        "colab": {
          "base_uri": "https://localhost:8080/"
        },
        "id": "v2PAVPQqBG1l",
        "outputId": "d4a7cbad-b9df-471a-ff07-02a6f2f1d8a6"
      },
      "execution_count": 73,
      "outputs": [
        {
          "output_type": "execute_result",
          "data": {
            "text/plain": [
              "{'one': '하나', 'two': '투', 'three': '셋'}"
            ]
          },
          "metadata": {},
          "execution_count": 73
        }
      ]
    },
    {
      "cell_type": "code",
      "source": [
        "d = {} # dict\n",
        "type(d)\n",
        "\n",
        "d = {10} # set\n",
        "type(d)\n",
        "\n",
        "d = dict()\n",
        "type(d)\n",
        "\n",
        "d = {'one' : 1}\n",
        "type(d)"
      ],
      "metadata": {
        "id": "U7ue26IVBPmH"
      },
      "execution_count": null,
      "outputs": []
    },
    {
      "cell_type": "code",
      "source": [
        "d = {'one' : '하나', 'two' : '둘', 'three' : '셋'}\n",
        "d.items()"
      ],
      "metadata": {
        "colab": {
          "base_uri": "https://localhost:8080/"
        },
        "id": "sTS39lx7Bh0l",
        "outputId": "eb53b620-c407-420c-8198-c6383c3a0329"
      },
      "execution_count": 74,
      "outputs": [
        {
          "output_type": "execute_result",
          "data": {
            "text/plain": [
              "dict_items([('one', '하나'), ('two', '둘'), ('three', '셋')])"
            ]
          },
          "metadata": {},
          "execution_count": 74
        }
      ]
    },
    {
      "cell_type": "code",
      "source": [
        "dict([('one', '하나'), ('two', '둘'), ('three', '셋')])"
      ],
      "metadata": {
        "colab": {
          "base_uri": "https://localhost:8080/"
        },
        "id": "vvRiQYfzBwnJ",
        "outputId": "4795a3f1-8935-41f3-e332-b164b02aa79a"
      },
      "execution_count": 75,
      "outputs": [
        {
          "output_type": "execute_result",
          "data": {
            "text/plain": [
              "{'one': '하나', 'two': '둘', 'three': '셋'}"
            ]
          },
          "metadata": {},
          "execution_count": 75
        }
      ]
    },
    {
      "cell_type": "code",
      "source": [
        "dict([['one', '하나'], ['two', '둘'], ['three', '셋']])"
      ],
      "metadata": {
        "colab": {
          "base_uri": "https://localhost:8080/"
        },
        "id": "t6e2TiCjB13W",
        "outputId": "a5accff1-5319-4b69-9809-2bfaed696b6e"
      },
      "execution_count": 76,
      "outputs": [
        {
          "output_type": "execute_result",
          "data": {
            "text/plain": [
              "{'one': '하나', 'two': '둘', 'three': '셋'}"
            ]
          },
          "metadata": {},
          "execution_count": 76
        }
      ]
    },
    {
      "cell_type": "code",
      "source": [
        "dict(name = 'leehojun', age = 10)"
      ],
      "metadata": {
        "colab": {
          "base_uri": "https://localhost:8080/"
        },
        "id": "uRaw0Aw0CIVf",
        "outputId": "37718490-1289-4996-895e-86508e94ad56"
      },
      "execution_count": 77,
      "outputs": [
        {
          "output_type": "execute_result",
          "data": {
            "text/plain": [
              "{'name': 'leehojun', 'age': 10}"
            ]
          },
          "metadata": {},
          "execution_count": 77
        }
      ]
    },
    {
      "cell_type": "code",
      "source": [
        "list(zip('ABC', '123', 'abc'))\n",
        "\n",
        "dict(zip('ABC', '123')) # 형변환"
      ],
      "metadata": {
        "colab": {
          "base_uri": "https://localhost:8080/"
        },
        "id": "qNbthUDoCOne",
        "outputId": "81f8855a-9894-4f31-ad3d-d7a7ad7c768d"
      },
      "execution_count": 78,
      "outputs": [
        {
          "output_type": "execute_result",
          "data": {
            "text/plain": [
              "{'A': '1', 'B': '2', 'C': '3'}"
            ]
          },
          "metadata": {},
          "execution_count": 78
        }
      ]
    },
    {
      "cell_type": "code",
      "source": [
        "# dict와 zip을 사용해서 아래와 같은 형태로 만들어라\n",
        "\n",
        "dict(zip('ABC', [[10,20], [20,30],[30,40]]))\n",
        "\n",
        "# 원하는 형태 {'A': [10, 20], 'B': [20, 30], 'C': [30, 40]}"
      ],
      "metadata": {
        "colab": {
          "base_uri": "https://localhost:8080/"
        },
        "id": "CoYG8Ms1Cio3",
        "outputId": "a3962abd-1bcd-4568-97a0-273e50914909"
      },
      "execution_count": 79,
      "outputs": [
        {
          "output_type": "execute_result",
          "data": {
            "text/plain": [
              "{'A': [10, 20], 'B': [20, 30], 'C': [30, 40]}"
            ]
          },
          "metadata": {},
          "execution_count": 79
        }
      ]
    },
    {
      "cell_type": "code",
      "source": [
        "'B' in {'A' : [10, 20], 'B' : [20, 30], 'C' : [30, 40]}"
      ],
      "metadata": {
        "colab": {
          "base_uri": "https://localhost:8080/"
        },
        "id": "LVBfubbfE-gi",
        "outputId": "63c360d0-97d4-43f8-f888-fca61285b75d"
      },
      "execution_count": 80,
      "outputs": [
        {
          "output_type": "execute_result",
          "data": {
            "text/plain": [
              "True"
            ]
          },
          "metadata": {},
          "execution_count": 80
        }
      ]
    },
    {
      "cell_type": "code",
      "source": [
        "len({'A' : [10, 20], 'B' : [20, 30], 'C' : [30, 40]})"
      ],
      "metadata": {
        "colab": {
          "base_uri": "https://localhost:8080/"
        },
        "id": "3O31n6wlJQRu",
        "outputId": "cd34335d-f279-47fb-d688-c59e6fba8852"
      },
      "execution_count": 87,
      "outputs": [
        {
          "output_type": "execute_result",
          "data": {
            "text/plain": [
              "3"
            ]
          },
          "metadata": {},
          "execution_count": 87
        }
      ]
    },
    {
      "cell_type": "code",
      "source": [
        "# 공부해두면 좋음\n",
        "def switch(day):\n",
        "    return {\n",
        "        1 : '월요일',\n",
        "        2 : '화요일',\n",
        "        3 : '수요일',\n",
        "        4 : '목요일',\n",
        "        5 : '금요일',\n",
        "        6 : '토요일',\n",
        "        7 : '일요일',\n",
        "\n",
        "    }[day]\n",
        "\n",
        "switch(7)\n",
        "# switch(8) 딕셔너리 안에 없는 값 넣으면 당연히 에러 ㅇㅇ\n"
      ],
      "metadata": {
        "colab": {
          "base_uri": "https://localhost:8080/",
          "height": 36
        },
        "id": "4JhzbPimJXma",
        "outputId": "cdda1ebd-e9fd-490d-fbfe-9e99a1c4a3a7"
      },
      "execution_count": 88,
      "outputs": [
        {
          "output_type": "execute_result",
          "data": {
            "text/plain": [
              "'일요일'"
            ],
            "application/vnd.google.colaboratory.intrinsic+json": {
              "type": "string"
            }
          },
          "metadata": {},
          "execution_count": 88
        }
      ]
    },
    {
      "cell_type": "code",
      "source": [
        "def switch(day):\n",
        "    return {\n",
        "        1 : '월요일',\n",
        "        2 : '화요일',\n",
        "        3 : '수요일',\n",
        "        4 : '목요일',\n",
        "        5 : '금요일',\n",
        "        6 : '토요일',\n",
        "        7 : '일요일',\n",
        "\n",
        "    }.get(day)\n",
        "\n",
        "switch(7)\n",
        "switch(8) # get을 쓰면 없는 값은 None을 준다\n"
      ],
      "metadata": {
        "id": "ct6bu_2JKyYw"
      },
      "execution_count": null,
      "outputs": []
    },
    {
      "cell_type": "code",
      "source": [
        "def switch(day):\n",
        "    return {\n",
        "        1 : '월요일',\n",
        "        2 : '화요일',\n",
        "        3 : '수요일',\n",
        "        4 : '목요일',\n",
        "        5 : '금요일',\n",
        "        6 : '토요일',\n",
        "        7 : '일요일',\n",
        "\n",
        "    }.get(day,)\n",
        "\n",
        "switch(7)\n",
        "switch(8) # get을 쓰면 없는 값은 None을 준다\n"
      ],
      "metadata": {
        "id": "9Ye_pqvxK_Im"
      },
      "execution_count": null,
      "outputs": []
    },
    {
      "cell_type": "code",
      "source": [
        "!python --version"
      ],
      "metadata": {
        "colab": {
          "base_uri": "https://localhost:8080/"
        },
        "id": "vSMTB8hzJzSo",
        "outputId": "16565947-c4db-4bf7-bab1-2417f748ae89"
      },
      "execution_count": 89,
      "outputs": [
        {
          "output_type": "stream",
          "name": "stdout",
          "text": [
            "Python 3.10.11\n"
          ]
        }
      ]
    },
    {
      "cell_type": "code",
      "source": [
        "%%timeit\n",
        "\n",
        "s = 0\n",
        "for i in range(10000):\n",
        "    s +=i"
      ],
      "metadata": {
        "colab": {
          "base_uri": "https://localhost:8080/"
        },
        "id": "5TGFxgGGFKZ6",
        "outputId": "91ede797-72ff-47cb-acdb-17eb47aed089"
      },
      "execution_count": 84,
      "outputs": [
        {
          "output_type": "stream",
          "name": "stdout",
          "text": [
            "704 µs ± 245 µs per loop (mean ± std. dev. of 7 runs, 1000 loops each)\n"
          ]
        }
      ]
    },
    {
      "cell_type": "code",
      "source": [
        "%%timeit\n",
        "\n",
        "sum([i for i in range(10000)])"
      ],
      "metadata": {
        "colab": {
          "base_uri": "https://localhost:8080/"
        },
        "id": "BLhYp5l7FYOY",
        "outputId": "5e64116c-5db9-4095-e272-4d1ecec0d4c3"
      },
      "execution_count": 85,
      "outputs": [
        {
          "output_type": "stream",
          "name": "stdout",
          "text": [
            "376 µs ± 3.9 µs per loop (mean ± std. dev. of 7 runs, 1000 loops each)\n"
          ]
        }
      ]
    },
    {
      "cell_type": "code",
      "source": [
        "%%timeit\n",
        "\n",
        "sum(range(10000))"
      ],
      "metadata": {
        "colab": {
          "base_uri": "https://localhost:8080/"
        },
        "id": "9zMuZqGoFjo1",
        "outputId": "e4e81d86-e338-4c08-c5e4-77f5c56a2819"
      },
      "execution_count": 86,
      "outputs": [
        {
          "output_type": "stream",
          "name": "stdout",
          "text": [
            "220 µs ± 46.1 µs per loop (mean ± std. dev. of 7 runs, 10000 loops each)\n"
          ]
        }
      ]
    },
    {
      "cell_type": "code",
      "source": [
        "{'A' : [10, 20], 'B' : [20, 30], 'C' : [30, 40]}.keys()"
      ],
      "metadata": {
        "colab": {
          "base_uri": "https://localhost:8080/"
        },
        "id": "bq1ivvcWLdjG",
        "outputId": "c12ce3a3-3f45-41de-a0b0-b5623a97a277"
      },
      "execution_count": 90,
      "outputs": [
        {
          "output_type": "execute_result",
          "data": {
            "text/plain": [
              "dict_keys(['A', 'B', 'C'])"
            ]
          },
          "metadata": {},
          "execution_count": 90
        }
      ]
    },
    {
      "cell_type": "code",
      "source": [
        "{'A' : [10, 20], 'B' : [20, 30], 'C' : [30, 40]}.values()"
      ],
      "metadata": {
        "colab": {
          "base_uri": "https://localhost:8080/"
        },
        "id": "6B__m36kLjfG",
        "outputId": "10b3dfcf-3247-424a-acf2-6dc37f604e26"
      },
      "execution_count": 91,
      "outputs": [
        {
          "output_type": "execute_result",
          "data": {
            "text/plain": [
              "dict_values([[10, 20], [20, 30], [30, 40]])"
            ]
          },
          "metadata": {},
          "execution_count": 91
        }
      ]
    },
    {
      "cell_type": "code",
      "source": [
        "{'A' : [10, 20], 'B' : [20, 30], 'C' : [30, 40]}.items()"
      ],
      "metadata": {
        "colab": {
          "base_uri": "https://localhost:8080/"
        },
        "id": "E_FYgGUPLmp_",
        "outputId": "5a76d25b-651e-48dc-84c4-ce6f675bc5fc"
      },
      "execution_count": 92,
      "outputs": [
        {
          "output_type": "execute_result",
          "data": {
            "text/plain": [
              "dict_items([('A', [10, 20]), ('B', [20, 30]), ('C', [30, 40])])"
            ]
          },
          "metadata": {},
          "execution_count": 92
        }
      ]
    },
    {
      "cell_type": "code",
      "source": [
        "dict.fromkeys('leehojun')"
      ],
      "metadata": {
        "colab": {
          "base_uri": "https://localhost:8080/"
        },
        "id": "GMnTlEGTL3Kn",
        "outputId": "553e54eb-ef05-49b0-947d-4e8927adbf0a"
      },
      "execution_count": 93,
      "outputs": [
        {
          "output_type": "execute_result",
          "data": {
            "text/plain": [
              "{'l': None, 'e': None, 'h': None, 'o': None, 'j': None, 'u': None, 'n': None}"
            ]
          },
          "metadata": {},
          "execution_count": 93
        }
      ]
    },
    {
      "cell_type": "code",
      "source": [
        "dict.fromkeys('leehojun', 100)"
      ],
      "metadata": {
        "colab": {
          "base_uri": "https://localhost:8080/"
        },
        "id": "tGVpPMBIL-bZ",
        "outputId": "049db59e-c42f-4387-9ddb-d675b456cf69"
      },
      "execution_count": 94,
      "outputs": [
        {
          "output_type": "execute_result",
          "data": {
            "text/plain": [
              "{'l': 100, 'e': 100, 'h': 100, 'o': 100, 'j': 100, 'u': 100, 'n': 100}"
            ]
          },
          "metadata": {},
          "execution_count": 94
        }
      ]
    },
    {
      "cell_type": "code",
      "source": [
        "d = {'one' : '하나', 'two' : '둘', 'three' : '셋'}\n",
        "d.update({'one' : 1, 'two' : 2})\n",
        "d"
      ],
      "metadata": {
        "colab": {
          "base_uri": "https://localhost:8080/"
        },
        "id": "KD7EQnwzMjzi",
        "outputId": "c825186c-b275-4f28-e3a1-430259b710b5"
      },
      "execution_count": 95,
      "outputs": [
        {
          "output_type": "execute_result",
          "data": {
            "text/plain": [
              "{'one': 1, 'two': 2, 'three': '셋'}"
            ]
          },
          "metadata": {},
          "execution_count": 95
        }
      ]
    },
    {
      "cell_type": "markdown",
      "source": [
        "## 딕셔너리의 순회"
      ],
      "metadata": {
        "id": "ABJGhBN0M40L"
      }
    },
    {
      "cell_type": "code",
      "source": [
        "# key만 순회한다\n",
        "d = {'two' : 2, 'three' : '셋'}\n",
        "for i in d:\n",
        "    print(i)"
      ],
      "metadata": {
        "colab": {
          "base_uri": "https://localhost:8080/"
        },
        "id": "2V6rSQpQM7qj",
        "outputId": "150fce05-e21c-4b7a-e4ca-055c9710b25e"
      },
      "execution_count": 96,
      "outputs": [
        {
          "output_type": "stream",
          "name": "stdout",
          "text": [
            "two\n",
            "three\n"
          ]
        }
      ]
    },
    {
      "cell_type": "code",
      "source": [
        "d = {'two' : 2, 'three' : '셋'}\n",
        "for i in d:\n",
        "    print(d[i])"
      ],
      "metadata": {
        "colab": {
          "base_uri": "https://localhost:8080/"
        },
        "id": "TuEydZuNNDgQ",
        "outputId": "d16f6486-5ce4-45aa-843f-55ce201fa66a"
      },
      "execution_count": 97,
      "outputs": [
        {
          "output_type": "stream",
          "name": "stdout",
          "text": [
            "2\n",
            "셋\n"
          ]
        }
      ]
    },
    {
      "cell_type": "markdown",
      "source": [
        "## 언패킹"
      ],
      "metadata": {
        "id": "zjLoOlPRNOcv"
      }
    },
    {
      "cell_type": "code",
      "source": [
        "# 패킹 : 1, 2, 3 => [1, 2, 3]\n",
        "# 언패킹 : [1, 2, 3] => 1, 2, 3"
      ],
      "metadata": {
        "id": "kWbvYLBKNShK"
      },
      "execution_count": null,
      "outputs": []
    },
    {
      "cell_type": "code",
      "source": [
        "a, b, c = 10, 20, 30\n",
        "a"
      ],
      "metadata": {
        "colab": {
          "base_uri": "https://localhost:8080/"
        },
        "id": "oFANNRu7NcXt",
        "outputId": "831c22bc-0d88-4f9f-890d-f586293d041d"
      },
      "execution_count": 98,
      "outputs": [
        {
          "output_type": "execute_result",
          "data": {
            "text/plain": [
              "10"
            ]
          },
          "metadata": {},
          "execution_count": 98
        }
      ]
    },
    {
      "cell_type": "code",
      "source": [
        "a, b, c = [10, 20, 30] # 소괄호든 대괄호든 상관 없다\n",
        "a"
      ],
      "metadata": {
        "id": "UYgtjCoSNx_G"
      },
      "execution_count": null,
      "outputs": []
    },
    {
      "cell_type": "code",
      "source": [
        "i, j = [10, 20]\n",
        "i"
      ],
      "metadata": {
        "colab": {
          "base_uri": "https://localhost:8080/"
        },
        "id": "Vn8uIoAZOI42",
        "outputId": "80dadef0-36df-4282-a03d-08bbb507d4bf"
      },
      "execution_count": 99,
      "outputs": [
        {
          "output_type": "execute_result",
          "data": {
            "text/plain": [
              "10"
            ]
          },
          "metadata": {},
          "execution_count": 99
        }
      ]
    },
    {
      "cell_type": "code",
      "source": [
        "for i, j in [[10, 20],[30, 40],[50, 60]]:\n",
        "    print(i,j)"
      ],
      "metadata": {
        "colab": {
          "base_uri": "https://localhost:8080/"
        },
        "id": "Ht9s5moeN8Jo",
        "outputId": "bff0b164-c661-4bb4-d944-1df9841004fc"
      },
      "execution_count": 100,
      "outputs": [
        {
          "output_type": "stream",
          "name": "stdout",
          "text": [
            "10 20\n",
            "30 40\n",
            "40 50\n"
          ]
        }
      ]
    },
    {
      "cell_type": "code",
      "source": [
        "for i, j, k in [[10, 20,[1, 2]],[30, 40,[3, 4]],[50, 60,[5, 6]]]:\n",
        "    print(i, j, k)"
      ],
      "metadata": {
        "colab": {
          "base_uri": "https://localhost:8080/"
        },
        "id": "oldzMJdTOOic",
        "outputId": "62be9d9d-6923-4a6c-f43d-70ad3ec87f08"
      },
      "execution_count": 101,
      "outputs": [
        {
          "output_type": "stream",
          "name": "stdout",
          "text": [
            "10 20 [1, 2]\n",
            "30 40 [3, 4]\n",
            "50 60 [5, 6]\n"
          ]
        }
      ]
    },
    {
      "cell_type": "code",
      "source": [
        "for i, j, k in [[10, 20,[1, 2]],[30, 40,[3, 4]],[50, 60,[]]]:\n",
        "    print(i, j, k)"
      ],
      "metadata": {
        "colab": {
          "base_uri": "https://localhost:8080/"
        },
        "id": "0_eXV_tjOoVl",
        "outputId": "58a8ed35-7890-4b50-97e3-22719bb0188d"
      },
      "execution_count": 102,
      "outputs": [
        {
          "output_type": "stream",
          "name": "stdout",
          "text": [
            "10 20 [1, 2]\n",
            "30 40 [3, 4]\n",
            "50 60 []\n"
          ]
        }
      ]
    },
    {
      "cell_type": "code",
      "source": [
        "# swap\n",
        "a = 10\n",
        "b = 15\n",
        "a, b = b, a\n",
        "a, b"
      ],
      "metadata": {
        "colab": {
          "base_uri": "https://localhost:8080/"
        },
        "id": "pLA4PIB0Ou3c",
        "outputId": "1ecc6e33-5ca2-465a-f617-6d2ada07f6cb"
      },
      "execution_count": 103,
      "outputs": [
        {
          "output_type": "execute_result",
          "data": {
            "text/plain": [
              "(15, 10)"
            ]
          },
          "metadata": {},
          "execution_count": 103
        }
      ]
    },
    {
      "cell_type": "code",
      "source": [
        "for i , j in d.items():\n",
        "     print(i, j)"
      ],
      "metadata": {
        "colab": {
          "base_uri": "https://localhost:8080/"
        },
        "id": "CkZBW8uZNJ7y",
        "outputId": "b4bc4e93-dd2c-411e-bb03-6e70e7773c73"
      },
      "execution_count": 104,
      "outputs": [
        {
          "output_type": "stream",
          "name": "stdout",
          "text": [
            "two 2\n",
            "three 셋\n"
          ]
        }
      ]
    },
    {
      "cell_type": "markdown",
      "source": [
        "## max를 이용한 dict 최대 value의 key 값 가져오기"
      ],
      "metadata": {
        "id": "ne6ZF-CDPe72"
      }
    },
    {
      "cell_type": "code",
      "source": [
        "d = {\n",
        "    'test1' : 10,\n",
        "    'test2' : 20,\n",
        "    'test3' : 31,\n",
        "    'test4' : 11,\n",
        "}\n",
        "\n",
        "max(d.values()) # 이걸로는 찾아내기 힘들다\n",
        "max(d, key = d.get) # 많이 사용하는 코드"
      ],
      "metadata": {
        "colab": {
          "base_uri": "https://localhost:8080/",
          "height": 36
        },
        "id": "pyduXtYbPgTH",
        "outputId": "9049b624-59c4-458f-ae29-b8791f65ae1d"
      },
      "execution_count": 105,
      "outputs": [
        {
          "output_type": "execute_result",
          "data": {
            "text/plain": [
              "'test3'"
            ],
            "application/vnd.google.colaboratory.intrinsic+json": {
              "type": "string"
            }
          },
          "metadata": {},
          "execution_count": 105
        }
      ]
    },
    {
      "cell_type": "markdown",
      "source": [
        "## set (셋, 집합)"
      ],
      "metadata": {
        "id": "Ftmwwf0cQc5Z"
      }
    },
    {
      "cell_type": "markdown",
      "source": [
        "* 집합 자료형은 중복을 허용하지 않으며\n",
        "* 순서가 없는 자료형"
      ],
      "metadata": {
        "id": "StSGANxyRE9b"
      }
    },
    {
      "cell_type": "code",
      "source": [
        "n = set([1, 2, 2, 3, 3, 4])\n",
        "print(n)"
      ],
      "metadata": {
        "colab": {
          "base_uri": "https://localhost:8080/"
        },
        "id": "I91j1iZtQcQj",
        "outputId": "45351885-d62d-4711-a290-f7eda214dd25"
      },
      "execution_count": 106,
      "outputs": [
        {
          "output_type": "stream",
          "name": "stdout",
          "text": [
            "{1, 2, 3, 4}\n"
          ]
        }
      ]
    },
    {
      "cell_type": "code",
      "source": [
        "s = set('hello world')\n",
        "print(s)"
      ],
      "metadata": {
        "colab": {
          "base_uri": "https://localhost:8080/"
        },
        "id": "HnIdicedQ8pu",
        "outputId": "aaa8d951-b570-473d-cb34-4ffdc71d7992"
      },
      "execution_count": 107,
      "outputs": [
        {
          "output_type": "stream",
          "name": "stdout",
          "text": [
            "{'e', 'o', 'l', 'd', 'h', 'r', ' ', 'w'}\n"
          ]
        }
      ]
    },
    {
      "cell_type": "code",
      "source": [
        "n = set([1, 2, 2, 3, 3, 4])\n",
        "n.add(1000)\n",
        "print(n)"
      ],
      "metadata": {
        "colab": {
          "base_uri": "https://localhost:8080/"
        },
        "id": "PI4bmKx-TqMc",
        "outputId": "a4f2a566-a45a-434f-d049-563587caab3a"
      },
      "execution_count": 111,
      "outputs": [
        {
          "output_type": "stream",
          "name": "stdout",
          "text": [
            "{1, 2, 3, 4, 1000}\n"
          ]
        }
      ]
    },
    {
      "cell_type": "code",
      "source": [
        "n = set([1, 2, 2, 3, 3, 4])\n",
        "n.update({10,20})\n",
        "print(n)"
      ],
      "metadata": {
        "colab": {
          "base_uri": "https://localhost:8080/"
        },
        "id": "GUuZ5CH3T5X-",
        "outputId": "be586cf6-aa5c-41d3-a018-d5e1d115c250"
      },
      "execution_count": 112,
      "outputs": [
        {
          "output_type": "stream",
          "name": "stdout",
          "text": [
            "{1, 2, 3, 4, 20, 10}\n"
          ]
        }
      ]
    },
    {
      "cell_type": "code",
      "source": [
        "n = set([1, 2, 2, 3, 3, 4])\n",
        "n.remove(1)\n",
        "print(n)"
      ],
      "metadata": {
        "colab": {
          "base_uri": "https://localhost:8080/"
        },
        "id": "vJQVVeEgWeLv",
        "outputId": "793f9710-e3b2-4fae-efc5-84bf44de03df"
      },
      "execution_count": 113,
      "outputs": [
        {
          "output_type": "stream",
          "name": "stdout",
          "text": [
            "{2, 3, 4}\n"
          ]
        }
      ]
    },
    {
      "cell_type": "markdown",
      "source": [
        "* pop은 실무에서 사용하지 않습니다. 값을 랜덤하게 뽑아내기 때문입니다. 높은 확률로 앞에서부터 뽑아내긴 하지만 확률에 기대는 코딩을 하지 않기를 바랍니다. 공식문서에서는 랜덤하게 뽑아낸다고 되어 있습니다.\n",
        "* https://docs.python.org/3.11/library/stdtypes.html#frozenset.pop"
      ],
      "metadata": {
        "id": "PlFDvhZmXAMu"
      }
    },
    {
      "cell_type": "code",
      "source": [
        "# 교집합 별 3개\n",
        "a = {1, 2, 3}\n",
        "b = {3, 4, 5}\n",
        "a & b\n",
        "a.intersection(b)"
      ],
      "metadata": {
        "colab": {
          "base_uri": "https://localhost:8080/"
        },
        "id": "bEfi7tOIXU3h",
        "outputId": "2346d868-1f2c-4c4f-cb61-4da8dba4099d"
      },
      "execution_count": 114,
      "outputs": [
        {
          "output_type": "execute_result",
          "data": {
            "text/plain": [
              "{3}"
            ]
          },
          "metadata": {},
          "execution_count": 114
        }
      ]
    },
    {
      "cell_type": "code",
      "source": [
        "# 합집합\n",
        "a = {1, 2, 3}\n",
        "b = {3, 4, 5}\n",
        "a | b\n",
        "a.union(b)\n",
        "\n",
        "# a + b 이거는 에러"
      ],
      "metadata": {
        "colab": {
          "base_uri": "https://localhost:8080/"
        },
        "id": "F29QnKFzXvtU",
        "outputId": "036284d5-1c26-42da-c51c-b71d03ba544c"
      },
      "execution_count": 115,
      "outputs": [
        {
          "output_type": "execute_result",
          "data": {
            "text/plain": [
              "{1, 2, 3, 4, 5}"
            ]
          },
          "metadata": {},
          "execution_count": 115
        }
      ]
    },
    {
      "cell_type": "code",
      "source": [
        "# 차집합\n",
        "a = {1, 2, 3}\n",
        "b = {3, 4, 5}\n",
        "a - b\n",
        "a.difference(b)\n"
      ],
      "metadata": {
        "colab": {
          "base_uri": "https://localhost:8080/"
        },
        "id": "xMz1cQ3xYG_I",
        "outputId": "2cb323a5-26c4-45dc-ca89-b908e7891cb1"
      },
      "execution_count": 116,
      "outputs": [
        {
          "output_type": "execute_result",
          "data": {
            "text/plain": [
              "{1, 2}"
            ]
          },
          "metadata": {},
          "execution_count": 116
        }
      ]
    },
    {
      "cell_type": "code",
      "source": [
        "s = {1, 2, 3, 4}\n",
        "ss = {3, 4, 5, 6}\n",
        "s.issubset({1, 2})\n",
        "s.issubset({1, 2, 3, 4, 5, 6, })"
      ],
      "metadata": {
        "id": "_m0a_LzFYfuO"
      },
      "execution_count": null,
      "outputs": []
    },
    {
      "cell_type": "code",
      "source": [
        "# https://school.programmers.co.kr/learn/courses/30/lessons/120903?language=python3\n",
        "def solution(s1, s2):\n",
        "    return len(set(s1) & set(s2))"
      ],
      "metadata": {
        "id": "dww2vTdWhag6"
      },
      "execution_count": null,
      "outputs": []
    },
    {
      "cell_type": "code",
      "source": [
        "# https://school.programmers.co.kr/learn/courses/30/lessons/120888\n",
        "# my_string        result\n",
        "# \"people\"        \"peol\""
      ],
      "metadata": {
        "id": "776Jz8alSQCi"
      },
      "execution_count": null,
      "outputs": []
    },
    {
      "cell_type": "code",
      "source": [
        "# my_string        result\n",
        "# \"people\"        \"peol\"\n",
        "\n",
        "result = ''\n",
        "for i in 'people':\n",
        "    if i not in result:\n",
        "        result += i\n",
        "result "
      ],
      "metadata": {
        "colab": {
          "base_uri": "https://localhost:8080/",
          "height": 36
        },
        "id": "UwWVvX8PY6BN",
        "outputId": "a559980a-068c-4a77-a81d-ce006cef06c2"
      },
      "execution_count": 117,
      "outputs": [
        {
          "output_type": "execute_result",
          "data": {
            "text/plain": [
              "'peol'"
            ],
            "application/vnd.google.colaboratory.intrinsic+json": {
              "type": "string"
            }
          },
          "metadata": {},
          "execution_count": 117
        }
      ]
    },
    {
      "cell_type": "code",
      "source": [
        "def solution(my_string):\n",
        "    return set(my_string)\n",
        "\n",
        "solution('people')"
      ],
      "metadata": {
        "colab": {
          "base_uri": "https://localhost:8080/"
        },
        "id": "9-22vq2ZSoCO",
        "outputId": "f9c6d412-b237-4834-bd56-96f5a6705b7e"
      },
      "execution_count": 108,
      "outputs": [
        {
          "output_type": "execute_result",
          "data": {
            "text/plain": [
              "{'e', 'l', 'o', 'p'}"
            ]
          },
          "metadata": {},
          "execution_count": 108
        }
      ]
    },
    {
      "cell_type": "code",
      "source": [
        "def solution(my_string):\n",
        "    return ''.join(set(my_string))\n",
        "\n",
        "solution('people')"
      ],
      "metadata": {
        "colab": {
          "base_uri": "https://localhost:8080/",
          "height": 36
        },
        "id": "YEW8mcDMStgK",
        "outputId": "b0f923b1-e616-4c34-8192-3ca8bc74364c"
      },
      "execution_count": 110,
      "outputs": [
        {
          "output_type": "execute_result",
          "data": {
            "text/plain": [
              "'eopl'"
            ],
            "application/vnd.google.colaboratory.intrinsic+json": {
              "type": "string"
            }
          },
          "metadata": {},
          "execution_count": 110
        }
      ]
    },
    {
      "cell_type": "code",
      "source": [
        "def solution(my_string):\n",
        "    집합 = set(my_string)\n",
        "    result = ''\n",
        "    for i in my_string:\n",
        "        if i in 집합:\n",
        "            result += i\n",
        "            집합.remove(i)\n",
        "    return result \n",
        "    \n",
        "solution('people')"
      ],
      "metadata": {
        "colab": {
          "base_uri": "https://localhost:8080/",
          "height": 36
        },
        "id": "fE4mHQ2VZn_4",
        "outputId": "b51f09b7-7b0f-43a5-9e5e-b7a2dcc7f095"
      },
      "execution_count": 118,
      "outputs": [
        {
          "output_type": "execute_result",
          "data": {
            "text/plain": [
              "'peol'"
            ],
            "application/vnd.google.colaboratory.intrinsic+json": {
              "type": "string"
            }
          },
          "metadata": {},
          "execution_count": 118
        }
      ]
    },
    {
      "cell_type": "code",
      "source": [
        "{'e', 'l', 'o', 'p'}\n",
        "def solution(my_string):\n",
        "    return ''.join(set(my_string))\n",
        "\n",
        "solution('people')"
      ],
      "metadata": {
        "id": "Y-Era3Q9TJbA"
      },
      "execution_count": null,
      "outputs": []
    },
    {
      "cell_type": "markdown",
      "source": [
        "## !! 연습문제"
      ],
      "metadata": {
        "id": "QyPRH9OAacBk"
      }
    },
    {
      "cell_type": "code",
      "source": [
        "# 다음은 python 강좌 학생들의 시험 점수를 딕셔너리로 나타낸 것입니다.\n",
        "# 학생들의 총점을 구하는 코드를 작성하세요.\n",
        "# 학생들의 평균 점수를 구하는 코드를 작성하세요.\n",
        "# 점수가 가장 높은 학생의 이름과 그 점수를 구하는 코드를 작성하세요.\n",
        "# 점수가 가장 낮은 학생의 이름과 그 점수를 구하는 코드를 작성하세요.\n",
        "\n",
        "\n",
        "student_score = {\n",
        "\t\t'홍의': 97,\n",
        "\t\t'원희': 60,\n",
        "\t\t'동해': 77,\n",
        "\t\t'변수': 79,\n",
        "\t\t'창현': 89,\n",
        "}\n",
        "\n",
        "총점 = sum(student_score.values()) \n",
        "평균 = sum(student_score.values()) / len(student_score)\n",
        "\n",
        "def max_score(x):\n",
        "     a = max(x.values())\n",
        "     b = max(x, key = x.get)\n",
        "     return(a , b)\n",
        "\n",
        "def min_socre(x):\n",
        "     a = min(x.values())\n",
        "     b = min(x, key = x.get)\n",
        "     return (a , b)\n",
        "\n",
        "print(총점, 평균, max_score(student_score), min_socre(student_score))"
      ],
      "metadata": {
        "colab": {
          "base_uri": "https://localhost:8080/"
        },
        "id": "bYWm-be4abdQ",
        "outputId": "d059b80b-aae9-4bd6-d410-8e163ab2b607"
      },
      "execution_count": 124,
      "outputs": [
        {
          "output_type": "stream",
          "name": "stdout",
          "text": [
            "402 80.4 (97, '홍의') (60, '원희')\n"
          ]
        }
      ]
    },
    {
      "cell_type": "code",
      "source": [
        "# 풀이\n",
        "\n",
        "# 총점\n",
        "a = sum(student_score.values())\n",
        "\n",
        "# 평균\n",
        "b = sum(student_score.values()) / len(student_score)\n",
        "\n",
        "# 가장 높은 점수, 학생\n",
        "c = max(student_score, key = student_score.get)\n",
        "c_1 = student_score[c]\n",
        "print(c, c_1)\n",
        "\n",
        "# 가장 낮은 점수, 학생\n",
        "d = min(student_score, key = student_score.get)\n",
        "d_1 = student_score[d]\n",
        "print(d, d_1)"
      ],
      "metadata": {
        "id": "DCGi2NNZoSmm"
      },
      "execution_count": null,
      "outputs": []
    },
    {
      "cell_type": "code",
      "source": [
        "# 학생 7명이 같이 먹을 점심 메뉴를 고르려고 합니다. \n",
        "# 학생들의 각자 좋아하는 메뉴와 싫어하는 메뉴를 like 와 dislike 리스트에 담았습니다.\n",
        "# 학생들은 점심 메뉴를 고를 때, 한 명이라도 싫어하는 메뉴라면 고르지 않기로 했습니다. \n",
        "# 최종 후보 메뉴들의 리스트를 구하는 코드를 작성해주세요.\n",
        "\n",
        "like = ['볶음밥', '라면', '국수', '파스타', '치킨', '짜장면', '국밥']\n",
        "dislike = ['국밥', '짬뽕', '찜닭', '파스타', '국수', '카레', '덮밥']\n",
        "\n",
        "set(like) - set(dislike)\n",
        "\n",
        "# set을 사용한 이유는 중복값을 미리 제거하기 위해서\n",
        "# 중복 제거 후 차집합 구하기"
      ],
      "metadata": {
        "colab": {
          "base_uri": "https://localhost:8080/"
        },
        "id": "rxN1MsN_e9ke",
        "outputId": "08719730-4a00-4fce-baec-e826883b9dd5"
      },
      "execution_count": 127,
      "outputs": [
        {
          "output_type": "execute_result",
          "data": {
            "text/plain": [
              "{'라면', '볶음밥', '짜장면', '치킨'}"
            ]
          },
          "metadata": {},
          "execution_count": 127
        }
      ]
    },
    {
      "cell_type": "markdown",
      "source": [
        "## lambda"
      ],
      "metadata": {
        "id": "mzJl2SduBMqd"
      }
    },
    {
      "cell_type": "markdown",
      "source": [
        "## 데코레이터"
      ],
      "metadata": {
        "id": "hSWCIFFO4Bap"
      }
    },
    {
      "cell_type": "markdown",
      "source": [
        "## 클로저, 팩토리 함수"
      ],
      "metadata": {
        "id": "6uS0v3GlriHU"
      }
    },
    {
      "cell_type": "markdown",
      "source": [
        "## 제너레이터와 이터레이터"
      ],
      "metadata": {
        "id": "TohBSpoFrnCl"
      }
    },
    {
      "cell_type": "markdown",
      "source": [
        "## 알아야 하는 built-in function"
      ],
      "metadata": {
        "id": "bETLm8LfnWUl"
      }
    }
  ]
}