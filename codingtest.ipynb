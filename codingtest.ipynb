{
  "nbformat": 4,
  "nbformat_minor": 0,
  "metadata": {
    "colab": {
      "provenance": [],
      "authorship_tag": "ABX9TyOTVmv3QCru8vL01mXGUShY",
      "include_colab_link": true
    },
    "kernelspec": {
      "name": "python3",
      "display_name": "Python 3"
    },
    "language_info": {
      "name": "python"
    }
  },
  "cells": [
    {
      "cell_type": "markdown",
      "metadata": {
        "id": "view-in-github",
        "colab_type": "text"
      },
      "source": [
        "<a href=\"https://colab.research.google.com/github/su0797/BackendOrmi/blob/main/%08codingtest.ipynb\" target=\"_parent\"><img src=\"https://colab.research.google.com/assets/colab-badge.svg\" alt=\"Open In Colab\"/></a>"
      ]
    },
    {
      "cell_type": "markdown",
      "source": [
        "## 문제 1 - 암호를 해독해라"
      ],
      "metadata": {
        "id": "ZQprk0SmrZj5"
      }
    },
    {
      "cell_type": "code",
      "source": [
        "'''\n",
        "섬으로 향하라!\n",
        "\n",
        "'   + -- + - + -   '\n",
        "'   + --- + - +   '\n",
        "'   + -- + - + -   '\n",
        "'   + - + - + - +   '\n",
        "\n",
        "해(1)와 달(0),\n",
        "Code의 세상 안으로!(En-Coding)\n",
        "'''\n",
        "# ord(): 문자 -> 숫자\n",
        "# chr(): 숫자 -> 문자"
      ],
      "metadata": {
        "id": "e88SlDwnjj_W"
      },
      "execution_count": null,
      "outputs": []
    },
    {
      "cell_type": "code",
      "source": [
        "text = ['   + -- + - + -   ',\n",
        "        '   + --- + - +   ',\n",
        "        '   + -- + - + -   ',\n",
        "        '   + - + - + - +   ']"
      ],
      "metadata": {
        "id": "owrr_c6VkWoB"
      },
      "execution_count": 2,
      "outputs": []
    },
    {
      "cell_type": "code",
      "source": [
        "l = []\n",
        "for i in text:\n",
        "    l.append((chr(int(i.strip().replace(' ','').replace('+','1').replace('-','0'), 2))))\n",
        "''.join(l)"
      ],
      "metadata": {
        "colab": {
          "base_uri": "https://localhost:8080/",
          "height": 36
        },
        "id": "xmTN6me4qdCV",
        "outputId": "8f9090d6-246a-4d40-da08-5233c6039df5"
      },
      "execution_count": 12,
      "outputs": [
        {
          "output_type": "execute_result",
          "data": {
            "text/plain": [
              "'JEJU'"
            ],
            "application/vnd.google.colaboratory.intrinsic+json": {
              "type": "string"
            }
          },
          "metadata": {},
          "execution_count": 12
        }
      ]
    },
    {
      "cell_type": "markdown",
      "source": [
        "## 문제2 - JAVA독과 함께"
      ],
      "metadata": {
        "id": "Meyk_3WirgO7"
      }
    },
    {
      "cell_type": "code",
      "source": [
        "'''입력\n",
        "돌의내구도 = [1, 2, 1, 4]\n",
        "독 = [{\n",
        "    \"이름\" : \"루비독\",\n",
        "    \"나이\" : \"95년생\",\n",
        "    \"점프력\" : \"3\",\n",
        "    \"몸무게\" : \"4\",\n",
        "    },{\n",
        "    \"이름\" : \"피치독\",\n",
        "    \"나이\" : \"95년생\",\n",
        "    \"점프력\" : \"3\",\n",
        "    \"몸무게\" : \"3\",\n",
        "    },{\n",
        "    \"이름\" : \"씨-독\",\n",
        "    \"나이\" : \"72년생\",\n",
        "    \"점프력\" : \"2\",\n",
        "    \"몸무게\" : \"1\",\n",
        "    },{\n",
        "    \"이름\" : \"코볼독\",\n",
        "    \"나이\" : \"59년생\",\n",
        "    \"점프력\" : \"1\",\n",
        "    \"몸무게\" : \"1\",\n",
        "    },\n",
        "]\n",
        "\n",
        "출력\n",
        "생존자 : ['씨-독']\n",
        "\n",
        "입력\n",
        "돌의내구도 = [5, 3, 4, 1, 3, 8, 3]\n",
        "독 = [{\n",
        "    \"이름\" : \"루비독\",\n",
        "    \"나이\" : \"95년생\",\n",
        "    \"점프력\" : \"3\",\n",
        "    \"몸무게\" : \"4\",\n",
        "    },{\n",
        "    \"이름\" : \"피치독\",\n",
        "    \"나이\" : \"95년생\",\n",
        "    \"점프력\" : \"3\",\n",
        "    \"몸무게\" : \"3\",\n",
        "    },{\n",
        "    \"이름\" : \"씨-독\",\n",
        "    \"나이\" : \"72년생\",\n",
        "    \"점프력\" : \"2\",\n",
        "    \"몸무게\" : \"1\",\n",
        "    },{\n",
        "    \"이름\" : \"코볼독\",\n",
        "    \"나이\" : \"59년생\",\n",
        "    \"점프력\" : \"1\",\n",
        "    \"몸무게\" : \"1\",\n",
        "    },\n",
        "]\n",
        "\n",
        "출력\n",
        "생존자 : ['루비독', '씨-독']\n",
        "'''"
      ],
      "metadata": {
        "id": "jc6FrqwgqgxO"
      },
      "execution_count": null,
      "outputs": []
    },
    {
      "cell_type": "code",
      "source": [
        "돌의내구도 = [1, 2, 1, 4]\n",
        "독 = [{\n",
        "    \"이름\" : \"루비독\",\n",
        "    \"나이\" : \"95년생\",\n",
        "    \"점프력\" : \"3\",\n",
        "    \"몸무게\" : \"4\",\n",
        "    },{\n",
        "    \"이름\" : \"피치독\",\n",
        "    \"나이\" : \"95년생\",\n",
        "    \"점프력\" : \"3\",\n",
        "    \"몸무게\" : \"3\",\n",
        "    },{\n",
        "    \"이름\" : \"씨-독\",\n",
        "    \"나이\" : \"72년생\",\n",
        "    \"점프력\" : \"2\",\n",
        "    \"몸무게\" : \"1\",\n",
        "    },{\n",
        "    \"이름\" : \"코볼독\",\n",
        "    \"나이\" : \"59년생\",\n",
        "    \"점프력\" : \"1\",\n",
        "    \"몸무게\" : \"1\",\n",
        "    }]"
      ],
      "metadata": {
        "id": "WghDayRlvEqZ"
      },
      "execution_count": 5,
      "outputs": []
    },
    {
      "cell_type": "code",
      "source": [
        "def 징검다리를건너라(돌의내구도, 독):\n",
        "    answer = [i['이름'] for i in 독]\n",
        "    for i in 독:\n",
        "        독의위치 = 0\n",
        "        while 독의위치 < len(돌의내구도)-1:\n",
        "            독의위치 += int(i['점프력'])\n",
        "            돌의내구도[독의위치-1] -= int(i['몸무게'])\n",
        "            if 돌의내구도[독의위치-1] < 0:\n",
        "                answer[answer.index(i['이름'])] = 'fail'\n",
        "                break\n",
        "    return [i for i in answer if i != 'fail']\n",
        "\n",
        "print(징검다리를건너라(돌의내구도.copy(), 독.copy()))"
      ],
      "metadata": {
        "colab": {
          "base_uri": "https://localhost:8080/"
        },
        "id": "JX6BWKPQSxpV",
        "outputId": "bf33177a-871c-4811-bcb4-942a1580adb3"
      },
      "execution_count": 7,
      "outputs": [
        {
          "output_type": "stream",
          "name": "stdout",
          "text": [
            "['씨-독']\n"
          ]
        }
      ]
    },
    {
      "cell_type": "code",
      "source": [
        "돌의내구도 = [5, 3, 4, 1, 3, 8, 3]\n",
        "독 = [{\n",
        "    \"이름\" : \"루비독\",\n",
        "    \"나이\" : \"95년생\",\n",
        "    \"점프력\" : \"3\",\n",
        "    \"몸무게\" : \"4\",\n",
        "    },{\n",
        "    \"이름\" : \"피치독\",\n",
        "    \"나이\" : \"95년생\",\n",
        "    \"점프력\" : \"3\",\n",
        "    \"몸무게\" : \"3\",\n",
        "    },{\n",
        "    \"이름\" : \"씨-독\",\n",
        "    \"나이\" : \"72년생\",\n",
        "    \"점프력\" : \"2\",\n",
        "    \"몸무게\" : \"1\",\n",
        "    },{\n",
        "    \"이름\" : \"코볼독\",\n",
        "    \"나이\" : \"59년생\",\n",
        "    \"점프력\" : \"1\",\n",
        "    \"몸무게\" : \"1\",\n",
        "    },\n",
        "]\n",
        "def 징검다리를건너라(돌의내구도, 독):\n",
        "    answer = [i['이름'] for i in 독]\n",
        "    for i in 독:\n",
        "        독의위치 = 0\n",
        "        while 독의위치 < len(돌의내구도)-1:\n",
        "            독의위치 += int(i['점프력'])\n",
        "            돌의내구도[독의위치-1] -= int(i['몸무게'])\n",
        "            if 돌의내구도[독의위치-1] < 0:\n",
        "                answer[answer.index(i['이름'])] = 'fail'\n",
        "                break\n",
        "    return [i for i in answer if i != 'fail']\n",
        "\n",
        "print(징검다리를건너라(돌의내구도.copy(), 독.copy()))"
      ],
      "metadata": {
        "colab": {
          "base_uri": "https://localhost:8080/"
        },
        "id": "MeU7-t-ucIP9",
        "outputId": "854df507-9e46-4972-c944-4e7e1165bf26"
      },
      "execution_count": 9,
      "outputs": [
        {
          "output_type": "stream",
          "name": "stdout",
          "text": [
            "['루비독', '씨-독']\n"
          ]
        }
      ]
    },
    {
      "cell_type": "markdown",
      "source": [
        "## 문제3 - 섬으로 건너가라!"
      ],
      "metadata": {
        "id": "FfiUAESDch68"
      }
    },
    {
      "cell_type": "code",
      "source": [
        "대기인원 = 14000605\n",
        "# 대기인원 = 1200202"
      ],
      "metadata": {
        "id": "8bYeIN9rcdIy"
      },
      "execution_count": null,
      "outputs": []
    }
  ]
}