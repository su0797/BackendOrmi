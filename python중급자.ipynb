{
  "nbformat": 4,
  "nbformat_minor": 0,
  "metadata": {
    "colab": {
      "provenance": [],
      "authorship_tag": "ABX9TyMkcFUWoamjemLIuiT84Ypa",
      "include_colab_link": true
    },
    "kernelspec": {
      "name": "python3",
      "display_name": "Python 3"
    },
    "language_info": {
      "name": "python"
    }
  },
  "cells": [
    {
      "cell_type": "markdown",
      "metadata": {
        "id": "view-in-github",
        "colab_type": "text"
      },
      "source": [
        "<a href=\"https://colab.research.google.com/github/su0797/BackendOrmi/blob/main/python%EC%A4%91%EA%B8%89%EC%9E%90.ipynb\" target=\"_parent\"><img src=\"https://colab.research.google.com/assets/colab-badge.svg\" alt=\"Open In Colab\"/></a>"
      ]
    },
    {
      "cell_type": "markdown",
      "source": [
        "🧐 Python 버전별 출시 연도입니다. 여러분이 만약 2019년 이전에 나온 책을 보았다면 왈러스 연산자를 모르는 것이 당연합니다. 최신의 책(가능하면 인지도 있는 개정판 책)으로 공부하시는 것을 권해드립니다.\n",
        "\n",
        "- Python 3.0: 2008년 12월\n",
        "- Python 3.1: 2009년 6월\n",
        "- Python 3.2: 2011년 2월\n",
        "- Python 3.3: 2012년 9월\n",
        "- Python 3.4: 2014년 3월\n",
        "- Python 3.5: 2015년 9월(async와 await)\n",
        "- Python 3.6: 2016년 12월(f-string, 타입힌트)\n",
        "- Python 3.7: 2018년 6월(dataclasses)\n",
        "- Python 3.8: 2019년 10월\n",
        "- Python 3.9: 2020년 10월\n",
        "\n",
        "\n"
      ],
      "metadata": {
        "id": "TxLW4V-YDaya"
      }
    },
    {
      "cell_type": "code",
      "source": [
        "# id, name, email이 각각 3번씩 반복\n",
        "# -> 이러한 현상을  보일러 플레이트(boiler-plate)라 함\n",
        "# -> print를 해도 필드값이 보이지 않아 불편\n",
        "class User:\n",
        "    def __init__(self, id, name, email):\n",
        "        self.id = id\n",
        "        self.name = name\n",
        "        self.email = email"
      ],
      "metadata": {
        "id": "hvpKsynuDw57"
      },
      "execution_count": null,
      "outputs": []
    },
    {
      "cell_type": "code",
      "source": [
        "# id, name, email이 각각 3번씩 반복\n",
        "# -> 이러한 현상을  보일러 플레이트(boiler-plate)라 함\n",
        "# -> print를 해도 필드값이 보이지 않아 불편\n",
        "class User:\n",
        "    def __init__(self, id, name, email):\n",
        "        self.id = id\n",
        "        self.name = name\n",
        "        self.email = email\n",
        "    def __repr__(self):\n",
        "        return (f'{self.__class__.__qualname__}{self.id, self.name, self.email}')\n",
        "                                               # 중괄호 중간에 ,를 쓰면 소괄호로 묶인다 -> 그래서 따로 소괄호를 쓰지 않았음\n",
        "user = User(123, 'hojun', 'hojun@gmail')\n",
        "user\n",
        "# User(123, 'hojun', 'hojun@gmail')"
      ],
      "metadata": {
        "colab": {
          "base_uri": "https://localhost:8080/"
        },
        "id": "i4ssfmXGDyH1",
        "outputId": "a4c47504-a587-41b3-ff7a-57f214817038"
      },
      "execution_count": null,
      "outputs": [
        {
          "output_type": "execute_result",
          "data": {
            "text/plain": [
              "User(123, 'hojun', 'hojun@gmail')"
            ]
          },
          "metadata": {},
          "execution_count": 2
        }
      ]
    },
    {
      "cell_type": "code",
      "source": [
        "from dataclasses import dataclass\n",
        "\n",
        "@dataclass\n",
        "class User:\n",
        "    id: int\n",
        "    name: str\n",
        "    email : str\n",
        "\n",
        "user = User(123, 'hojun', 'hojun@gmail')\n",
        "user"
      ],
      "metadata": {
        "colab": {
          "base_uri": "https://localhost:8080/"
        },
        "id": "qJFxmLEfEL_o",
        "outputId": "80c5ce98-663d-4045-a60b-e193e083d6a0"
      },
      "execution_count": null,
      "outputs": [
        {
          "output_type": "execute_result",
          "data": {
            "text/plain": [
              "User(id=123, name='hojun', email='hojun@gmail')"
            ]
          },
          "metadata": {},
          "execution_count": 3
        }
      ]
    },
    {
      "cell_type": "code",
      "source": [
        "# dict 결합연산자\n",
        "x = {\"key1\": \"value1\"}\n",
        "y = {\"key2\": \"value2\"}\n",
        "z = x | y\n",
        "z"
      ],
      "metadata": {
        "colab": {
          "base_uri": "https://localhost:8080/"
        },
        "id": "pRIXc-5JEmVv",
        "outputId": "f1fba8c5-0d80-4f1c-867f-9ea45b25dbe4"
      },
      "execution_count": null,
      "outputs": [
        {
          "output_type": "execute_result",
          "data": {
            "text/plain": [
              "{'key1': 'value1', 'key2': 'value2'}"
            ]
          },
          "metadata": {},
          "execution_count": 4
        }
      ]
    },
    {
      "cell_type": "code",
      "source": [
        "# JSON 형태에서는 아래처럼 +연산자를 사용하는 경우가 종종 있었다\n",
        "# 과거형\n",
        "list(x.items()) + list(y.items())"
      ],
      "metadata": {
        "id": "cg7uSBACJIMJ"
      },
      "execution_count": null,
      "outputs": []
    },
    {
      "cell_type": "code",
      "source": [
        "# 기본적인 왈러스 연산자의 사용\n",
        "x = (n := 10) * 2\n",
        "print(x)  # 출력: 20\n",
        "print(n)  # 출력: 10"
      ],
      "metadata": {
        "colab": {
          "base_uri": "https://localhost:8080/"
        },
        "id": "PQuPaBaaFHKx",
        "outputId": "ed7588d6-7a2b-4047-fb38-ba973c5f2b51"
      },
      "execution_count": null,
      "outputs": [
        {
          "output_type": "stream",
          "name": "stdout",
          "text": [
            "20\n",
            "10\n"
          ]
        }
      ]
    },
    {
      "cell_type": "code",
      "source": [
        "# 왈러스 연산자가 없을 때의 코드\n",
        "import random\n",
        "\n",
        "while True:\n",
        "    x = random.randint(0, 10)\n",
        "    if x == 7:\n",
        "        break\n",
        "    print(x)\n",
        "\n",
        "# 왈러스 연산자를 사용한 코드\n",
        "import random\n",
        "\n",
        "while (x := random.randint(0, 10)) != 7:\n",
        "    print(x)"
      ],
      "metadata": {
        "id": "HlxyRiNMGD81"
      },
      "execution_count": null,
      "outputs": []
    },
    {
      "cell_type": "code",
      "source": [
        "# 예제 1번\n",
        "count = 0\n",
        "s = 0\n",
        "while count <= 10 :\n",
        "    s += count\n",
        "    count += 1\n",
        "\n",
        "s"
      ],
      "metadata": {
        "colab": {
          "base_uri": "https://localhost:8080/"
        },
        "id": "nUtob_k7GahH",
        "outputId": "8855bdd4-0d6f-4e01-8bd8-568fe656bc8d"
      },
      "execution_count": null,
      "outputs": [
        {
          "output_type": "execute_result",
          "data": {
            "text/plain": [
              "55"
            ]
          },
          "metadata": {},
          "execution_count": 7
        }
      ]
    },
    {
      "cell_type": "code",
      "source": [
        "# 예제 1번을 왈러스 연산자로 바꾸기\n",
        "s = 0\n",
        "count = 0\n",
        "while (count := count+1) <= 10:\n",
        "    s += count\n",
        "\n",
        "print(s)"
      ],
      "metadata": {
        "colab": {
          "base_uri": "https://localhost:8080/"
        },
        "id": "X2mXSsGmG8v1",
        "outputId": "0eef97f2-37cb-4702-eb96-8a68be657292"
      },
      "execution_count": null,
      "outputs": [
        {
          "output_type": "stream",
          "name": "stdout",
          "text": [
            "55\n"
          ]
        }
      ]
    },
    {
      "cell_type": "code",
      "source": [
        "# f-string (아래 문법들은 정규표현식에서 자주 표현 된다)\n",
        "\n",
        "f'{{1, 2,3}}'"
      ],
      "metadata": {
        "colab": {
          "base_uri": "https://localhost:8080/",
          "height": 36
        },
        "id": "4Q6LUampH_Mj",
        "outputId": "0bf1418f-f15b-4662-c4c2-fbd9c5e52ae6"
      },
      "execution_count": null,
      "outputs": [
        {
          "output_type": "execute_result",
          "data": {
            "text/plain": [
              "'{1, 2,3}'"
            ],
            "application/vnd.google.colaboratory.intrinsic+json": {
              "type": "string"
            }
          },
          "metadata": {},
          "execution_count": 9
        }
      ]
    },
    {
      "cell_type": "code",
      "source": [
        "# f-string\n",
        "\n",
        "f'{{{1, 2,3}}}'"
      ],
      "metadata": {
        "colab": {
          "base_uri": "https://localhost:8080/",
          "height": 36
        },
        "id": "68dc7-HqImEj",
        "outputId": "e3e3c010-41a4-44fc-e1cd-e44782b8057c"
      },
      "execution_count": null,
      "outputs": [
        {
          "output_type": "execute_result",
          "data": {
            "text/plain": [
              "'{(1, 2, 3)}'"
            ],
            "application/vnd.google.colaboratory.intrinsic+json": {
              "type": "string"
            }
          },
          "metadata": {},
          "execution_count": 10
        }
      ]
    },
    {
      "cell_type": "code",
      "source": [
        "1, 2, 3"
      ],
      "metadata": {
        "colab": {
          "base_uri": "https://localhost:8080/"
        },
        "id": "6E1LELT1JRVh",
        "outputId": "5946b0a1-35b5-4fb8-8b65-d2200e97e6f7"
      },
      "execution_count": null,
      "outputs": [
        {
          "output_type": "execute_result",
          "data": {
            "text/plain": [
              "(1, 2, 3)"
            ]
          },
          "metadata": {},
          "execution_count": 11
        }
      ]
    },
    {
      "cell_type": "code",
      "source": [
        "one = 1\n",
        "two = 2\n",
        "three = 3\n",
        "\n",
        "f'{{{one, two, three}}}'"
      ],
      "metadata": {
        "colab": {
          "base_uri": "https://localhost:8080/",
          "height": 36
        },
        "id": "3nUOzvLBJOom",
        "outputId": "64933afa-9c95-4550-b421-290f5b4c878e"
      },
      "execution_count": null,
      "outputs": [
        {
          "output_type": "execute_result",
          "data": {
            "text/plain": [
              "'{(1, 2, 3)}'"
            ],
            "application/vnd.google.colaboratory.intrinsic+json": {
              "type": "string"
            }
          },
          "metadata": {},
          "execution_count": 12
        }
      ]
    },
    {
      "cell_type": "code",
      "source": [
        "one = 1\n",
        "\n",
        "f'{{{one}}}'"
      ],
      "metadata": {
        "colab": {
          "base_uri": "https://localhost:8080/",
          "height": 36
        },
        "id": "gr4rEr5jJQ1_",
        "outputId": "23ab9f06-9556-4b59-dfc3-ef7cb873bc1b"
      },
      "execution_count": null,
      "outputs": [
        {
          "output_type": "execute_result",
          "data": {
            "text/plain": [
              "'{1}'"
            ],
            "application/vnd.google.colaboratory.intrinsic+json": {
              "type": "string"
            }
          },
          "metadata": {},
          "execution_count": 13
        }
      ]
    },
    {
      "cell_type": "code",
      "source": [
        "def add(a, b):\n",
        "    \"\"\"\n",
        "    Add two numbers and return the result.\n",
        "\n",
        "    Args:\n",
        "        a (int or float): The first number.\n",
        "        b (int or float): The second number.\n",
        "\n",
        "    Returns:\n",
        "        int or float: The sum of the two numbers.\n",
        "    \"\"\"\n",
        "    return a + b"
      ],
      "metadata": {
        "id": "G2ujii1qIsgR"
      },
      "execution_count": null,
      "outputs": []
    },
    {
      "cell_type": "code",
      "source": [
        "def add(a, b):\n",
        "    \"\"\"\n",
        "    Add two numbers and return the result.\n",
        "\n",
        "    Args:\n",
        "        a (int or float): The first number.\n",
        "        b (int or float): The second number.\n",
        "\n",
        "    Returns:\n",
        "        int or float: The sum of the two numbers.\n",
        "    \"\"\"\n",
        "    return a + b\n",
        "\n",
        "# google coding convention\n",
        "def fetch_smalltable_rows(table_handle, keys, require_all_keys):\n",
        "    \"\"\"Fetches rows from a Smalltable.\n",
        "\n",
        "    Retrieves rows pertaining to the given keys from the Table instance\n",
        "    represented by table_handle.  String keys will be UTF-8 encoded.\n",
        "\n",
        "    Args:\n",
        "        table_handle: An open smalltable.Table instance.\n",
        "        keys: A sequence of strings representing the key of each table\n",
        "          row to fetch.  String keys will be UTF-8 encoded.\n",
        "        require_all_keys: If True only rows with values set for all keys will be\n",
        "          returned.\n",
        "\n",
        "    Returns:\n",
        "        A dict mapping keys to the corresponding table row data\n",
        "        fetched. Each row is represented as a tuple of strings. For\n",
        "        example:\n",
        "\n",
        "        {b'Serak': ('Rigel VII', 'Preparer'),\n",
        "         b'Zim': ('Irk', 'Invader'),\n",
        "         b'Lrrr': ('Omicron Persei 8', 'Emperor')}\n",
        "\n",
        "        Returned keys are always bytes.  If a key from the keys argument is\n",
        "        missing from the dictionary, then that row was not found in the\n",
        "        table (and require_all_keys must have been False).\n",
        "\n",
        "    Raises:\n",
        "        IOError: An error occurred accessing the smalltable.\n",
        "    \"\"\""
      ],
      "metadata": {
        "id": "tRHibeQIJXvw"
      },
      "execution_count": null,
      "outputs": []
    },
    {
      "cell_type": "code",
      "source": [
        "fetch_smalltable_rows"
      ],
      "metadata": {
        "id": "onq-egMXJ4pM"
      },
      "execution_count": null,
      "outputs": []
    },
    {
      "cell_type": "code",
      "source": [
        "# 딕셔너리 컴프리헨션\n",
        "square_dict = {x: x**2 for x in range(5)}  # 0부터 4까지의 수를 키로, 그 제곱을 값으로 하는 딕셔너리 생성"
      ],
      "metadata": {
        "id": "TDKDiMLIKOm4"
      },
      "execution_count": null,
      "outputs": []
    },
    {
      "cell_type": "code",
      "source": [
        "square_dict"
      ],
      "metadata": {
        "colab": {
          "base_uri": "https://localhost:8080/"
        },
        "id": "kSZka2_ELDM2",
        "outputId": "aa0c5b78-6dfd-4c09-e674-55199b792e01"
      },
      "execution_count": null,
      "outputs": [
        {
          "output_type": "execute_result",
          "data": {
            "text/plain": [
              "{0: 0, 1: 1, 2: 4, 3: 9, 4: 16}"
            ]
          },
          "metadata": {},
          "execution_count": 19
        }
      ]
    },
    {
      "cell_type": "code",
      "source": [
        "books = ['python', 'javascript', 'html/css']\n",
        "book_dict = {book: idx for idx, book in enumerate(books)}\n",
        "book_dict"
      ],
      "metadata": {
        "colab": {
          "base_uri": "https://localhost:8080/"
        },
        "id": "s2hlt28qLF0e",
        "outputId": "761b86c8-7fbf-4635-d9fc-ad71c0a6e981"
      },
      "execution_count": null,
      "outputs": [
        {
          "output_type": "execute_result",
          "data": {
            "text/plain": [
              "{'python': 0, 'javascript': 1, 'html/css': 2}"
            ]
          },
          "metadata": {},
          "execution_count": 20
        }
      ]
    },
    {
      "cell_type": "code",
      "source": [
        "# 문제 : {'python': 10000000, 'javascript': 24000000, 'html/css': 39000000}와 같은 형태로 출력되게 해주세요!\n",
        "books = [('python', 1000, '10000원'), ('javascript', 2000, '12000원'), ('html/css', 3000, '13000원')]"
      ],
      "metadata": {
        "id": "IpLnG8I2LoIf"
      },
      "execution_count": null,
      "outputs": []
    },
    {
      "cell_type": "code",
      "source": [
        "book_dict = {book: count * int(price[:-1]) for book, count, price in books}\n",
        "book_dict"
      ],
      "metadata": {
        "colab": {
          "base_uri": "https://localhost:8080/"
        },
        "id": "sk-gOTIkMNwO",
        "outputId": "83a94a3f-f00b-4fd7-dbdb-ad76fe048856"
      },
      "execution_count": null,
      "outputs": [
        {
          "output_type": "execute_result",
          "data": {
            "text/plain": [
              "{'python': 10000000, 'javascript': 24000000, 'html/css': 39000000}"
            ]
          },
          "metadata": {},
          "execution_count": 22
        }
      ]
    },
    {
      "cell_type": "code",
      "source": [
        "square_gen = (x**2 for x in range(10))  # 0부터 9까지의 제너레이터"
      ],
      "metadata": {
        "id": "wAlFC-wtQRf4"
      },
      "execution_count": null,
      "outputs": []
    },
    {
      "cell_type": "code",
      "source": [
        "gen = (i for i in range(2, 100000000, 2))\n",
        "for i, j in zip(range(10), gen):\n",
        "    print(i, j)"
      ],
      "metadata": {
        "id": "14Auag4nPiJ-"
      },
      "execution_count": null,
      "outputs": []
    },
    {
      "cell_type": "code",
      "source": [
        "def count():\n",
        "    count = 2\n",
        "    while True:\n",
        "        yield count\n",
        "        count += 2\n",
        "\n",
        "for i, j in zip(range(10), count()):\n",
        "    print(i, j)"
      ],
      "metadata": {
        "colab": {
          "base_uri": "https://localhost:8080/"
        },
        "id": "7DbLxNX0up58",
        "outputId": "747e413a-f999-4eda-9f61-247dd4b8fe7f"
      },
      "execution_count": null,
      "outputs": [
        {
          "output_type": "stream",
          "name": "stdout",
          "text": [
            "0 2\n",
            "1 4\n",
            "2 6\n",
            "3 8\n",
            "4 10\n",
            "5 12\n",
            "6 14\n",
            "7 16\n",
            "8 18\n",
            "9 20\n"
          ]
        }
      ]
    },
    {
      "cell_type": "code",
      "source": [
        "from collections import deque\n",
        "\n",
        "d = deque()\n",
        "d.append('a')  # 오른쪽 끝에 추가\n",
        "print(d)\n",
        "d.appendleft('b')  # 왼쪽 끝에 추가\n",
        "print(d)\n",
        "d.pop()  # 오른쪽 끝 요소 제거\n",
        "print(d)\n",
        "d.popleft()  # 왼쪽 끝 요소 제거\n",
        "print(d)"
      ],
      "metadata": {
        "id": "d8ahnFHXus8V"
      },
      "execution_count": null,
      "outputs": []
    },
    {
      "cell_type": "code",
      "source": [
        "from collections import Counter\n",
        "\n",
        "c = Counter('hello world')\n",
        "print(c)  # 출력: Counter({'l': 3, 'o': 2, 'h': 1, 'e': 1, ' ': 1, 'w': 1, 'r': 1, 'd': 1})"
      ],
      "metadata": {
        "id": "KMqAxqteuu0w"
      },
      "execution_count": null,
      "outputs": []
    },
    {
      "cell_type": "code",
      "source": [
        "one = 1\n",
        "def f(x):\n",
        "    return x ** 2"
      ],
      "metadata": {
        "id": "vYEFbK2-uw83"
      },
      "execution_count": null,
      "outputs": []
    },
    {
      "cell_type": "code",
      "source": [
        "# 클로저\n",
        "\n",
        "# 클로저가 아닌경우\n",
        "def outer_function():\n",
        "    def inner_function():\n",
        "        return 100+100\n",
        "    return inner_function\n",
        "\n",
        "# 클로저인 경우\n",
        "def outer_function(x):\n",
        "    def inner_function(y):\n",
        "        return x + y\n",
        "    return inner_function\n",
        "\n",
        "inner = outer_function(100)\n",
        "inner(200) # inner 입장에서 100을 변경할 수 있는 방법이 없습니다."
      ],
      "metadata": {
        "id": "k073JwSbuyyu"
      },
      "execution_count": null,
      "outputs": []
    },
    {
      "cell_type": "code",
      "source": [
        "def simple_decorator(function):\n",
        "    def wrapper():\n",
        "        print(\"Before the function call\")\n",
        "        function()\n",
        "        print(\"After the function call\")\n",
        "    return wrapper\n",
        "\n",
        "@simple_decorator\n",
        "def hello():\n",
        "    print(\"Hello, World!\")\n",
        "\n",
        "hello() # 데코레이터가 없는 상태에서는 simple_decorator(hello)() 와 같습니다."
      ],
      "metadata": {
        "id": "MuJigyUBu0nd"
      },
      "execution_count": null,
      "outputs": []
    },
    {
      "cell_type": "code",
      "source": [
        "def simple_decorator(function):\n",
        "    def wrapper():\n",
        "        print(\"Before the function call\")\n",
        "        function()\n",
        "        print(\"After the function call\")\n",
        "    return wrapper\n",
        "\n",
        "def hello():\n",
        "    print(\"Hello, World!\")\n",
        "\n",
        "simple_decorator(hello) # wrapper\n",
        "simple_decorator(hello)() # wrapper()\n",
        "\n",
        "'''\n",
        "결국 실행되는 코드\n",
        "print(\"Before the function call\")\n",
        "hello()\n",
        "print(\"After the function call\")\n",
        "'''"
      ],
      "metadata": {
        "id": "o6LW2NSv8TwK"
      },
      "execution_count": null,
      "outputs": []
    },
    {
      "cell_type": "code",
      "source": [
        "'''\n",
        "@login\n",
        "def 비밀게시판():\n",
        "    비밀게시판읽기\n",
        "\n",
        "@전처리\n",
        "def 통계함수():\n",
        "    그래프그리기\n",
        "'''"
      ],
      "metadata": {
        "id": "EYErwgHz8ULS"
      },
      "execution_count": null,
      "outputs": []
    },
    {
      "cell_type": "code",
      "source": [
        "def data_Preprocessing:\n",
        "    pass\n",
        "\n",
        "def data_Cleanging:\n",
        "    pass"
      ],
      "metadata": {
        "id": "uRn02awe8V8_"
      },
      "execution_count": null,
      "outputs": []
    },
    {
      "cell_type": "code",
      "source": [
        "# step 1\n",
        "def data_Preprocessing(function):\n",
        "    def wrapper():\n",
        "        pass\n",
        "    return wrapper\n",
        "\n",
        "@data_Preprocessing\n",
        "def mean(data):\n",
        "    return sum(data)/len(data)\n",
        "\n",
        "mean([1, 2, '3', 4, '5'])"
      ],
      "metadata": {
        "id": "mGGeN6OH8XkX"
      },
      "execution_count": null,
      "outputs": []
    },
    {
      "cell_type": "code",
      "source": [
        "# step 2\n",
        "def data_Preprocessing(function):\n",
        "    def wrapper(data):\n",
        "        print(data)\n",
        "    return wrapper\n",
        "\n",
        "@data_Preprocessing\n",
        "def mean(data):\n",
        "    return sum(data)/len(data)\n",
        "\n",
        "mean([1, 2, '3', 4, '5'])"
      ],
      "metadata": {
        "id": "wi82_qJ98Zba"
      },
      "execution_count": null,
      "outputs": []
    },
    {
      "cell_type": "code",
      "source": [
        "# step 3\n",
        "def data_Preprocessing(function):\n",
        "    def wrapper(data):\n",
        "        return function(list(map(int, data)))\n",
        "    return wrapper\n",
        "\n",
        "@data_Preprocessing\n",
        "def mean(data):\n",
        "    return sum(data)/len(data)\n",
        "\n",
        "mean([1, 2, '3', 4, '5'])"
      ],
      "metadata": {
        "id": "pCPQdreX8anB"
      },
      "execution_count": null,
      "outputs": []
    },
    {
      "cell_type": "code",
      "source": [
        "# step 4 문제\n",
        "# 아래 주석 2개가 된 코드가 작동이 되로록 데코레이터를 완성해주세요.\n",
        "\n",
        "def data_Preprocessing(function):\n",
        "    def wrapper(data):\n",
        "        return function(list(map(int, data)))\n",
        "    return wrapper\n",
        "\n",
        "@data_Preprocessing\n",
        "def mean(data):\n",
        "    return sum(data)/len(data)\n",
        "\n",
        "# mean([1, 2, '3', 4, '5', 'a'])\n",
        "# mean([1, 2, '3', 4, '5', ''])"
      ],
      "metadata": {
        "id": "Irg7b0TP8cJ4"
      },
      "execution_count": null,
      "outputs": []
    },
    {
      "cell_type": "code",
      "source": [
        "def data_Preprocessing(function):\n",
        "    def wrapper(data):\n",
        "        l = []\n",
        "        for i in data:\n",
        "            if str(i).isdigit():\n",
        "                l.append(int(i))\n",
        "        return function(l)\n",
        "    return wrapper\n",
        "\n",
        "@data_Preprocessing\n",
        "def mean(data):\n",
        "    return sum(data)/len(data)\n",
        "\n",
        "mean([1, 2, '3', 4, '5', 'a'])\n",
        "mean([1, 2, '3', 4, '5', ''])"
      ],
      "metadata": {
        "id": "sDVALQ_o8dmA"
      },
      "execution_count": null,
      "outputs": []
    },
    {
      "cell_type": "code",
      "source": [
        "def data_Preprocessing(function):\n",
        "    def wrapper(data):\n",
        "        l = [int(i) for i in data if str(i).isdigit()]\n",
        "        return function(l)\n",
        "    return wrapper\n",
        "\n",
        "@data_Preprocessing\n",
        "def mean(data):\n",
        "    return sum(data)/len(data)\n",
        "\n",
        "mean([1, 2, '3', 4, '5', 'a'])\n",
        "mean([1, 2, '3', 4, '5', ''])"
      ],
      "metadata": {
        "id": "LXm7-zvo8hWk"
      },
      "execution_count": null,
      "outputs": []
    },
    {
      "cell_type": "code",
      "source": [
        "def data_Preprocessing(function):\n",
        "    def wrapper(data):\n",
        "        return function(list(map(int, filter(lambda x:str(x).isdigit(), data))))\n",
        "    return wrapper\n",
        "\n",
        "@data_Preprocessing\n",
        "def mean(data):\n",
        "    return sum(data)/len(data)\n",
        "\n",
        "mean([1, 2, '3', 4, '5', 'a'])\n",
        "mean([1, 2, '3', 4, '5', ''])"
      ],
      "metadata": {
        "id": "S2ulR7pA8hR8"
      },
      "execution_count": null,
      "outputs": []
    },
    {
      "cell_type": "code",
      "source": [
        "def f(*args):\n",
        "    print(args)\n",
        "\n",
        "f(10, 20, 30, 40)"
      ],
      "metadata": {
        "id": "io5HuxPu8jt8"
      },
      "execution_count": null,
      "outputs": []
    },
    {
      "cell_type": "code",
      "source": [
        "def f(a, b, *args):\n",
        "    print(args)\n",
        "\n",
        "f(10, 20, 30, 40)"
      ],
      "metadata": {
        "id": "bp3aHAzN8lCV"
      },
      "execution_count": null,
      "outputs": []
    },
    {
      "cell_type": "code",
      "source": [
        "def f(**kargs):\n",
        "    print(kargs)\n",
        "\n",
        "f(one=1, two=2)"
      ],
      "metadata": {
        "id": "YnTtuQzF8mDB"
      },
      "execution_count": null,
      "outputs": []
    },
    {
      "cell_type": "code",
      "source": [
        "def decorator1(function):\n",
        "    def new_function1(f):\n",
        "        print('첫번째 데코레이터 시작')\n",
        "        print(f'{function.__name__}')\n",
        "        function(f)\n",
        "        print('첫번째 데코레이터 끝')\n",
        "    return new_function1\n",
        "\n",
        "\n",
        "def decorator2(function):\n",
        "    def new_function2(f):\n",
        "        print('두번째 데코레이터 시작')\n",
        "        print(f'{function.__name__}')\n",
        "        function(f)\n",
        "        print('두번째 데코레이터 끝')\n",
        "    return new_function2\n",
        "\n",
        "\n",
        "def decorator3(function):\n",
        "    def new_function3(f):\n",
        "        print('세번째 데코레이터 시작')\n",
        "        print(f'{function.__name__}')\n",
        "        function(f)\n",
        "        print('세번째 데코레이터 끝')\n",
        "    return new_function3\n",
        "\n",
        "\n",
        "@decorator1\n",
        "@decorator2\n",
        "@decorator3\n",
        "def hello(value):\n",
        "    print(value)\n",
        "\n",
        "\n",
        "hello('hello world')"
      ],
      "metadata": {
        "id": "x8DiuY_x8oZ-"
      },
      "execution_count": null,
      "outputs": []
    },
    {
      "cell_type": "code",
      "source": [
        "def decorator1(function):\n",
        "    def new_function1(f):\n",
        "        print('첫번째 데코레이터 시작')\n",
        "        print(f'{function.__name__}')\n",
        "        function(f)\n",
        "        print('첫번째 데코레이터 끝')\n",
        "    return new_function1\n",
        "\n",
        "\n",
        "def decorator2(function):\n",
        "    def new_function2(f):\n",
        "        print('두번째 데코레이터 시작')\n",
        "        print(f'{function.__name__}')\n",
        "        function(f)\n",
        "        print('두번째 데코레이터 끝')\n",
        "    return new_function2\n",
        "\n",
        "\n",
        "def decorator3(function):\n",
        "    def new_function3(f):\n",
        "        print('세번째 데코레이터 시작')\n",
        "        print(f'{function.__name__}')\n",
        "        function(f)\n",
        "        print('세번째 데코레이터 끝')\n",
        "    return new_function3\n",
        "\n",
        "\n",
        "def hello(value):\n",
        "    print(value)\n",
        "\n",
        "\n",
        "decorator1(decorator2(decorator3(hello)))('hello world')"
      ],
      "metadata": {
        "id": "P2xHq-918rQz"
      },
      "execution_count": null,
      "outputs": []
    },
    {
      "cell_type": "markdown",
      "source": [
        "# python 중급자 강의 3일차"
      ],
      "metadata": {
        "id": "LTnAIA4LIO0P"
      }
    },
    {
      "cell_type": "code",
      "source": [
        "def add(n):\n",
        "    def decorator(function):\n",
        "        def new_function(a, b):\n",
        "            result = function(a, b)\n",
        "            return result + n\n",
        "        return new_function\n",
        "    return decorator\n",
        "\n",
        "@add(1000)\n",
        "def plus(a, b):\n",
        "    return a + b\n",
        "\n",
        "result = plus(10, 20)\n",
        "print(f'result : {result}')"
      ],
      "metadata": {
        "id": "-YjbSrJX8syk"
      },
      "execution_count": null,
      "outputs": []
    },
    {
      "cell_type": "code",
      "source": [
        "def f():\n",
        "    pass\n",
        "\n",
        "print(type(f))"
      ],
      "metadata": {
        "id": "lxdOLxIK8uCf"
      },
      "execution_count": null,
      "outputs": []
    },
    {
      "cell_type": "code",
      "source": [
        "class CreateFunction:\n",
        "    def __call__(self):\n",
        "        print('hello world')\n",
        "\n",
        "t = CreateFunction()\n",
        "t()"
      ],
      "metadata": {
        "id": "zS7Pnnjh8z38"
      },
      "execution_count": null,
      "outputs": []
    },
    {
      "cell_type": "code",
      "source": [
        "class MyClass:\n",
        "    count = 0\n",
        "\n",
        "    @classmethod\n",
        "    def increment(cls):\n",
        "        cls.count += 1\n",
        "\n",
        "MyClass.increment()\n",
        "print(MyClass.count)  # 출력: 1"
      ],
      "metadata": {
        "id": "wWi3AtXV8-_f"
      },
      "execution_count": null,
      "outputs": []
    },
    {
      "cell_type": "code",
      "source": [
        "class MyClass:\n",
        "    @staticmethod\n",
        "    def my_method(x, y):\n",
        "        return x + y\n",
        "\n",
        "print(MyClass.my_method(5, 3))  # 출력: 8"
      ],
      "metadata": {
        "id": "aYERrxlV9BNL"
      },
      "execution_count": null,
      "outputs": []
    },
    {
      "cell_type": "code",
      "source": [
        "class CompletionList:\n",
        "    def __init__(self):\n",
        "        self.subject_list = []\n",
        "\n",
        "    def show(self):\n",
        "        print(self.subject_list)\n",
        "\n",
        "    def append(self, subject):\n",
        "        self.subject_list.append(subject)\n",
        "\n",
        "    @staticmethod\n",
        "    def academic_warning(subject):\n",
        "        return abs(1.5 - subject['grades'])\n",
        "\n",
        "\n",
        "c = CompletionList()\n",
        "\n",
        "subject1 = {\"name\": \"Python\", \"grades\": 2.5}\n",
        "subject2 = {\"name\": \"HTML/CSS\", \"grades\": 3.5}\n",
        "\n",
        "c.append(subject1)\n",
        "c.append(subject2)\n",
        "c.show()\n",
        "\n",
        "print(c.academic_warning(subject1))"
      ],
      "metadata": {
        "id": "DJv8AEtu9CNF"
      },
      "execution_count": null,
      "outputs": []
    },
    {
      "cell_type": "code",
      "source": [
        "# https://myjamong.tistory.com/289\n",
        "import json\n",
        "\n",
        "class Playlist:\n",
        "    value = 10\n",
        "\n",
        "    def __init__(self):\n",
        "        self._playlist = []\n",
        "        self.current_play = None\n",
        "\n",
        "    def show(self):\n",
        "        print(self._playlist)\n",
        "\n",
        "    def add(self, music):\n",
        "        self._playlist.append(music)\n",
        "\n",
        "    def remove(self, title):\n",
        "        for music in self._playlist:\n",
        "            if music['title'] == title:\n",
        "                self._playlist.remove(music)\n",
        "                break\n",
        "\n",
        "    def play(self, title):\n",
        "        for music in self._playlist:\n",
        "            if title == music['title']:\n",
        "                self.current_play = music\n",
        "                print(f'\"{self.current_play[\"title\"]}\" is playing...')\n",
        "                break\n",
        "        else:\n",
        "            raise self.NoMusicInPlayListException(f'\"{music}\" is not in the playlist.')\n",
        "\n",
        "    def random_play(self):\n",
        "        self.current_play = random.choice(self._playlist)\n",
        "        print(f'\"{self.current_play[\"title\"]}\" is playing...')\n",
        "\n",
        "    @staticmethod\n",
        "    def playtime_diff(music1, music2):\n",
        "        # 다 안됩니다!\n",
        "        # value += 100\n",
        "        # print(value)\n",
        "        # self._playlist = []\n",
        "        return abs(music1['play_time'] - music2['play_time'])\n",
        "\n",
        "\n",
        "p = Playlist()\n",
        "\n",
        "music1 = {\"title\": \"Circle\", \"artist\": \"Post Malone\", \"play_time\": 3.47}\n",
        "music2 = {\"title\": \"Better Now\", \"artist\": \"Post Malone\", \"play_time\": 3.53}\n",
        "\n",
        "p.add(music1)\n",
        "p.add(music2)\n",
        "\n",
        "# p.current_play = 'hello world'\n",
        "# p._playlist = [{\"title\": \"Better Now\", \"artist\": \"Post Malone\", \"play_time\": 3.53}]\n",
        "# _가 1개 있으면 보통 수정하지 말라는 변수입니다. 그런데 강제로 수정할 수 있어요. 문법적으로 막는 것은 아닙니다.\n",
        "p.show()\n",
        "\n",
        "# p.random_play()\n",
        "\n",
        "print(p.playtime_diff(music1, music2))\n",
        "Playlist.value"
      ],
      "metadata": {
        "id": "npTm9AFk9EXL"
      },
      "execution_count": null,
      "outputs": []
    },
    {
      "cell_type": "code",
      "source": [
        "class Person:\n",
        "    def __init__(self, first_name, last_name):\n",
        "        self._first_name = first_name\n",
        "        self._last_name = last_name\n",
        "\n",
        "    @property\n",
        "    def full_name(self):\n",
        "        return f\"{self._first_name} {self._last_name}\"\n",
        "\n",
        "suu = Person('lee', 'suu')\n",
        "suu._first_name\n",
        "suu._last_name\n",
        "suu.full_name\n",
        "# hojun.full_name()"
      ],
      "metadata": {
        "id": "yxXhzF7J9GYj"
      },
      "execution_count": null,
      "outputs": []
    },
    {
      "cell_type": "code",
      "source": [
        "class Duck:\n",
        "    def quack(self):\n",
        "        print(\"Quack!\")\n",
        "\n",
        "class Person:\n",
        "    def quack(self):\n",
        "        print(\"I'm Quacking Like a Duck!\")\n",
        "\n",
        "def quack(obj):\n",
        "    obj.quack()\n",
        "\n",
        "duck = Duck()\n",
        "person = Person()\n",
        "\n",
        "quack(duck)  # 출력: Quack!\n",
        "quack(person)  # 출력: I'm Quacking Like a Duck!"
      ],
      "metadata": {
        "id": "CPrrJET39Hia"
      },
      "execution_count": null,
      "outputs": []
    },
    {
      "cell_type": "code",
      "source": [
        "from abc import ABC, abstractmethod\n",
        "\n",
        "class AbstractClassExample(ABC):\n",
        "\n",
        "    @abstractmethod\n",
        "    def do_something(self):\n",
        "        pass\n",
        "\n",
        "class Person(AbstractClassExample):\n",
        "\n",
        "    def __init__(self, name):\n",
        "        self.name = name\n",
        "\n",
        "    def print_name(self):\n",
        "        print(f'제 이름은 {self.name}입니다.')\n",
        "\n",
        "suu = Person('hojun')\n",
        "suu.print_name()"
      ],
      "metadata": {
        "id": "2N4A7-9t9LKL"
      },
      "execution_count": null,
      "outputs": []
    },
    {
      "cell_type": "code",
      "source": [
        "from abc import ABC, abstractmethod\n",
        "\n",
        "class AbstractClassExample(ABC):\n",
        "\n",
        "    @abstractmethod\n",
        "    def do_something(self):\n",
        "        pass\n",
        "\n",
        "class Person(AbstractClassExample):\n",
        "\n",
        "    def __init__(self, name):\n",
        "        self.name = name\n",
        "\n",
        "    def print_name(self):\n",
        "        print(f'제 이름은 {self.name}입니다.')\n",
        "\n",
        "    def do_something(self):\n",
        "        pass\n",
        "\n",
        "suu = Person('suu')\n",
        "suu.print_name()"
      ],
      "metadata": {
        "id": "28tsnqvP9NKR"
      },
      "execution_count": null,
      "outputs": []
    },
    {
      "cell_type": "code",
      "source": [
        "# https://hyeonggi.tistory.com/entry/Python-%EC%9E%85%EB%AC%B8-%EC%98%A4%EB%B2%84%EB%9D%BC%EC%9D%B4%EB%94%A9%EA%B3%BC-%EC%98%A4%EB%B2%84%EB%A1%9C%EB%94%A9"
      ],
      "metadata": {
        "id": "zEOQ7NR89OQY"
      },
      "execution_count": null,
      "outputs": []
    },
    {
      "cell_type": "code",
      "source": [
        "# python에서는 오버로딩을 허용하지 않습니다.\n",
        "# 다만 비슷하게 구현해드리자면\n",
        "\n",
        "class Cal:\n",
        "    def add(a):\n",
        "        pass\n",
        "\n",
        "    def add(a, b):\n",
        "        pass\n",
        "\n",
        "    def add(a, b, c):\n",
        "        pass\n",
        "\n",
        "c = Cal()\n",
        "c.add(10)\n",
        "c.add(10, 20)\n",
        "c.add(10, 20, 30)"
      ],
      "metadata": {
        "id": "y3T8xPBa9PgG"
      },
      "execution_count": null,
      "outputs": []
    },
    {
      "cell_type": "code",
      "source": [
        "!pip list"
      ],
      "metadata": {
        "id": "6BTUe5zK9RUL"
      },
      "execution_count": null,
      "outputs": []
    },
    {
      "cell_type": "code",
      "source": [
        "import sampletest\n",
        "\n",
        "sampletest.name"
      ],
      "metadata": {
        "id": "OD6GBKgy9T-M"
      },
      "execution_count": null,
      "outputs": []
    },
    {
      "cell_type": "code",
      "source": [
        "import sys\n",
        "\n",
        "sys.path"
      ],
      "metadata": {
        "id": "wlpkZCoQ9cUn"
      },
      "execution_count": null,
      "outputs": []
    },
    {
      "cell_type": "code",
      "source": [
        "sys.path.append('/content/a/b/c')"
      ],
      "metadata": {
        "id": "W_pxpq-C9g_i"
      },
      "execution_count": null,
      "outputs": []
    },
    {
      "cell_type": "code",
      "source": [
        "for i in range(10)\n",
        "    print(i)"
      ],
      "metadata": {
        "id": "V5lk7lVX9iLf"
      },
      "execution_count": null,
      "outputs": []
    },
    {
      "cell_type": "code",
      "source": [
        "test = 'hello'\n",
        "\n",
        "assert test == 'hello', '애러 메시지 1' #1\n",
        "# assert test == 'world', '애러 메시지 2' #2\n",
        "assert test + 3 == 5, '애러 메시지 3' #3"
      ],
      "metadata": {
        "id": "2CpEzS2U9nog"
      },
      "execution_count": null,
      "outputs": []
    },
    {
      "cell_type": "code",
      "source": [
        "def number():\n",
        "    return 100\n",
        "\n",
        "assert number() in [1, 2, 3, 4], '내가 원하는 값이 아니야!'"
      ],
      "metadata": {
        "id": "rGqkos5O9pvs"
      },
      "execution_count": null,
      "outputs": []
    },
    {
      "cell_type": "code",
      "source": [
        "raise suError"
      ],
      "metadata": {
        "id": "t958J8L-9rb1"
      },
      "execution_count": null,
      "outputs": []
    },
    {
      "cell_type": "code",
      "source": [
        "import logging.handlers\n",
        "\n",
        "def logger():\n",
        "    log_obj = logging.getLogger(\"log_name\") # log name으로 log 객체 생성\n",
        "    log_obj.setLevel(logging.DEBUG) # 어디부터 기록할지 설정\n",
        "\n",
        "    fileHandeler = logging.FileHandler(filename=\"./test.txt\") # 파일로 기록\n",
        "    # streamHandler = logging.StreamHandler() # 콘솔에 출력\n",
        "\n",
        "    fileHandeler.setLevel(logging.INFO) # 파일 기록 레벨 설정\n",
        "    # streamHandler.setLevel(logging.DEBUG) # 콘솔 기록 레벨 설정\n",
        "\n",
        "    formatter = logging.Formatter(\"%(name)s, %(asctime)s, %(levelname)s, %(message)s\") #포멧 생성\n",
        "\n",
        "    fileHandeler.setFormatter(formatter) # 파일 메시지 포멧 설정\n",
        "    # streamHandler.setFormatter(formatter) # 콘솔 메시지 포멧 설정\n",
        "\n",
        "    log_obj.addHandler(fileHandeler) # log_obj handler에 파일 출력 방식 추가\n",
        "    # log_obj.addHandler(streamHandler) # log_obj handler에 파일 콘솔 방식 추가\n",
        "\n",
        "    return log_obj\n",
        "\n",
        "log = logger()\n",
        "\n",
        "# 아래 코드를 기록하고 싶은 곳에 함께 설정\n",
        "log.debug('debug')\n",
        "log.info('info')\n",
        "log.warning('warning')\n",
        "log.error('error')\n",
        "log.critical('critical')\n",
        "\n",
        "print('---')\n",
        "\n",
        "# 아래와 같이 사용합니다.\n",
        "def f():\n",
        "    try:\n",
        "        x = 1 / 0\n",
        "    except Exception as e:\n",
        "        print(e)\n",
        "        log.error(f'{e} error')\n",
        "\n",
        "f()"
      ],
      "metadata": {
        "id": "vvqtr6tC98fO"
      },
      "execution_count": null,
      "outputs": []
    },
    {
      "cell_type": "code",
      "source": [
        "!pip install nest_asyncio"
      ],
      "metadata": {
        "id": "SnWcwTlr9_7i"
      },
      "execution_count": null,
      "outputs": []
    },
    {
      "cell_type": "code",
      "source": [
        "import nest_asyncio\n",
        "\n",
        "nest_asyncio.apply()"
      ],
      "metadata": {
        "id": "gLZf8XJI-BAq"
      },
      "execution_count": null,
      "outputs": []
    },
    {
      "cell_type": "code",
      "source": [
        "import time\n",
        "\n",
        "def job(number):\n",
        "    print(f\"Job {number} started\")\n",
        "    time.sleep(1)  # 매우 오래 걸리는 작업, 일반 sleep은 CPU를 쉬게 합니다.\n",
        "    print(f\"Job {number} completed\")\n",
        "\n",
        "job(1)\n",
        "job(2)\n",
        "job(3)"
      ],
      "metadata": {
        "id": "OHxl0e0x-Kvx"
      },
      "execution_count": null,
      "outputs": []
    },
    {
      "cell_type": "code",
      "source": [
        "import asyncio\n",
        "\n",
        "async def job(number):\n",
        "    print(f\"Job {number} started\")\n",
        "    await asyncio.sleep(1) # 매우 오래 걸리는 작업, asyncio.sleep은 비동기 처리를 할 수 있도록 합니다.(다른 작업이 가능합니다.)\n",
        "    print(f\"Job {number} completed\")\n",
        "\n",
        "async def main():\n",
        "    await asyncio.gather(job(1), job(2), job(3)) # await asyncio.wait([job(1), job(2), job(3)])\n",
        "\n",
        "asyncio.run(main())\n",
        "print('hello world')"
      ],
      "metadata": {
        "id": "iO01KHs6-M5J"
      },
      "execution_count": null,
      "outputs": []
    },
    {
      "cell_type": "code",
      "source": [
        "import asyncio\n",
        "\n",
        "async def job(number):\n",
        "    print(f\"Job {number} started\")\n",
        "    await asyncio.sleep(1)  # 매우 오래 걸리는 작업\n",
        "    print(f\"Job {number} completed\")\n",
        "\n",
        "await job(1)\n",
        "await job(2)\n",
        "await job(3)"
      ],
      "metadata": {
        "id": "49IS569b-OWS"
      },
      "execution_count": null,
      "outputs": []
    },
    {
      "cell_type": "code",
      "source": [
        "async def job():\n",
        "    print('job')\n",
        "\n",
        "job()"
      ],
      "metadata": {
        "id": "smn-Bzfy-PmZ"
      },
      "execution_count": null,
      "outputs": []
    },
    {
      "cell_type": "code",
      "source": [
        "import pdb\n",
        "\n",
        "def add_to_ten(num):\n",
        "    result = num + 10\n",
        "    pdb.set_trace()  # 디버거를 실행합니다. break 포인트입니다.\n",
        "    return result\n",
        "\n",
        "add_to_ten(5)"
      ],
      "metadata": {
        "id": "rPnQx-eJ-bz9"
      },
      "execution_count": null,
      "outputs": []
    },
    {
      "cell_type": "code",
      "source": [
        "def add(a, b):\n",
        "    return a + b\n",
        "\n",
        "def test():\n",
        "    for i in range(10):\n",
        "        x = add(i, 10)\n",
        "        breakpoint()\n",
        "    for i in range(10):\n",
        "        y = add(i, 100)\n",
        "        breakpoint()\n",
        "\n",
        "test()"
      ],
      "metadata": {
        "id": "9vHRisUz-fHw"
      },
      "execution_count": null,
      "outputs": []
    },
    {
      "cell_type": "code",
      "source": [
        "[1, 2, 3, 4].pop()\n",
        "[1, 2, 3, 4][:-1]"
      ],
      "metadata": {
        "id": "7zPO-kQt-1Zk"
      },
      "execution_count": null,
      "outputs": []
    },
    {
      "cell_type": "code",
      "source": [
        "import collections\n",
        "\n",
        "collections.Counter('helloo world')"
      ],
      "metadata": {
        "id": "mELlxy_n-4CH"
      },
      "execution_count": null,
      "outputs": []
    },
    {
      "cell_type": "code",
      "source": [
        "import cProfile\n",
        "\n",
        "def add(a, b):\n",
        "    return a + b\n",
        "\n",
        "def slow_function():\n",
        "    total = 0\n",
        "    for i in range(10000):\n",
        "        total += i\n",
        "        add(i, 100)\n",
        "    return total\n",
        "\n",
        "cProfile.run('slow_function()')"
      ],
      "metadata": {
        "id": "gG1HIK-P-5aE"
      },
      "execution_count": null,
      "outputs": []
    }
  ]
}